{
 "cells": [
  {
   "cell_type": "code",
   "execution_count": 1,
   "id": "a3cfc7cf-4484-48c9-a960-439398cdcd3c",
   "metadata": {},
   "outputs": [],
   "source": [
    "import os\n",
    "import warnings\n",
    "warnings.filterwarnings('ignore')\n",
    "\n",
    "# os.environ['SERPER_API_KEY'] = 'input your key'\n",
    "# os.environ['OPENAI_API_KEY'] = 'input your key'"
   ]
  },
  {
   "cell_type": "code",
   "execution_count": 3,
   "id": "a024a528-23a0-497e-814e-976ac532f70d",
   "metadata": {},
   "outputs": [],
   "source": [
    "from crewai import Agent, Task, Crew\n",
    "from crewai.process import Process\n",
    "\n",
    "# Import crewAI tools\n",
    "from crewai_tools import (\n",
    "    SerperDevTool,\n",
    "    WebsiteSearchTool,\n",
    "    ScrapeWebsiteTool\n",
    ")"
   ]
  },
  {
   "cell_type": "code",
   "execution_count": 4,
   "id": "36e7ddb1-6134-4d48-be6d-702aad0f0fe0",
   "metadata": {},
   "outputs": [],
   "source": [
    "from langchain_openai import ChatOpenAI\n",
    "\n",
    "llm = ChatOpenAI(model='gpt-4o-mini')\n",
    "\n",
    "search_tool = SerperDevTool()\n",
    "web_rag_tool = WebsiteSearchTool()\n",
    "scarp_tool = ScrapeWebsiteTool()"
   ]
  },
  {
   "cell_type": "code",
   "execution_count": 5,
   "id": "308d6979-60b0-4967-b8bb-bfc07db0006e",
   "metadata": {},
   "outputs": [],
   "source": [
    "researcher = Agent(\n",
    "    role='테크 트랜드 연구원',\n",
    "    goal='인공지능 분야의 최신 기술 트렌드 중 멀티 에이전트 시스템에 대한 내용을 한국어로 제공합니다. 지금은 2024년 11월입니다.',\n",
    "    backstory='기술 트렌드에 예리한 안목을 지닌 전문 분석가이자, AI 개발자입니다.',\n",
    "    verbose=True,\n",
    "    max_iter=5,\n",
    "    llm=llm\n",
    ")\n",
    "\n",
    "writer = Agent(\n",
    "    role='뉴스레터 작성자',\n",
    "    goal='최신 AI 기술 트렌드에 대한 매력적인 테크 뉴스레터를 한국어로 작성하세요. 지금은 2024년 11월입니다.',\n",
    "    backstory='기술에 대한 열정을 가진 숙련된 작가입니다.',\n",
    "    verbose=True,\n",
    "    allow_delegation=False,\n",
    "    llm=llm\n",
    ")"
   ]
  },
  {
   "cell_type": "code",
   "execution_count": 6,
   "id": "ab6f3881-2d67-4d8e-ba6f-3aebc0eb51ae",
   "metadata": {},
   "outputs": [],
   "source": [
    "research = Task(\n",
    "    description='AI 업계의 최신 기술 동향 중 멀티 에이전트 시스템의 기술 동향을 조사하고 요약을 제공하세요.',\n",
    "    expected_output='최근 AI 업계에서 가장 주목받는 LLM 기술에서 멀티 에이전트 시스템의 기술 개발 동향과 그 중요성에 대한 신선한 관점을 요약한 글',\n",
    "    agent=researcher\n",
    ")\n",
    "\n",
    "write = Task(\n",
    "    description=\"\"\"테크 트랜드 연구원의 요약을 바탕으로 AI 산업 중 멀티 에이전트 시스템에 대한 매력적인 테크 뉴스레터를 작성하세요. 테크 뉴스레터이므로\n",
    "    전문적인 용어를 사용해도 괜찮습니다.\"\"\",\n",
    "    expected_output='최신 기술 관련 소식을 재밌는 말투로 소개하는 4문단짜리 마크다운 형식 뉴스레터',\n",
    "    agent=writer,\n",
    "    output_file='/workspace/user/kjy/DL-projects/MAS/new_post.md'\n",
    ")"
   ]
  },
  {
   "cell_type": "code",
   "execution_count": 7,
   "id": "842b90b8-aaf6-4c45-b204-d55b2906df74",
   "metadata": {},
   "outputs": [
    {
     "name": "stdout",
     "output_type": "stream",
     "text": [
      "\u001b[1m\u001b[95m# Agent:\u001b[00m \u001b[1m\u001b[92m테크 트랜드 연구원\u001b[00m\n",
      "\u001b[95m## Task:\u001b[00m \u001b[92mAI 업계의 최신 기술 동향 중 멀티 에이전트 시스템의 기술 동향을 조사하고 요약을 제공하세요.\u001b[00m\n",
      "\n",
      "\n",
      "\u001b[1m\u001b[95m# Agent:\u001b[00m \u001b[1m\u001b[92m테크 트랜드 연구원\u001b[00m\n",
      "\u001b[95m## Final Answer:\u001b[00m \u001b[92m\n",
      "최근 AI 업계에서 멀티 에이전트 시스템(Multi-Agent Systems, MAS)은 특히 대규모 언어 모델(LLM) 기술의 발전과 함께 주목받고 있습니다. 이 시스템은 여러 개의 에이전트가 협력하여 문제를 해결하고 의사 결정을 내리는 구조로, 각 에이전트는 독립적으로 작동하면서도 상호 작용할 수 있는 능력을 가지고 있습니다. 이러한 멀티 에이전트 시스템은 여러 가지 분야에서 다양한 응용을 통해 그 중요성이 점점 더 커지고 있습니다.\n",
      "\n",
      "최근 멀티 에이전트 시스템의 기술 개발 동향을 살펴보면, 다음과 같은 주요 특징들이 있습니다.\n",
      "\n",
      "1. **협력적 학습 및 의사 결정**: LLM 기술의 발전으로 인해, 멀티 에이전트 시스템은 자연어 처리(NLP)와 관련된 문제를 해결하는 데 있어 더욱 효과적으로 협력할 수 있는 능력을 갖추게 되었습니다. 각 에이전트는 특정한 전문성을 갖고 있으며, 이들은 공동의 목표를 위해 정보를 공유하고, 의사 결정을 내리는 데 도움을 줄 수 있습니다.\n",
      "\n",
      "2. **자율성과 적응성**: 최신 멀티 에이전트 시스템은 자율적으로 작동할 수 있는 능력을 개선하고 있습니다. 에이전트는 실시간으로 환경의 변화를 감지하고, 필요한 경우 자신의 행동을 조정할 수 있습니다. 이러한 적응성은 특히 복잡한 환경이나 동적 시스템에서 중요합니다.\n",
      "\n",
      "3. **상호작용 및 커뮤니케이션**: LLM의 발전은 에이전트 간의 커뮤니케이션을 보다 자연스럽고 효율적으로 만들고 있습니다. 자연어 처리 기술을 활용하여 에이전트는 서로의 의도를 이해하고, 필요한 정보를 효과적으로 교환할 수 있습니다. 이는 전체 시스템의 성능을 향상시키는 데 기여합니다.\n",
      "\n",
      "4. **다양한 응용 분야**: 멀티 에이전트 시스템은 스마트 물류, 자율주행차, 보안 시스템, 의료 진단 등 다양한 분야에서 적용되고 있습니다. 특히, LLM을 활용한 고객 서비스 챗봇이나 가상 비서와 같은 서비스에서도 멀티 에이전트 시스템의 필요성이 대두되고 있습니다. 이러한 시스템은 사용자와의 상호작용을 통해 더욱 개인화된 서비스를 제공할 수 있습니다.\n",
      "\n",
      "5. **지속 가능한 발전 방향**: 멀티 에이전트 시스템의 발전은 지속 가능성에도 큰 영향을 미치고 있습니다. 여러 에이전트가 협력하여 에너지 효율성을 높이거나, 자원의 최적 분배를 도모하는 등의 연구가 진행되고 있어, 환경 문제 해결에도 기여할 수 있습니다.\n",
      "\n",
      "결론적으로, 멀티 에이전트 시스템은 LLM 기술의 발전과 함께 그 중요성이 더욱 부각되고 있으며, 다양한 응용 분야에서 혁신적인 변화를 가져오고 있습니다. 이 시스템은 복잡한 문제를 해결하고, 효과적인 의사 결정을 지원하는 데 필수적인 요소로 자리잡고 있습니다. 앞으로의 연구와 개발이 기대되는 분야 중 하나입니다.\u001b[00m\n",
      "\n",
      "\n",
      "\u001b[1m\u001b[95m# Agent:\u001b[00m \u001b[1m\u001b[92m뉴스레터 작성자\u001b[00m\n",
      "\u001b[95m## Task:\u001b[00m \u001b[92m테크 트랜드 연구원의 요약을 바탕으로 AI 산업 중 멀티 에이전트 시스템에 대한 매력적인 테크 뉴스레터를 작성하세요. 테크 뉴스레터이므로\n",
      "    전문적인 용어를 사용해도 괜찮습니다.\u001b[00m\n",
      "\n",
      "\n",
      "\u001b[1m\u001b[95m# Agent:\u001b[00m \u001b[1m\u001b[92m뉴스레터 작성자\u001b[00m\n",
      "\u001b[95m## Final Answer:\u001b[00m \u001b[92m\n",
      "# 📬 최신 AI 트렌드: 멀티 에이전트 시스템의 혁신적 진화\n",
      "\n",
      "안녕하세요, 테크 애호가 여러분! 오늘은 AI의 최전선에서 활약하고 있는 멀티 에이전트 시스템(Multi-Agent Systems, MAS)에 대해 이야기해보려 합니다. 최근 대규모 언어 모델(LLM)의 발전과 함께 이 시스템은 협력과 의사결정의 새로운 지평을 열어가고 있습니다. 여러 에이전트가 각자의 전문성을 발휘하며, 힘을 합쳐 문제를 해결하는 모습은 마치 팀워크의 진수를 보여주는 것 같네요!\n",
      "\n",
      "첫 번째로 주목할 점은 **협력적 학습 및 의사 결정**입니다. LLM 기술 덕분에 멀티 에이전트 시스템은 자연어 처리(NLP) 관련 문제를 더욱 효과적으로 해결할 수 있게 되었습니다. 각 에이전트는 독립적으로 작동하면서도 정보를 공유하여 공동 목표를 향해 나아갑니다. 이 과정에서 다양한 의견과 아이디어가 교환되며, 보다 나은 의사결정을 이끌어내는 것이죠. 팀워크의 힘을 느끼게 하는 순간입니다!\n",
      "\n",
      "두 번째로, 최신 멀티 에이전트 시스템은 **자율성과 적응성**의 시대에 접어들고 있습니다. 이 시스템은 실시간으로 환경 변화를 감지하고 스스로 행동을 조정할 수 있는 능력을 지니고 있습니다. 특히 복잡하고 동적인 환경에서의 이러한 적응성은 필수적입니다. 예를 들어, 자율주행차가 도로 상황에 즉각적으로 반응하는 모습은 멀티 에이전트 시스템이 어떻게 세상을 변화시키고 있는지를 잘 보여줍니다.\n",
      "\n",
      "마지막으로, 멀티 에이전트 시스템은 **다양한 응용 분야**에서 큰 활약을 하고 있습니다. 스마트 물류, 자율주행차, 보안 시스템, 의료 진단 등 여러 분야에서 이 시스템의 필요성이 날로 증가하고 있습니다. 특히 고객 서비스 챗봇이나 가상 비서와 같은 분야에서는 사용자와의 상호작용을 통해 더욱 개인화된 서비스를 제공할 수 있습니다. 이는 단순한 기술적 진보에 그치지 않고, 우리의 일상생활을 더욱 풍요롭게 만들어 주고 있습니다.\n",
      "\n",
      "결론적으로, 멀티 에이전트 시스템은 LLM 기술과 함께 혁신의 한가운데 서 있으며, 앞으로의 발전이 기대되는 분야입니다. 우리가 꿈꾸는 미래, 즉 복잡한 문제를 해결하고 효과적인 의사 결정을 지원하는 시스템이 바로 이곳에 있습니다. AI의 미래를 함께 지켜보며, 여러분의 소중한 의견도 나눠주세요! 다음 뉴스레터에서 더 흥미진진한 소식으로 찾아뵙겠습니다. 😊\u001b[00m\n",
      "\n",
      "\n"
     ]
    }
   ],
   "source": [
    "crew = Crew(\n",
    "    agents=[researcher, writer],\n",
    "    tasks=[research, write],\n",
    "    verbose=True,\n",
    "    process=Process.sequential\n",
    ")\n",
    "\n",
    "result = crew.kickoff()"
   ]
  },
  {
   "cell_type": "code",
   "execution_count": 9,
   "id": "325ea46a-b056-434a-aed2-43cbf6e0b365",
   "metadata": {},
   "outputs": [
    {
     "data": {
      "text/markdown": [
       "# 📬 최신 AI 트렌드: 멀티 에이전트 시스템의 혁신적 진화\n",
       "\n",
       "안녕하세요, 테크 애호가 여러분! 오늘은 AI의 최전선에서 활약하고 있는 멀티 에이전트 시스템(Multi-Agent Systems, MAS)에 대해 이야기해보려 합니다. 최근 대규모 언어 모델(LLM)의 발전과 함께 이 시스템은 협력과 의사결정의 새로운 지평을 열어가고 있습니다. 여러 에이전트가 각자의 전문성을 발휘하며, 힘을 합쳐 문제를 해결하는 모습은 마치 팀워크의 진수를 보여주는 것 같네요!\n",
       "\n",
       "첫 번째로 주목할 점은 **협력적 학습 및 의사 결정**입니다. LLM 기술 덕분에 멀티 에이전트 시스템은 자연어 처리(NLP) 관련 문제를 더욱 효과적으로 해결할 수 있게 되었습니다. 각 에이전트는 독립적으로 작동하면서도 정보를 공유하여 공동 목표를 향해 나아갑니다. 이 과정에서 다양한 의견과 아이디어가 교환되며, 보다 나은 의사결정을 이끌어내는 것이죠. 팀워크의 힘을 느끼게 하는 순간입니다!\n",
       "\n",
       "두 번째로, 최신 멀티 에이전트 시스템은 **자율성과 적응성**의 시대에 접어들고 있습니다. 이 시스템은 실시간으로 환경 변화를 감지하고 스스로 행동을 조정할 수 있는 능력을 지니고 있습니다. 특히 복잡하고 동적인 환경에서의 이러한 적응성은 필수적입니다. 예를 들어, 자율주행차가 도로 상황에 즉각적으로 반응하는 모습은 멀티 에이전트 시스템이 어떻게 세상을 변화시키고 있는지를 잘 보여줍니다.\n",
       "\n",
       "마지막으로, 멀티 에이전트 시스템은 **다양한 응용 분야**에서 큰 활약을 하고 있습니다. 스마트 물류, 자율주행차, 보안 시스템, 의료 진단 등 여러 분야에서 이 시스템의 필요성이 날로 증가하고 있습니다. 특히 고객 서비스 챗봇이나 가상 비서와 같은 분야에서는 사용자와의 상호작용을 통해 더욱 개인화된 서비스를 제공할 수 있습니다. 이는 단순한 기술적 진보에 그치지 않고, 우리의 일상생활을 더욱 풍요롭게 만들어 주고 있습니다.\n",
       "\n",
       "결론적으로, 멀티 에이전트 시스템은 LLM 기술과 함께 혁신의 한가운데 서 있으며, 앞으로의 발전이 기대되는 분야입니다. 우리가 꿈꾸는 미래, 즉 복잡한 문제를 해결하고 효과적인 의사 결정을 지원하는 시스템이 바로 이곳에 있습니다. AI의 미래를 함께 지켜보며, 여러분의 소중한 의견도 나눠주세요! 다음 뉴스레터에서 더 흥미진진한 소식으로 찾아뵙겠습니다. 😊"
      ],
      "text/plain": [
       "<IPython.core.display.Markdown object>"
      ]
     },
     "metadata": {},
     "output_type": "display_data"
    }
   ],
   "source": [
    "from IPython.display import display, Markdown\n",
    "\n",
    "display(Markdown(result.raw))"
   ]
  },
  {
   "cell_type": "code",
   "execution_count": null,
   "id": "8eaca650-4beb-4677-91df-524133514bf6",
   "metadata": {},
   "outputs": [],
   "source": []
  }
 ],
 "metadata": {
  "kernelspec": {
   "display_name": "Python 3 (ipykernel)",
   "language": "python",
   "name": "python3"
  },
  "language_info": {
   "codemirror_mode": {
    "name": "ipython",
    "version": 3
   },
   "file_extension": ".py",
   "mimetype": "text/x-python",
   "name": "python",
   "nbconvert_exporter": "python",
   "pygments_lexer": "ipython3",
   "version": "3.10.12"
  }
 },
 "nbformat": 4,
 "nbformat_minor": 5
}
