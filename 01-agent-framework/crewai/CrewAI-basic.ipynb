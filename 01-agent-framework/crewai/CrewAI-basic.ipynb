{
 "cells": [
  {
   "cell_type": "markdown",
   "id": "bdc94e67-cc39-4953-9308-1e249b7a6d9f",
   "metadata": {},
   "source": [
    "## Install CrewAI"
   ]
  },
  {
   "cell_type": "code",
   "execution_count": null,
   "id": "21e36ab6-4927-46a0-aeed-9de4f3893068",
   "metadata": {},
   "outputs": [],
   "source": [
    "!pip install -q crewai crewai-tools"
   ]
  },
  {
   "cell_type": "markdown",
   "id": "ce2eca2e-36ed-4ea3-a593-126d8ee13211",
   "metadata": {},
   "source": [
    "## Agent Definition"
   ]
  },
  {
   "cell_type": "code",
   "execution_count": 1,
   "id": "e7e6a137-22e4-4bf0-9744-72cd13a9a401",
   "metadata": {},
   "outputs": [],
   "source": [
    "from crewai import Agent, Task, Crew\n",
    "from langchain_openai import ChatOpenAI\n",
    "import os"
   ]
  },
  {
   "cell_type": "code",
   "execution_count": 2,
   "id": "cd0a0f60-0c19-44a9-81f2-94e8231713e7",
   "metadata": {},
   "outputs": [],
   "source": [
    "os.environ['OPENAI_API_KEY'] = 'input your key'"
   ]
  },
  {
   "cell_type": "code",
   "execution_count": 4,
   "id": "39c34b8b-84d7-4cb5-bb03-d88f9d49b5da",
   "metadata": {},
   "outputs": [],
   "source": [
    "# Outline setting agent\n",
    "outline_generator = Agent(\n",
    "    role='Outline Generator',\n",
    "    goal='Create structured outlines for articles on given topics. answer in Korean',\n",
    "    llm = ChatOpenAI(model='gpt-4o-mini', max_tokens=1000),\n",
    "    backstory='You are an expert at organizing information and creating comprehensive outlines for various subjects.'\n",
    ")"
   ]
  },
  {
   "cell_type": "code",
   "execution_count": 5,
   "id": "61acca94-99aa-4112-a80f-17798465823a",
   "metadata": {},
   "outputs": [],
   "source": [
    "# Body writing agent\n",
    "writer = Agent(\n",
    "    role='Writer',\n",
    "    goal='Create engaging content based on research. answer in Korean',\n",
    "    llm = ChatOpenAI(model='gpt-4o', max_tokens=3000),\n",
    "    backstory='You are a skilled writer who can transform complex information into readable content.'\n",
    ")"
   ]
  },
  {
   "cell_type": "markdown",
   "id": "71c3d2fa-d453-4601-b76e-b43678c770ee",
   "metadata": {},
   "source": [
    "## Task Definition"
   ]
  },
  {
   "cell_type": "code",
   "execution_count": 6,
   "id": "96a0aef6-b01e-40f5-b527-e394ce461ce7",
   "metadata": {},
   "outputs": [],
   "source": [
    "# Task\n",
    "outline_task = Task(\n",
    "    description='Create a detailed outline for an article about AI\\'s impact on job markets',\n",
    "    agent=outline_generator,\n",
    "    expected_output=\"\"\"A comprehensive outline covering the main aspects of AI\\'s influence on employment\"\"\"\n",
    ")"
   ]
  },
  {
   "cell_type": "code",
   "execution_count": 7,
   "id": "1645c9c0-fff1-44e9-9bb2-9ddc3ea24c2a",
   "metadata": {},
   "outputs": [],
   "source": [
    "writing_task = Task(\n",
    "    description='Write an article about the findings from the research',\n",
    "    agent=writer,\n",
    "    expected_output='An engaging article discussing AI\\'s influence on job markets'\n",
    ")"
   ]
  },
  {
   "cell_type": "markdown",
   "id": "148f161d-1760-45ee-9cf3-774810e01d74",
   "metadata": {},
   "source": [
    "## Crew Definition"
   ]
  },
  {
   "cell_type": "code",
   "execution_count": 8,
   "id": "b3da75ac-e656-439f-b5e9-9b394ed2ec03",
   "metadata": {},
   "outputs": [],
   "source": [
    "# Crew\n",
    "ai_impact_crew = Crew(\n",
    "    agents=[outline_generator, writer],\n",
    "    tasks=[outline_task, writing_task],\n",
    "    verbose=True\n",
    ")"
   ]
  },
  {
   "cell_type": "code",
   "execution_count": 9,
   "id": "0d773237-08ec-4234-87e7-5d50e7d780c0",
   "metadata": {},
   "outputs": [
    {
     "name": "stdout",
     "output_type": "stream",
     "text": [
      "\u001b[1m\u001b[95m# Agent:\u001b[00m \u001b[1m\u001b[92mOutline Generator\u001b[00m\n",
      "\u001b[95m## Task:\u001b[00m \u001b[92mCreate a detailed outline for an article about AI's impact on job markets\u001b[00m\n",
      "\n",
      "\n",
      "\u001b[1m\u001b[95m# Agent:\u001b[00m \u001b[1m\u001b[92mOutline Generator\u001b[00m\n",
      "\u001b[95m## Final Answer:\u001b[00m \u001b[92m\n",
      "**제목: 인공지능(AI)이 고용 시장에 미치는 영향**\n",
      "\n",
      "**I. 서론**  \n",
      "   A. 인공지능의 정의  \n",
      "   B. AI의 발전 배경  \n",
      "   C. 고용 시장의 변화 필요성\n",
      "\n",
      "**II. AI의 긍정적 영향**  \n",
      "   A. 생산성 향상  \n",
      "      1. 자동화와 효율성  \n",
      "      2. 시간 절약 및 비용 절감  \n",
      "   B. 새로운 일자리 창출  \n",
      "      1. AI 기술 관련 직종 증가  \n",
      "      2. 데이터 분석 및 관리 직업의 수요 증가  \n",
      "   C. 직무의 변화  \n",
      "      1. 반복적인 작업에서 창의적 작업으로의 전환  \n",
      "      2. 인간과 AI의 협업 증대\n",
      "\n",
      "**III. AI의 부정적 영향**  \n",
      "   A. 일자리 상실  \n",
      "      1. 자동화로 인해 사라지는 직업  \n",
      "      2. 특정 산업에서의 큰 영향  \n",
      "   B. 고용의 불안정성 증가  \n",
      "      1. 계약직 및 프리랜서 증가  \n",
      "      2. 정규직 감소와 사회적 불평등 심화  \n",
      "   C. 기술 격차 문제  \n",
      "      1. 기술에 대한 접근성 차이  \n",
      "      2. 교육 및 훈련의 중요성\n",
      "\n",
      "**IV. 산업별 AI의 영향**  \n",
      "   A. 제조업  \n",
      "      1. 로봇 자동화의 도입  \n",
      "      2. 생산라인의 변화  \n",
      "   B. 서비스업  \n",
      "      1. 고객 서비스의 자동화  \n",
      "      2. 온라인 플랫폼의 부상  \n",
      "   C. 의료 분야  \n",
      "      1. 진단 및 치료의 AI 활용  \n",
      "      2. 의료 직종의 변화\n",
      "\n",
      "**V. 정책적 대응 방안**  \n",
      "   A. 교육 및 재훈련 프로그램  \n",
      "      1. 기술교육의 중요성  \n",
      "      2. 평생 교육 시스템 구축  \n",
      "   B. 사회 안전망 강화  \n",
      "      1. 기본소득 논의  \n",
      "      2. 실업 보험 시스템 개선  \n",
      "   C. AI 윤리 및 규제  \n",
      "      1. AI 기술의 책임 있는 사용  \n",
      "      2. 직업 이동 지원 정책\n",
      "\n",
      "**VI. 결론**  \n",
      "   A. AI와 고용 시장의 미래 전망  \n",
      "   B. 지속 가능한 고용 시장을 위한 노력의 필요성  \n",
      "   C. 협력적 접근의 중요성\n",
      "\n",
      "이 아웃라인은 인공지능이 고용 시장에 미치는 다양한 영향을 체계적으로 정리한 것으로, 긍정적 및 부정적 영향, 산업별 변화, 그리고 정책적 대응 방안을 포함하고 있습니다. 이를 통해 독자는 AI의 발전과 관련된 고용 시장의 동향을 종합적으로 이해할 수 있을 것입니다.\u001b[00m\n",
      "\n",
      "\n",
      "\u001b[1m\u001b[95m# Agent:\u001b[00m \u001b[1m\u001b[92mWriter\u001b[00m\n",
      "\u001b[95m## Task:\u001b[00m \u001b[92mWrite an article about the findings from the research\u001b[00m\n",
      "\n",
      "\n",
      "\u001b[1m\u001b[95m# Agent:\u001b[00m \u001b[1m\u001b[92mWriter\u001b[00m\n",
      "\u001b[95m## Final Answer:\u001b[00m \u001b[92m\n",
      "**제목: 인공지능(AI)이 고용 시장에 미치는 영향**\n",
      "\n",
      "**I. 서론**  \n",
      "오늘날 인공지능(AI)은 혁신의 중심에 서 있습니다. AI는 인간의 지능을 모방하여 학습, 문제 해결, 의사 결정 등을 수행하는 기술로 정의됩니다. 이러한 기술의 발전은 과거 수십 년간 컴퓨팅 파워의 급증, 데이터의 폭발적 증가, 그리고 알고리즘의 발전에 힘입어 이루어졌습니다. 이러한 배경 속에서 AI는 다양한 산업에 걸쳐 고용 시장의 변화를 불러일으키고 있으며, 이는 시대적 요구에 대응하기 위한 필수적인 과정이 되었습니다.\n",
      "\n",
      "**II. AI의 긍정적 영향**  \n",
      "AI의 도입은 고용 시장에 긍정적인 변화를 가져오고 있습니다. 첫째, AI는 자동화와 효율성을 통해 생산성을 향상시킵니다. 이는 시간 절약과 비용 절감을 가능하게 하여 기업의 경쟁력을 강화합니다. 둘째, AI 기술 관련 직종의 증가로 새로운 일자리를 창출하고 있습니다. 데이터 분석 및 관리 직업에 대한 수요가 증가하면서, 이 분야의 전문가들이 필요로 하고 있습니다. 마지막으로, 직무의 변화는 반복적인 작업에서 창의적 작업으로의 전환을 촉진하며, 인간과 AI의 협업이 증대되고 있습니다.\n",
      "\n",
      "**III. AI의 부정적 영향**  \n",
      "그러나 AI의 발전은 부정적인 영향도 수반합니다. 자동화로 인해 일부 직업이 사라지고, 특정 산업에서는 큰 충격을 받을 수 있습니다. 또한, 계약직 및 프리랜서의 증가로 고용의 불안정성이 커지고 있습니다. 이는 정규직 감소와 사회적 불평등 심화로 이어질 위험이 있습니다. 기술 격차 문제도 중요합니다. 기술에 대한 접근성 차이가 존재하며, 이는 교육 및 훈련의 필요성을 강조합니다.\n",
      "\n",
      "**IV. 산업별 AI의 영향**  \n",
      "AI의 영향은 산업별로 다르게 나타납니다. 제조업에서는 로봇 자동화의 도입으로 생산라인이 변화하고 있습니다. 서비스업에서는 고객 서비스의 자동화와 온라인 플랫폼의 부상으로 변화가 가속화되고 있습니다. 의료 분야에서는 AI가 진단 및 치료에 활용되면서 의료 직종의 성격이 변화하고 있습니다.\n",
      "\n",
      "**V. 정책적 대응 방안**  \n",
      "이러한 변화에 대응하기 위해 여러 정책적 방안이 필요합니다. 교육 및 재훈련 프로그램의 중요성이 강조되며, 기술교육과 평생 교육 시스템의 구축이 필수적입니다. 사회 안전망을 강화하여 기본소득 논의와 실업 보험 시스템 개선이 필요합니다. 또한, AI 윤리 및 규제를 통해 AI 기술의 책임 있는 사용과 직업 이동 지원 정책을 마련해야 합니다.\n",
      "\n",
      "**VI. 결론**  \n",
      "AI와 고용 시장의 미래는 상호작용 속에서 진화할 것입니다. 지속 가능한 고용 시장을 위해서는 변화에 대한 능동적인 대응과 협력적 접근이 필요합니다. 이는 AI가 가져올 기회를 최대한 활용하고, 그로 인한 도전 과제를 효과적으로 해결하는 데 중요한 역할을 할 것입니다. AI와 인간의 협력을 통해 더 나은 미래를 만들어 나가야 합니다.\u001b[00m\n",
      "\n",
      "\n"
     ]
    },
    {
     "data": {
      "text/plain": [
       "CrewOutput(raw='**제목: 인공지능(AI)이 고용 시장에 미치는 영향**\\n\\n**I. 서론**  \\n오늘날 인공지능(AI)은 혁신의 중심에 서 있습니다. AI는 인간의 지능을 모방하여 학습, 문제 해결, 의사 결정 등을 수행하는 기술로 정의됩니다. 이러한 기술의 발전은 과거 수십 년간 컴퓨팅 파워의 급증, 데이터의 폭발적 증가, 그리고 알고리즘의 발전에 힘입어 이루어졌습니다. 이러한 배경 속에서 AI는 다양한 산업에 걸쳐 고용 시장의 변화를 불러일으키고 있으며, 이는 시대적 요구에 대응하기 위한 필수적인 과정이 되었습니다.\\n\\n**II. AI의 긍정적 영향**  \\nAI의 도입은 고용 시장에 긍정적인 변화를 가져오고 있습니다. 첫째, AI는 자동화와 효율성을 통해 생산성을 향상시킵니다. 이는 시간 절약과 비용 절감을 가능하게 하여 기업의 경쟁력을 강화합니다. 둘째, AI 기술 관련 직종의 증가로 새로운 일자리를 창출하고 있습니다. 데이터 분석 및 관리 직업에 대한 수요가 증가하면서, 이 분야의 전문가들이 필요로 하고 있습니다. 마지막으로, 직무의 변화는 반복적인 작업에서 창의적 작업으로의 전환을 촉진하며, 인간과 AI의 협업이 증대되고 있습니다.\\n\\n**III. AI의 부정적 영향**  \\n그러나 AI의 발전은 부정적인 영향도 수반합니다. 자동화로 인해 일부 직업이 사라지고, 특정 산업에서는 큰 충격을 받을 수 있습니다. 또한, 계약직 및 프리랜서의 증가로 고용의 불안정성이 커지고 있습니다. 이는 정규직 감소와 사회적 불평등 심화로 이어질 위험이 있습니다. 기술 격차 문제도 중요합니다. 기술에 대한 접근성 차이가 존재하며, 이는 교육 및 훈련의 필요성을 강조합니다.\\n\\n**IV. 산업별 AI의 영향**  \\nAI의 영향은 산업별로 다르게 나타납니다. 제조업에서는 로봇 자동화의 도입으로 생산라인이 변화하고 있습니다. 서비스업에서는 고객 서비스의 자동화와 온라인 플랫폼의 부상으로 변화가 가속화되고 있습니다. 의료 분야에서는 AI가 진단 및 치료에 활용되면서 의료 직종의 성격이 변화하고 있습니다.\\n\\n**V. 정책적 대응 방안**  \\n이러한 변화에 대응하기 위해 여러 정책적 방안이 필요합니다. 교육 및 재훈련 프로그램의 중요성이 강조되며, 기술교육과 평생 교육 시스템의 구축이 필수적입니다. 사회 안전망을 강화하여 기본소득 논의와 실업 보험 시스템 개선이 필요합니다. 또한, AI 윤리 및 규제를 통해 AI 기술의 책임 있는 사용과 직업 이동 지원 정책을 마련해야 합니다.\\n\\n**VI. 결론**  \\nAI와 고용 시장의 미래는 상호작용 속에서 진화할 것입니다. 지속 가능한 고용 시장을 위해서는 변화에 대한 능동적인 대응과 협력적 접근이 필요합니다. 이는 AI가 가져올 기회를 최대한 활용하고, 그로 인한 도전 과제를 효과적으로 해결하는 데 중요한 역할을 할 것입니다. AI와 인간의 협력을 통해 더 나은 미래를 만들어 나가야 합니다.', pydantic=None, json_dict=None, tasks_output=[TaskOutput(description=\"Create a detailed outline for an article about AI's impact on job markets\", name=None, expected_output=\"A comprehensive outline covering the main aspects of AI's influence on employment\", summary=\"Create a detailed outline for an article about AI's impact...\", raw='**제목: 인공지능(AI)이 고용 시장에 미치는 영향**\\n\\n**I. 서론**  \\n   A. 인공지능의 정의  \\n   B. AI의 발전 배경  \\n   C. 고용 시장의 변화 필요성\\n\\n**II. AI의 긍정적 영향**  \\n   A. 생산성 향상  \\n      1. 자동화와 효율성  \\n      2. 시간 절약 및 비용 절감  \\n   B. 새로운 일자리 창출  \\n      1. AI 기술 관련 직종 증가  \\n      2. 데이터 분석 및 관리 직업의 수요 증가  \\n   C. 직무의 변화  \\n      1. 반복적인 작업에서 창의적 작업으로의 전환  \\n      2. 인간과 AI의 협업 증대\\n\\n**III. AI의 부정적 영향**  \\n   A. 일자리 상실  \\n      1. 자동화로 인해 사라지는 직업  \\n      2. 특정 산업에서의 큰 영향  \\n   B. 고용의 불안정성 증가  \\n      1. 계약직 및 프리랜서 증가  \\n      2. 정규직 감소와 사회적 불평등 심화  \\n   C. 기술 격차 문제  \\n      1. 기술에 대한 접근성 차이  \\n      2. 교육 및 훈련의 중요성\\n\\n**IV. 산업별 AI의 영향**  \\n   A. 제조업  \\n      1. 로봇 자동화의 도입  \\n      2. 생산라인의 변화  \\n   B. 서비스업  \\n      1. 고객 서비스의 자동화  \\n      2. 온라인 플랫폼의 부상  \\n   C. 의료 분야  \\n      1. 진단 및 치료의 AI 활용  \\n      2. 의료 직종의 변화\\n\\n**V. 정책적 대응 방안**  \\n   A. 교육 및 재훈련 프로그램  \\n      1. 기술교육의 중요성  \\n      2. 평생 교육 시스템 구축  \\n   B. 사회 안전망 강화  \\n      1. 기본소득 논의  \\n      2. 실업 보험 시스템 개선  \\n   C. AI 윤리 및 규제  \\n      1. AI 기술의 책임 있는 사용  \\n      2. 직업 이동 지원 정책\\n\\n**VI. 결론**  \\n   A. AI와 고용 시장의 미래 전망  \\n   B. 지속 가능한 고용 시장을 위한 노력의 필요성  \\n   C. 협력적 접근의 중요성\\n\\n이 아웃라인은 인공지능이 고용 시장에 미치는 다양한 영향을 체계적으로 정리한 것으로, 긍정적 및 부정적 영향, 산업별 변화, 그리고 정책적 대응 방안을 포함하고 있습니다. 이를 통해 독자는 AI의 발전과 관련된 고용 시장의 동향을 종합적으로 이해할 수 있을 것입니다.', pydantic=None, json_dict=None, agent='Outline Generator', output_format=<OutputFormat.RAW: 'raw'>), TaskOutput(description='Write an article about the findings from the research', name=None, expected_output=\"An engaging article discussing AI's influence on job markets\", summary='Write an article about the findings from the research...', raw='**제목: 인공지능(AI)이 고용 시장에 미치는 영향**\\n\\n**I. 서론**  \\n오늘날 인공지능(AI)은 혁신의 중심에 서 있습니다. AI는 인간의 지능을 모방하여 학습, 문제 해결, 의사 결정 등을 수행하는 기술로 정의됩니다. 이러한 기술의 발전은 과거 수십 년간 컴퓨팅 파워의 급증, 데이터의 폭발적 증가, 그리고 알고리즘의 발전에 힘입어 이루어졌습니다. 이러한 배경 속에서 AI는 다양한 산업에 걸쳐 고용 시장의 변화를 불러일으키고 있으며, 이는 시대적 요구에 대응하기 위한 필수적인 과정이 되었습니다.\\n\\n**II. AI의 긍정적 영향**  \\nAI의 도입은 고용 시장에 긍정적인 변화를 가져오고 있습니다. 첫째, AI는 자동화와 효율성을 통해 생산성을 향상시킵니다. 이는 시간 절약과 비용 절감을 가능하게 하여 기업의 경쟁력을 강화합니다. 둘째, AI 기술 관련 직종의 증가로 새로운 일자리를 창출하고 있습니다. 데이터 분석 및 관리 직업에 대한 수요가 증가하면서, 이 분야의 전문가들이 필요로 하고 있습니다. 마지막으로, 직무의 변화는 반복적인 작업에서 창의적 작업으로의 전환을 촉진하며, 인간과 AI의 협업이 증대되고 있습니다.\\n\\n**III. AI의 부정적 영향**  \\n그러나 AI의 발전은 부정적인 영향도 수반합니다. 자동화로 인해 일부 직업이 사라지고, 특정 산업에서는 큰 충격을 받을 수 있습니다. 또한, 계약직 및 프리랜서의 증가로 고용의 불안정성이 커지고 있습니다. 이는 정규직 감소와 사회적 불평등 심화로 이어질 위험이 있습니다. 기술 격차 문제도 중요합니다. 기술에 대한 접근성 차이가 존재하며, 이는 교육 및 훈련의 필요성을 강조합니다.\\n\\n**IV. 산업별 AI의 영향**  \\nAI의 영향은 산업별로 다르게 나타납니다. 제조업에서는 로봇 자동화의 도입으로 생산라인이 변화하고 있습니다. 서비스업에서는 고객 서비스의 자동화와 온라인 플랫폼의 부상으로 변화가 가속화되고 있습니다. 의료 분야에서는 AI가 진단 및 치료에 활용되면서 의료 직종의 성격이 변화하고 있습니다.\\n\\n**V. 정책적 대응 방안**  \\n이러한 변화에 대응하기 위해 여러 정책적 방안이 필요합니다. 교육 및 재훈련 프로그램의 중요성이 강조되며, 기술교육과 평생 교육 시스템의 구축이 필수적입니다. 사회 안전망을 강화하여 기본소득 논의와 실업 보험 시스템 개선이 필요합니다. 또한, AI 윤리 및 규제를 통해 AI 기술의 책임 있는 사용과 직업 이동 지원 정책을 마련해야 합니다.\\n\\n**VI. 결론**  \\nAI와 고용 시장의 미래는 상호작용 속에서 진화할 것입니다. 지속 가능한 고용 시장을 위해서는 변화에 대한 능동적인 대응과 협력적 접근이 필요합니다. 이는 AI가 가져올 기회를 최대한 활용하고, 그로 인한 도전 과제를 효과적으로 해결하는 데 중요한 역할을 할 것입니다. AI와 인간의 협력을 통해 더 나은 미래를 만들어 나가야 합니다.', pydantic=None, json_dict=None, agent='Writer', output_format=<OutputFormat.RAW: 'raw'>)], token_usage=UsageMetrics(total_tokens=3860, prompt_tokens=1785, completion_tokens=2075, successful_requests=3))"
      ]
     },
     "execution_count": 9,
     "metadata": {},
     "output_type": "execute_result"
    }
   ],
   "source": [
    "# Run crew\n",
    "result = ai_impact_crew.kickoff()\n",
    "\n",
    "result"
   ]
  },
  {
   "cell_type": "markdown",
   "id": "6a688ce2-7cb4-4433-94c7-c87fc7fc1fa1",
   "metadata": {},
   "source": [
    "## Process Definition"
   ]
  },
  {
   "cell_type": "code",
   "execution_count": 14,
   "id": "c9cc88c6-b81d-432e-80ea-f5c597b980e4",
   "metadata": {},
   "outputs": [
    {
     "name": "stderr",
     "output_type": "stream",
     "text": [
      "Overriding of current TracerProvider is not allowed\n"
     ]
    }
   ],
   "source": [
    "# Crew Definition\n",
    "from crewai.process import Process\n",
    "\n",
    "ai_impact_crew = Crew(\n",
    "    agents=[outline_generator, writer],\n",
    "    tasks=[outline_task, writing_task],\n",
    "    verbose=True,\n",
    "    Process=Process.sequential\n",
    ")"
   ]
  },
  {
   "cell_type": "code",
   "execution_count": 15,
   "id": "a9a1c950-1563-4ecb-a1d3-07377a3428e9",
   "metadata": {},
   "outputs": [
    {
     "name": "stdout",
     "output_type": "stream",
     "text": [
      "\u001b[1m\u001b[95m# Agent:\u001b[00m \u001b[1m\u001b[92mOutline Generator\u001b[00m\n",
      "\u001b[95m## Task:\u001b[00m \u001b[92mCreate a detailed outline for an article about AI's impact on job markets\u001b[00m\n",
      "\n",
      "\n",
      "\u001b[1m\u001b[95m# Agent:\u001b[00m \u001b[1m\u001b[92mOutline Generator\u001b[00m\n",
      "\u001b[95m## Final Answer:\u001b[00m \u001b[92m\n",
      "**AI의 고용 시장에 미치는 영향에 관한 기사 아웃라인**\n",
      "\n",
      "I. 서론  \n",
      "   A. AI의 정의 및 발전 배경  \n",
      "      1. 인공지능의 기본 개념  \n",
      "      2. AI 기술의 발전 역사  \n",
      "   B. AI가 현대 사회에서의 중요성  \n",
      "      1. 기술 발전과 경제 성장의 관계  \n",
      "      2. AI의 일상적 사용 사례  \n",
      "   C. 논문의 목적 및 구조 소개  \n",
      "\n",
      "II. AI의 고용 시장에 대한 긍정적인 영향  \n",
      "   A. 새로운 일자리 창출  \n",
      "      1. AI 관련 직업의 증가  \n",
      "         a. 데이터 과학자  \n",
      "         b. AI 개발자  \n",
      "      2. 산업의 변화에 따른 새로운 기회  \n",
      "   B. 생산성 향상  \n",
      "      1. 자동화로 인한 효율성 증대  \n",
      "      2. 기업의 경쟁력 강화  \n",
      "   C. 일의 질 향상  \n",
      "      1. 반복적이고 위험한 작업의 감소  \n",
      "      2. 창의적이고 전략적인 업무에 집중 가능  \n",
      "\n",
      "III. AI의 고용 시장에 대한 부정적인 영향  \n",
      "   A. 일자리 감소  \n",
      "      1. 자동화로 인해 사라지는 직업  \n",
      "         a. 제조업  \n",
      "         b. 서비스업  \n",
      "      2. AI에 의한 고용 감소 통계  \n",
      "   B. 직업의 변화  \n",
      "      1. 기존 직업의 변형  \n",
      "      2. 기술 격차로 인한 사회적 불평등 심화  \n",
      "   C. 노동 시장의 불안정성  \n",
      "      1. 임시직 및 계약직의 증가  \n",
      "      2. 장기적인 직업 안정성 문제  \n",
      "\n",
      "IV. AI 시대의 노동 시장 대응 전략  \n",
      "   A. 교육 및 훈련의 중요성  \n",
      "      1. AI 관련 교육 프로그램의 필요성  \n",
      "      2. 평생 학습의 중요성  \n",
      "   B. 기업의 역할  \n",
      "      1. 재교육 및 전환 지원  \n",
      "      2. 윤리적 AI 사용의 필요성  \n",
      "   C. 정부의 정책 방향  \n",
      "      1. 노동 시장 보호를 위한 정책 개발  \n",
      "      2. 사회 안전망 강화  \n",
      "\n",
      "V. 결론  \n",
      "   A. AI의 고용 시장에 대한 종합적 시사점  \n",
      "   B. 미래 고용 시장의 전망  \n",
      "      1. AI와 인간의 협업  \n",
      "      2. 지속 가능한 일자리 창출 방안  \n",
      "   C. 독자에게의 메시지 및 행동 촉구  \n",
      "\n",
      "이 아웃라인은 AI가 고용 시장에 미치는 다양한 영향과 그에 대한 대응 전략을 포괄적으로 다루고 있습니다. 각 섹션은 AI의 긍정적 및 부정적 측면을 균형 있게 분석하며, 독자가 AI 시대에 직면한 고용 시장의 변화를 이해하고 준비할 수 있도록 돕는 것을 목표로 합니다.\u001b[00m\n",
      "\n",
      "\n",
      "\u001b[1m\u001b[95m# Agent:\u001b[00m \u001b[1m\u001b[92mWriter\u001b[00m\n",
      "\u001b[95m## Task:\u001b[00m \u001b[92mWrite an article about the findings from the research\u001b[00m\n",
      "\n",
      "\n",
      "\u001b[1m\u001b[95m# Agent:\u001b[00m \u001b[1m\u001b[92mWriter\u001b[00m\n",
      "\u001b[95m## Final Answer:\u001b[00m \u001b[92m\n",
      "**AI의 고용 시장에 미치는 영향**\n",
      "\n",
      "I. 서론  \n",
      "인공지능(AI)은 현재 우리 사회에서 빠르게 발전하고 있는 핵심 기술 중 하나로, 다양한 산업에서 그 중요성이 점차 커지고 있습니다. AI는 단순한 기술적 개념을 넘어, 사회 전반의 패러다임을 변화시키고 있습니다. 이 글에서는 AI가 고용 시장에 미치는 영향을 분석하고, 이를 통해 AI 시대에 대비하는 전략을 모색해보고자 합니다.\n",
      "\n",
      "II. AI의 고용 시장에 대한 긍정적인 영향  \n",
      "AI의 발전은 새로운 일자리 창출의 기회를 제공합니다. 데이터 과학자나 AI 개발자와 같은 직업은 AI 기술의 발전과 함께 수요가 급증하고 있습니다. 또한, AI는 산업 구조의 변화를 촉진하여 새로운 기회를 만들어냅니다. 생산성 측면에서도 AI는 자동화를 통해 효율성을 증대시키고 기업의 경쟁력을 강화합니다. 이는 일의 질을 향상시켜 반복적이고 위험한 작업을 줄이고, 창의적이고 전략적인 업무에 집중할 수 있게 합니다.\n",
      "\n",
      "III. AI의 고용 시장에 대한 부정적인 영향  \n",
      "그러나 AI의 발전은 일자리 감소라는 부정적인 영향을 미치기도 합니다. 자동화로 인해 제조업과 서비스업 등에서 많은 직업이 사라지고 있으며, AI로 인한 고용 감소에 대한 통계는 이를 뒷받침합니다. 또한, 기존 직업의 변형과 기술 격차로 인한 사회적 불평등이 심화될 수 있습니다. 이러한 변화는 노동 시장의 불안정성을 초래하며, 임시직 및 계약직의 증가와 장기적인 직업 안정성 문제를 야기합니다.\n",
      "\n",
      "IV. AI 시대의 노동 시장 대응 전략  \n",
      "AI 시대에 대응하기 위해서는 교육 및 훈련의 중요성이 강조됩니다. AI 관련 교육 프로그램의 필요성과 평생 학습의 중요성은 직업 전환의 핵심입니다. 기업은 재교육 및 전환 지원을 통해 직원들이 변화에 적응할 수 있도록 해야 하며, 윤리적 AI 사용의 필요성을 인식해야 합니다. 정부 역시 노동 시장 보호를 위한 정책 개발과 사회 안전망 강화를 통해 AI 시대의 도래에 대비해야 합니다.\n",
      "\n",
      "V. 결론  \n",
      "AI는 고용 시장에 긍정적, 부정적 영향을 동시에 미치고 있습니다. AI와 인간의 협업을 통해 지속 가능한 일자리 창출 방안을 모색하는 것이 중요합니다. 독자들은 이러한 변화를 이해하고, 개인과 사회가 함께 준비해 나가야 할 것입니다. AI 시대는 도전과 기회의 시대입니다. 준비된 자에게는 무한한 가능성이 열려 있습니다.\u001b[00m\n",
      "\n",
      "\n"
     ]
    },
    {
     "data": {
      "text/plain": [
       "CrewOutput(raw='**AI의 고용 시장에 미치는 영향**\\n\\nI. 서론  \\n인공지능(AI)은 현재 우리 사회에서 빠르게 발전하고 있는 핵심 기술 중 하나로, 다양한 산업에서 그 중요성이 점차 커지고 있습니다. AI는 단순한 기술적 개념을 넘어, 사회 전반의 패러다임을 변화시키고 있습니다. 이 글에서는 AI가 고용 시장에 미치는 영향을 분석하고, 이를 통해 AI 시대에 대비하는 전략을 모색해보고자 합니다.\\n\\nII. AI의 고용 시장에 대한 긍정적인 영향  \\nAI의 발전은 새로운 일자리 창출의 기회를 제공합니다. 데이터 과학자나 AI 개발자와 같은 직업은 AI 기술의 발전과 함께 수요가 급증하고 있습니다. 또한, AI는 산업 구조의 변화를 촉진하여 새로운 기회를 만들어냅니다. 생산성 측면에서도 AI는 자동화를 통해 효율성을 증대시키고 기업의 경쟁력을 강화합니다. 이는 일의 질을 향상시켜 반복적이고 위험한 작업을 줄이고, 창의적이고 전략적인 업무에 집중할 수 있게 합니다.\\n\\nIII. AI의 고용 시장에 대한 부정적인 영향  \\n그러나 AI의 발전은 일자리 감소라는 부정적인 영향을 미치기도 합니다. 자동화로 인해 제조업과 서비스업 등에서 많은 직업이 사라지고 있으며, AI로 인한 고용 감소에 대한 통계는 이를 뒷받침합니다. 또한, 기존 직업의 변형과 기술 격차로 인한 사회적 불평등이 심화될 수 있습니다. 이러한 변화는 노동 시장의 불안정성을 초래하며, 임시직 및 계약직의 증가와 장기적인 직업 안정성 문제를 야기합니다.\\n\\nIV. AI 시대의 노동 시장 대응 전략  \\nAI 시대에 대응하기 위해서는 교육 및 훈련의 중요성이 강조됩니다. AI 관련 교육 프로그램의 필요성과 평생 학습의 중요성은 직업 전환의 핵심입니다. 기업은 재교육 및 전환 지원을 통해 직원들이 변화에 적응할 수 있도록 해야 하며, 윤리적 AI 사용의 필요성을 인식해야 합니다. 정부 역시 노동 시장 보호를 위한 정책 개발과 사회 안전망 강화를 통해 AI 시대의 도래에 대비해야 합니다.\\n\\nV. 결론  \\nAI는 고용 시장에 긍정적, 부정적 영향을 동시에 미치고 있습니다. AI와 인간의 협업을 통해 지속 가능한 일자리 창출 방안을 모색하는 것이 중요합니다. 독자들은 이러한 변화를 이해하고, 개인과 사회가 함께 준비해 나가야 할 것입니다. AI 시대는 도전과 기회의 시대입니다. 준비된 자에게는 무한한 가능성이 열려 있습니다.', pydantic=None, json_dict=None, tasks_output=[TaskOutput(description=\"Create a detailed outline for an article about AI's impact on job markets\", name=None, expected_output=\"A comprehensive outline covering the main aspects of AI's influence on employment\", summary=\"Create a detailed outline for an article about AI's impact...\", raw='**AI의 고용 시장에 미치는 영향에 관한 기사 아웃라인**\\n\\nI. 서론  \\n   A. AI의 정의 및 발전 배경  \\n      1. 인공지능의 기본 개념  \\n      2. AI 기술의 발전 역사  \\n   B. AI가 현대 사회에서의 중요성  \\n      1. 기술 발전과 경제 성장의 관계  \\n      2. AI의 일상적 사용 사례  \\n   C. 논문의 목적 및 구조 소개  \\n\\nII. AI의 고용 시장에 대한 긍정적인 영향  \\n   A. 새로운 일자리 창출  \\n      1. AI 관련 직업의 증가  \\n         a. 데이터 과학자  \\n         b. AI 개발자  \\n      2. 산업의 변화에 따른 새로운 기회  \\n   B. 생산성 향상  \\n      1. 자동화로 인한 효율성 증대  \\n      2. 기업의 경쟁력 강화  \\n   C. 일의 질 향상  \\n      1. 반복적이고 위험한 작업의 감소  \\n      2. 창의적이고 전략적인 업무에 집중 가능  \\n\\nIII. AI의 고용 시장에 대한 부정적인 영향  \\n   A. 일자리 감소  \\n      1. 자동화로 인해 사라지는 직업  \\n         a. 제조업  \\n         b. 서비스업  \\n      2. AI에 의한 고용 감소 통계  \\n   B. 직업의 변화  \\n      1. 기존 직업의 변형  \\n      2. 기술 격차로 인한 사회적 불평등 심화  \\n   C. 노동 시장의 불안정성  \\n      1. 임시직 및 계약직의 증가  \\n      2. 장기적인 직업 안정성 문제  \\n\\nIV. AI 시대의 노동 시장 대응 전략  \\n   A. 교육 및 훈련의 중요성  \\n      1. AI 관련 교육 프로그램의 필요성  \\n      2. 평생 학습의 중요성  \\n   B. 기업의 역할  \\n      1. 재교육 및 전환 지원  \\n      2. 윤리적 AI 사용의 필요성  \\n   C. 정부의 정책 방향  \\n      1. 노동 시장 보호를 위한 정책 개발  \\n      2. 사회 안전망 강화  \\n\\nV. 결론  \\n   A. AI의 고용 시장에 대한 종합적 시사점  \\n   B. 미래 고용 시장의 전망  \\n      1. AI와 인간의 협업  \\n      2. 지속 가능한 일자리 창출 방안  \\n   C. 독자에게의 메시지 및 행동 촉구  \\n\\n이 아웃라인은 AI가 고용 시장에 미치는 다양한 영향과 그에 대한 대응 전략을 포괄적으로 다루고 있습니다. 각 섹션은 AI의 긍정적 및 부정적 측면을 균형 있게 분석하며, 독자가 AI 시대에 직면한 고용 시장의 변화를 이해하고 준비할 수 있도록 돕는 것을 목표로 합니다.', pydantic=None, json_dict=None, agent='Outline Generator', output_format=<OutputFormat.RAW: 'raw'>), TaskOutput(description='Write an article about the findings from the research', name=None, expected_output=\"An engaging article discussing AI's influence on job markets\", summary='Write an article about the findings from the research...', raw='**AI의 고용 시장에 미치는 영향**\\n\\nI. 서론  \\n인공지능(AI)은 현재 우리 사회에서 빠르게 발전하고 있는 핵심 기술 중 하나로, 다양한 산업에서 그 중요성이 점차 커지고 있습니다. AI는 단순한 기술적 개념을 넘어, 사회 전반의 패러다임을 변화시키고 있습니다. 이 글에서는 AI가 고용 시장에 미치는 영향을 분석하고, 이를 통해 AI 시대에 대비하는 전략을 모색해보고자 합니다.\\n\\nII. AI의 고용 시장에 대한 긍정적인 영향  \\nAI의 발전은 새로운 일자리 창출의 기회를 제공합니다. 데이터 과학자나 AI 개발자와 같은 직업은 AI 기술의 발전과 함께 수요가 급증하고 있습니다. 또한, AI는 산업 구조의 변화를 촉진하여 새로운 기회를 만들어냅니다. 생산성 측면에서도 AI는 자동화를 통해 효율성을 증대시키고 기업의 경쟁력을 강화합니다. 이는 일의 질을 향상시켜 반복적이고 위험한 작업을 줄이고, 창의적이고 전략적인 업무에 집중할 수 있게 합니다.\\n\\nIII. AI의 고용 시장에 대한 부정적인 영향  \\n그러나 AI의 발전은 일자리 감소라는 부정적인 영향을 미치기도 합니다. 자동화로 인해 제조업과 서비스업 등에서 많은 직업이 사라지고 있으며, AI로 인한 고용 감소에 대한 통계는 이를 뒷받침합니다. 또한, 기존 직업의 변형과 기술 격차로 인한 사회적 불평등이 심화될 수 있습니다. 이러한 변화는 노동 시장의 불안정성을 초래하며, 임시직 및 계약직의 증가와 장기적인 직업 안정성 문제를 야기합니다.\\n\\nIV. AI 시대의 노동 시장 대응 전략  \\nAI 시대에 대응하기 위해서는 교육 및 훈련의 중요성이 강조됩니다. AI 관련 교육 프로그램의 필요성과 평생 학습의 중요성은 직업 전환의 핵심입니다. 기업은 재교육 및 전환 지원을 통해 직원들이 변화에 적응할 수 있도록 해야 하며, 윤리적 AI 사용의 필요성을 인식해야 합니다. 정부 역시 노동 시장 보호를 위한 정책 개발과 사회 안전망 강화를 통해 AI 시대의 도래에 대비해야 합니다.\\n\\nV. 결론  \\nAI는 고용 시장에 긍정적, 부정적 영향을 동시에 미치고 있습니다. AI와 인간의 협업을 통해 지속 가능한 일자리 창출 방안을 모색하는 것이 중요합니다. 독자들은 이러한 변화를 이해하고, 개인과 사회가 함께 준비해 나가야 할 것입니다. AI 시대는 도전과 기회의 시대입니다. 준비된 자에게는 무한한 가능성이 열려 있습니다.', pydantic=None, json_dict=None, agent='Writer', output_format=<OutputFormat.RAW: 'raw'>)], token_usage=UsageMetrics(total_tokens=12080, prompt_tokens=5672, completion_tokens=6408, successful_requests=10))"
      ]
     },
     "execution_count": 15,
     "metadata": {},
     "output_type": "execute_result"
    }
   ],
   "source": [
    "# Run crew\n",
    "result = ai_impact_crew.kickoff()\n",
    "\n",
    "result"
   ]
  },
  {
   "cell_type": "code",
   "execution_count": 16,
   "id": "484c5f96-00c8-44a1-b1a8-ead0f326b9a0",
   "metadata": {},
   "outputs": [
    {
     "data": {
      "text/markdown": [
       "**AI의 고용 시장에 미치는 영향**\n",
       "\n",
       "I. 서론  \n",
       "인공지능(AI)은 현재 우리 사회에서 빠르게 발전하고 있는 핵심 기술 중 하나로, 다양한 산업에서 그 중요성이 점차 커지고 있습니다. AI는 단순한 기술적 개념을 넘어, 사회 전반의 패러다임을 변화시키고 있습니다. 이 글에서는 AI가 고용 시장에 미치는 영향을 분석하고, 이를 통해 AI 시대에 대비하는 전략을 모색해보고자 합니다.\n",
       "\n",
       "II. AI의 고용 시장에 대한 긍정적인 영향  \n",
       "AI의 발전은 새로운 일자리 창출의 기회를 제공합니다. 데이터 과학자나 AI 개발자와 같은 직업은 AI 기술의 발전과 함께 수요가 급증하고 있습니다. 또한, AI는 산업 구조의 변화를 촉진하여 새로운 기회를 만들어냅니다. 생산성 측면에서도 AI는 자동화를 통해 효율성을 증대시키고 기업의 경쟁력을 강화합니다. 이는 일의 질을 향상시켜 반복적이고 위험한 작업을 줄이고, 창의적이고 전략적인 업무에 집중할 수 있게 합니다.\n",
       "\n",
       "III. AI의 고용 시장에 대한 부정적인 영향  \n",
       "그러나 AI의 발전은 일자리 감소라는 부정적인 영향을 미치기도 합니다. 자동화로 인해 제조업과 서비스업 등에서 많은 직업이 사라지고 있으며, AI로 인한 고용 감소에 대한 통계는 이를 뒷받침합니다. 또한, 기존 직업의 변형과 기술 격차로 인한 사회적 불평등이 심화될 수 있습니다. 이러한 변화는 노동 시장의 불안정성을 초래하며, 임시직 및 계약직의 증가와 장기적인 직업 안정성 문제를 야기합니다.\n",
       "\n",
       "IV. AI 시대의 노동 시장 대응 전략  \n",
       "AI 시대에 대응하기 위해서는 교육 및 훈련의 중요성이 강조됩니다. AI 관련 교육 프로그램의 필요성과 평생 학습의 중요성은 직업 전환의 핵심입니다. 기업은 재교육 및 전환 지원을 통해 직원들이 변화에 적응할 수 있도록 해야 하며, 윤리적 AI 사용의 필요성을 인식해야 합니다. 정부 역시 노동 시장 보호를 위한 정책 개발과 사회 안전망 강화를 통해 AI 시대의 도래에 대비해야 합니다.\n",
       "\n",
       "V. 결론  \n",
       "AI는 고용 시장에 긍정적, 부정적 영향을 동시에 미치고 있습니다. AI와 인간의 협업을 통해 지속 가능한 일자리 창출 방안을 모색하는 것이 중요합니다. 독자들은 이러한 변화를 이해하고, 개인과 사회가 함께 준비해 나가야 할 것입니다. AI 시대는 도전과 기회의 시대입니다. 준비된 자에게는 무한한 가능성이 열려 있습니다."
      ],
      "text/plain": [
       "<IPython.core.display.Markdown object>"
      ]
     },
     "metadata": {},
     "output_type": "display_data"
    }
   ],
   "source": [
    "from IPython.display import display, Markdown\n",
    "\n",
    "display(Markdown(result.raw))"
   ]
  },
  {
   "cell_type": "code",
   "execution_count": null,
   "id": "1abd7e90-432b-4b4d-959a-fc1795006e5a",
   "metadata": {},
   "outputs": [],
   "source": []
  }
 ],
 "metadata": {
  "kernelspec": {
   "display_name": "Python 3 (ipykernel)",
   "language": "python",
   "name": "python3"
  },
  "language_info": {
   "codemirror_mode": {
    "name": "ipython",
    "version": 3
   },
   "file_extension": ".py",
   "mimetype": "text/x-python",
   "name": "python",
   "nbconvert_exporter": "python",
   "pygments_lexer": "ipython3",
   "version": "3.10.12"
  }
 },
 "nbformat": 4,
 "nbformat_minor": 5
}
