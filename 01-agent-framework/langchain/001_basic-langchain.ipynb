{
 "cells": [
  {
   "cell_type": "code",
   "execution_count": 29,
   "id": "cd1d9917-2e6f-48b5-a284-fe8571a3d383",
   "metadata": {},
   "outputs": [],
   "source": [
    "import os"
   ]
  },
  {
   "cell_type": "markdown",
   "id": "6fa06b6f-45c5-4984-a917-8a85a9581e72",
   "metadata": {},
   "source": [
    "### Model Component"
   ]
  },
  {
   "cell_type": "code",
   "execution_count": 3,
   "id": "10b481d0-b8fb-4f5e-a6d5-9036cb8a0713",
   "metadata": {},
   "outputs": [],
   "source": [
    "from openai import OpenAI"
   ]
  },
  {
   "cell_type": "code",
   "execution_count": 4,
   "id": "55feaea9-f50c-4516-965f-5d353e5590f6",
   "metadata": {},
   "outputs": [
    {
     "data": {
      "text/plain": [
       "ChatCompletion(id='chatcmpl-ATIO7Abka0o4FCO1Io1yBoe8hgEoY', choices=[Choice(finish_reason='stop', index=0, logprobs=None, message=ChatCompletionMessage(content='2002년 월드컵 4강에는 프랑스, 브라질, 독일, 대한민국이 참가했습니다. 결승에서 브라질이 독일을 이기고 우승을 차지했습니다.', refusal=None, role='assistant', audio=None, function_call=None, tool_calls=None))], created=1731545559, model='gpt-3.5-turbo-0125', object='chat.completion', service_tier=None, system_fingerprint=None, usage=CompletionUsage(completion_tokens=76, prompt_tokens=33, total_tokens=109, completion_tokens_details=CompletionTokensDetails(accepted_prediction_tokens=0, audio_tokens=0, reasoning_tokens=0, rejected_prediction_tokens=0), prompt_tokens_details=PromptTokensDetails(audio_tokens=0, cached_tokens=0)))"
      ]
     },
     "execution_count": 4,
     "metadata": {},
     "output_type": "execute_result"
    }
   ],
   "source": [
    "client = OpenAI()\n",
    "\n",
    "client.chat.completions.create(\n",
    "    model='gpt-3.5-turbo',\n",
    "    messages=[\n",
    "        {\n",
    "            \"role\": \"user\",\n",
    "            \"content\": \"2002년 월드컵 4강 국가를 알려줘.\"\n",
    "        }\n",
    "    ]\n",
    ")"
   ]
  },
  {
   "cell_type": "code",
   "execution_count": 5,
   "id": "cc002fea-d98c-490e-bedc-b880c7a5ad92",
   "metadata": {},
   "outputs": [],
   "source": [
    "from langchain_openai import ChatOpenAI"
   ]
  },
  {
   "cell_type": "code",
   "execution_count": 7,
   "id": "cd8f2e20-2597-475b-9294-2960cb87f3a4",
   "metadata": {},
   "outputs": [
    {
     "data": {
      "text/plain": [
       "AIMessage(content='안녕하세요! 저는 인공지능 언어 모델인 ChatGPT입니다. 다양한 주제에 대해 질문에 답하고, 정보 제공, 대화, 글쓰기 도움 등을 할 수 있습니다. 언어와 관련된 다양한 작업을 지원하며, 여러분이 필요로 하는 정보를 최대한 잘 전달하려 노력하고 있습니다. 무엇을 도와드릴까요?', additional_kwargs={'refusal': None}, response_metadata={'token_usage': {'completion_tokens': 73, 'prompt_tokens': 17, 'total_tokens': 90, 'completion_tokens_details': {'accepted_prediction_tokens': 0, 'audio_tokens': 0, 'reasoning_tokens': 0, 'rejected_prediction_tokens': 0}, 'prompt_tokens_details': {'audio_tokens': 0, 'cached_tokens': 0}}, 'model_name': 'gpt-4o-mini-2024-07-18', 'system_fingerprint': 'fp_0ba0d124f1', 'finish_reason': 'stop', 'logprobs': None}, id='run-bd3165e4-a322-47ca-87ff-1d36b6acaeab-0', usage_metadata={'input_tokens': 17, 'output_tokens': 73, 'total_tokens': 90, 'input_token_details': {'audio': 0, 'cache_read': 0}, 'output_token_details': {'audio': 0, 'reasoning': 0}})"
      ]
     },
     "execution_count": 7,
     "metadata": {},
     "output_type": "execute_result"
    }
   ],
   "source": [
    "chat = ChatOpenAI(\n",
    "    model='gpt-4o-mini'\n",
    ")\n",
    "\n",
    "chat.invoke(\"안녕! 너를 소개해줄래?\")"
   ]
  },
  {
   "cell_type": "markdown",
   "id": "cdb41431-d243-4ddb-95d4-5259ed796dbb",
   "metadata": {},
   "source": [
    "### PromptTemplate"
   ]
  },
  {
   "cell_type": "code",
   "execution_count": 8,
   "id": "61ba8448-5dff-423e-8f1c-885b1f5f0121",
   "metadata": {},
   "outputs": [],
   "source": [
    "from langchain.prompts import PromptTemplate"
   ]
  },
  {
   "cell_type": "code",
   "execution_count": 9,
   "id": "acef7cdd-fec8-4543-962a-2e797487c89e",
   "metadata": {},
   "outputs": [
    {
     "data": {
      "text/plain": [
       "PromptTemplate(input_variables=['개수', '재료'], input_types={}, partial_variables={}, template='\\n        너는 훌륭한 요리사야. 내가 가진 재료들을 활용해서 만들 수 있는 요리를 {개수}추천하고,\\n        그 요리의 레시피를 알려줘. 내가 가진 재료는 아래와 같아.\\n        <재료>\\n        {재료}\\n        ')"
      ]
     },
     "execution_count": 9,
     "metadata": {},
     "output_type": "execute_result"
    }
   ],
   "source": [
    "prompt = (\n",
    "    PromptTemplate.from_template(\n",
    "        \"\"\"\n",
    "        너는 훌륭한 요리사야. 내가 가진 재료들을 활용해서 만들 수 있는 요리를 {개수}추천하고,\n",
    "        그 요리의 레시피를 알려줘. 내가 가진 재료는 아래와 같아.\n",
    "        <재료>\n",
    "        {재료}\n",
    "        \"\"\"\n",
    "        )\n",
    "    )\n",
    "\n",
    "prompt"
   ]
  },
  {
   "cell_type": "code",
   "execution_count": 11,
   "id": "95c30e7d-02d3-4c7d-8658-49e3b417869b",
   "metadata": {},
   "outputs": [
    {
     "data": {
      "text/plain": [
       "StringPromptValue(text='\\n        너는 훌륭한 요리사야. 내가 가진 재료들을 활용해서 만들 수 있는 요리를 4추천하고,\\n        그 요리의 레시피를 알려줘. 내가 가진 재료는 아래와 같아.\\n        <재료>\\n        사과, 딸기, 잼\\n        ')"
      ]
     },
     "execution_count": 11,
     "metadata": {},
     "output_type": "execute_result"
    }
   ],
   "source": [
    "prompt.invoke({\"개수\": 4, \"재료\": \"사과, 딸기, 잼\"})"
   ]
  },
  {
   "cell_type": "code",
   "execution_count": 12,
   "id": "ebc88b90-d5d8-48b0-9af4-fb03357de1c2",
   "metadata": {},
   "outputs": [],
   "source": [
    "from langchain_core.prompts import ChatPromptTemplate"
   ]
  },
  {
   "cell_type": "code",
   "execution_count": 14,
   "id": "c1112c2a-5a73-4317-8751-01b621dc01c3",
   "metadata": {},
   "outputs": [],
   "source": [
    "chat_template = ChatPromptTemplate.from_messages(\n",
    "    [\n",
    "        # SystemMessage\n",
    "        (\"system\", \"You are a helpful AI bot. Your name is {name}.\"),\n",
    "        # HumanMessage, AIMessage\n",
    "        (\"human\", \"Hello, how are you doing?\"),\n",
    "        (\"ai\", \"I'm doing well, thanks!\"),\n",
    "        # HumanMessage\n",
    "        (\"human\", \"{user_input}\"),\n",
    "    ]\n",
    ")"
   ]
  },
  {
   "cell_type": "code",
   "execution_count": 15,
   "id": "21156224-7a1e-4cc7-aa6c-104a5083276a",
   "metadata": {},
   "outputs": [
    {
     "name": "stdout",
     "output_type": "stream",
     "text": [
      "[SystemMessage(content='You are a helpful AI bot. Your name is Bob.', additional_kwargs={}, response_metadata={}), HumanMessage(content='Hello, how are you doing?', additional_kwargs={}, response_metadata={}), AIMessage(content=\"I'm doing well, thanks!\", additional_kwargs={}, response_metadata={}), HumanMessage(content='What is your name?', additional_kwargs={}, response_metadata={})]\n"
     ]
    }
   ],
   "source": [
    "messages = chat_template.format_messages(name='Bob', user_input='What is your name?')\n",
    "print(messages)"
   ]
  },
  {
   "cell_type": "markdown",
   "id": "7f686a0e-1bc6-4dc1-b4ad-5d9b557baaf1",
   "metadata": {},
   "source": [
    "### LCEL"
   ]
  },
  {
   "cell_type": "code",
   "execution_count": 16,
   "id": "2398f9ba-830e-4292-b1a5-6ebb97559e44",
   "metadata": {},
   "outputs": [],
   "source": [
    "from langchain_core.output_parsers import StrOutputParser\n",
    "from langchain_core.prompts import ChatPromptTemplate\n",
    "from langchain_openai import ChatOpenAI"
   ]
  },
  {
   "cell_type": "code",
   "execution_count": 17,
   "id": "20e0cc57-b8da-43e6-be2f-11961ed1b8bb",
   "metadata": {},
   "outputs": [
    {
     "data": {
      "text/plain": [
       "'Why did the ice cream truck break down?  \\n\\nBecause it had a rocky road!'"
      ]
     },
     "execution_count": 17,
     "metadata": {},
     "output_type": "execute_result"
    }
   ],
   "source": [
    "# Prompt template\n",
    "prompt = ChatPromptTemplate.from_template(\"Tell me a short joke about {topic}\")\n",
    "\n",
    "# LLM\n",
    "model = ChatOpenAI(model='gpt-4o-mini')\n",
    "\n",
    "# LCEL\n",
    "chain = prompt | model | StrOutputParser()\n",
    "\n",
    "# invoke\n",
    "chain.invoke({'topic': 'ice cream'})"
   ]
  },
  {
   "cell_type": "code",
   "execution_count": 18,
   "id": "f00005d5-4eb8-49dc-b69e-493d4ca1cfbc",
   "metadata": {},
   "outputs": [
    {
     "name": "stdout",
     "output_type": "stream",
     "text": [
      "Why don’t bears wear shoes?  \n",
      "\n",
      "Because they prefer bear feet!"
     ]
    }
   ],
   "source": [
    "# Define chain\n",
    "model = ChatOpenAI(model='gpt-4o')\n",
    "prompt = ChatPromptTemplate.from_template(\"Tell me a short joke about {topic}\")\n",
    "chain = prompt | model\n",
    "\n",
    "# streaming\n",
    "for s in chain.stream({'topic': 'bears'}):\n",
    "    print(s.content, end=\"\", flush=True) # flush=True : 버퍼에 잠시 저장하지 않고 즉시 출력"
   ]
  },
  {
   "cell_type": "markdown",
   "id": "9b839ffd-6b45-40ac-8316-f3c66d1630fa",
   "metadata": {},
   "source": [
    "### OutputParser"
   ]
  },
  {
   "cell_type": "code",
   "execution_count": 19,
   "id": "51a37ae8-daa5-45f7-9154-fa84a14adaa0",
   "metadata": {},
   "outputs": [],
   "source": [
    "from langchain_openai import ChatOpenAI\n",
    "from langchain.prompts import HumanMessagePromptTemplate\n",
    "from langchain_core.messages import SystemMessage\n",
    "from langchain_core.prompts import ChatPromptTemplate"
   ]
  },
  {
   "cell_type": "code",
   "execution_count": 28,
   "id": "bb4e7c56-e638-4484-904d-b59b9acc3a4d",
   "metadata": {},
   "outputs": [
    {
     "data": {
      "text/plain": [
       "AIMessage(content='[\"슈렉\", \"행오버\", \"미국의 아이들\"]', additional_kwargs={'refusal': None}, response_metadata={'token_usage': {'completion_tokens': 16, 'prompt_tokens': 73, 'total_tokens': 89, 'completion_tokens_details': {'accepted_prediction_tokens': 0, 'audio_tokens': 0, 'reasoning_tokens': 0, 'rejected_prediction_tokens': 0}, 'prompt_tokens_details': {'audio_tokens': 0, 'cached_tokens': 0}}, 'model_name': 'gpt-4o-mini-2024-07-18', 'system_fingerprint': 'fp_0ba0d124f1', 'finish_reason': 'stop', 'logprobs': None}, id='run-ee96b1fb-56a9-4c5c-b22b-b3bc6f57dfd6-0', usage_metadata={'input_tokens': 73, 'output_tokens': 16, 'total_tokens': 89, 'input_token_details': {'audio': 0, 'cache_read': 0}, 'output_token_details': {'audio': 0, 'reasoning': 0}})"
      ]
     },
     "execution_count": 28,
     "metadata": {},
     "output_type": "execute_result"
    }
   ],
   "source": [
    "llm = ChatOpenAI(model='gpt-4o-mini', temperature=0)\n",
    "\n",
    "chat_template = ChatPromptTemplate.from_messages(\n",
    "    [\n",
    "        SystemMessage(\n",
    "            content=(\n",
    "                \"너는 영화 전문가 AI야. 사용자가 원하는 장르의 영화를 리스트 형태로 추천해줘.\"\n",
    "                'ex) Query: SF영화 3개 추천해줘 / 답변: [\"인터스텔라\", \"스페이스오디세이\", \"혹성탈출\"]'\n",
    "            )\n",
    "        ),\n",
    "        HumanMessagePromptTemplate.from_template(\"{text}\")\n",
    "    ]\n",
    ")\n",
    "\n",
    "chain = chat_template | llm\n",
    "chain.invoke(\"코미디\")"
   ]
  },
  {
   "cell_type": "code",
   "execution_count": 31,
   "id": "e496f2d4-ea8b-4ea6-85d7-65ce254e5396",
   "metadata": {},
   "outputs": [],
   "source": [
    "from langchain.output_parsers import CommaSeparatedListOutputParser\n",
    "from langchain.prompts import PromptTemplate"
   ]
  },
  {
   "cell_type": "code",
   "execution_count": 32,
   "id": "d2335392-7900-442d-98b8-bca0675d9c1e",
   "metadata": {},
   "outputs": [
    {
     "data": {
      "text/plain": [
       "'Your response should be a list of comma separated values, eg: `foo, bar, baz` or `foo,bar,baz`'"
      ]
     },
     "execution_count": 32,
     "metadata": {},
     "output_type": "execute_result"
    }
   ],
   "source": [
    "# Define CSV parser\n",
    "output_parser = CommaSeparatedListOutputParser()\n",
    "\n",
    "format_instructions = output_parser.get_format_instructions()\n",
    "format_instructions"
   ]
  },
  {
   "cell_type": "code",
   "execution_count": 35,
   "id": "19385539-232b-40a6-adc1-0a04453db328",
   "metadata": {},
   "outputs": [
    {
     "data": {
      "text/plain": [
       "['컨저링',\n",
       " '악마의 소원',\n",
       " '사탄의 인형',\n",
       " '할로윈',\n",
       " '미드소마',\n",
       " '더 바이더스',\n",
       " '그 아래',\n",
       " '링',\n",
       " '귀향',\n",
       " '고스트 스토리']"
      ]
     },
     "execution_count": 35,
     "metadata": {},
     "output_type": "execute_result"
    }
   ],
   "source": [
    "prompt = PromptTemplate(\n",
    "    template=\"List {subject}. Answer in korean \\n{format_instructions}\",\n",
    "    input_variables=[\"subject\"],\n",
    "    partial_variables={\"format_instructions\": format_instructions}\n",
    ")\n",
    "\n",
    "model = ChatOpenAI(model='gpt-4o-mini')\n",
    "\n",
    "chain = prompt | model | output_parser\n",
    "chain.invoke({\"subject\": \"호러 영화\"})"
   ]
  },
  {
   "cell_type": "code",
   "execution_count": 38,
   "id": "cfbed9f6-2ecd-4dcc-8c7a-c97d549090b3",
   "metadata": {},
   "outputs": [],
   "source": [
    "from typing import List\n",
    "from langchain.prompts import PromptTemplate\n",
    "from langchain_core.output_parsers import JsonOutputParser\n",
    "from langchain_core.pydantic_v1 import BaseModel, Field\n",
    "from langchain_openai import ChatOpenAI"
   ]
  },
  {
   "cell_type": "code",
   "execution_count": 39,
   "id": "76983116-ce62-40ab-8641-f8449b9e95fa",
   "metadata": {},
   "outputs": [],
   "source": [
    "class Country(BaseModel):\n",
    "    continent: str = Field(description=\"사용자가 물어본 나라가 속한 대륙\")\n",
    "    population: str = Field(description=\"사용자가 물어본 나라 인구(int 형식)\")\n",
    "    social: str = Field(description=\"사용자가 물어본 나라의 최근 이슈, 현재 날짜 2024년 11월 14일\")"
   ]
  },
  {
   "cell_type": "code",
   "execution_count": 43,
   "id": "7018ae0f-18e9-49be-bc71-a59b2769e8c4",
   "metadata": {},
   "outputs": [
    {
     "data": {
      "text/plain": [
       "{'continent': '남아메리카',\n",
       " 'population': '46000000',\n",
       " 'social': '2024년 현재 아르헨티나는 경제 위기와 인플레이션 문제로 어려움을 겪고 있으며, 정치적 불안정성 또한 큰 이슈입니다.'}"
      ]
     },
     "execution_count": 43,
     "metadata": {},
     "output_type": "execute_result"
    }
   ],
   "source": [
    "parser = JsonOutputParser(pydantic_object=Country)\n",
    "\n",
    "prompt = PromptTemplate(\n",
    "    template=\"Answer the user query. \\n{format_instructions} \\n{query} \\n\",\n",
    "    input_variables=[\"query\"],\n",
    "    partial_variables={\"format_instructions\": parser.get_format_instructions()}\n",
    ")\n",
    "\n",
    "chain = prompt | model | parser\n",
    "\n",
    "country_query = \"아르헨티나에 대해 한글로 알려줘.\"\n",
    "chain.invoke({\"query\": country_query})"
   ]
  },
  {
   "cell_type": "markdown",
   "id": "6a0440d3-f065-4c19-8a77-a65b68e585c3",
   "metadata": {},
   "source": [
    "### Runnable of LCEL"
   ]
  },
  {
   "cell_type": "markdown",
   "id": "ab3fa9ac-615c-437c-88f4-984e1f4566cf",
   "metadata": {},
   "source": [
    "#### RunnablePassthrough"
   ]
  },
  {
   "cell_type": "code",
   "execution_count": 44,
   "id": "08576893-c8cb-4ad2-b564-ef2c142ee16b",
   "metadata": {},
   "outputs": [],
   "source": [
    "from langchain_core.runnables import RunnablePassthrough"
   ]
  },
  {
   "cell_type": "code",
   "execution_count": 45,
   "id": "d2b3510f-4365-4b90-b9a4-7893fd5630f3",
   "metadata": {},
   "outputs": [
    {
     "data": {
      "text/plain": [
       "'안녕하세요.'"
      ]
     },
     "execution_count": 45,
     "metadata": {},
     "output_type": "execute_result"
    }
   ],
   "source": [
    "RunnablePassthrough().invoke(\"안녕하세요.\")"
   ]
  },
  {
   "cell_type": "code",
   "execution_count": 46,
   "id": "4664223d-7ad2-4583-bd96-892eb12a1ca0",
   "metadata": {},
   "outputs": [],
   "source": [
    "from langchain_core.prompts import ChatPromptTemplate\n",
    "from langchain_openai import ChatOpenAI\n",
    "from langchain_core.output_parsers import StrOutputParser"
   ]
  },
  {
   "cell_type": "code",
   "execution_count": 47,
   "id": "3f86f0de-d9ab-474b-8381-4032368de7a2",
   "metadata": {},
   "outputs": [
    {
     "data": {
      "text/plain": [
       "'Er steht jeden Morgen früh auf.'"
      ]
     },
     "execution_count": 47,
     "metadata": {},
     "output_type": "execute_result"
    }
   ],
   "source": [
    "prompt = ChatPromptTemplate.from_template(\"\"\"다음 주어지는 한글 문장을 독일어로 번역해줘 {sentence}\n",
    "German sentence: (print from here)\"\"\")\n",
    "\n",
    "model = ChatOpenAI(model='gpt-4o-mini')\n",
    "\n",
    "output_parser = StrOutputParser()\n",
    "\n",
    "runnable_chain = {\"sentence\": RunnablePassthrough()} | prompt | model | output_parser\n",
    "runnable_chain.invoke({\"sentence\": \"그는 매일 아침 일찍 일어납니다.\"})"
   ]
  },
  {
   "cell_type": "code",
   "execution_count": 48,
   "id": "d20bd421-79e4-4d23-bbb8-795bc7a43cfd",
   "metadata": {},
   "outputs": [
    {
     "data": {
      "text/plain": [
       "{'num': 3, 'mult': 9}"
      ]
     },
     "execution_count": 48,
     "metadata": {},
     "output_type": "execute_result"
    }
   ],
   "source": [
    "(RunnablePassthrough.assign(mult=lambda x: x[\"num\"] * 3)).invoke({\"num\": 3})"
   ]
  },
  {
   "cell_type": "code",
   "execution_count": 49,
   "id": "953ab2ed-8668-4d4d-aa00-a0059f31d3d8",
   "metadata": {},
   "outputs": [],
   "source": [
    "from langchain_core.runnables import RunnableParallel, RunnablePassthrough"
   ]
  },
  {
   "cell_type": "code",
   "execution_count": 50,
   "id": "4badef4d-1a6f-447c-b738-76441e928ab4",
   "metadata": {},
   "outputs": [
    {
     "data": {
      "text/plain": [
       "{'extra': {'num': 1, 'mult': 3}, 'modified': 2}"
      ]
     },
     "execution_count": 50,
     "metadata": {},
     "output_type": "execute_result"
    }
   ],
   "source": [
    "runnable = RunnableParallel(\n",
    "    extra=RunnablePassthrough.assign(mult=lambda x: x[\"num\"] * 3),\n",
    "    modified=lambda x: x[\"num\"] + 1,\n",
    ")\n",
    "\n",
    "runnable.invoke({\"num\": 1})"
   ]
  },
  {
   "cell_type": "markdown",
   "id": "41398b2e-425d-4704-b39c-fb3891894de2",
   "metadata": {},
   "source": [
    "#### RunnableLambda"
   ]
  },
  {
   "cell_type": "code",
   "execution_count": 51,
   "id": "5b2be5b7-727c-4525-9ceb-d1e33e09f07d",
   "metadata": {},
   "outputs": [],
   "source": [
    "def add_smile(x):\n",
    "    return x + ':)'"
   ]
  },
  {
   "cell_type": "code",
   "execution_count": 52,
   "id": "cd4c910d-aa0d-4f4a-907c-8dcd3f318f70",
   "metadata": {},
   "outputs": [],
   "source": [
    "from langchain_core.runnables import RunnableLambda\n",
    "\n",
    "add_smile = RunnableLambda(add_smile)"
   ]
  },
  {
   "cell_type": "code",
   "execution_count": 53,
   "id": "26d446d6-f434-4f1b-8ad9-fc13ceafd954",
   "metadata": {},
   "outputs": [
    {
     "data": {
      "text/plain": [
       "RunnableLambda(add_smile)"
      ]
     },
     "execution_count": 53,
     "metadata": {},
     "output_type": "execute_result"
    }
   ],
   "source": [
    "add_smile"
   ]
  },
  {
   "cell_type": "code",
   "execution_count": 55,
   "id": "b8326ee9-46ac-4881-ae9b-4e016f1a0cc6",
   "metadata": {},
   "outputs": [],
   "source": [
    "from langchain.prompts import ChatPromptTemplate\n",
    "from langchain_openai import ChatOpenAI\n",
    "from langchain_core.output_parsers import StrOutputParser\n",
    "# from langchain.schema.output_parser import StrOutputParser"
   ]
  },
  {
   "cell_type": "code",
   "execution_count": 56,
   "id": "4a6ba50a-3a21-424d-8eda-ad23ba10e566",
   "metadata": {},
   "outputs": [],
   "source": [
    "prompt_str = \"{topic}의 역사에 대해 간략하게 설명해주세요.\"\n",
    "prompt = ChatPromptTemplate.from_template(prompt_str)\n",
    "\n",
    "model = ChatOpenAI(model='gpt-4o')\n",
    "\n",
    "output_parser = StrOutputParser()\n",
    "\n",
    "chain = prompt | model | output_parser"
   ]
  },
  {
   "cell_type": "code",
   "execution_count": 57,
   "id": "09c34192-3596-43fd-84cb-788a26b7284f",
   "metadata": {},
   "outputs": [],
   "source": [
    "from langchain_core.runnables import RunnableLambda"
   ]
  },
  {
   "cell_type": "code",
   "execution_count": 58,
   "id": "e174ac00-d051-44a3-a55d-40196fd2d286",
   "metadata": {},
   "outputs": [],
   "source": [
    "def add_thanks(x):\n",
    "    return x + \" 들어주셔서 감사합니다! :)\""
   ]
  },
  {
   "cell_type": "code",
   "execution_count": 59,
   "id": "33e263d3-ca48-49f9-8a44-f027e6e79245",
   "metadata": {},
   "outputs": [],
   "source": [
    "add_thanks = RunnableLambda(add_thanks)"
   ]
  },
  {
   "cell_type": "code",
   "execution_count": 60,
   "id": "54fee0ec-18fd-4b98-9df4-ea19f50a4b3d",
   "metadata": {},
   "outputs": [
    {
     "data": {
      "text/plain": [
       "'반도체의 역사는 전자공학과 정보기술의 발전과 깊은 연관이 있습니다. 다음은 반도체의 주요 역사적 발전 과정을 간략하게 정리한 것입니다.\\n\\n1. **초기 발견 및 개념(19세기 후반)**: 반도체의 개념은 19세기 후반에 처음으로 등장했습니다. 1833년에는 마이클 패러데이가 실험을 통해 황화은의 저항이 온도에 따라 변하는 것을 발견했습니다.\\n\\n2. **진공관 시대(1900년대 초반)**: 반도체가 본격적으로 주목받기 전, 전자기기는 주로 진공관에 의존했습니다. 진공관은 전류를 증폭하고 스위칭하는 데 사용되었지만, 크기가 크고 효율이 낮았습니다.\\n\\n3. **트랜지스터의 발명(1947년)**: 1947년 벨 연구소의 존 바딘, 월터 브래튼, 윌리엄 쇼클리가 트랜지스터를 발명하면서 반도체 기술은 획기적인 전환점을 맞았습니다. 트랜지스터는 진공관을 대체할 수 있는 소형, 저전력, 고효율 소자로, 전자기기의 소형화와 효율성 향상에 크게 기여했습니다.\\n\\n4. **집적회로(IC)의 개발(1958년)**: 1958년 잭 킬비와 로버트 노이스가 각각 독립적으로 집적회로를 개발했습니다. 이는 여러 개의 트랜지스터와 기타 전자 부품을 하나의 칩에 통합할 수 있게 하여, 전자 기기의 성능을 크게 향상시키고 제조 비용을 절감시켰습니다.\\n\\n5. **마이크로프로세서의 탄생(1970년대)**: 1971년 인텔이 최초의 상용 마이크로프로세서인 4004를 발표하면서 컴퓨터의 발전에 큰 기여를 했습니다. 이는 컴퓨터 및 디지털 기기의 소형화와 대중화에 중요한 역할을 했습니다.\\n\\n6. **현대 반도체 기술(1990년대 이후)**: 1990년대부터 현재까지 반도체 기술은 나노미터 공정 기술을 통해 지속적으로 발전하고 있습니다. 이로 인해 컴퓨터, 스마트폰, IoT 기기 등 다양한 분야에서 고성능, 저전력 반도체가 활용되고 있습니다.\\n\\n반도체 기술의 발전은 현대 정보화 사회를 가능하게 한 핵심 요소 중 하나로, 앞으로도 기술 혁신과 산업 발전에 중요한 역할을 할 것으로 기대됩니다. 들어주셔서 감사합니다! :)'"
      ]
     },
     "execution_count": 60,
     "metadata": {},
     "output_type": "execute_result"
    }
   ],
   "source": [
    "chain = prompt | model | output_parser | add_thanks\n",
    "chain.invoke('반도체')"
   ]
  },
  {
   "cell_type": "code",
   "execution_count": 61,
   "id": "afa36c59-4a0b-4fea-96a6-485d17d83ae7",
   "metadata": {},
   "outputs": [
    {
     "data": {
      "text/markdown": [
       "반도체의 역사는 전자공학과 정보기술의 발전과 깊은 연관이 있습니다. 다음은 반도체의 주요 역사적 발전 과정을 간략하게 정리한 것입니다.\n",
       "\n",
       "1. **초기 발견 및 개념(19세기 후반)**: 반도체의 개념은 19세기 후반에 처음으로 등장했습니다. 1833년에는 마이클 패러데이가 실험을 통해 황화은의 저항이 온도에 따라 변하는 것을 발견했습니다.\n",
       "\n",
       "2. **진공관 시대(1900년대 초반)**: 반도체가 본격적으로 주목받기 전, 전자기기는 주로 진공관에 의존했습니다. 진공관은 전류를 증폭하고 스위칭하는 데 사용되었지만, 크기가 크고 효율이 낮았습니다.\n",
       "\n",
       "3. **트랜지스터의 발명(1947년)**: 1947년 벨 연구소의 존 바딘, 월터 브래튼, 윌리엄 쇼클리가 트랜지스터를 발명하면서 반도체 기술은 획기적인 전환점을 맞았습니다. 트랜지스터는 진공관을 대체할 수 있는 소형, 저전력, 고효율 소자로, 전자기기의 소형화와 효율성 향상에 크게 기여했습니다.\n",
       "\n",
       "4. **집적회로(IC)의 개발(1958년)**: 1958년 잭 킬비와 로버트 노이스가 각각 독립적으로 집적회로를 개발했습니다. 이는 여러 개의 트랜지스터와 기타 전자 부품을 하나의 칩에 통합할 수 있게 하여, 전자 기기의 성능을 크게 향상시키고 제조 비용을 절감시켰습니다.\n",
       "\n",
       "5. **마이크로프로세서의 탄생(1970년대)**: 1971년 인텔이 최초의 상용 마이크로프로세서인 4004를 발표하면서 컴퓨터의 발전에 큰 기여를 했습니다. 이는 컴퓨터 및 디지털 기기의 소형화와 대중화에 중요한 역할을 했습니다.\n",
       "\n",
       "6. **현대 반도체 기술(1990년대 이후)**: 1990년대부터 현재까지 반도체 기술은 나노미터 공정 기술을 통해 지속적으로 발전하고 있습니다. 이로 인해 컴퓨터, 스마트폰, IoT 기기 등 다양한 분야에서 고성능, 저전력 반도체가 활용되고 있습니다.\n",
       "\n",
       "반도체 기술의 발전은 현대 정보화 사회를 가능하게 한 핵심 요소 중 하나로, 앞으로도 기술 혁신과 산업 발전에 중요한 역할을 할 것으로 기대됩니다. 들어주셔서 감사합니다! :)"
      ],
      "text/plain": [
       "<IPython.core.display.Markdown object>"
      ]
     },
     "metadata": {},
     "output_type": "display_data"
    }
   ],
   "source": [
    "from IPython.display import display, Markdown\n",
    "\n",
    "display(Markdown('반도체의 역사는 전자공학과 정보기술의 발전과 깊은 연관이 있습니다. 다음은 반도체의 주요 역사적 발전 과정을 간략하게 정리한 것입니다.\\n\\n1. **초기 발견 및 개념(19세기 후반)**: 반도체의 개념은 19세기 후반에 처음으로 등장했습니다. 1833년에는 마이클 패러데이가 실험을 통해 황화은의 저항이 온도에 따라 변하는 것을 발견했습니다.\\n\\n2. **진공관 시대(1900년대 초반)**: 반도체가 본격적으로 주목받기 전, 전자기기는 주로 진공관에 의존했습니다. 진공관은 전류를 증폭하고 스위칭하는 데 사용되었지만, 크기가 크고 효율이 낮았습니다.\\n\\n3. **트랜지스터의 발명(1947년)**: 1947년 벨 연구소의 존 바딘, 월터 브래튼, 윌리엄 쇼클리가 트랜지스터를 발명하면서 반도체 기술은 획기적인 전환점을 맞았습니다. 트랜지스터는 진공관을 대체할 수 있는 소형, 저전력, 고효율 소자로, 전자기기의 소형화와 효율성 향상에 크게 기여했습니다.\\n\\n4. **집적회로(IC)의 개발(1958년)**: 1958년 잭 킬비와 로버트 노이스가 각각 독립적으로 집적회로를 개발했습니다. 이는 여러 개의 트랜지스터와 기타 전자 부품을 하나의 칩에 통합할 수 있게 하여, 전자 기기의 성능을 크게 향상시키고 제조 비용을 절감시켰습니다.\\n\\n5. **마이크로프로세서의 탄생(1970년대)**: 1971년 인텔이 최초의 상용 마이크로프로세서인 4004를 발표하면서 컴퓨터의 발전에 큰 기여를 했습니다. 이는 컴퓨터 및 디지털 기기의 소형화와 대중화에 중요한 역할을 했습니다.\\n\\n6. **현대 반도체 기술(1990년대 이후)**: 1990년대부터 현재까지 반도체 기술은 나노미터 공정 기술을 통해 지속적으로 발전하고 있습니다. 이로 인해 컴퓨터, 스마트폰, IoT 기기 등 다양한 분야에서 고성능, 저전력 반도체가 활용되고 있습니다.\\n\\n반도체 기술의 발전은 현대 정보화 사회를 가능하게 한 핵심 요소 중 하나로, 앞으로도 기술 혁신과 산업 발전에 중요한 역할을 할 것으로 기대됩니다. 들어주셔서 감사합니다! :)'))"
   ]
  },
  {
   "cell_type": "markdown",
   "id": "d6445abf-f0e4-40c9-9961-4f28457f9ae0",
   "metadata": {},
   "source": [
    "#### RunnableParallel"
   ]
  },
  {
   "cell_type": "code",
   "execution_count": 62,
   "id": "ec9ec265-fb80-4752-97fb-15bd4f236169",
   "metadata": {},
   "outputs": [],
   "source": [
    "from langchain_core.runnables import RunnableParallel, RunnablePassthrough"
   ]
  },
  {
   "cell_type": "code",
   "execution_count": 63,
   "id": "6072f196-bc34-41ad-980f-4b8c9d8f2ff3",
   "metadata": {},
   "outputs": [
    {
     "data": {
      "text/plain": [
       "{'passed': {'num': 1}, 'modified': 2}"
      ]
     },
     "execution_count": 63,
     "metadata": {},
     "output_type": "execute_result"
    }
   ],
   "source": [
    "runnable = RunnableParallel(\n",
    "    passed=RunnablePassthrough(),\n",
    "    modified=lambda x: x[\"num\"] + 1\n",
    ")\n",
    "\n",
    "runnable.invoke({\"num\": 1})"
   ]
  },
  {
   "cell_type": "code",
   "execution_count": 64,
   "id": "e1b996f2-7ab8-4cec-beec-facc8395f9ca",
   "metadata": {},
   "outputs": [
    {
     "data": {
      "text/plain": [
       "{'passed': '안녕하세요.', 'modified': '안녕하세요. 들어주셔서 감사합니다! :)'}"
      ]
     },
     "execution_count": 64,
     "metadata": {},
     "output_type": "execute_result"
    }
   ],
   "source": [
    "runnable = RunnableParallel(\n",
    "    passed=RunnablePassthrough(),\n",
    "    modified=add_thanks\n",
    ")\n",
    "\n",
    "runnable.invoke(\"안녕하세요.\")"
   ]
  },
  {
   "cell_type": "code",
   "execution_count": 65,
   "id": "06ad109d-8d76-493d-9889-d3cf85a4801d",
   "metadata": {},
   "outputs": [],
   "source": [
    "from langchain_core.prompts import ChatPromptTemplate\n",
    "from langchain_core.runnables import RunnableParallel\n",
    "from langchain_core.output_parsers import StrOutputParser\n",
    "from langchain_openai import ChatOpenAI"
   ]
  },
  {
   "cell_type": "code",
   "execution_count": 67,
   "id": "ce6b7630-0bc9-4ccd-9aba-3143d83df9db",
   "metadata": {},
   "outputs": [
    {
     "data": {
      "text/plain": [
       "{'history': 'AI는 \"Artificial Intelligence\"의 약자입니다. 이는 한국어로 \"인공지능\"을 의미하며, 기계나 컴퓨터 시스템이 인간과 유사한 지능적 행동을 수행할 수 있도록 하는 기술을 말합니다.',\n",
       " 'celeb': 'AI 분야에서 유명한 인사로는 다음과 같은 사람들이 있습니다:\\n\\n1. **Geoffrey Hinton**: 인공신경망과 딥러닝 분야의 선구자로, \"딥러닝의 아버지\"로 불리기도 합니다. 그의 연구는 현대 AI 발전에 큰 기여를 했습니다.\\n\\n2. **Yann LeCun**: 딥러닝과 컴퓨터 비전 분야의 선구자 중 한 명으로, 특히 합성곱 신경망(CNN)의 개발로 유명합니다. 현재 Meta(구 Facebook)의 AI 연구 책임자로 활동하고'}"
      ]
     },
     "execution_count": 67,
     "metadata": {},
     "output_type": "execute_result"
    }
   ],
   "source": [
    "model = ChatOpenAI(model='gpt-4o', max_tokens=128, temperature=0)\n",
    "\n",
    "histoy_prompt = ChatPromptTemplate.from_template(\"{topic}가 무엇의 약자인지 알려주세요.\")\n",
    "celeb_prompt = ChatPromptTemplate.from_template(\"{topic} 분야의 유명인사 3명의 이름을 알려주세요.\")\n",
    "\n",
    "output_parser = StrOutputParser()\n",
    "\n",
    "history_chain = histoy_prompt | model | output_parser\n",
    "celeb_chain = celeb_prompt | model | output_parser\n",
    "\n",
    "map_chain = RunnableParallel(\n",
    "    history=history_chain,\n",
    "    celeb=celeb_chain\n",
    ")\n",
    "\n",
    "result = map_chain.invoke({\"topic\": \"AI\"})\n",
    "result"
   ]
  },
  {
   "cell_type": "code",
   "execution_count": null,
   "id": "1c04ab8a-a7ae-421c-ba3c-cee2f9984ac3",
   "metadata": {},
   "outputs": [],
   "source": []
  }
 ],
 "metadata": {
  "kernelspec": {
   "display_name": "Python 3 (ipykernel)",
   "language": "python",
   "name": "python3"
  },
  "language_info": {
   "codemirror_mode": {
    "name": "ipython",
    "version": 3
   },
   "file_extension": ".py",
   "mimetype": "text/x-python",
   "name": "python",
   "nbconvert_exporter": "python",
   "pygments_lexer": "ipython3",
   "version": "3.10.12"
  }
 },
 "nbformat": 4,
 "nbformat_minor": 5
}
