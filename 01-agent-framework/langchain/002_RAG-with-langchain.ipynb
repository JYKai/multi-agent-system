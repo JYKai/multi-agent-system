{
 "cells": [
  {
   "cell_type": "code",
   "execution_count": 1,
   "id": "09c2a0e1-4b8e-4b37-bc27-4b140f4957da",
   "metadata": {},
   "outputs": [],
   "source": [
    "import os"
   ]
  },
  {
   "cell_type": "markdown",
   "id": "c292a52b-ca6c-4d53-a27f-d893a1d627b1",
   "metadata": {},
   "source": [
    "### Document Loader"
   ]
  },
  {
   "cell_type": "code",
   "execution_count": 5,
   "id": "26aced3f-0b2d-4a75-b4cd-19bca0e6f9a9",
   "metadata": {},
   "outputs": [],
   "source": [
    "from langchain_community.document_loaders import PyPDFLoader"
   ]
  },
  {
   "cell_type": "code",
   "execution_count": 7,
   "id": "680b05f6-8aa0-4f46-9eee-5bbe3c092b8c",
   "metadata": {},
   "outputs": [],
   "source": [
    "loader = PyPDFLoader(r\"./Retrieval-Augmented Generation for Knowledge-Intensive NLP Tasks.pdf\")\n",
    "\n",
    "pages = loader.load_and_split()"
   ]
  },
  {
   "cell_type": "code",
   "execution_count": 8,
   "id": "4eba558c-1ad9-4606-9257-4306f8b809e0",
   "metadata": {},
   "outputs": [
    {
     "data": {
      "text/plain": [
       "Document(metadata={'source': './Retrieval-Augmented Generation for Knowledge-Intensive NLP Tasks.pdf', 'page': 0}, page_content='Retrieval-Augmented Generation for\\nKnowledge-Intensive NLP Tasks\\nPatrick Lewis†‡, Ethan Perez⋆,\\nAleksandra Piktus†, Fabio Petroni†, Vladimir Karpukhin†, Naman Goyal†, Heinrich Küttler†,\\nMike Lewis†, Wen-tau Yih†, Tim Rocktäschel†‡, Sebastian Riedel†‡, Douwe Kiela†\\n†Facebook AI Research; ‡University College London; ⋆New York University;\\nplewis@fb.com\\nAbstract\\nLarge pre-trained language models have been shown to store factual knowledge\\nin their parameters, and achieve state-of-the-art results when ﬁne-tuned on down-\\nstream NLP tasks. However, their ability to access and precisely manipulate knowl-\\nedge is still limited, and hence on knowledge-intensive tasks, their performance\\nlags behind task-speciﬁc architectures. Additionally, providing provenance for their\\ndecisions and updating their world knowledge remain open research problems. Pre-\\ntrained models with a differentiable access mechanism to explicit non-parametric\\nmemory have so far been only investigated for extractive downstream tasks. We\\nexplore a general-purpose ﬁne-tuning recipe for retrieval-augmented generation\\n(RAG) — models which combine pre-trained parametric and non-parametric mem-\\nory for language generation. We introduce RAG models where the parametric\\nmemory is a pre-trained seq2seq model and the non-parametric memory is a dense\\nvector index of Wikipedia, accessed with a pre-trained neural retriever. We com-\\npare two RAG formulations, one which conditions on the same retrieved passages\\nacross the whole generated sequence, and another which can use different passages\\nper token. We ﬁne-tune and evaluate our models on a wide range of knowledge-\\nintensive NLP tasks and set the state of the art on three open domain QA tasks,\\noutperforming parametric seq2seq models and task-speciﬁc retrieve-and-extract\\narchitectures. For language generation tasks, we ﬁnd that RAG models generate\\nmore speciﬁc, diverse and factual language than a state-of-the-art parametric-only\\nseq2seq baseline.\\n1 Introduction\\nPre-trained neural language models have been shown to learn a substantial amount of in-depth knowl-\\nedge from data [47]. They can do so without any access to an external memory, as a parameterized\\nimplicit knowledge base [51, 52]. While this development is exciting, such models do have down-\\nsides: They cannot easily expand or revise their memory, can’t straightforwardly provide insight into\\ntheir predictions, and may produce “hallucinations” [38]. Hybrid models that combine parametric\\nmemory with non-parametric (i.e., retrieval-based) memories [20, 26, 48] can address some of these\\nissues because knowledge can be directly revised and expanded, and accessed knowledge can be\\ninspected and interpreted. REALM [ 20] and ORQA [ 31], two recently introduced models that\\ncombine masked language models [8] with a differentiable retriever, have shown promising results,\\narXiv:2005.11401v4  [cs.CL]  12 Apr 2021')"
      ]
     },
     "execution_count": 8,
     "metadata": {},
     "output_type": "execute_result"
    }
   ],
   "source": [
    "pages[0]"
   ]
  },
  {
   "cell_type": "code",
   "execution_count": 9,
   "id": "0d6f9079-133a-45ef-a053-36d23659769b",
   "metadata": {},
   "outputs": [
    {
     "data": {
      "text/plain": [
       "[('Retrieval-Augmented Generation for\\nKnowledge-Intensive NLP Tasks\\nPatrick Lewis†‡, Ethan Perez⋆,\\nAlek',\n",
       "  {'source': './Retrieval-Augmented Generation for Knowledge-Intensive NLP Tasks.pdf',\n",
       "   'page': 0}),\n",
       " ('The\\tDivine\\nComedy\\t(x) q \\nQuery \\nEncoder \\nq(x) \\nMIPS p θ \\nGenerator\\xa0pθ\\n(Parametric) \\nMargin- \\nalize \\n',\n",
       "  {'source': './Retrieval-Augmented Generation for Knowledge-Intensive NLP Tasks.pdf',\n",
       "   'page': 1}),\n",
       " ('the non-parametric memory can be replaced to update the models’ knowledge as the world changes.1\\n2 M',\n",
       "  {'source': './Retrieval-Augmented Generation for Knowledge-Intensive NLP Tasks.pdf',\n",
       "   'page': 1}),\n",
       " ('by θthat generates a current token based on a context of the previous i−1 tokens y1:i−1, the origina',\n",
       "  {'source': './Retrieval-Augmented Generation for Knowledge-Intensive NLP Tasks.pdf',\n",
       "   'page': 2}),\n",
       " ('minimize the negative marginal log-likelihood of each target, ∑\\nj−log p(yj|xj) using stochastic\\ngrad',\n",
       "  {'source': './Retrieval-Augmented Generation for Knowledge-Intensive NLP Tasks.pdf',\n",
       "   'page': 3}),\n",
       " ('RAG models can go beyond simple extractive QA and answer questions with free-form, abstractive\\ntext ',\n",
       "  {'source': './Retrieval-Augmented Generation for Knowledge-Intensive NLP Tasks.pdf',\n",
       "   'page': 3}),\n",
       " ('MSMARCO as an open-domain abstractive QA task. MSMARCO has some questions that cannot be\\nanswered in',\n",
       "  {'source': './Retrieval-Augmented Generation for Knowledge-Intensive NLP Tasks.pdf',\n",
       "   'page': 4}),\n",
       " ('retriever is initialized using DPR’s retriever, which uses retrieval supervision on Natural Question',\n",
       "  {'source': './Retrieval-Augmented Generation for Knowledge-Intensive NLP Tasks.pdf',\n",
       "   'page': 4}),\n",
       " ('Table 1: Open-Domain QA Test Scores. For TQA,\\nleft column uses the standard test set for Open-\\nDomai',\n",
       "  {'source': './Retrieval-Augmented Generation for Knowledge-Intensive NLP Tasks.pdf',\n",
       "   'page': 5}),\n",
       " ('to guide the generation, drawing out speciﬁc knowledge stored in the parametric memory.\\n4.4 Fact Ver',\n",
       "  {'source': './Retrieval-Augmented Generation for Knowledge-Intensive NLP Tasks.pdf',\n",
       "   'page': 5}),\n",
       " ('Document 1: his works are considered classics of American\\nliterature ... His wartime experiences for',\n",
       "  {'source': './Retrieval-Augmented Generation for Knowledge-Intensive NLP Tasks.pdf',\n",
       "   'page': 6}),\n",
       " ('improves results on all other tasks, especially for Open-Domain QA, where it is crucial.\\nIndex hot-s',\n",
       "  {'source': './Retrieval-Augmented Generation for Knowledge-Intensive NLP Tasks.pdf',\n",
       "   'page': 6}),\n",
       " ('Table 4: Human assessments for the Jeopardy\\nQuestion Generation Task.\\nFactuality Speciﬁcity\\nBART bet',\n",
       "  {'source': './Retrieval-Augmented Generation for Knowledge-Intensive NLP Tasks.pdf',\n",
       "   'page': 7}),\n",
       " ('General-Purpose Architectures for NLP Prior work on general-purpose architectures for NLP\\ntasks has ',\n",
       "  {'source': './Retrieval-Augmented Generation for Knowledge-Intensive NLP Tasks.pdf',\n",
       "   'page': 8}),\n",
       " ('can be jointly pre-trained from scratch, either with a denoising objective similar to BART or some\\na',\n",
       "  {'source': './Retrieval-Augmented Generation for Knowledge-Intensive NLP Tasks.pdf',\n",
       "   'page': 8}),\n",
       " ('Broader Impact\\nThis work offers several positive societal beneﬁts over previous work: the fact that ',\n",
       "  {'source': './Retrieval-Augmented Generation for Knowledge-Intensive NLP Tasks.pdf',\n",
       "   'page': 9}),\n",
       " ('[7] Christopher Clark and Matt Gardner. Simple and Effective Multi-Paragraph Reading Compre-\\nhension',\n",
       "  {'source': './Retrieval-Augmented Generation for Knowledge-Intensive NLP Tasks.pdf',\n",
       "   'page': 10}),\n",
       " ('[20] Kelvin Guu, Kenton Lee, Zora Tung, Panupong Pasupat, and Ming-Wei Chang. REALM:\\nRetrieval-augme',\n",
       "  {'source': './Retrieval-Augmented Generation for Knowledge-Intensive NLP Tasks.pdf',\n",
       "   'page': 11}),\n",
       " ('for Computational Linguistics, pages 6086–6096, Florence, Italy, July 2019. Association for\\nComputat',\n",
       "  {'source': './Retrieval-Augmented Generation for Knowledge-Intensive NLP Tasks.pdf',\n",
       "   'page': 12}),\n",
       " ('and Li Deng. MS MARCO: A human generated machine reading comprehension dataset. In\\nTarek Richard Bes',\n",
       "  {'source': './Retrieval-Augmented Generation for Knowledge-Intensive NLP Tasks.pdf',\n",
       "   'page': 12}),\n",
       " ('approaches 2016 co-located with the 30th Annual Conference on Neural Information Processing\\nSystems ',\n",
       "  {'source': './Retrieval-Augmented Generation for Knowledge-Intensive NLP Tasks.pdf',\n",
       "   'page': 13}),\n",
       " ('[56] James Thorne, Andreas Vlachos, Christos Christodoulopoulos, and Arpit Mittal. FEVER: a\\nlarge-sc',\n",
       "  {'source': './Retrieval-Augmented Generation for Knowledge-Intensive NLP Tasks.pdf',\n",
       "   'page': 14}),\n",
       " ('International Workshop on Search-Oriented Conversational AI, pages 87–92, Brussels, Belgium,\\nOctober',\n",
       "  {'source': './Retrieval-Augmented Generation for Knowledge-Intensive NLP Tasks.pdf',\n",
       "   'page': 14}),\n",
       " ('[66] Thomas Wolf, Lysandre Debut, Victor Sanh, Julien Chaumond, Clement Delangue, Anthony\\nMoi, Pierr',\n",
       "  {'source': './Retrieval-Augmented Generation for Knowledge-Intensive NLP Tasks.pdf',\n",
       "   'page': 15}),\n",
       " ('Appendices for Retrieval-Augmented Generation for\\nKnowledge-Intensive NLP Tasks\\nA Implementation Det',\n",
       "  {'source': './Retrieval-Augmented Generation for Knowledge-Intensive NLP Tasks.pdf',\n",
       "   'page': 16}),\n",
       " ('D Further Details on Open-Domain QA\\nFor open-domain QA, multiple answer annotations are often availa',\n",
       "  {'source': './Retrieval-Augmented Generation for Knowledge-Intensive NLP Tasks.pdf',\n",
       "   'page': 17}),\n",
       " ('documents for questions that are less likely to beneﬁt from retrieval, suggesting that null document',\n",
       "  {'source': './Retrieval-Augmented Generation for Knowledge-Intensive NLP Tasks.pdf',\n",
       "   'page': 17}),\n",
       " ('Table 7: Number of instances in the datasets used. *A hidden subset of this data is used for evaluat',\n",
       "  {'source': './Retrieval-Augmented Generation for Knowledge-Intensive NLP Tasks.pdf',\n",
       "   'page': 18})]"
      ]
     },
     "execution_count": 9,
     "metadata": {},
     "output_type": "execute_result"
    }
   ],
   "source": [
    "[(i.page_content[:100], i.metadata) for i in pages]"
   ]
  },
  {
   "cell_type": "code",
   "execution_count": 10,
   "id": "fb85354a-563b-4d31-9187-efe0b2813b4e",
   "metadata": {},
   "outputs": [
    {
     "name": "stderr",
     "output_type": "stream",
     "text": [
      "USER_AGENT environment variable not set, consider setting it to identify your requests.\n"
     ]
    }
   ],
   "source": [
    "from langchain_community.document_loaders import WebBaseLoader"
   ]
  },
  {
   "cell_type": "code",
   "execution_count": 11,
   "id": "ce0dff67-0642-4e3b-b5b0-4e7b1619c56c",
   "metadata": {},
   "outputs": [
    {
     "name": "stderr",
     "output_type": "stream",
     "text": [
      "/usr/local/lib/python3.10/dist-packages/urllib3/connectionpool.py:1099: InsecureRequestWarning: Unverified HTTPS request is being made to host 'www.espn.com'. Adding certificate verification is strongly advised. See: https://urllib3.readthedocs.io/en/latest/advanced-usage.html#tls-warnings\n",
      "  warnings.warn(\n"
     ]
    },
    {
     "data": {
      "text/plain": [
       "[Document(metadata={'source': 'https://www.espn.com/', 'title': 'ESPN - Serving Sports Fans. Anytime. Anywhere.', 'description': 'Visit ESPN for live scores, highlights and sports news. Stream exclusive games on ESPN+ and play fantasy sports.', 'language': 'en'}, page_content='\\n\\n\\n\\n\\n\\n\\n\\n\\nESPN - Serving Sports Fans. Anytime. Anywhere.\\n\\n\\n\\n\\n\\n\\n\\n\\n\\n\\n\\n\\n\\n\\n\\n\\n\\n\\n\\n\\n\\n\\n\\n\\n\\n\\n\\n\\n\\n\\n\\n\\n\\n\\n\\n\\n\\n\\n\\n\\n\\n\\n\\n\\n\\n\\n\\n\\n\\n\\n\\n\\n\\n\\n\\n\\n\\n\\n\\n\\n\\n\\n\\n\\n\\n\\n\\n\\n\\n\\n\\n\\n\\n\\n\\n\\n\\n\\n\\n\\n\\n\\n\\n\\n\\n\\n\\n\\n\\n\\n\\n\\n        Skip to main content\\n    \\n\\n        Skip to navigation\\n    \\n\\n\\n\\n\\n\\n\\n\\n\\n\\n\\n\\n\\n\\n\\n\\n\\n\\n\\n\\n\\n\\n\\n\\n\\n\\n\\n\\n\\n\\n\\n\\n\\n\\n<\\n\\n>\\n\\n\\n\\n\\n\\n\\n\\n\\n\\nMenuESPN\\n\\n\\n\\n\\n\\nscores\\n\\n\\n\\n\\nNEW! Find where to watch all of your favorite sports!\\n\\n\\n\\n\\n\\n\\n\\nNFLNBAMLBNCAAFNHLSoccerMMAMore SportsBoxingCFLNCAACricketF1GolfHorseLLWSNASCARNBA G LeagueNBA Summer LeagueNCAAMNCAAWNWSLOlympicsPLLProfessional WrestlingRacingRN BBRN FBRugbySports BettingTennisWNBAX GamesUFLFantasyWatchESPN BETESPN+\\n\\n\\n\\n\\n\\n\\n\\n\\n\\n\\n\\n\\n\\n\\n\\n  \\n\\nSubscribe Now\\n\\n\\n\\n\\n\\nUFC 309: Jones vs. Miocic (ESPN+ PPV)\\n\\n\\n\\n\\n\\n\\n\\nNHL\\n\\n\\n\\n\\n\\n\\n\\nNCAA Men\\'s Basketball\\n\\n\\n\\n\\n\\n\\n\\nNCAA Women\\'s Basketball\\n\\n\\n\\n\\n\\n\\n\\nNCAA Women\\'s Volleyball\\n\\n\\nQuick Links\\n\\n\\n\\n\\nWhere To Watch\\n\\n\\n\\n\\n\\n\\n\\nNBA Cup\\n\\n\\n\\n\\n\\n\\n\\nMLB Free Agency\\n\\n\\n\\n\\n\\n\\n\\nCollege Football Rankings\\n\\n\\n\\n\\n\\n\\n\\nCollege Football Schedule\\n\\n\\n\\n\\n\\n\\n\\n2024 NFL Schedule\\n\\n\\n\\n\\n\\n\\n\\nESPN Radio: Listen Live\\n\\n\\n\\n\\n\\n\\nFavorites\\n\\n\\n\\n\\n\\n\\n      Manage Favorites\\n      \\n\\n\\n\\nCustomize ESPNCreate AccountLog InFantasy\\n\\n\\n\\n\\nFootball\\n\\n\\n\\n\\n\\n\\n\\nBaseball\\n\\n\\n\\n\\n\\n\\n\\nBasketball\\n\\n\\n\\n\\n\\n\\n\\nHockey\\n\\n\\nESPN Sites\\n\\n\\n\\n\\nESPN Deportes\\n\\n\\n\\n\\n\\n\\n\\nAndscape\\n\\n\\n\\n\\n\\n\\n\\nespnW\\n\\n\\n\\n\\n\\n\\n\\nESPNFC\\n\\n\\n\\n\\n\\n\\n\\nX Games\\n\\n\\n\\n\\n\\n\\n\\nSEC Network\\n\\n\\nESPN Apps\\n\\n\\n\\n\\nESPN\\n\\n\\n\\n\\n\\n\\n\\nESPN Fantasy\\n\\n\\n\\n\\n\\n\\n\\nTournament Challenge\\n\\n\\nFollow ESPN\\n\\n\\n\\n\\nFacebook\\n\\n\\n\\n\\n\\n\\n\\nX/Twitter\\n\\n\\n\\n\\n\\n\\n\\nInstagram\\n\\n\\n\\n\\n\\n\\n\\nSnapchat\\n\\n\\n\\n\\n\\n\\n\\nTikTok\\n\\n\\n\\n\\n\\n\\n\\nYouTube\\n\\n\\nTOP HEADLINESRodgers to play in 2025? \\'I think so,\\' QB saysLamar at a loss to explain woes against SteelersStefanski: Wills\\' comment \\'poor choice of words\\'McDaniel ignores ex-player calling Dolphins \\'soft\\'\\'Golf is hard\\': Clark draws crowd at LPGA pro-amOle Miss flips top WR prospect from AlabamaSpurs say Popovich\\'s absence due to mild strokeHomes of Mahomes, Kelce burglarized last monthRanking best 2025 NFL free agentsAROUND THE ASSOCIATIONContender chaos? How six teams could get back on track, from trade possibilities to waiting it outESPN\\'s NBA insiders are breaking down the moves contenders such as the Lakers, Bucks, 76ers and Pelicans need to make, and how each franchise can get them done.13hESPN InsidersStephen Lew-USA TODAY SportsPower Rankings: Important role players for all 30 teamsNew No. 1? With role players on the rise, a new team snaps Boston\\'s yearlong reign13hNBA InsidersThe latest on the Spurs\\' coaching situationHow JJ Redick has changed the Lakers -- with the same rosterHere are three ways the Lakers are dramatically different this year -- and one way they are troublingly the same.13hDave McMenamin and Matt WilliamsPhoto by Harry How/Getty ImagesRecent timeline of reignited beef between the Lakers and GrizzliesJa Morant and Desmond Bane sparked some bad blood when the Lakers and Grizzlies faced off last week.10hAnthony GharibNBA SCOREBOARDWEDNESDAY\\'S GAMESSee AllMEN\\'S COLLEGE HOOPSThe super 16 players to watch this season, according to Dickie VThis season\\'s got Diaper Dandies such as Cooper Flagg, superstars such as RJ Davis -- and all of them are certified PTPers, baby!8hDick VitaleRich von Biberstein/Icon SportswireKU\\'s precarious top spot, Flagg\\'s costly turnovers, more from the Champions ClassicThe Champions Classic had poor shooting, a major upset, questions about the No. 1 team and more.21hESPNInside Cooper Flagg\\'s improbable riseBracketology: Auburn\\'s just getting startedCOLLEGE HOOPS SCOREBOARDWEDNESDAY\\'S GAMESFull women\\'s scoreboardFull men\\'s scoreboardWAY UP WEDNESDAYMEN\\'S COLLEGE BASKETBALLBall State\\'s Jermahri Hill obliterates the rim on this poster dunk6m0:21Jaron Pierre Jr. soars on game-tying slam for Jacksonville State12m0:22The booming silence of the Aaron Rodgers experiment14hTim KeownWHERE THINGS STANDConnelly breaks down all the conference races and the CFP pictureThe second CFP rankings gave us quite a few \"Wait, what?\" moments, so let\\'s again walk through what stands out. There\\'s more to track than ever, and we\\'re having quite a bit of fun doing so.10hBill ConnellyJonathan Bachman/Getty ImagesBottom 10: Lost weekend in FloridaMiami suffering its first loss of the season ended up setting the tone for the entire Sunshine State.10hRyan McGeeAllstate Playoff Predictor: Who makes the CFP?Transformation of Ole Miss\\' dominant defense Top HeadlinesRodgers to play in 2025? \\'I think so,\\' QB saysLamar at a loss to explain woes against SteelersStefanski: Wills\\' comment \\'poor choice of words\\'McDaniel ignores ex-player calling Dolphins \\'soft\\'\\'Golf is hard\\': Clark draws crowd at LPGA pro-amOle Miss flips top WR prospect from AlabamaSpurs say Popovich\\'s absence due to mild strokeHomes of Mahomes, Kelce burglarized last monthRanking best 2025 NFL free agentsFavorites FantasyManage FavoritesFantasy HomeCustomize ESPNCreate AccountLog InICYMI0:42Steph screams at the camera after big-time 3Steph Curry cooks Dereck Lively II and buries a 3 to pad the Warriors\\' lead late in the fourth quarter. Best of ESPN+Norm Hall/Getty ImagesSizing up the Cardinals, plus NFL trade deadline hindsightBen Solak goes deep on Arizona\\'s outlook, Caleb Williams\\' struggles and seven things that didn\\'t happen at the trade deadline.Illustration by ESPN2025 NBA mock draft: Projecting all 30 first-round picksThree Duke players in the top 10? Where does the Rutgers duo land? And a Baylor guard moving up? Let\\'s project all 30 picks for the 2025 first round.ESPNNFL playoff tiers 2024: Projecting 32 teams in standingsWe tiered each team\\'s likelihood of making the postseason, from the Super Bowl favorites to the No. 1 draft pick candidates.Brian Rothmuller/Icon SportswirePreviewing the 2024 college football transfer portal marketThe 2024 winter college football transfer portal opens in four weeks. An early look at what to expect. Trending NowIllustration by ESPNThe tiny town and legendary 1980s NBA team that built Cooper FlaggFrom grade school, Flagg has faced test after test -- all designed to define his ceiling. He has passed them all, fueled by lessons from one of the greatest teams in NBA history.Don Emmert/Getty ImagesPete Rose\\'s posthumous Baseball Hall of Fame argumentMLB legend Pete Rose\\'s exceptionalism, even in death, never shook off the ills of his past.ESPNThe battle withinPat Tillman\\'s friendly fire death leads to 20 years of trauma for his platoon Sign up for FREE!Create A LeagueJoin a Public LeagueReactivate a LeaguePractice With a Mock DraftSign up for FREE!Create A LeagueJoin a Public LeagueReactivate a LeaguePractice with a Mock DraftGet a custom ESPN experienceEnjoy the benefits of a personalized accountSelect your favorite leagues, teams and players and get the latest scores, news and updates that matter most to you. \\n\\nESPN+\\n\\n\\n\\n\\nUFC 309: Jones vs. Miocic (ESPN+ PPV)\\n\\n\\n\\n\\n\\n\\n\\nNHL\\n\\n\\n\\n\\n\\n\\n\\nNCAA Men\\'s Basketball\\n\\n\\n\\n\\n\\n\\n\\nNCAA Women\\'s Basketball\\n\\n\\n\\n\\n\\n\\n\\nNCAA Women\\'s Volleyball\\n\\n\\nQuick Links\\n\\n\\n\\n\\nWhere To Watch\\n\\n\\n\\n\\n\\n\\n\\nNBA Cup\\n\\n\\n\\n\\n\\n\\n\\nMLB Free Agency\\n\\n\\n\\n\\n\\n\\n\\nCollege Football Rankings\\n\\n\\n\\n\\n\\n\\n\\nCollege Football Schedule\\n\\n\\n\\n\\n\\n\\n\\n2024 NFL Schedule\\n\\n\\n\\n\\n\\n\\n\\nESPN Radio: Listen Live\\n\\n\\nFantasy\\n\\n\\n\\n\\nFootball\\n\\n\\n\\n\\n\\n\\n\\nBaseball\\n\\n\\n\\n\\n\\n\\n\\nBasketball\\n\\n\\n\\n\\n\\n\\n\\nHockey\\n\\n\\nESPN Sites\\n\\n\\n\\n\\nESPN Deportes\\n\\n\\n\\n\\n\\n\\n\\nAndscape\\n\\n\\n\\n\\n\\n\\n\\nespnW\\n\\n\\n\\n\\n\\n\\n\\nESPNFC\\n\\n\\n\\n\\n\\n\\n\\nX Games\\n\\n\\n\\n\\n\\n\\n\\nSEC Network\\n\\n\\nESPN Apps\\n\\n\\n\\n\\nESPN\\n\\n\\n\\n\\n\\n\\n\\nESPN Fantasy\\n\\n\\n\\n\\n\\n\\n\\nTournament Challenge\\n\\n\\nFollow ESPN\\n\\n\\n\\n\\nFacebook\\n\\n\\n\\n\\n\\n\\n\\nX/Twitter\\n\\n\\n\\n\\n\\n\\n\\nInstagram\\n\\n\\n\\n\\n\\n\\n\\nSnapchat\\n\\n\\n\\n\\n\\n\\n\\nTikTok\\n\\n\\n\\n\\n\\n\\n\\nYouTube\\n\\n\\nTerms of UsePrivacy PolicyInterest-Based Ads© ESPN Enterprises, Inc. All rights reserved.\\n\\n\\n\\n\\n\\n\\n\\n\\n\\n\\n\\n\\n\\n\\n\\n\\n\\n')]"
      ]
     },
     "execution_count": 11,
     "metadata": {},
     "output_type": "execute_result"
    }
   ],
   "source": [
    "loader = WebBaseLoader(\"https://www.espn.com/\")\n",
    "loader.requests_kwargs = {\"verify\": False}\n",
    "\n",
    "data = loader.load()\n",
    "data"
   ]
  },
  {
   "cell_type": "code",
   "execution_count": 13,
   "id": "56297410-72f9-46c7-96da-90392255273c",
   "metadata": {},
   "outputs": [],
   "source": [
    "import bs4\n",
    "from langchain_community.document_loaders import WebBaseLoader"
   ]
  },
  {
   "cell_type": "code",
   "execution_count": 14,
   "id": "7f2d2d40-50b6-4c7d-9891-68275477b987",
   "metadata": {},
   "outputs": [
    {
     "name": "stderr",
     "output_type": "stream",
     "text": [
      "/usr/local/lib/python3.10/dist-packages/urllib3/connectionpool.py:1099: InsecureRequestWarning: Unverified HTTPS request is being made to host 'www.espn.com'. Adding certificate verification is strongly advised. See: https://urllib3.readthedocs.io/en/latest/advanced-usage.html#tls-warnings\n",
      "  warnings.warn(\n"
     ]
    },
    {
     "data": {
      "text/plain": [
       "[Document(metadata={'source': 'https://www.espn.com/'}, page_content=\"Rodgers to play in 2025? 'I think so,' QB saysLamar at a loss to explain woes against SteelersStefanski: Wills' comment 'poor choice of words'McDaniel ignores ex-player calling Dolphins 'soft''Golf is hard': Clark draws crowd at LPGA pro-amOle Miss flips top WR prospect from AlabamaSpurs say Popovich's absence due to mild strokeHomes of Mahomes, Kelce burglarized last monthRanking best 2025 NFL free agents Top HeadlinesRodgers to play in 2025? 'I think so,' QB saysLamar at a loss to explain woes against SteelersStefanski: Wills' comment 'poor choice of words'McDaniel ignores ex-player calling Dolphins 'soft''Golf is hard': Clark draws crowd at LPGA pro-amOle Miss flips top WR prospect from AlabamaSpurs say Popovich's absence due to mild strokeHomes of Mahomes, Kelce burglarized last monthRanking best 2025 NFL free agents\")]"
      ]
     },
     "execution_count": 14,
     "metadata": {},
     "output_type": "execute_result"
    }
   ],
   "source": [
    "loader = WebBaseLoader(\"https://www.espn.com/\",\n",
    "                       bs_kwargs=dict(\n",
    "                           parse_only=bs4.SoupStrainer(\n",
    "                               class_=(\"headlineStack top-headlines\")\n",
    "                           )\n",
    "                       )\n",
    "                      )\n",
    "\n",
    "loader.requests_kwargs = {'verify': False}\n",
    "\n",
    "data = loader.load()\n",
    "data"
   ]
  },
  {
   "cell_type": "markdown",
   "id": "7da7fdac-5e67-4d9d-a4a3-1c2afdee3807",
   "metadata": {},
   "source": [
    "### Text Splitter"
   ]
  },
  {
   "cell_type": "code",
   "execution_count": 16,
   "id": "cb2b573d-6876-49d4-8406-f23dc69cb2de",
   "metadata": {},
   "outputs": [],
   "source": [
    "from langchain_community.document_loaders import PyPDFLoader\n",
    "from langchain_text_splitters import CharacterTextSplitter"
   ]
  },
  {
   "cell_type": "code",
   "execution_count": 17,
   "id": "356d996b-df4b-4e2e-b735-8324bb7543cf",
   "metadata": {},
   "outputs": [],
   "source": [
    "loader = PyPDFLoader(r\"./Retrieval-Augmented Generation for Knowledge-Intensive NLP Tasks.pdf\")\n",
    "pages = loader.load()"
   ]
  },
  {
   "cell_type": "code",
   "execution_count": 18,
   "id": "538a844a-a368-4fe7-84e4-3ff3861dab5f",
   "metadata": {},
   "outputs": [
    {
     "name": "stdout",
     "output_type": "stream",
     "text": [
      "page_content='Retrieval-Augmented Generation for\n",
      "Knowledge-Intensive NLP Tasks\n",
      "Patrick Lewis†‡, Ethan Perez⋆,\n",
      "Aleksandra Piktus†, Fabio Petroni†, Vladimir Karpukhin†, Naman Goyal†, Heinrich Küttler†,\n",
      "Mike Lewis†, Wen-tau Yih†, Tim Rocktäschel†‡, Sebastian Riedel†‡, Douwe Kiela†\n",
      "†Facebook AI Research; ‡University College London; ⋆New York University;\n",
      "plewis@fb.com\n",
      "Abstract\n",
      "Large pre-trained language models have been shown to store factual knowledge' metadata={'source': './Retrieval-Augmented Generation for Knowledge-Intensive NLP Tasks.pdf', 'page': 0}\n"
     ]
    }
   ],
   "source": [
    "text_splitter = CharacterTextSplitter(\n",
    "    separator='\\n',\n",
    "    chunk_size=500,\n",
    "    chunk_overlap=100,\n",
    "    length_function=len\n",
    ")\n",
    "\n",
    "texts = text_splitter.split_documents(pages)\n",
    "print(texts[0])"
   ]
  },
  {
   "cell_type": "code",
   "execution_count": 19,
   "id": "76926649-e2df-4bc6-92fe-6607a4954abd",
   "metadata": {},
   "outputs": [
    {
     "name": "stdout",
     "output_type": "stream",
     "text": [
      "[437, 430, 479, 470, 495, 408, 485, 322, 495, 440, 486, 477, 488, 499, 481, 423, 478, 489, 500, 282, 432, 462, 493, 446, 465, 455, 489, 488, 493, 195, 474, 440, 459, 487, 473, 480, 472, 478, 469, 499, 384, 475, 423, 431, 466, 488, 484, 490, 404, 439, 480, 467, 303, 474, 411, 433, 469, 448, 471, 464, 485, 485, 486, 314, 498, 485, 467, 445, 428, 483, 499, 418, 419, 481, 469, 193, 472, 445, 401, 479, 482, 490, 402, 498, 95, 485, 482, 491, 452, 491, 437, 441, 456, 434, 404, 323, 404, 419, 489, 456, 479, 471, 459, 497, 483, 441, 472, 415, 435, 449, 462, 469, 488, 496, 499, 380, 429, 485, 466, 433, 472, 478, 449, 462, 446, 424, 263, 459, 436, 481, 434, 412, 432, 460, 445, 427, 464, 348, 416, 429, 462, 429, 445, 425, 436, 453, 454, 450, 382, 486, 464, 433, 481, 450, 461, 481, 467, 480, 438, 434, 425, 431, 481, 497, 451, 455, 476, 495, 114, 421, 438, 425, 498, 492, 453, 493, 413, 487, 495, 439, 473, 481, 465, 494, 432]\n"
     ]
    }
   ],
   "source": [
    "print([len(i.page_content) for i in texts])"
   ]
  },
  {
   "cell_type": "code",
   "execution_count": 20,
   "id": "279eba03-8786-4c04-b090-f0fd94d0174f",
   "metadata": {},
   "outputs": [],
   "source": [
    "from langchain_community.document_loaders import PyPDFium2Loader"
   ]
  },
  {
   "cell_type": "code",
   "execution_count": 21,
   "id": "b7ad6854-3c0c-48aa-a032-9bbf358dbcb4",
   "metadata": {},
   "outputs": [],
   "source": [
    "loader = PyPDFLoader(r\"./Retrieval-Augmented Generation for Knowledge-Intensive NLP Tasks.pdf\")\n",
    "pages = loader.load()"
   ]
  },
  {
   "cell_type": "code",
   "execution_count": 22,
   "id": "36d07759-7caa-42bf-ab90-363dd86282b8",
   "metadata": {},
   "outputs": [],
   "source": [
    "from langchain_text_splitters import RecursiveCharacterTextSplitter"
   ]
  },
  {
   "cell_type": "code",
   "execution_count": 24,
   "id": "e66d3768-f555-4e74-aafb-de2781f71a76",
   "metadata": {},
   "outputs": [
    {
     "name": "stdout",
     "output_type": "stream",
     "text": [
      "[437, 430, 479, 470, 495, 427, 476, 138, 495, 440, 486, 477, 488, 499, 417, 419, 476, 494, 490, 282, 432, 462, 493, 446, 465, 455, 489, 488, 493, 195, 474, 440, 459, 487, 473, 480, 472, 478, 469, 499, 384, 475, 423, 431, 466, 488, 484, 490, 404, 431, 486, 467, 102, 474, 411, 433, 469, 448, 471, 464, 485, 485, 486, 314, 498, 479, 467, 445, 428, 483, 499, 418, 419, 481, 469, 193, 472, 456, 483, 482, 475, 499, 491, 298, 485, 482, 491, 452, 491, 437, 441, 452, 483, 429, 404, 419, 489, 456, 479, 471, 459, 497, 483, 441, 472, 415, 435, 449, 462, 469, 488, 496, 499, 380, 429, 485, 466, 433, 472, 478, 449, 462, 446, 424, 263, 459, 436, 481, 434, 412, 432, 460, 445, 427, 464, 348, 416, 429, 462, 429, 445, 425, 436, 453, 454, 450, 382, 486, 464, 433, 481, 450, 461, 481, 467, 480, 438, 434, 425, 431, 481, 497, 451, 455, 476, 495, 114, 421, 438, 425, 498, 492, 452, 494, 415, 493, 448, 338, 473, 481, 465, 494, 432]\n"
     ]
    }
   ],
   "source": [
    "text_splitter = RecursiveCharacterTextSplitter(\n",
    "    chunk_size=500,\n",
    "    chunk_overlap=100,\n",
    "    length_function=len,\n",
    "    is_separator_regex=False\n",
    ")\n",
    "\n",
    "texts = text_splitter.split_documents(pages)\n",
    "print([len(i.page_content) for i in texts])"
   ]
  },
  {
   "cell_type": "markdown",
   "id": "0a0081fe-dc1b-4208-a59c-aa9de605320d",
   "metadata": {},
   "source": [
    "### Embed text"
   ]
  },
  {
   "cell_type": "code",
   "execution_count": 25,
   "id": "47d0929e-5ee9-4e38-a401-baa5693e7a21",
   "metadata": {},
   "outputs": [],
   "source": [
    "from langchain_openai import OpenAIEmbeddings"
   ]
  },
  {
   "cell_type": "code",
   "execution_count": 26,
   "id": "b33a0d27-7d87-4044-81f1-04e961e03c17",
   "metadata": {},
   "outputs": [
    {
     "data": {
      "text/plain": [
       "(5, 1536)"
      ]
     },
     "execution_count": 26,
     "metadata": {},
     "output_type": "execute_result"
    }
   ],
   "source": [
    "embeddings_model = OpenAIEmbeddings(model='text-embedding-3-small')\n",
    "embeddings = embeddings_model.embed_documents(\n",
    "    [\n",
    "        \"Hi there!\",\n",
    "        \"Oh, hello!\",\n",
    "        \"What's your name?\",\n",
    "        \"My friends call me World\",\n",
    "        \"Hello World!\"\n",
    "    ]\n",
    ")\n",
    "\n",
    "len(embeddings), len(embeddings[0])"
   ]
  },
  {
   "cell_type": "code",
   "execution_count": 28,
   "id": "378602fb-af53-4fa0-8106-01a9ccf6b051",
   "metadata": {},
   "outputs": [
    {
     "name": "stdout",
     "output_type": "stream",
     "text": [
      "[-0.019187437370419502, -0.03813096508383751, -0.031003428623080254, -0.004613928031176329, -0.03536667302250862, -0.004004158079624176, 0.012920353561639786, 0.05103099346160889, -0.005826693493872881, -0.03720953315496445]\n",
      "--------------------------------------------------\n",
      "임베딩 개수: 5 \n",
      "임베딩 차원: 1536\n"
     ]
    }
   ],
   "source": [
    "print(embeddings[0][:10])\n",
    "print(\"-\"*50)\n",
    "print(f\"임베딩 개수: {len(embeddings)} \\n임베딩 차원: {len(embeddings[0])}\")"
   ]
  },
  {
   "cell_type": "code",
   "execution_count": 29,
   "id": "f0d987fc-f1a4-47c2-a343-36468aa9ca45",
   "metadata": {},
   "outputs": [],
   "source": [
    "from langchain_openai import OpenAIEmbeddings\n",
    "from langchain_community.document_loaders import PyPDFLoader\n",
    "from langchain_text_splitters import RecursiveCharacterTextSplitter"
   ]
  },
  {
   "cell_type": "code",
   "execution_count": 31,
   "id": "cdb50aa7-e4e7-4041-bed2-bc03c7979ea8",
   "metadata": {},
   "outputs": [
    {
     "data": {
      "text/plain": [
       "(183, 1536)"
      ]
     },
     "execution_count": 31,
     "metadata": {},
     "output_type": "execute_result"
    }
   ],
   "source": [
    "embeddings_model = OpenAIEmbeddings(model = 'text-embedding-3-small')\n",
    "\n",
    "loader = PyPDFLoader(r\"./Retrieval-Augmented Generation for Knowledge-Intensive NLP Tasks.pdf\")\n",
    "pages = loader.load()\n",
    "\n",
    "text_splitter = RecursiveCharacterTextSplitter(\n",
    "    chunk_size=500,\n",
    "    chunk_overlap=100\n",
    ")\n",
    "\n",
    "texts = text_splitter.split_documents(pages)\n",
    "\n",
    "embeddings = embeddings_model.embed_documents([i.page_content for i in texts])\n",
    "len(embeddings), len(embeddings[0])"
   ]
  },
  {
   "cell_type": "markdown",
   "id": "2e114ef0-a8df-46d6-ac7e-c4049aee005b",
   "metadata": {},
   "source": [
    "### Vector Store"
   ]
  },
  {
   "cell_type": "code",
   "execution_count": 33,
   "id": "502acdd2-8516-4d71-8288-f0bb2725a45c",
   "metadata": {},
   "outputs": [],
   "source": [
    "from langchain.vectorstores import FAISS"
   ]
  },
  {
   "cell_type": "code",
   "execution_count": 34,
   "id": "1a1ddf69-9766-44d7-b7a6-558e9125427f",
   "metadata": {},
   "outputs": [],
   "source": [
    "db = FAISS.from_documents(texts, embeddings_model)"
   ]
  },
  {
   "cell_type": "code",
   "execution_count": 36,
   "id": "f45e225f-7e00-4919-a741-a7b644108444",
   "metadata": {},
   "outputs": [
    {
     "data": {
      "text/plain": [
       "[Document(metadata={'source': './Retrieval-Augmented Generation for Knowledge-Intensive NLP Tasks.pdf', 'page': 13}, page_content='Automated Knowledge Base Construction, 2020. URL https://openreview.net/forum?\\nid=025X0zPfn.\\n[49] Alec Radford, Karthik Narasimhan, Tim Salimans, and Ilya Sutskever. Im-\\nproving Language Understanding by Generative Pre-Training, 2018. URL\\nhttps://s3-us-west-2.amazonaws.com/openai-assets/research-covers/\\nlanguage-unsupervised/language_understanding_paper.pdf.\\n[50] Alec Radford, Jeff Wu, Rewon Child, David Luan, Dario Amodei, and Ilya'),\n",
       " Document(metadata={'source': './Retrieval-Augmented Generation for Knowledge-Intensive NLP Tasks.pdf', 'page': 1}, page_content='and non-parametric memory to the “workhorse of NLP,” i.e. sequence-to-sequence (seq2seq) models.\\nWe endow pre-trained, parametric-memory generation models with a non-parametric memory through\\na general-purpose ﬁne-tuning approach which we refer to as retrieval-augmented generation (RAG).\\nWe build RAG models where the parametric memory is a pre-trained seq2seq transformer, and the\\nnon-parametric memory is a dense vector index of Wikipedia, accessed with a pre-trained neural'),\n",
       " Document(metadata={'source': './Retrieval-Augmented Generation for Knowledge-Intensive NLP Tasks.pdf', 'page': 0}, page_content='lags behind task-speciﬁc architectures. Additionally, providing provenance for their\\ndecisions and updating their world knowledge remain open research problems. Pre-\\ntrained models with a differentiable access mechanism to explicit non-parametric\\nmemory have so far been only investigated for extractive downstream tasks. We\\nexplore a general-purpose ﬁne-tuning recipe for retrieval-augmented generation\\n(RAG) — models which combine pre-trained parametric and non-parametric mem-'),\n",
       " Document(metadata={'source': './Retrieval-Augmented Generation for Knowledge-Intensive NLP Tasks.pdf', 'page': 2}, page_content='xwith the retrieved content zwhen generating from BART, we simply concatenate them. BART was\\npre-trained using a denoising objective and a variety of different noising functions. It has obtained\\nstate-of-the-art results on a diverse set of generation tasks and outperforms comparably-sized T5\\nmodels [32]. We refer to the BART generator parameters θas the parametric memory henceforth.\\n2.4 Training\\nWe jointly train the retriever and generator components without any direct supervision on what')]"
      ]
     },
     "execution_count": 36,
     "metadata": {},
     "output_type": "execute_result"
    }
   ],
   "source": [
    "retriever = db.as_retriever()\n",
    "\n",
    "query = \"What is autogen?\"\n",
    "\n",
    "retriever.invoke(query)"
   ]
  },
  {
   "cell_type": "code",
   "execution_count": 38,
   "id": "ec02524e-e751-471a-88fc-cf60cdb00dfc",
   "metadata": {},
   "outputs": [],
   "source": [
    "from langchain import hub\n",
    "from langchain_openai import ChatOpenAI\n",
    "from langchain_core.output_parsers import StrOutputParser\n",
    "from langchain_core.runnables import RunnablePassthrough"
   ]
  },
  {
   "cell_type": "code",
   "execution_count": 39,
   "id": "de46e0e3-7971-4fa1-aaa4-58c65aab2a8a",
   "metadata": {},
   "outputs": [
    {
     "name": "stderr",
     "output_type": "stream",
     "text": [
      "/usr/local/lib/python3.10/dist-packages/langsmith/client.py:241: LangSmithMissingAPIKeyWarning: API key must be provided when using hosted LangSmith API\n",
      "  warnings.warn(\n"
     ]
    },
    {
     "data": {
      "text/plain": [
       "'Autogen, in the context of NLP, likely refers to \"automated generation\" processes that involve models using both parametric and non-parametric memory for tasks like retrieval-augmented generation (RAG). These models combine pre-trained neural networks with external memory sources, such as a dense vector index of Wikipedia, to improve language understanding and generation. However, the specific term \"autogen\" is not explicitly defined in the provided context.'"
      ]
     },
     "execution_count": 39,
     "metadata": {},
     "output_type": "execute_result"
    }
   ],
   "source": [
    "model = ChatOpenAI(model=\"gpt-4o-mini\")\n",
    "prompt = hub.pull(\"rlm/rag-prompt\")\n",
    "\n",
    "def format_docs(docs):\n",
    "    return \"\\n\\n\".join(doc.page_content for doc in docs)\n",
    "\n",
    "rag_chain = (\n",
    "    {\"context\": retriever | format_docs, \"question\": RunnablePassthrough()}\n",
    "    | prompt\n",
    "    | model\n",
    "    | StrOutputParser()\n",
    ")\n",
    "\n",
    "rag_chain.invoke(\"What is autogen??\")"
   ]
  },
  {
   "cell_type": "code",
   "execution_count": null,
   "id": "d7e6e349-fd59-404a-a9c0-7ab6651ca5dc",
   "metadata": {},
   "outputs": [],
   "source": []
  }
 ],
 "metadata": {
  "kernelspec": {
   "display_name": "Python 3 (ipykernel)",
   "language": "python",
   "name": "python3"
  },
  "language_info": {
   "codemirror_mode": {
    "name": "ipython",
    "version": 3
   },
   "file_extension": ".py",
   "mimetype": "text/x-python",
   "name": "python",
   "nbconvert_exporter": "python",
   "pygments_lexer": "ipython3",
   "version": "3.10.12"
  }
 },
 "nbformat": 4,
 "nbformat_minor": 5
}
