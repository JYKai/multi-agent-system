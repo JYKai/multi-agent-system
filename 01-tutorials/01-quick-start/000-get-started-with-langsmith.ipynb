{
 "cells": [
  {
   "cell_type": "markdown",
   "id": "b936b296-c481-4ef1-b9c3-3adbf3a58bd2",
   "metadata": {},
   "source": [
    "### Install LangSmith"
   ]
  },
  {
   "cell_type": "code",
   "execution_count": null,
   "id": "e2f78a0b-adf7-4737-a924-aff78980ec5d",
   "metadata": {
    "scrolled": true
   },
   "outputs": [],
   "source": [
    "!pip install -U langsmith"
   ]
  },
  {
   "cell_type": "markdown",
   "id": "c8e41d1d-b696-41db-8b47-3c0338453408",
   "metadata": {},
   "source": [
    "### Set up environment"
   ]
  },
  {
   "cell_type": "code",
   "execution_count": null,
   "id": "e9a45849-eff7-406d-94c3-0d1e741ab759",
   "metadata": {},
   "outputs": [],
   "source": [
    "import os\n",
    "\n",
    "os.environ['LANGCHAIN_TRACING_V2'] = \"\"\n",
    "os.environ['LANGCHAIN_ENDPOINT'] = \"\"\n",
    "os.environ['LANGCHAIN_PROJECT'] = \"\"\n",
    "os.environ[\"LANGCHAIN_API_KEY\"] = \"\"\n",
    "os.environ[\"OPENAI_API_KEY\"] = \"\""
   ]
  },
  {
   "cell_type": "markdown",
   "id": "3379f9f4-e925-40bc-ba0e-061d48c674b4",
   "metadata": {},
   "source": [
    "### Log first trace"
   ]
  },
  {
   "cell_type": "code",
   "execution_count": 2,
   "id": "92afddd8-159f-437c-8325-b9dad5b24735",
   "metadata": {},
   "outputs": [
    {
     "data": {
      "text/plain": [
       "'Hello! How can I assist you today?'"
      ]
     },
     "execution_count": 2,
     "metadata": {},
     "output_type": "execute_result"
    }
   ],
   "source": [
    "import openai\n",
    "from langsmith.wrappers import wrap_openai\n",
    "from langsmith import traceable\n",
    "\n",
    "# Auto-trace LLM calls in-context\n",
    "client = wrap_openai(openai.Client())\n",
    "\n",
    "@traceable # Auto-trace this function\n",
    "def pipeline(user_input: str):\n",
    "    result = client.chat.completions.create(\n",
    "        messages=[{\"role\": \"user\", \"content\": user_input}],\n",
    "        model=\"gpt-4o-mini\"\n",
    "    )\n",
    "    return result.choices[0].message.content\n",
    "\n",
    "pipeline(\"Hello, world\") # 'Hello! How can I assist you today?'"
   ]
  },
  {
   "cell_type": "markdown",
   "id": "bd2844d6-1dbd-4602-a8c5-67be32c92f03",
   "metadata": {},
   "source": [
    "### Run first evaluation"
   ]
  },
  {
   "cell_type": "code",
   "execution_count": null,
   "id": "9395afea-03a0-4ccd-8977-b78d41f91047",
   "metadata": {},
   "outputs": [],
   "source": [
    "from langsmith import Client, evaluate\n",
    "\n",
    "client = Client()\n",
    "\n",
    "# Define dataset\n",
    "dataset_name = \"Sample Dataset\"\n",
    "dataset = client.create_dataset(dataset_name, description=\"A sample dataset in LangSmith.\")\n",
    "\n",
    "client.create_example(\n",
    "    inputs=[\n",
    "        {\"postfix\": \"to LangSmith\"},\n",
    "        {\"postfix\": \"to Evaluations in LangSmith\"},\n",
    "    ],\n",
    "    outputs=[\n",
    "        {\"output\": \"Welcome to LangSmith\"},\n",
    "        {\"output\": \"Welcome to Evaluations in LangSmith\"},\n",
    "    ],\n",
    "    dataset_id=dataset.id,\n",
    ")\n",
    "\n",
    "# Define evaluator\n",
    "def exact_match(run, example):\n",
    "    return {\"score\": run.outputs[\"output\"] == example.outputs[\"output\"]}\n",
    "\n",
    "experiment_results = evaluate(\n",
    "    lambda input: \"Welcone \" + input['postfix'], # Your AI system goes here\n",
    "    data=dataset_name, # The data to predict and grade over\n",
    "    evaluators=[exact_match], # The evaluators to score the results\n",
    "    experiment_prefix=\"sample-experiment\", # The name of the experiment\n",
    "    metadata={\n",
    "        \"verson\": \"1.0.0\",\n",
    "        \"revision_id\": \"beta\"\n",
    "    },\n",
    ")"
   ]
  }
 ],
 "metadata": {
  "kernelspec": {
   "display_name": "Python 3 (ipykernel)",
   "language": "python",
   "name": "python3"
  },
  "language_info": {
   "codemirror_mode": {
    "name": "ipython",
    "version": 3
   },
   "file_extension": ".py",
   "mimetype": "text/x-python",
   "name": "python",
   "nbconvert_exporter": "python",
   "pygments_lexer": "ipython3",
   "version": "3.10.12"
  }
 },
 "nbformat": 4,
 "nbformat_minor": 5
}
