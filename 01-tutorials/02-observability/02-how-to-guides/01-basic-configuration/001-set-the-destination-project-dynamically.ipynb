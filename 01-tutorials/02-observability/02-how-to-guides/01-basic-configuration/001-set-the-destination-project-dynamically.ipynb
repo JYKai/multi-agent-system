{
 "cells": [
  {
   "cell_type": "code",
   "execution_count": 1,
   "id": "a8738db1-9e21-49ea-9e4a-d0cf17ae6ec5",
   "metadata": {},
   "outputs": [],
   "source": [
    "import openai\n",
    "from langsmith import traceable\n",
    "from langsmith.run_trees import RunTree"
   ]
  },
  {
   "cell_type": "code",
   "execution_count": null,
   "id": "4e4576b3-d4d7-41a9-8ade-f3f11be84a49",
   "metadata": {},
   "outputs": [],
   "source": [
    "client = openai.Client()\n",
    "\n",
    "messages = [\n",
    "    {\"role\": \"system\", \"content\": \"You are a helpful assistant.\"},\n",
    "    {\"role\": \"user\", \"content\": \"Hello!\"}\n",
    "]\n",
    "\n",
    "# Use the @traceable decorator with the 'project_name' parameter to log traces to LangSmith\n",
    "# Ensure that the LANGCHAIN_TRACING_V2 environment variables is set for @traceable to work\n",
    "@traceable(\n",
    "    run_type=\"llm\",\n",
    "    name=\"OpenAI Call Decorator\",\n",
    "    project_name=\"My Project\"\n",
    ")\n",
    "def call_openai(\n",
    "    messages: list[dict], model: str = \"gpt-4o-mini\"\n",
    ") -> str:\n",
    "    return client.chat.completions.create(\n",
    "        model=model,\n",
    "        messages=messages,\n",
    "    ).choices[0].message.content\n",
    "\n",
    "# Call the decorated function\n",
    "call_openai(messages)\n",
    "\n",
    "# You can also specify the Project via the project_name parameter\n",
    "# This will override the project_name specified in the @traceable decorator\n",
    "call_openai(\n",
    "    messages,\n",
    "    langsmith_extra={\"project_name\": \"My Overridden Project\"},\n",
    ")\n",
    "\n",
    "# The wrapped OpenAI client accepts all the same langsmith_extra parameters\n",
    "# as @traceable decorated functions, and logs traces to LangSmith automatically.\n",
    "# Ensure that the LANGCHAIN_TRACING_V2 environment variables is set for the wrapper to work.\n",
    "from langsmith import wrappers\n",
    "wrapped_clinet = wrappers.wrap_openai(client)\n",
    "wrapped_client.chat.completions.create(\n",
    "    model='gpt-4o-mini',\n",
    "    messages=messages,\n",
    "    langsmith_extra={\"project_name\": \"My Project\"},\n",
    ")\n",
    "\n",
    "# Alternatively, create a RunTree object\n",
    "# You can set the project name using the project_name parameter\n",
    "rt = RunTree(\n",
    "    run_type=\"llm\",\n",
    "    name=\"OpenAI Call RunTree\",\n",
    "    inputs={\"messages\": messages},\n",
    "    project_name=\"My Project\"\n",
    ")\n",
    "chat_completion = client.chat.completions.create(\n",
    "    model=\"gpt-4o-mini\",\n",
    "    messages=messages\n",
    ")\n",
    "\n",
    "# End and submit the run\n",
    "rt.end(outputs=chat_completion)\n",
    "rt.post()"
   ]
  }
 ],
 "metadata": {
  "kernelspec": {
   "display_name": "Python 3 (ipykernel)",
   "language": "python",
   "name": "python3"
  },
  "language_info": {
   "codemirror_mode": {
    "name": "ipython",
    "version": 3
   },
   "file_extension": ".py",
   "mimetype": "text/x-python",
   "name": "python",
   "nbconvert_exporter": "python",
   "pygments_lexer": "ipython3",
   "version": "3.10.12"
  }
 },
 "nbformat": 4,
 "nbformat_minor": 5
}
