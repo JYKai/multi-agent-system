{
 "cells": [
  {
   "cell_type": "markdown",
   "id": "f102d594-b88a-4098-82d5-7e17ec0960ac",
   "metadata": {},
   "source": [
    "## Trace without setting environment variables"
   ]
  },
  {
   "cell_type": "code",
   "execution_count": 4,
   "id": "797a1168-cda3-4706-9aea-7521f3ba0359",
   "metadata": {},
   "outputs": [],
   "source": [
    "import openai\n",
    "from langsmith import Client, tracing_context, traceable\n",
    "from langsmith.wrappers import wrap_openai\n",
    "\n",
    "langsmith_client = Client(\n",
    "    api_key=\"\",\n",
    "    api_url=\"https://api.smith.langchain.com\"\n",
    ")\n",
    "\n",
    "client = wrap_openai(openai.Client())\n",
    "\n",
    "@traceable(run_type=\"tool\", name=\"Retrieve Context\")\n",
    "def my_tool(question: str) -> str:\n",
    "    return \"During this morning's meeting, we solved all world conflict.\"\n",
    "\n",
    "@traceable\n",
    "def chat_pipeline(question: str):\n",
    "    context = my_tool(question)\n",
    "    messages = [\n",
    "        {\"role\": \"system\", \"content\": \"You are a helpful assistant. Please respond to the user's request only based on the given context.\"},\n",
    "        {\"role\": \"user\", \"content\": f\"Question: {question} \\n Context: {context}\"}\n",
    "    ]\n",
    "    chat_completion = client.chat.completions.create(\n",
    "        model='gpt-4o-mini', messages=messages\n",
    "    )\n",
    "    return chat_completion.choices[0].message.content\n",
    "\n",
    "# Can set to False to disable tracing here without changing code structure\n",
    "with tracing_context(enabled=True):\n",
    "    # Use langsmith_extra to pass in a custom client\n",
    "    chat_pipeline(\"Can you summarize this morning's meetings?\", langsmith_extra={\"client\": langsmith_client})"
   ]
  },
  {
   "cell_type": "code",
   "execution_count": null,
   "id": "674cef78-37ca-4f98-93e7-aa991705e93a",
   "metadata": {},
   "outputs": [],
   "source": []
  }
 ],
 "metadata": {
  "kernelspec": {
   "display_name": "Python 3 (ipykernel)",
   "language": "python",
   "name": "python3"
  },
  "language_info": {
   "codemirror_mode": {
    "name": "ipython",
    "version": 3
   },
   "file_extension": ".py",
   "mimetype": "text/x-python",
   "name": "python",
   "nbconvert_exporter": "python",
   "pygments_lexer": "ipython3",
   "version": "3.10.12"
  }
 },
 "nbformat": 4,
 "nbformat_minor": 5
}
