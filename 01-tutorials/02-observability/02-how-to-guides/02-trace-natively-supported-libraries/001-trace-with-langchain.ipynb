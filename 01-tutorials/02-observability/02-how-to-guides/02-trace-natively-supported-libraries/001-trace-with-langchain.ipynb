{
 "cells": [
  {
   "cell_type": "markdown",
   "id": "e6cfb8bc-f6ef-44dd-b49e-f3a43a2de8b9",
   "metadata": {},
   "source": [
    "## Log a trace"
   ]
  },
  {
   "cell_type": "code",
   "execution_count": 2,
   "id": "9464bba2-971c-4fe7-aea6-6e311aadbe72",
   "metadata": {},
   "outputs": [
    {
     "data": {
      "text/plain": [
       "\"This morning's meeting was highly productive, as we successfully addressed and resolved all world conflicts.\""
      ]
     },
     "execution_count": 2,
     "metadata": {},
     "output_type": "execute_result"
    }
   ],
   "source": [
    "# export LANGCHAIN_TRACING_V2=true\n",
    "\n",
    "from langchain_openai import ChatOpenAI\n",
    "from langchain_core.prompts import ChatPromptTemplate\n",
    "from langchain_core.output_parsers import StrOutputParser\n",
    "\n",
    "prompt = ChatPromptTemplate.from_messages([\n",
    "    (\"system\", \"You are a helpful assistant. Please respond to the user's request only based on the given context.\"),\n",
    "    (\"user\", \"Question: {question}\\nContext: {context}\")\n",
    "])\n",
    "\n",
    "model = ChatOpenAI(model=\"gpt-4o-mini\")\n",
    "output_parser = StrOutputParser()\n",
    "\n",
    "chain = prompt | model | output_parser\n",
    "\n",
    "question = \"Can you summarize this morning's meetings?\"\n",
    "context = \"During this morning's meeting, we solved all world conflict.\"\n",
    "\n",
    "chain.invoke({\"question\": question, \"context\": context})"
   ]
  },
  {
   "cell_type": "markdown",
   "id": "677a094e-d0cc-40f1-9a86-71584535bae5",
   "metadata": {},
   "source": [
    "- By default, the trace will be logged to the project with the name default."
   ]
  },
  {
   "cell_type": "markdown",
   "id": "47666cd2-b0f7-4bf6-82e4-934ce12ee7dc",
   "metadata": {},
   "source": [
    "## Trace selectively"
   ]
  },
  {
   "cell_type": "code",
   "execution_count": 5,
   "id": "b7cf39b4-34a6-4a80-9be2-0d345d1cff47",
   "metadata": {},
   "outputs": [],
   "source": [
    "from langchain.callbacks.tracers import LangChainTracer\n",
    "\n",
    "tracer = LangChainTracer()\n",
    "chain.invoke({\"question\": \"Am I using a callback?\", \"context\": \"I'm using a callback\"}, config={\"callbacks\": [tracer]})\n",
    "\n",
    "from langchain_core.tracers.context import tracing_v2_enabled\n",
    "with tracing_v2_enabled():\n",
    "    chain.invoke({\"question\": \"Am I using a context manager?\", \"context\": \"I'm using a context manager\"})"
   ]
  },
  {
   "cell_type": "markdown",
   "id": "0587b78a-6467-4361-95f2-bf45d12d342e",
   "metadata": {},
   "source": [
    "There are two ways to do this in Python: by manually passing in a `LangChainTracer` instance as a callback, or by using the `tracing_v2_enabled` context manager."
   ]
  },
  {
   "cell_type": "markdown",
   "id": "f705798a-ea9d-490d-9c24-02b7ad75a513",
   "metadata": {},
   "source": [
    "## Log to a specific project"
   ]
  },
  {
   "cell_type": "markdown",
   "id": "32232eb4-4a3e-4b58-98f2-76c3fe8286e2",
   "metadata": {},
   "source": [
    "### Statically\n",
    "\n",
    "```\n",
    "export LANGCHAIN_PROJECT=my-project\n",
    "\n",
    "\n",
    "```"
   ]
  },
  {
   "cell_type": "markdown",
   "id": "a8636ad8-b7b6-46de-b69c-2b8a78f61c7a",
   "metadata": {},
   "source": [
    "### Dynamically"
   ]
  },
  {
   "cell_type": "code",
   "execution_count": 6,
   "id": "764e0b45-75d9-47aa-a352-56fcbd6d9fae",
   "metadata": {},
   "outputs": [],
   "source": [
    "from langchain.callbacks.tracers import LangChainTracer\n",
    "\n",
    "tracer = LangChainTracer(project_name=\"My Project\")\n",
    "chain.invoke({\"question\": \"Am I using a callback?\", \"context\": \"I'm using a callback\"}, config={\"callbacks\": [tracer]})\n",
    "\n",
    "\n",
    "from langchain_core.tracers.context import tracing_v2_enabled\n",
    "\n",
    "with tracing_v2_enabled(project_name=\"My Project\"):\n",
    "    chain.invoke({\"question\": \"Am I using a context manager?\", \"context\": \"I'm using a context manager\"})"
   ]
  },
  {
   "cell_type": "markdown",
   "id": "534a798a-e2bb-4782-ba3d-08a56d04e879",
   "metadata": {},
   "source": [
    "## Add metadata and tags to traces"
   ]
  },
  {
   "cell_type": "code",
   "execution_count": null,
   "id": "b163471f-53c5-4579-88ca-544982362720",
   "metadata": {},
   "outputs": [],
   "source": []
  }
 ],
 "metadata": {
  "kernelspec": {
   "display_name": "Python 3 (ipykernel)",
   "language": "python",
   "name": "python3"
  },
  "language_info": {
   "codemirror_mode": {
    "name": "ipython",
    "version": 3
   },
   "file_extension": ".py",
   "mimetype": "text/x-python",
   "name": "python",
   "nbconvert_exporter": "python",
   "pygments_lexer": "ipython3",
   "version": "3.10.12"
  }
 },
 "nbformat": 4,
 "nbformat_minor": 5
}
