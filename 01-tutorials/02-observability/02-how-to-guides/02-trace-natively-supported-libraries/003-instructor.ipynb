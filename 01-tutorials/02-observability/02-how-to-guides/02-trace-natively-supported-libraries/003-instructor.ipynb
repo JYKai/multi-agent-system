{
 "cells": [
  {
   "cell_type": "code",
   "execution_count": 2,
   "id": "3de5ff95-c06a-41b0-a08e-b93cf8244234",
   "metadata": {},
   "outputs": [],
   "source": [
    "from openai import OpenAI\n",
    "from langsmith import wrappers\n",
    "\n",
    "client = wrappers.wrap_openai(OpenAI())"
   ]
  },
  {
   "cell_type": "code",
   "execution_count": 3,
   "id": "211fa287-2d54-471a-b75d-82836c5cac44",
   "metadata": {},
   "outputs": [],
   "source": [
    "import instructor\n",
    "\n",
    "client = instructor.from_openai(client)"
   ]
  },
  {
   "cell_type": "code",
   "execution_count": 4,
   "id": "8f412744-db7c-4117-8f2f-cde77b24960b",
   "metadata": {},
   "outputs": [
    {
     "data": {
      "text/plain": [
       "<instructor.client.Instructor at 0x705b584cee30>"
      ]
     },
     "execution_count": 4,
     "metadata": {},
     "output_type": "execute_result"
    }
   ],
   "source": [
    "client"
   ]
  },
  {
   "cell_type": "code",
   "execution_count": 5,
   "id": "3c7d20fe-e7ee-4a7a-bbf5-052eab860d09",
   "metadata": {},
   "outputs": [],
   "source": [
    "from pydantic import BaseModel\n",
    "\n",
    "class UserDetail(BaseModel):\n",
    "    name: str\n",
    "    age: int\n",
    "\n",
    "user = client.chat.completions.create(\n",
    "    model=\"gpt-4o-mini\",\n",
    "    response_model=UserDetail,\n",
    "    messages=[\n",
    "        {\"role\": \"user\", \"content\": \"Extract Jason is 25 years old\"},\n",
    "    ]\n",
    ")"
   ]
  },
  {
   "cell_type": "code",
   "execution_count": 6,
   "id": "b9dde684-2c31-401b-b14e-9723a06bd41b",
   "metadata": {},
   "outputs": [
    {
     "data": {
      "text/plain": [
       "UserDetail(name='Jason', age=25)"
      ]
     },
     "execution_count": 6,
     "metadata": {},
     "output_type": "execute_result"
    }
   ],
   "source": [
    "user"
   ]
  },
  {
   "cell_type": "code",
   "execution_count": 7,
   "id": "ddb586f5-a3ec-4f00-bfb0-f9bf82f84144",
   "metadata": {},
   "outputs": [
    {
     "data": {
      "text/plain": [
       "UserDetail(name='Jason', age=25)"
      ]
     },
     "execution_count": 7,
     "metadata": {},
     "output_type": "execute_result"
    }
   ],
   "source": [
    "from langsmith import traceable\n",
    "\n",
    "@traceable(name=\"Extract User Details\")\n",
    "def my_function(text: str) -> UserDetail:\n",
    "    return client.chat.completions.create(\n",
    "        model=\"gpt-4o-mini\",\n",
    "        response_model=UserDetail,\n",
    "        messages=[\n",
    "            {\"role\": \"user\", \"content\": f\"Extract {text}\"},\n",
    "        ]\n",
    "    )\n",
    "        \n",
    "my_function(\"Jason is 25 years old\")"
   ]
  },
  {
   "cell_type": "code",
   "execution_count": null,
   "id": "6ca5d930-dc76-4c33-aa9b-ddf57b521577",
   "metadata": {},
   "outputs": [],
   "source": []
  }
 ],
 "metadata": {
  "kernelspec": {
   "display_name": "Python 3 (ipykernel)",
   "language": "python",
   "name": "python3"
  },
  "language_info": {
   "codemirror_mode": {
    "name": "ipython",
    "version": 3
   },
   "file_extension": ".py",
   "mimetype": "text/x-python",
   "name": "python",
   "nbconvert_exporter": "python",
   "pygments_lexer": "ipython3",
   "version": "3.10.12"
  }
 },
 "nbformat": 4,
 "nbformat_minor": 5
}
