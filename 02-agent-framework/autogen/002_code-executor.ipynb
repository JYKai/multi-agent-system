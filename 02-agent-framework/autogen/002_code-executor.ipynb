{
 "cells": [
  {
   "cell_type": "code",
   "execution_count": 1,
   "id": "f5854e0a-9ad4-496f-a493-afc6e90cbbe1",
   "metadata": {},
   "outputs": [
    {
     "name": "stderr",
     "output_type": "stream",
     "text": [
      "flaml.automl is not available. Please install flaml[automl] to enable AutoML functionalities.\n"
     ]
    }
   ],
   "source": [
    "import os\n",
    "import warnings\n",
    "\n",
    "import autogen\n",
    "from autogen.coding import LocalCommandLineCodeExecutor # DockerCommandLineCodeExecutor\n",
    "\n",
    "warnings.filterwarnings('ignore')"
   ]
  },
  {
   "cell_type": "code",
   "execution_count": 8,
   "id": "81328187-1a94-49df-a2be-6de256b598a9",
   "metadata": {},
   "outputs": [],
   "source": [
    "config_list = [{\"model\": \"gpt-4o\", \"api_key\": os.environ[\"OPENAI_API_KEY\"]}]"
   ]
  },
  {
   "cell_type": "code",
   "execution_count": 9,
   "id": "406b2996-eee3-4c20-b444-104cb4d042a4",
   "metadata": {},
   "outputs": [
    {
     "name": "stdout",
     "output_type": "stream",
     "text": [
      "[autogen.oai.client: 11-13 05:43:41] {184} WARNING - The API key specified is not a valid OpenAI format; it won't work with the OpenAI-hosted model.\n"
     ]
    }
   ],
   "source": [
    "assistant = autogen.AssistantAgent(\n",
    "    name=\"assistant\",\n",
    "    llm_config={\n",
    "        \"config_list\": config_list,\n",
    "        \"temperature\": 0\n",
    "    }\n",
    ")"
   ]
  },
  {
   "cell_type": "code",
   "execution_count": 10,
   "id": "fac61ecf-f521-47bb-808f-d789aea6cc23",
   "metadata": {},
   "outputs": [],
   "source": [
    "work_dir = './coding'\n",
    "\n",
    "user_proxy = autogen.UserProxyAgent(\n",
    "    name=\"user_proxy\",\n",
    "    # When human_input_mode=\"NEVER\", prevent infinite loops or dangerous codes from being used in the automatic response process.\n",
    "    is_termination_msg=lambda x: x.get(\"content\", \"\").rstrip().endswith(\"TERMINATE\"),\n",
    "    max_consecutive_auto_reply=10,\n",
    "    code_execution_config={\n",
    "        \"executor\": LocalCommandLineCodeExecutor(work_dir=work_dir),\n",
    "    },\n",
    "    human_input_mode=\"NEVER\" # ALWAYS\n",
    ")"
   ]
  },
  {
   "cell_type": "code",
   "execution_count": 11,
   "id": "9f5ee0f2-d374-4ea7-bd7d-cbdbaa9cbd8b",
   "metadata": {},
   "outputs": [
    {
     "name": "stdout",
     "output_type": "stream",
     "text": [
      "\u001b[33muser_proxy\u001b[0m (to assistant):\n",
      "\n",
      "100까지 소수가 어떤 것이 있는지 알 수 있는 코드를 작성해주세요.\n",
      "\n",
      "--------------------------------------------------------------------------------\n",
      "\u001b[33massistant\u001b[0m (to user_proxy):\n",
      "\n",
      "소수를 찾기 위해 에라토스테네스의 체 알고리즘을 사용할 수 있습니다. 이 알고리즘은 효율적으로 소수를 찾는 방법 중 하나입니다. 다음은 100까지의 소수를 찾는 파이썬 코드입니다.\n",
      "\n",
      "```python\n",
      "def sieve_of_eratosthenes(n):\n",
      "    primes = []\n",
      "    is_prime = [True] * (n + 1)\n",
      "    p = 2\n",
      "    while p * p <= n:\n",
      "        if is_prime[p]:\n",
      "            for i in range(p * p, n + 1, p):\n",
      "                is_prime[i] = False\n",
      "        p += 1\n",
      "    for p in range(2, n + 1):\n",
      "        if is_prime[p]:\n",
      "            primes.append(p)\n",
      "    return primes\n",
      "\n",
      "primes_up_to_100 = sieve_of_eratosthenes(100)\n",
      "print(primes_up_to_100)\n",
      "```\n",
      "\n",
      "이 코드를 실행하면 100 이하의 모든 소수가 출력됩니다. TERMINATE\n",
      "\n",
      "--------------------------------------------------------------------------------\n"
     ]
    }
   ],
   "source": [
    "chat_res = user_proxy.initiate_chat(\n",
    "    assistant,\n",
    "    message=\"\"\"100까지 소수가 어떤 것이 있는지 알 수 있는 코드를 작성해주세요.\"\"\",\n",
    "    summary_method=\"reflection_with_llm\"\n",
    ")"
   ]
  },
  {
   "cell_type": "code",
   "execution_count": 12,
   "id": "92f960aa-17e5-4724-9763-34819f3e755c",
   "metadata": {},
   "outputs": [
    {
     "name": "stdout",
     "output_type": "stream",
     "text": [
      "Chat history: [{'content': '100까지 소수가 어떤 것이 있는지 알 수 있는 코드를 작성해주세요.', 'role': 'assistant', 'name': 'user_proxy'}, {'content': '소수를 찾기 위해 에라토스테네스의 체 알고리즘을 사용할 수 있습니다. 이 알고리즘은 효율적으로 소수를 찾는 방법 중 하나입니다. 다음은 100까지의 소수를 찾는 파이썬 코드입니다.\\n\\n```python\\ndef sieve_of_eratosthenes(n):\\n    primes = []\\n    is_prime = [True] * (n + 1)\\n    p = 2\\n    while p * p <= n:\\n        if is_prime[p]:\\n            for i in range(p * p, n + 1, p):\\n                is_prime[i] = False\\n        p += 1\\n    for p in range(2, n + 1):\\n        if is_prime[p]:\\n            primes.append(p)\\n    return primes\\n\\nprimes_up_to_100 = sieve_of_eratosthenes(100)\\nprint(primes_up_to_100)\\n```\\n\\n이 코드를 실행하면 100 이하의 모든 소수가 출력됩니다. TERMINATE', 'role': 'user', 'name': 'assistant'}]\n",
      "--------------------------------------------------\n",
      "Summary: The conversation provides a Python code using the Sieve of Eratosthenes algorithm to find all prime numbers up to 100.\n",
      "--------------------------------------------------\n",
      "Cost info: {'usage_including_cached_inference': {'total_cost': 0.004215, 'gpt-4o-2024-08-06': {'cost': 0.004215, 'prompt_tokens': 742, 'completion_tokens': 236, 'total_tokens': 978}}, 'usage_excluding_cached_inference': {'total_cost': 0.004215, 'gpt-4o-2024-08-06': {'cost': 0.004215, 'prompt_tokens': 742, 'completion_tokens': 236, 'total_tokens': 978}}}\n"
     ]
    }
   ],
   "source": [
    "print(\"Chat history:\", chat_res.chat_history)\n",
    "print(\"-\"*50)\n",
    "print(\"Summary:\", chat_res.summary)\n",
    "print(\"-\"*50)\n",
    "print(\"Cost info:\", chat_res.cost)"
   ]
  },
  {
   "cell_type": "code",
   "execution_count": 14,
   "id": "e91f486b-b0be-431b-ac9d-e0b87297a29c",
   "metadata": {},
   "outputs": [
    {
     "name": "stdout",
     "output_type": "stream",
     "text": [
      "\u001b[33muser_proxy\u001b[0m (to assistant):\n",
      "\n",
      "예시 영어 문장을 만들고, 키워드를 추출하는 코드를 작성하세요.\n",
      "\n",
      "--------------------------------------------------------------------------------\n",
      "\u001b[33massistant\u001b[0m (to user_proxy):\n",
      "\n",
      "예시 영어 문장을 만들고, 그 문장에서 키워드를 추출하는 파이썬 코드를 작성하겠습니다. 이를 위해 NLTK(Natural Language Toolkit) 라이브러리를 사용하여 문장을 토큰화하고 품사 태깅을 통해 명사, 동사, 형용사 등을 추출할 수 있습니다.\n",
      "\n",
      "먼저, NLTK 라이브러리를 설치해야 합니다. 그런 다음 코드를 실행하여 키워드를 추출할 수 있습니다.\n",
      "\n",
      "```sh\n",
      "# Install NLTK library\n",
      "pip install nltk\n",
      "```\n",
      "\n",
      "이제 파이썬 코드를 작성하겠습니다.\n",
      "\n",
      "```python\n",
      "# filename: extract_keywords.py\n",
      "import nltk\n",
      "from nltk.tokenize import word_tokenize\n",
      "from nltk.corpus import stopwords\n",
      "from nltk.tag import pos_tag\n",
      "\n",
      "# Download necessary NLTK data files\n",
      "nltk.download('punkt')\n",
      "nltk.download('averaged_perceptron_tagger')\n",
      "nltk.download('stopwords')\n",
      "\n",
      "# Example sentence\n",
      "sentence = \"The quick brown fox jumps over the lazy dog.\"\n",
      "\n",
      "# Tokenize the sentence\n",
      "words = word_tokenize(sentence)\n",
      "\n",
      "# Remove stopwords\n",
      "stop_words = set(stopwords.words('english'))\n",
      "filtered_words = [word for word in words if word.lower() not in stop_words]\n",
      "\n",
      "# Perform POS tagging\n",
      "tagged_words = pos_tag(filtered_words)\n",
      "\n",
      "# Extract keywords (nouns, verbs, adjectives)\n",
      "keywords = [word for word, pos in tagged_words if pos.startswith('NN') or pos.startswith('VB') or pos.startswith('JJ')]\n",
      "\n",
      "print(\"Keywords:\", keywords)\n",
      "```\n",
      "\n",
      "이 코드를 실행하면 예시 문장에서 키워드가 추출됩니다. TERMINATE\n",
      "\n",
      "--------------------------------------------------------------------------------\n"
     ]
    }
   ],
   "source": [
    "user_proxy.send(\n",
    "    recipient=assistant,\n",
    "    message=\"\"\"예시 영어 문장을 만들고, 키워드를 추출하는 코드를 작성하세요.\"\"\"\n",
    ")"
   ]
  },
  {
   "cell_type": "code",
   "execution_count": null,
   "id": "77a3e69a-6f5b-4435-ac77-34b068d95930",
   "metadata": {},
   "outputs": [],
   "source": []
  }
 ],
 "metadata": {
  "kernelspec": {
   "display_name": "Python 3 (ipykernel)",
   "language": "python",
   "name": "python3"
  },
  "language_info": {
   "codemirror_mode": {
    "name": "ipython",
    "version": 3
   },
   "file_extension": ".py",
   "mimetype": "text/x-python",
   "name": "python",
   "nbconvert_exporter": "python",
   "pygments_lexer": "ipython3",
   "version": "3.10.12"
  }
 },
 "nbformat": 4,
 "nbformat_minor": 5
}
