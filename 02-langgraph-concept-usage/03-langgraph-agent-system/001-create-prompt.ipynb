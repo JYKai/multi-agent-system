{
 "cells": [
  {
   "cell_type": "code",
   "execution_count": 1,
   "id": "f57f6f2d-4186-4fc2-8435-5bc368af210f",
   "metadata": {},
   "outputs": [],
   "source": [
    "import warnings\n",
    "warnings.filterwarnings('ignore')"
   ]
  },
  {
   "cell_type": "markdown",
   "id": "2969f6cf-1cda-4b6a-9355-3bd308978858",
   "metadata": {},
   "source": [
    "### API"
   ]
  },
  {
   "cell_type": "markdown",
   "id": "8ec97500-1655-47ce-af0f-ca9d0676c6fe",
   "metadata": {},
   "source": [
    "### Libraries"
   ]
  },
  {
   "cell_type": "code",
   "execution_count": 3,
   "id": "b5abe8cb-8a87-48ed-b093-7a4f6fcb8210",
   "metadata": {},
   "outputs": [],
   "source": [
    "from typing import List, Annotated, Literal\n",
    "from typing_extensions import TypedDict\n",
    "\n",
    "from pydantic import BaseModel\n",
    "from langchain_openai import ChatOpenAI\n",
    "from langchain_core.messages import AIMessage, SystemMessage, HumanMessage, ToolMessage\n",
    "from langgraph.graph.message import add_messages\n",
    "from langgraph.graph import START, END, StateGraph\n",
    "from langgraph.checkpoint.memory import MemorySaver"
   ]
  },
  {
   "cell_type": "markdown",
   "id": "10209d59-567c-4d26-9f03-0e4477329f40",
   "metadata": {},
   "source": [
    "### Func. To gather information for creating prompts"
   ]
  },
  {
   "cell_type": "code",
   "execution_count": 5,
   "id": "129b4b43-22d9-4ff8-9452-455a942ccbd1",
   "metadata": {},
   "outputs": [],
   "source": [
    "class PromptInstruction(BaseModel):\n",
    "    \"\"\"Instruction on how to prompt the LLM.\"\"\"\n",
    "\n",
    "    objective: str\n",
    "    variables: List[str]\n",
    "    constraints: List[str]\n",
    "    requirements: List[str]\n",
    "    \n",
    "def get_messages_info(messages):\n",
    "    return [SystemMessage(content=template)] + messages\n",
    "\n",
    "def info_chain(state):\n",
    "    messages = get_messages_info(state[\"messages\"])\n",
    "    response = llm_with_tool.invoke(messages)\n",
    "    return {\"messages\": [response]}\n",
    "\n",
    "template = \"\"\"Your job is to get information from a user about what type of prompt template they want to create.\n",
    "\n",
    "You should get the following information from them:\n",
    "\n",
    "- What the objective of the prompt is\n",
    "- What variables will be passed into the prompt template\n",
    "- Any constraints for what the output should NOT do\n",
    "- Any requirements that the output MUST adhere to\n",
    "\n",
    "If you ar not able to discern this info, ask them to clarify! Do not attempt to wildly quess.\n",
    "\n",
    "After you are able to discern all the information, call the relevant tool.\"\"\"\n",
    "\n",
    "llm = ChatOpenAI(model='gpt-4o-mini', temperature=0)\n",
    "llm_with_tool = llm.bind_tools([PromptInstruction])"
   ]
  },
  {
   "cell_type": "markdown",
   "id": "9b898705-5e4d-4b68-9dff-2dc83f9f8419",
   "metadata": {},
   "source": [
    "### Func. Writing prompt"
   ]
  },
  {
   "cell_type": "code",
   "execution_count": 15,
   "id": "427161c1-51aa-4a93-9ac9-f076836a1269",
   "metadata": {},
   "outputs": [],
   "source": [
    "# New system prompt\n",
    "prompt_system = \"\"\"Based on the following requirements, write a good prompt template:\n",
    "\n",
    "{reqs}\"\"\"\n",
    "\n",
    "def get_prompt_messages(messages: list):\n",
    "    tool_call = None\n",
    "    other_msgs = []\n",
    "    for m in messages:\n",
    "        if isinstance(m, AIMessage) and m.tool_calls:\n",
    "            tool_call = m.tool_calls[0]['args']\n",
    "            print(tool_call)\n",
    "        elif isinstance(m, ToolMessage):\n",
    "            continue\n",
    "        elif tool_call is not None:\n",
    "            other_msgs.append(m)\n",
    "    return [SystemMessage(content=prompt_system.format(reqs=tool_call))] + other_msgs\n",
    "\n",
    "def prompt_gen_chain(state):\n",
    "    messages = get_prompt_messages(state[\"messages\"])\n",
    "    response = llm.invoke(messages)\n",
    "    return {\"messages\": [response]}"
   ]
  },
  {
   "cell_type": "markdown",
   "id": "9379b9c5-e275-4d8a-b397-453203ab96a3",
   "metadata": {},
   "source": [
    "### Edges"
   ]
  },
  {
   "cell_type": "code",
   "execution_count": 16,
   "id": "a8c7c0b4-5722-47ea-86b9-7609c37fe699",
   "metadata": {},
   "outputs": [],
   "source": [
    "def get_state(state) -> Literal[\"prompt\", \"info\", \"__end__\"]:\n",
    "    messages = state[\"messages\"]\n",
    "    if isinstance(messages[-1], AIMessage) and messages[-1].tool_calls:\n",
    "        return \"prompt\"\n",
    "    elif not isinstance(messages[-1], HumanMessage):\n",
    "        return END\n",
    "    return \"info\""
   ]
  },
  {
   "cell_type": "markdown",
   "id": "b26b027d-7c73-4a4c-8028-a296a11ac200",
   "metadata": {},
   "source": [
    "### Build graph"
   ]
  },
  {
   "cell_type": "code",
   "execution_count": 17,
   "id": "0e8c8426-858c-4f76-b7f4-8bbc518293d5",
   "metadata": {},
   "outputs": [],
   "source": [
    "class State(TypedDict):\n",
    "    messages: Annotated[list, add_messages]\n",
    "\n",
    "memory = MemorySaver()\n",
    "workflow = StateGraph(State)\n",
    "\n",
    "# Add nodes\n",
    "workflow.add_node(\"info\", info_chain)\n",
    "workflow.add_node(\"prompt\", prompt_gen_chain)\n",
    "\n",
    "# Add edges\n",
    "workflow.add_conditional_edges(\"info\", get_state)\n",
    "workflow.add_edge(\"prompt\", END)\n",
    "workflow.add_edge(START, \"info\")\n",
    "\n",
    "# Compile graph\n",
    "graph = workflow.compile(checkpointer=memory)"
   ]
  },
  {
   "cell_type": "markdown",
   "id": "92adc1ff-ecce-430b-8c0e-887bdb0f46af",
   "metadata": {},
   "source": [
    "### Visualize graph"
   ]
  },
  {
   "cell_type": "code",
   "execution_count": 18,
   "id": "9b978e65-600e-4cd1-b0fa-aca307b9060c",
   "metadata": {},
   "outputs": [
    {
     "data": {
      "image/jpeg": "[encoded data removed]",
      "text/plain": [
       "<IPython.core.display.Image object>"
      ]
     },
     "metadata": {},
     "output_type": "display_data"
    }
   ],
   "source": [
    "from IPython.display import Image, display\n",
    "\n",
    "display(Image(graph.get_graph().draw_mermaid_png()))"
   ]
  },
  {
   "cell_type": "markdown",
   "id": "99303607-5ec4-4211-92af-66b6a0b46e3a",
   "metadata": {},
   "source": [
    "### Run graph"
   ]
  },
  {
   "cell_type": "code",
   "execution_count": 19,
   "id": "dba546c5-40a4-4cd5-9419-0d7d4c9e8c5b",
   "metadata": {},
   "outputs": [
    {
     "name": "stdout",
     "output_type": "stream",
     "text": [
      "User (q/Q to quit):  영어 회화 초보자의 실력향상을 위해 적절한 가이드라인을 줄 수 있는 프롬프트를 작성해줘.\n"
     ]
    },
    {
     "name": "stdout",
     "output_type": "stream",
     "text": [
      "==================================\u001b[1m Ai Message \u001b[0m==================================\n",
      "\n",
      "프롬프트 템플릿을 작성하기 위해 몇 가지 정보를 더 필요로 합니다.\n",
      "\n",
      "1. **프롬프트의 목표**: 어떤 특정한 목표를 가지고 있나요? 예를 들어, 회화 연습, 문법 개선, 어휘 확장 등.\n",
      "2. **프롬프트에 전달될 변수**: 어떤 변수를 프롬프트에 포함시키고 싶으신가요? 예를 들어, 학습자의 현재 수준, 관심 있는 주제 등.\n",
      "3. **출력에서 하지 말아야 할 제약 조건**: 출력에서 어떤 내용을 포함하지 않기를 원하시나요? 예를 들어, 너무 복잡한 문장 사용 금지 등.\n",
      "4. **출력에서 반드시 지켜야 할 요구 사항**: 출력이 반드시 따라야 할 규칙이나 요구 사항이 있나요? 예를 들어, 간단한 언어 사용, 단계별 가이드 제공 등.\n",
      "\n",
      "이 정보를 제공해 주시면, 적절한 프롬프트 템플릿을 작성할 수 있습니다!\n"
     ]
    },
    {
     "name": "stdout",
     "output_type": "stream",
     "text": [
      "User (q/Q to quit):  1. 목표 : 일정 수준의 회화 능력 달성 2. 학습자의 현재 수준, 목표 기간, 목표로 하는 수준 3. 너무 복잡하고 잘 사용되지 않는 단어, 문장 사용 금지 4. 간단한 예시를 들어서 설명, 실제로 원어민이 자주 사용하는 표현 위주의 문장 제시 등\n"
     ]
    },
    {
     "name": "stdout",
     "output_type": "stream",
     "text": [
      "==================================\u001b[1m Ai Message \u001b[0m==================================\n",
      "Tool Calls:\n",
      "  PromptInstruction (call_bNGxJY4GMpSbTL6EC30KrVm8)\n",
      " Call ID: call_bNGxJY4GMpSbTL6EC30KrVm8\n",
      "  Args:\n",
      "    objective: 일정 수준의 회화 능력 달성\n",
      "    variables: ['학습자의 현재 수준', '목표 기간', '목표로 하는 수준']\n",
      "    constraints: ['너무 복잡하고 잘 사용되지 않는 단어, 문장 사용 금지']\n",
      "    requirements: ['간단한 예시를 들어서 설명', '실제로 원어민이 자주 사용하는 표현 위주의 문장 제시']\n",
      "{'objective': '일정 수준의 회화 능력 달성', 'variables': ['학습자의 현재 수준', '목표 기간', '목표로 하는 수준'], 'constraints': ['너무 복잡하고 잘 사용되지 않는 단어, 문장 사용 금지'], 'requirements': ['간단한 예시를 들어서 설명', '실제로 원어민이 자주 사용하는 표현 위주의 문장 제시']}\n",
      "==================================\u001b[1m Ai Message \u001b[0m==================================\n",
      "\n",
      "**Prompt Template:**\n",
      "\n",
      "---\n",
      "\n",
      "**Objective:** Achieve a certain level of conversational ability.\n",
      "\n",
      "**Instructions:**\n",
      "\n",
      "1. **Current Level Assessment:** Please provide a brief description of the learner's current language proficiency level (e.g., beginner, intermediate, advanced).\n",
      "\n",
      "2. **Goal Duration:** Specify the time frame in which the learner aims to achieve their desired level of proficiency (e.g., 3 months, 6 months).\n",
      "\n",
      "3. **Target Level:** Indicate the target level of conversational ability the learner wishes to reach (e.g., basic conversation, fluent conversation).\n",
      "\n",
      "4. **Constraints:** Ensure that the language used is simple and avoids overly complex or rarely used words and sentences.\n",
      "\n",
      "5. **Requirements:** \n",
      "   - Provide simple examples to illustrate key points.\n",
      "   - Focus on phrases and expressions that native speakers commonly use in everyday conversation.\n",
      "\n",
      "**Example Response:**\n",
      "\n",
      "- **Current Level:** Beginner\n",
      "- **Goal Duration:** 3 months\n",
      "- **Target Level:** Basic conversation\n",
      "\n",
      "**Response:**\n",
      "To help you achieve basic conversational ability in 3 months, we will focus on simple, everyday phrases. For example, instead of saying \"I would like to inquire about the possibility of...\", you can simply say \"Can I ask about...?\" This is a common expression used by native speakers. \n",
      "\n",
      "---\n",
      "\n",
      "Feel free to fill in the details based on the learner's specific situation!\n",
      "Done!\n"
     ]
    },
    {
     "name": "stdout",
     "output_type": "stream",
     "text": [
      "User (q/Q to quit):  q\n"
     ]
    },
    {
     "name": "stdout",
     "output_type": "stream",
     "text": [
      "AI: Byebye\n"
     ]
    }
   ],
   "source": [
    "import uuid\n",
    "\n",
    "config = {\"configurable\": {\"thread_id\": str(uuid.uuid4())}}\n",
    "\n",
    "while True:\n",
    "    user = input(\"User (q/Q to quit): \")\n",
    "    if user in ['q', 'Q']:\n",
    "        print(\"AI: Byebye\")\n",
    "        break\n",
    "    output = None\n",
    "    for output in graph.stream(\n",
    "        {\"messages\": [HumanMessage(content=user)]}, config=config, stream_mode=\"updates\"\n",
    "    ):\n",
    "        last_message = next(iter(output.values()))[\"messages\"][-1]\n",
    "        last_message.pretty_print()\n",
    "\n",
    "    if output and \"prompt\" in output:\n",
    "        print(\"Done!\")"
   ]
  }
 ],
 "metadata": {
  "kernelspec": {
   "display_name": "Python 3 (ipykernel)",
   "language": "python",
   "name": "python3"
  },
  "language_info": {
   "codemirror_mode": {
    "name": "ipython",
    "version": 3
   },
   "file_extension": ".py",
   "mimetype": "text/x-python",
   "name": "python",
   "nbconvert_exporter": "python",
   "pygments_lexer": "ipython3",
   "version": "3.10.12"
  }
 },
 "nbformat": 4,
 "nbformat_minor": 5
}
