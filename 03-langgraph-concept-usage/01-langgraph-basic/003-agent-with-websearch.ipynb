{
 "cells": [
  {
   "cell_type": "markdown",
   "id": "ba76ea64-efce-43a9-a546-e526cc376225",
   "metadata": {},
   "source": [
    "### API key"
   ]
  },
  {
   "cell_type": "code",
   "execution_count": 1,
   "id": "8c22bea1-7d33-40ec-aff3-53f4275a965d",
   "metadata": {},
   "outputs": [],
   "source": [
    "import os"
   ]
  },
  {
   "cell_type": "markdown",
   "id": "e3605355-2eb5-4834-8da2-982e04d7caf2",
   "metadata": {},
   "source": [
    "## State"
   ]
  },
  {
   "cell_type": "code",
   "execution_count": 3,
   "id": "5ecd4978-ee5c-4b4e-9b3e-ad523a5312d4",
   "metadata": {},
   "outputs": [],
   "source": [
    "from typing import Annotated\n",
    "from typing_extensions import TypedDict\n",
    "\n",
    "from langgraph.graph.message import add_messages\n",
    "\n",
    "class State(TypedDict):\n",
    "    messages: Annotated[list, add_messages]"
   ]
  },
  {
   "cell_type": "markdown",
   "id": "48c04ab8-8972-4057-8062-fcd46072e201",
   "metadata": {},
   "source": [
    "## ToolNode"
   ]
  },
  {
   "cell_type": "code",
   "execution_count": 7,
   "id": "83f38e41-b0e8-4b5c-ac5c-05406da3ae3a",
   "metadata": {},
   "outputs": [],
   "source": [
    "from langchain_community.tools.tavily_search import TavilySearchResults\n",
    "from langgraph.prebuilt import ToolNode, tools_condition\n",
    "\n",
    "tool = TavilySearchResults(max_results=2)\n",
    "tools = [tool]\n",
    "\n",
    "tool_node = ToolNode(tools)"
   ]
  },
  {
   "cell_type": "markdown",
   "id": "b0424ff3-e209-4efd-af76-82dfff9f1e75",
   "metadata": {},
   "source": [
    "### What is the Tool Node"
   ]
  },
  {
   "cell_type": "code",
   "execution_count": 9,
   "id": "cb797450-4a08-419a-9484-b8f5bcb5edbb",
   "metadata": {},
   "outputs": [],
   "source": [
    "import json\n",
    "from langchain_core.messages import ToolMessage\n",
    "\n",
    "class BasicToolNode:\n",
    "    \"\"\"A node that runs the tools requested in the last AIMessage.\"\"\"\n",
    "\n",
    "    def __init__(self, tools: list) -> None:\n",
    "        self.tools_by_name = {tool.name: tool for tool in tools}\n",
    "\n",
    "    def __call__(self, inputs: dict):\n",
    "        if messages := inputs.get(\"messages\", []):\n",
    "            message = messages[-1]\n",
    "        else:\n",
    "            raise ValueError(\"No message found in input\")\n",
    "        outputs = []\n",
    "        for tool_call in message.tool_calls:\n",
    "            tool_result = self.tools_by_name[tool_call[\"name\"]].invoke(tool_call[\"args\"])\n",
    "            outputs.append(\n",
    "                ToolMessage(\n",
    "                    content=json.dumps(tool_result),\n",
    "                    name=tool_call[\"name\"],\n",
    "                    tool_call_id=tool_call[\"id\"]\n",
    "                )\n",
    "            )\n",
    "        return {\"messages\": outputs}"
   ]
  },
  {
   "cell_type": "markdown",
   "id": "65533304-3171-4af6-8258-6c4a0c3fe68c",
   "metadata": {},
   "source": [
    "## LLM chatbot"
   ]
  },
  {
   "cell_type": "code",
   "execution_count": 10,
   "id": "2f6795aa-429e-455e-9ca5-4b408de7264d",
   "metadata": {},
   "outputs": [],
   "source": [
    "from langchain_openai import ChatOpenAI\n",
    "\n",
    "llm = ChatOpenAI(model='gpt-4o-mini')\n",
    "llm_with_tools = llm.bind_tools(tools)\n",
    "\n",
    "def chatbot(state: State):\n",
    "    result = llm_with_tools.invoke(state[\"messages\"])\n",
    "    return {\"messages\": [result]}"
   ]
  },
  {
   "cell_type": "markdown",
   "id": "d3f2c6a0-f2cb-40e4-ab3d-6d3f23fa62c1",
   "metadata": {},
   "source": [
    "### Graph"
   ]
  },
  {
   "cell_type": "code",
   "execution_count": 11,
   "id": "d339d3f4-87cf-49c2-9135-5901c75ead06",
   "metadata": {},
   "outputs": [],
   "source": [
    "from langgraph.graph import StateGraph\n",
    "\n",
    "graph_builder = StateGraph(State)\n",
    "\n",
    "graph_builder.add_node(\"chatbot\", chatbot)\n",
    "graph_builder.add_node(\"tools\", tool_node)\n",
    "\n",
    "graph_builder.add_edge(\"tools\", \"chatbot\")\n",
    "graph_builder.add_conditional_edges(\"chatbot\", tools_condition)\n",
    "\n",
    "graph_builder.set_entry_point(\"chatbot\")\n",
    "\n",
    "graph = graph_builder.compile()"
   ]
  },
  {
   "cell_type": "markdown",
   "id": "ba8ae098-57b0-4f8f-aa25-c7a76c84b67f",
   "metadata": {},
   "source": [
    "### Question that require internet search"
   ]
  },
  {
   "cell_type": "code",
   "execution_count": 12,
   "id": "5a0ebaa9-f824-4687-bacb-0839cb3f2079",
   "metadata": {},
   "outputs": [
    {
     "data": {
      "text/plain": [
       "{'messages': [HumanMessage(content='지금 한국 대통령은 누구야?', additional_kwargs={}, response_metadata={}, id='115e2f73-5428-4b43-b81b-f17de6854787'),\n",
       "  AIMessage(content='', additional_kwargs={'tool_calls': [{'id': 'call_WhKvsXnRhfsAiCcFxGBR2qI7', 'function': {'arguments': '{\"query\":\"current president of South Korea 2023\"}', 'name': 'tavily_search_results_json'}, 'type': 'function'}], 'refusal': None}, response_metadata={'token_usage': {'completion_tokens': 25, 'prompt_tokens': 87, 'total_tokens': 112, 'completion_tokens_details': {'accepted_prediction_tokens': 0, 'audio_tokens': 0, 'reasoning_tokens': 0, 'rejected_prediction_tokens': 0}, 'prompt_tokens_details': {'audio_tokens': 0, 'cached_tokens': 0}}, 'model_name': 'gpt-4o-mini-2024-07-18', 'system_fingerprint': 'fp_0ba0d124f1', 'finish_reason': 'tool_calls', 'logprobs': None}, id='run-754138f7-796b-4125-8e01-5cb62c0ff64e-0', tool_calls=[{'name': 'tavily_search_results_json', 'args': {'query': 'current president of South Korea 2023'}, 'id': 'call_WhKvsXnRhfsAiCcFxGBR2qI7', 'type': 'tool_call'}], usage_metadata={'input_tokens': 87, 'output_tokens': 25, 'total_tokens': 112, 'input_token_details': {'audio': 0, 'cache_read': 0}, 'output_token_details': {'audio': 0, 'reasoning': 0}}),\n",
       "  ToolMessage(content='[{\"url\": \"https://en.wikipedia.org/wiki/President_of_South_Korea\", \"content\": \"The current president, Yoon Suk Yeol, a former prosecutor general and member of the conservative People Power Party, assumed office on 10 May 2022,[3][4] after defeating the Democratic Party\\'s nominee Lee Jae-myung with a narrow 48.5% plurality in the 2022 South Korean presidential election.[5]\\\\nHistory[edit]\\\\nPrior to the establishment of the First Republic in 1948, the Provisional Government of the Republic of Korea established in Shanghai in September 1919 as the continuation of several governments proclaimed in the aftermath of March 1st Movement earlier that year coordinated resistance against Japanese rule. However, such individuals are still entitled to retain security protection under the Presidential Security Act.[15]\\\\nOrder of succession[edit]\\\\nArticle 71 of the Constitution of South Korea states, \\'In the event of the president not being able to discharge the duties of his/her office, the Prime Minister and ministers in line of the order of succession shall be the acting president.\\' Chaired by the president, the council in 1990 had as its statutory members the prime minister, the deputy prime minister, the ministers for foreign affairs, home affairs, finance, and national defense, the director of the Agency for National Security Planning (ANSP) which was known as the Korean Central Intelligence Agency (KCIA) until December 1980, and others designated by the president. In the case of the President, the motion must be proposed by a majority and approved by two thirds or more of the total members of the National Assembly, meaning that 200 of 300 members of the parliament must approve the bill. Contents\\\\nPresident of South Korea\\\\nThe president of the Republic of Korea (Korean:\\xa0대한민국 대통령; RR:\\xa0Daehanmin-guk daetongnyeong), also known as the president of South Korea (Korean:\\xa0대통령), is the head of state and head of government of the Republic of Korea.\"}, {\"url\": \"https://en.wikipedia.org/wiki/Yoon_Suk_Yeol\", \"content\": \"\\\\\"\\\\nIn response, former Russian President Dmitry Medvedev suggested that Russia could supply North Korea on a \\\\\"...quid pro quo\\\\\" basis.[125][126] The Democratic Party of Korea,[127] Justice Party,[128][129] and Progressive Party,[130] along with other liberal and progressive parties, opposed the Yoon Suk Yeol administration\\'s policy toward Ukraine, fearing that his pro-Ukraine diplomacy would lead to Russia supporting North Korea\\'s weapons and South Korean companies being penalized by Russia\\'s economic sanctions.[127][128]\\\\nIn August 2023, Yoon announced that South Korea would provide $394 million in financial aid to Ukraine for 2024, an eightfold increase from 2023.[131]\\\\nPublic approval[edit]\\\\nLess than three months into his presidency, Yoon\\'s approval rating dropped to less than 30 percent amidst the 2021–2022 inflation surge, a controversial education policy rollout (including a proposal to lower the starting elementary school age from six to five), controversies over nepotism in personnel appointments, the police bureau proposal, and conflicts within Yoon\\'s People Power Party.[132][133] His decision to investigate Cho was welcomed by the conservative opposition but was condemned by the Democratic Party and its supporters.[25][26][27]\\\\nAfter Choo Mi-ae was appointed the new minister of justice, she took an action against several prosecutors close to Yoon.[28][29] Choo attributed her decision to Yoon\\'s failure to submit a reorganization plan for his department, which she requested, but this was seen as retaliation by the Blue House for Cho Kuk\\'s prosecution.[30]\\\\nIn April 2020, Democratic Party lawmakers again attacked Yoon and called on him to resign as the prosecution started investigations into election law violation cases involving both ruling and opposition politicians and also suspected election rigging of the Ulsan mayoral race for Mayor Song Cheol-ho in 2018 by senior secretaries at the Blue House.[31][32][33]\\\\n The three announced the Camp David Principles, a set of strategies to counter the influence of China, North Korea, and Russia as well as limit the risk of economic disruptions in the future.[124]\\\\nIn a Reuters interview\\\\non 19 April 2023, President Yoon Suk Yeol hinted at supplying lethal aid to Ukraine, stating, \\\\\"If there is a situation the international community cannot condone, such as any large-scale attack on civilians, massacre or serious violation of the laws of war, it might be difficult for us to insist only on humanitarian or financial support.\\\\\" Yoon denied the allegations and reported informant Cho Sung-eun and Director of the National Intellience Service Park Jie-won to the CIO.[50]\\\\nIn early September, support for PPP primary contender Hong Joon-pyo, who had been the nominee for PPP predecessor Liberty Korea Party in the 2017 presidential election, rose sharply in polls, which made Hong the most significant contender to Yoon since the beginning of the campaign cycle. Yoon later became head of investigations in the special prosecutor team of Park Young-soo, which investigated allegations pertaining to the 2016 Choi Soon-sil scandal involving Choi, Samsung vice-chairman Lee Jae-yong and then-president Park Geun-hye, which led to the impeachment of the president in December 2016.[20]\\\\nOn 19 May 2017, the newly elected president Moon Jae-in appointed Yoon as chief of the Seoul Central District Prosecutors\\' Office.[15]\"}]', name='tavily_search_results_json', id='f6c4d24d-00dc-496f-b9c4-6c0ce7ec41a2', tool_call_id='call_WhKvsXnRhfsAiCcFxGBR2qI7', artifact={'query': 'current president of South Korea 2023', 'follow_up_questions': None, 'answer': None, 'images': [], 'results': [{'title': 'President of South Korea - Wikipedia', 'url': 'https://en.wikipedia.org/wiki/President_of_South_Korea', 'content': \"The current president, Yoon Suk Yeol, a former prosecutor general and member of the conservative People Power Party, assumed office on 10 May 2022,[3][4] after defeating the Democratic Party's nominee Lee Jae-myung with a narrow 48.5% plurality in the 2022 South Korean presidential election.[5]\\nHistory[edit]\\nPrior to the establishment of the First Republic in 1948, the Provisional Government of the Republic of Korea established in Shanghai in September 1919 as the continuation of several governments proclaimed in the aftermath of March 1st Movement earlier that year coordinated resistance against Japanese rule. However, such individuals are still entitled to retain security protection under the Presidential Security Act.[15]\\nOrder of succession[edit]\\nArticle 71 of the Constitution of South Korea states, 'In the event of the president not being able to discharge the duties of his/her office, the Prime Minister and ministers in line of the order of succession shall be the acting president.' Chaired by the president, the council in 1990 had as its statutory members the prime minister, the deputy prime minister, the ministers for foreign affairs, home affairs, finance, and national defense, the director of the Agency for National Security Planning (ANSP) which was known as the Korean Central Intelligence Agency (KCIA) until December 1980, and others designated by the president. In the case of the President, the motion must be proposed by a majority and approved by two thirds or more of the total members of the National Assembly, meaning that 200 of 300 members of the parliament must approve the bill. Contents\\nPresident of South Korea\\nThe president of the Republic of Korea (Korean:\\xa0대한민국 대통령; RR:\\xa0Daehanmin-guk daetongnyeong), also known as the president of South Korea (Korean:\\xa0대통령), is the head of state and head of government of the Republic of Korea.\", 'score': 0.9991204, 'raw_content': None}, {'title': 'Yoon Suk Yeol - Wikipedia', 'url': 'https://en.wikipedia.org/wiki/Yoon_Suk_Yeol', 'content': '\"\\nIn response, former Russian President Dmitry Medvedev suggested that Russia could supply North Korea on a \"...quid pro quo\" basis.[125][126] The Democratic Party of Korea,[127] Justice Party,[128][129] and Progressive Party,[130] along with other liberal and progressive parties, opposed the Yoon Suk Yeol administration\\'s policy toward Ukraine, fearing that his pro-Ukraine diplomacy would lead to Russia supporting North Korea\\'s weapons and South Korean companies being penalized by Russia\\'s economic sanctions.[127][128]\\nIn August 2023, Yoon announced that South Korea would provide $394 million in financial aid to Ukraine for 2024, an eightfold increase from 2023.[131]\\nPublic approval[edit]\\nLess than three months into his presidency, Yoon\\'s approval rating dropped to less than 30 percent amidst the 2021–2022 inflation surge, a controversial education policy rollout (including a proposal to lower the starting elementary school age from six to five), controversies over nepotism in personnel appointments, the police bureau proposal, and conflicts within Yoon\\'s People Power Party.[132][133] His decision to investigate Cho was welcomed by the conservative opposition but was condemned by the Democratic Party and its supporters.[25][26][27]\\nAfter Choo Mi-ae was appointed the new minister of justice, she took an action against several prosecutors close to Yoon.[28][29] Choo attributed her decision to Yoon\\'s failure to submit a reorganization plan for his department, which she requested, but this was seen as retaliation by the Blue House for Cho Kuk\\'s prosecution.[30]\\nIn April 2020, Democratic Party lawmakers again attacked Yoon and called on him to resign as the prosecution started investigations into election law violation cases involving both ruling and opposition politicians and also suspected election rigging of the Ulsan mayoral race for Mayor Song Cheol-ho in 2018 by senior secretaries at the Blue House.[31][32][33]\\n The three announced the Camp David Principles, a set of strategies to counter the influence of China, North Korea, and Russia as well as limit the risk of economic disruptions in the future.[124]\\nIn a Reuters interview\\non 19 April 2023, President Yoon Suk Yeol hinted at supplying lethal aid to Ukraine, stating, \"If there is a situation the international community cannot condone, such as any large-scale attack on civilians, massacre or serious violation of the laws of war, it might be difficult for us to insist only on humanitarian or financial support.\" Yoon denied the allegations and reported informant Cho Sung-eun and Director of the National Intellience Service Park Jie-won to the CIO.[50]\\nIn early September, support for PPP primary contender Hong Joon-pyo, who had been the nominee for PPP predecessor Liberty Korea Party in the 2017 presidential election, rose sharply in polls, which made Hong the most significant contender to Yoon since the beginning of the campaign cycle. Yoon later became head of investigations in the special prosecutor team of Park Young-soo, which investigated allegations pertaining to the 2016 Choi Soon-sil scandal involving Choi, Samsung vice-chairman Lee Jae-yong and then-president Park Geun-hye, which led to the impeachment of the president in December 2016.[20]\\nOn 19 May 2017, the newly elected president Moon Jae-in appointed Yoon as chief of the Seoul Central District Prosecutors\\' Office.[15]', 'score': 0.99253935, 'raw_content': None}], 'response_time': 2.18}),\n",
       "  AIMessage(content='현재 대한민국의 대통령은 윤석열(Yoon Suk Yeol)입니다. 그는 2022년 5월 10일에 취임하였으며, 보수 정당인 국민의힘 소속입니다. 윤석열 대통령은 2022년 대선에서 민주당 후보 이재명과의 경합에서 승리하였습니다. \\n\\n더 자세한 정보는 [여기](https://en.wikipedia.org/wiki/Yoon_Suk_Yeol)에서 확인하실 수 있습니다.', additional_kwargs={'refusal': None}, response_metadata={'token_usage': {'completion_tokens': 106, 'prompt_tokens': 1296, 'total_tokens': 1402, 'completion_tokens_details': {'accepted_prediction_tokens': 0, 'audio_tokens': 0, 'reasoning_tokens': 0, 'rejected_prediction_tokens': 0}, 'prompt_tokens_details': {'audio_tokens': 0, 'cached_tokens': 0}}, 'model_name': 'gpt-4o-mini-2024-07-18', 'system_fingerprint': 'fp_0ba0d124f1', 'finish_reason': 'stop', 'logprobs': None}, id='run-9aea5e91-fdd0-445c-9eaf-2abe344c19f4-0', usage_metadata={'input_tokens': 1296, 'output_tokens': 106, 'total_tokens': 1402, 'input_token_details': {'audio': 0, 'cache_read': 0}, 'output_token_details': {'audio': 0, 'reasoning': 0}})]}"
      ]
     },
     "execution_count": 12,
     "metadata": {},
     "output_type": "execute_result"
    }
   ],
   "source": [
    "graph.invoke({\"messages\": {\"role\": \"user\", \"content\": \"지금 한국 대통령은 누구야?\"}})"
   ]
  },
  {
   "cell_type": "markdown",
   "id": "c4acf055-49c8-46ee-ae1d-eff402d7dd0d",
   "metadata": {},
   "source": [
    "### Questions an LLM can answer"
   ]
  },
  {
   "cell_type": "code",
   "execution_count": 13,
   "id": "dd3718bc-390d-458c-a417-e36e3daceb71",
   "metadata": {},
   "outputs": [
    {
     "data": {
      "text/plain": [
       "{'messages': [HumanMessage(content='마이크로소프트가 어떤 회사야?', additional_kwargs={}, response_metadata={}, id='2716ba70-d0f8-4990-a156-ca128b5f6d00'),\n",
       "  AIMessage(content='마이크로소프트(Microsoft)는 미국의 다국적 기술 회사로, 소프트웨어, 전자기기, 컴퓨터 서비스 및 관련 제품을 개발하고 판매하는 기업입니다. 1975년에 빌 게이츠와 폴 앨런에 의해 설립되었으며, 본사는 워싱턴 주 레드몬드에 위치하고 있습니다. \\n\\n마이크로소프트는 주로 다음과 같은 분야에서 활동하고 있습니다:\\n\\n1. **소프트웨어**: 가장 유명한 제품은 운영 체제인 윈도우(Windows)와 오피스(Office) 제품군입니다. 이 외에도 클라우드 서비스인 애저(Azure)와 같은 다양한 소프트웨어 솔루션을 제공합니다.\\n\\n2. **하드웨어**: 서피스(Surface) 라인업의 노트북, 태블릿, 데스크톱 컴퓨터 및 게임 콘솔인 엑스박스(Xbox)도 출시하고 있습니다.\\n\\n3. **클라우드 컴퓨팅**: 기업 고객을 위한 클라우드 서비스와 솔루션을 제공하며, 이는 현재 마이크로소프트의 중요한 성장 분야 중 하나입니다.\\n\\n4. **게임**: 마이크로소프트는 게임 산업에서도 큰 역할을 하고 있으며, 엑스박스 게임 스튜디오 및 다양한 게임 타이틀을 개발하고 퍼블리싱합니다.\\n\\n마이크로소프트는 전 세계적으로 큰 영향력을 미치며, 기술 혁신과 디지털 전환을 주도하는 기업 중 하나로 알려져 있습니다.', additional_kwargs={'refusal': None}, response_metadata={'token_usage': {'completion_tokens': 330, 'prompt_tokens': 89, 'total_tokens': 419, 'completion_tokens_details': {'accepted_prediction_tokens': 0, 'audio_tokens': 0, 'reasoning_tokens': 0, 'rejected_prediction_tokens': 0}, 'prompt_tokens_details': {'audio_tokens': 0, 'cached_tokens': 0}}, 'model_name': 'gpt-4o-mini-2024-07-18', 'system_fingerprint': 'fp_0705bf87c0', 'finish_reason': 'stop', 'logprobs': None}, id='run-ee5d0978-3d36-47fe-a187-0ec971bcf97d-0', usage_metadata={'input_tokens': 89, 'output_tokens': 330, 'total_tokens': 419, 'input_token_details': {'audio': 0, 'cache_read': 0}, 'output_token_details': {'audio': 0, 'reasoning': 0}})]}"
      ]
     },
     "execution_count": 13,
     "metadata": {},
     "output_type": "execute_result"
    }
   ],
   "source": [
    "graph.invoke({\"messages\": {\"role\": \"user\", \"content\": \"마이크로소프트가 어떤 회사야?\"}})"
   ]
  }
 ],
 "metadata": {
  "kernelspec": {
   "display_name": "Python 3 (ipykernel)",
   "language": "python",
   "name": "python3"
  },
  "language_info": {
   "codemirror_mode": {
    "name": "ipython",
    "version": 3
   },
   "file_extension": ".py",
   "mimetype": "text/x-python",
   "name": "python",
   "nbconvert_exporter": "python",
   "pygments_lexer": "ipython3",
   "version": "3.10.12"
  }
 },
 "nbformat": 4,
 "nbformat_minor": 5
}
