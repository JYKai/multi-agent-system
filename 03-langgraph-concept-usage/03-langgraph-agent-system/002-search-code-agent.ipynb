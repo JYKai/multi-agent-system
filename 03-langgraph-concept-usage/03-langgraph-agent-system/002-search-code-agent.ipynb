{
 "cells": [
  {
   "cell_type": "code",
   "execution_count": 1,
   "id": "d49d5040-d1f0-45aa-8518-1b5803bc8db6",
   "metadata": {},
   "outputs": [],
   "source": [
    "import warnings\n",
    "\n",
    "warnings.filterwarnings('ignore')"
   ]
  },
  {
   "cell_type": "markdown",
   "id": "3f9ff3bb-e0ce-4812-b3ee-8cee944aeaf1",
   "metadata": {},
   "source": [
    "### API"
   ]
  },
  {
   "cell_type": "markdown",
   "id": "479eba03-f64f-48f4-9722-ad25a867a3ae",
   "metadata": {},
   "source": [
    "### State"
   ]
  },
  {
   "cell_type": "code",
   "execution_count": 3,
   "id": "095f87e1-635a-4673-975c-ab2b0749fdd9",
   "metadata": {},
   "outputs": [],
   "source": [
    "from typing import Annotated\n",
    "from typing_extensions import TypedDict\n",
    "from langgraph.graph.message import add_messages\n",
    "from langchain_core.messages import SystemMessage, HumanMessage\n",
    "\n",
    "class State(TypedDict):\n",
    "    messages: Annotated[list, add_messages]"
   ]
  },
  {
   "cell_type": "markdown",
   "id": "3a65cc23-cc46-40a8-94cf-90f2f296145f",
   "metadata": {},
   "source": [
    "### Tools setting"
   ]
  },
  {
   "cell_type": "code",
   "execution_count": 4,
   "id": "d8776239-b65f-4e16-b0fd-f0f97191a47e",
   "metadata": {},
   "outputs": [],
   "source": [
    "from langchain_core.tools import tool\n",
    "from langchain_experimental.utilities import PythonREPL\n",
    "from langchain_community.tools.tavily_search import TavilySearchResults\n",
    "\n",
    "from langgraph.prebuilt import ToolNode, tools_condition\n",
    "\n",
    "web_search = TavilySearchResults(max_results=2)\n",
    "repl = PythonREPL()\n",
    "\n",
    "@tool\n",
    "def python_repl(\n",
    "    code: Annotated[str, \"The python code to execute to generate your chart.\"]\n",
    "):\n",
    "    \"\"\"Use this to execute python code. If you want to see the output of a value,\n",
    "    you should print it out with `print(...)`. chart labels should be written in English.\n",
    "    This is visible to the user.\"\"\"\n",
    "    try:\n",
    "        result = repl.run(code)\n",
    "    except BaseException as e:\n",
    "        return f\"Failed to execute. Error: {repr(e)}\"\n",
    "    result_str = f\"Successfully executed:\\n```python\\n{code}\\n```\\nStdout: {result}\"\n",
    "    return (\n",
    "        result_str + \"\\n\\nIf you have completed all tasks, respond with FINAL ANSWER.\"\n",
    "    )\n",
    "\n",
    "tools  = [web_search, python_repl]\n",
    "tool_node = ToolNode(tools)"
   ]
  },
  {
   "cell_type": "markdown",
   "id": "00d71ce5-afae-4d26-9b55-537cfc5f01ea",
   "metadata": {},
   "source": [
    "### Agent"
   ]
  },
  {
   "cell_type": "code",
   "execution_count": 5,
   "id": "8ae45980-c062-4cfd-9c1b-6a36cc932181",
   "metadata": {},
   "outputs": [],
   "source": [
    "from langchain_openai import ChatOpenAI\n",
    "\n",
    "llm = ChatOpenAI(model=\"gpt-4o-mini\")\n",
    "llm_with_tools = llm.bind_tools(tools)\n",
    "\n",
    "def agent(state: State):\n",
    "    result = llm_with_tools.invoke(state[\"messages\"])\n",
    "    return {\"messages\": [result]}"
   ]
  },
  {
   "cell_type": "code",
   "execution_count": 6,
   "id": "88b81078-d88b-4f7f-8823-858be0b45cbc",
   "metadata": {},
   "outputs": [],
   "source": [
    "def should_continue(state):\n",
    "    messages = state[\"messages\"]\n",
    "    last_message = messages[-1]\n",
    "    if not last_message.tool_calls:\n",
    "        return 'end'\n",
    "    else:\n",
    "        return 'continue'"
   ]
  },
  {
   "cell_type": "code",
   "execution_count": 8,
   "id": "110df28f-e3aa-4904-84a9-37dd4477f0ef",
   "metadata": {},
   "outputs": [],
   "source": [
    "from langgraph.prebuilt import tools_condition\n",
    "from langgraph.graph import StateGraph, START, END\n",
    "from langgraph.checkpoint.memory import MemorySaver\n",
    "\n",
    "workflow = StateGraph(State)\n",
    "\n",
    "workflow.add_node(\"agent\", agent)\n",
    "workflow.add_node(\"tool\", tool_node)\n",
    "\n",
    "workflow.add_edge(START, \"agent\")\n",
    "workflow.add_conditional_edges(\n",
    "    \"agent\",\n",
    "    should_continue,\n",
    "    {\n",
    "        \"continue\": \"tool\",\n",
    "        \"end\": END\n",
    "    },\n",
    ")\n",
    "workflow.add_edge(\"tool\", \"agent\")\n",
    "\n",
    "memory = MemorySaver()\n",
    "\n",
    "graph = workflow.compile(checkpointer=memory, interrupt_before=[\"tool\"])"
   ]
  },
  {
   "cell_type": "code",
   "execution_count": 9,
   "id": "99b1a11d-734e-4346-978f-79a71ed24a80",
   "metadata": {},
   "outputs": [
    {
     "data": {
      "image/jpeg": "[encoded data removed]",
      "text/plain": [
       "<IPython.core.display.Image object>"
      ]
     },
     "metadata": {},
     "output_type": "display_data"
    }
   ],
   "source": [
    "from IPython.display import Image, display\n",
    "\n",
    "display(Image(graph.get_graph().draw_mermaid_png()))"
   ]
  },
  {
   "cell_type": "code",
   "execution_count": 10,
   "id": "7ac39a2d-008e-4633-b4e8-a480cdb68c63",
   "metadata": {},
   "outputs": [
    {
     "name": "stdout",
     "output_type": "stream",
     "text": [
      "Receiving update from node: 'agent'\n",
      "{'messages': [AIMessage(content='', additional_kwargs={'tool_calls': [{'id': 'call_kr1KW12YRJkhLXkDwrhFyTwI', 'function': {'arguments': '{\"query\":\"LLM agent 연구 개발 현황 2024\"}', 'name': 'tavily_search_results_json'}, 'type': 'function'}], 'refusal': None}, response_metadata={'token_usage': {'completion_tokens': 27, 'prompt_tokens': 181, 'total_tokens': 208, 'completion_tokens_details': {'accepted_prediction_tokens': 0, 'audio_tokens': 0, 'reasoning_tokens': 0, 'rejected_prediction_tokens': 0}, 'prompt_tokens_details': {'audio_tokens': 0, 'cached_tokens': 0}}, 'model_name': 'gpt-4o-mini-2024-07-18', 'system_fingerprint': 'fp_0705bf87c0', 'finish_reason': 'tool_calls', 'logprobs': None}, id='run-160319e6-490f-49b3-8bc3-125e2826727a-0', tool_calls=[{'name': 'tavily_search_results_json', 'args': {'query': 'LLM agent 연구 개발 현황 2024'}, 'id': 'call_kr1KW12YRJkhLXkDwrhFyTwI', 'type': 'tool_call'}], usage_metadata={'input_tokens': 181, 'output_tokens': 27, 'total_tokens': 208, 'input_token_details': {'audio': 0, 'cache_read': 0}, 'output_token_details': {'audio': 0, 'reasoning': 0}})]}\n",
      "\n",
      "\n",
      "\n",
      "Receiving update from node: '__interrupt__'\n",
      "()\n",
      "\n",
      "\n",
      "\n"
     ]
    }
   ],
   "source": [
    "initial_input = {\"messages\": [HumanMessage(content=\"LLM agent의 연구 및 개발이 어떻게 이루어지고 있는지 표로 나타내줘(현재, 2024년 11월 25일)\")]}\n",
    "thread = {\"configurable\": {\"thread_id\": \"13\"}}\n",
    "\n",
    "async for chunk in graph.astream(initial_input, thread, stream_mode=\"updates\"):\n",
    "    for node, values in chunk.items():\n",
    "        print(f\"Receiving update from node: '{node}'\")\n",
    "        print(values)\n",
    "        print(\"\\n\\n\")"
   ]
  },
  {
   "cell_type": "code",
   "execution_count": 11,
   "id": "bdc02e4d-f473-4b1a-97ac-47c60a9e08a7",
   "metadata": {},
   "outputs": [
    {
     "name": "stdout",
     "output_type": "stream",
     "text": [
      "Receiving update from node: 'tool'\n",
      "{'messages': [ToolMessage(content='[{\"url\": \"https://www.lgresearch.ai/blog/view?seq=484\", \"content\": \"ACL 2024, LLM, LLM 신뢰성 평가 ... Reflexion: Language agents with verbal rein- forcement learning. In NeurIPS. [7] Noah Siegel, Oana-Maria Camburu, Nicolas Heess, and Maria Perez-Ortiz. 2024. The Probabilities Also Matter: A More Faithful Metric for Faithfulness of Free-Text Explanations in Large Language Models. In Proceedings of the\"}, {\"url\": \"https://openreview.net/group?id=ICLR.cc/2024/Workshop/LLMAgents\", \"content\": \"Welcome to the OpenReview homepage for ICLR 2024 Workshop LLMAgents. Toggle navigation OpenReview.net. Login; Open Peer Review. Open Publishing. Open Access. Open Discussion. Open Recommendations. Open Directory. Open API. Open Source.\"}]', name='tavily_search_results_json', id='9a4cd28d-2cec-4d28-8c0d-3408b4dafcec', tool_call_id='call_kr1KW12YRJkhLXkDwrhFyTwI', artifact={'query': 'LLM agent 연구 개발 현황 2024', 'follow_up_questions': None, 'answer': None, 'images': [], 'results': [{'title': '[Acl 2024] Llm 신뢰성에 대한 평가 방법론과 효율성 연구의 트렌드', 'url': 'https://www.lgresearch.ai/blog/view?seq=484', 'content': 'ACL 2024, LLM, LLM 신뢰성 평가 ... Reflexion: Language agents with verbal rein- forcement learning. In NeurIPS. [7] Noah Siegel, Oana-Maria Camburu, Nicolas Heess, and Maria Perez-Ortiz. 2024. The Probabilities Also Matter: A More Faithful Metric for Faithfulness of Free-Text Explanations in Large Language Models. In Proceedings of the', 'score': 0.9904406, 'raw_content': None}, {'title': 'ICLR 2024 Workshop LLMAgents - OpenReview', 'url': 'https://openreview.net/group?id=ICLR.cc/2024/Workshop/LLMAgents', 'content': 'Welcome to the OpenReview homepage for ICLR 2024 Workshop LLMAgents. Toggle navigation OpenReview.net. Login; Open Peer Review. Open Publishing. Open Access. Open Discussion. Open Recommendations. Open Directory. Open API. Open Source.', 'score': 0.97863114, 'raw_content': None}], 'response_time': 3.49})]}\n",
      "\n",
      "\n",
      "\n",
      "Receiving update from node: 'agent'\n",
      "{'messages': [AIMessage(content='', additional_kwargs={'tool_calls': [{'id': 'call_0R3Hxajoc3r6jVD5vSqBjlyM', 'function': {'arguments': '{\"query\":\"LLM agent 연구 개발 동향 2024\"}', 'name': 'tavily_search_results_json'}, 'type': 'function'}], 'refusal': None}, response_metadata={'token_usage': {'completion_tokens': 27, 'prompt_tokens': 418, 'total_tokens': 445, 'completion_tokens_details': {'accepted_prediction_tokens': 0, 'audio_tokens': 0, 'reasoning_tokens': 0, 'rejected_prediction_tokens': 0}, 'prompt_tokens_details': {'audio_tokens': 0, 'cached_tokens': 0}}, 'model_name': 'gpt-4o-mini-2024-07-18', 'system_fingerprint': 'fp_0705bf87c0', 'finish_reason': 'tool_calls', 'logprobs': None}, id='run-d27556fb-97e6-4f08-925e-d6840dc5f87f-0', tool_calls=[{'name': 'tavily_search_results_json', 'args': {'query': 'LLM agent 연구 개발 동향 2024'}, 'id': 'call_0R3Hxajoc3r6jVD5vSqBjlyM', 'type': 'tool_call'}], usage_metadata={'input_tokens': 418, 'output_tokens': 27, 'total_tokens': 445, 'input_token_details': {'audio': 0, 'cache_read': 0}, 'output_token_details': {'audio': 0, 'reasoning': 0}})]}\n",
      "\n",
      "\n",
      "\n",
      "Receiving update from node: '__interrupt__'\n",
      "()\n",
      "\n",
      "\n",
      "\n"
     ]
    }
   ],
   "source": [
    "async for chunk in graph.astream(None, thread, stream_mode=\"updates\"):\n",
    "    for node, values in chunk.items():\n",
    "        print(f\"Receiving update from node: '{node}'\")\n",
    "        print(values)\n",
    "        print(\"\\n\\n\")"
   ]
  },
  {
   "cell_type": "code",
   "execution_count": 12,
   "id": "d5861a77-0cf7-4f9a-9513-5aa80d9c4837",
   "metadata": {},
   "outputs": [
    {
     "name": "stdout",
     "output_type": "stream",
     "text": [
      "Receiving update from node: 'tool'\n",
      "{'messages': [ToolMessage(content='[{\"url\": \"https://www.lgresearch.ai/blog/view?seq=473\", \"content\": \"BLOG&NEWS RESEARCH BLOG BLOG&NEWS RESEARCH BLOG RECRUIT LOCATION RESEARCH BLOG [1] Wang, Haoxiang, et al. \\\\\"Prometheus 2: An Open Source Language Model Specialized in Evaluating Other Language Models.\\\\\" arXiv preprint arXiv:2405.01535 (2024).[3] Zheng, Lianmin, et al. \\\\\"Jailbreak and Guard Aligned Language Models with Only Few In-context Demonstrations.\\\\\" arXiv preprint arXiv:2310.06387 (2023). \\\\\"Jailbreaking Black Box Large Language Models in Twenty Queries.\\\\\" arXiv preprint arXiv:2310.08419 (2023). \\\\\"Direct Preference Optimization: Your Language Model is Secretly a Reward Model.\\\\\" Advances in Neural Information Processing Systems 36 (2024). \\\\\"Smoothllm: Defending Large Language Models Against Jailbreaking Attacks.\\\\\" arXiv preprint arXiv:2310.03684 (2023).\"}, {\"url\": \"https://www.skelterlabs.com/blog/2024-year-of-the-rag\", \"content\": \"[무료 다운로드] 2024 생성형 AI 활용서 :: 법률(legal) 편\\\\nGenerative AI UX Pattern: (4) AI Loading\\\\nLLM 챗봇 BELLA QNA ::\\\\n주요 대화 스펙과 핵심 기능 해부하기\\\\nProduct\\\\nSolutions\\\\nCompany\\\\nBlog\\\\nCareer\\\\nResource Center\\\\n뉴스레터 구독\\\\n대화형 인공지능과 스켈터랩스의 소식을가장 먼저 만나보세요\\\\n개인 정보 처리 방침 BELLA QNA\\\\nAIQ⁺Chat\\\\nAIQ⁺Answer\\\\nAIQ⁺Speech\\\\n금융, 보험\\\\n리테일, 커머스\\\\n공공기관\\\\n2024 Year Of The RAG :: RAG가 주목 받는 이유와 미래 동향\\\\n2024년에 RAG가 주목 받는 이유, 장점, 작동 방식, 그리고 파인튜닝 방식과의 비교 등 RAG의 기초 상식을 살펴보도록 하겠습니다.\\\\n \\u200d\\\\n\\u200d\\\\n-\\\\n\\u200d\\\\nReferenceshttps://scale.com/blog/retrieval-augmented-generation-to-enhance-llms\\xa0https://positivethinking.tech/insights/llm-mini-series-parallel-multi-document-question-answering-with-llama-index-and-retrieval-augmented-generation/\\xa0https://www.singlestore.com/blog/a-guide-to-retrieval-augmented-generation-rag/\\xa0https://www.oracle.com/kr/artificial-intelligence/generative-ai/retrieval-augmented-generation-rag/#chat-appshttps://medium.com/@aldendorosario/2024-year-of-the-rag-581f7fd423f4\\xa0https://research.ibm.com/blog/retrieval-augmented-generation-RAG\\\\nLatest articles\\\\n 📖 목차• RAG 란?• RAG가 주목 받는 이유• RAG의 장점 3가지• RAG 작동 방식• RAG vs. Fine-tuning(파인튜닝)• RAG의 미래 동향\\\\n\\u200d\\\\n📍RAG란?\\\\nRetrieval-augmented generation(RAG; 검색증강생성)은 외부 지식 베이스에서 사실을 검색하여 대형 언어 모델(LLM)을 가장 정확하고 최신의 정보에 근거하는 AI 프레임워크입니다.\\\\n 맞춤 LLM을 위한 선택 가이드’ 블로그 글에서 확인하실 수 있습니다.\\\\n\\u200d\\\\n📍RAG 미래 동향\\\\nRAG의 미래는 개인화와 확장성 그리고 정확성에 초점을 맞추며, 다양한 데이터를 처리하고 실시간으로 반응하는 더 똑똑한 시스템으로 발전할 것으로 전망됩니다.\\\\n\"}]', name='tavily_search_results_json', id='aa73e1ba-6ae2-45fe-929c-c67b1a685dfe', tool_call_id='call_0R3Hxajoc3r6jVD5vSqBjlyM', artifact={'query': 'LLM agent 연구 개발 동향 2024', 'follow_up_questions': None, 'answer': None, 'images': [], 'results': [{'title': '[ACL 2024] LLM 연구의 최신 트렌드와 주요 인사이트 - LG AI Research BLOG', 'url': 'https://www.lgresearch.ai/blog/view?seq=473', 'content': 'BLOG&NEWS RESEARCH BLOG BLOG&NEWS RESEARCH BLOG RECRUIT LOCATION RESEARCH BLOG [1] Wang, Haoxiang, et al. \"Prometheus 2: An Open Source Language Model Specialized in Evaluating Other Language Models.\" arXiv preprint arXiv:2405.01535 (2024).[3] Zheng, Lianmin, et al. \"Jailbreak and Guard Aligned Language Models with Only Few In-context Demonstrations.\" arXiv preprint arXiv:2310.06387 (2023). \"Jailbreaking Black Box Large Language Models in Twenty Queries.\" arXiv preprint arXiv:2310.08419 (2023). \"Direct Preference Optimization: Your Language Model is Secretly a Reward Model.\" Advances in Neural Information Processing Systems 36 (2024). \"Smoothllm: Defending Large Language Models Against Jailbreaking Attacks.\" arXiv preprint arXiv:2310.03684 (2023).', 'score': 0.98558, 'raw_content': None}, {'title': '2024 Year Of The RAG :: RAG가 주목 받는 이유와 미래 동향', 'url': 'https://www.skelterlabs.com/blog/2024-year-of-the-rag', 'content': '[무료 다운로드] 2024 생성형 AI 활용서 :: 법률(legal) 편\\nGenerative AI UX Pattern: (4) AI Loading\\nLLM 챗봇 BELLA QNA ::\\n주요 대화 스펙과 핵심 기능 해부하기\\nProduct\\nSolutions\\nCompany\\nBlog\\nCareer\\nResource Center\\n뉴스레터 구독\\n대화형 인공지능과 스켈터랩스의 소식을가장 먼저 만나보세요\\n개인 정보 처리 방침 BELLA QNA\\nAIQ⁺Chat\\nAIQ⁺Answer\\nAIQ⁺Speech\\n금융, 보험\\n리테일, 커머스\\n공공기관\\n2024 Year Of The RAG :: RAG가 주목 받는 이유와 미래 동향\\n2024년에 RAG가 주목 받는 이유, 장점, 작동 방식, 그리고 파인튜닝 방식과의 비교 등 RAG의 기초 상식을 살펴보도록 하겠습니다.\\n \\u200d\\n\\u200d\\n-\\n\\u200d\\nReferenceshttps://scale.com/blog/retrieval-augmented-generation-to-enhance-llms\\xa0https://positivethinking.tech/insights/llm-mini-series-parallel-multi-document-question-answering-with-llama-index-and-retrieval-augmented-generation/\\xa0https://www.singlestore.com/blog/a-guide-to-retrieval-augmented-generation-rag/\\xa0https://www.oracle.com/kr/artificial-intelligence/generative-ai/retrieval-augmented-generation-rag/#chat-appshttps://medium.com/@aldendorosario/2024-year-of-the-rag-581f7fd423f4\\xa0https://research.ibm.com/blog/retrieval-augmented-generation-RAG\\nLatest articles\\n 📖 목차• RAG 란?• RAG가 주목 받는 이유• RAG의 장점 3가지• RAG 작동 방식• RAG vs. Fine-tuning(파인튜닝)• RAG의 미래 동향\\n\\u200d\\n📍RAG란?\\nRetrieval-augmented generation(RAG; 검색증강생성)은 외부 지식 베이스에서 사실을 검색하여 대형 언어 모델(LLM)을 가장 정확하고 최신의 정보에 근거하는 AI 프레임워크입니다.\\n 맞춤 LLM을 위한 선택 가이드’ 블로그 글에서 확인하실 수 있습니다.\\n\\u200d\\n📍RAG 미래 동향\\nRAG의 미래는 개인화와 확장성 그리고 정확성에 초점을 맞추며, 다양한 데이터를 처리하고 실시간으로 반응하는 더 똑똑한 시스템으로 발전할 것으로 전망됩니다.\\n', 'score': 0.98359, 'raw_content': None}], 'response_time': 3.29})]}\n",
      "\n",
      "\n",
      "\n",
      "Receiving update from node: 'agent'\n",
      "{'messages': [AIMessage(content='다음은 LLM(대형 언어 모델) 에이전트의 연구 및 개발 동향에 대한 표입니다.\\n\\n| 날짜          | 연구/개발 진행 상황                                                                                                   | 주요 내용 및 기술                                          | 참고 자료                                       |\\n|---------------|---------------------------------------------------------------------------------------------------------------------|---------------------------------------------------------|-------------------------------------------------|\\n| 2024년 11월 25일 | Reflexion: 언어 에이전트의 언어 강화 학습 연구 발표                                                            | 언어 모델의 신뢰성 평가 및 향상 기술                    | [LG Research](https://www.lgresearch.ai/blog/view?seq=484) |\\n| 2024년 11월 25일 | Prometheus 2 공개: 다른 언어 모델을 평가하기 위한 오픈 소스 언어 모델 개발                                     | 언어 모델 간 비교 및 평가 방법론                       | [LG Research](https://www.lgresearch.ai/blog/view?seq=473) |\\n| 2024년 11월 25일 | RAG(검색 증강 생성) 기술의 부상 및 연구                                                                          | 데이터 검색 및 실시간 정보 반응 시스템 발전 전망      | [Skelter Labs](https://www.skelterlabs.com/blog/2024-year-of-the-rag) |\\n| 2024년 11월 25일 | ICLR 2024 워크숍에서 LLM 에이전트 관련 연구 발표                                                               | 언어 모델의 안전성 및 효율성 증대에 관한 논의          | [OpenReview](https://openreview.net/group?id=ICLR.cc/2024/Workshop/LLMAgents) |\\n\\n이 표는 LLM 에이전트의 연구 및 개발이 어떻게 진행되고 있는지를 요약한 것입니다. 각 항목은 연구 내용, 기술적 접근 및 관련 자료를 포함하고 있습니다.', additional_kwargs={'refusal': None}, response_metadata={'token_usage': {'completion_tokens': 379, 'prompt_tokens': 1346, 'total_tokens': 1725, 'completion_tokens_details': {'accepted_prediction_tokens': 0, 'audio_tokens': 0, 'reasoning_tokens': 0, 'rejected_prediction_tokens': 0}, 'prompt_tokens_details': {'audio_tokens': 0, 'cached_tokens': 0}}, 'model_name': 'gpt-4o-mini-2024-07-18', 'system_fingerprint': 'fp_0705bf87c0', 'finish_reason': 'stop', 'logprobs': None}, id='run-93996a5b-d3aa-4b98-9487-ab94bf9f39ec-0', usage_metadata={'input_tokens': 1346, 'output_tokens': 379, 'total_tokens': 1725, 'input_token_details': {'audio': 0, 'cache_read': 0}, 'output_token_details': {'audio': 0, 'reasoning': 0}})]}\n",
      "\n",
      "\n",
      "\n"
     ]
    }
   ],
   "source": [
    "async for chunk in graph.astream(None, thread, stream_mode=\"updates\"):\n",
    "    for node, values in chunk.items():\n",
    "        print(f\"Receiving update from node: '{node}'\")\n",
    "        print(values)\n",
    "        print(\"\\n\\n\")"
   ]
  },
  {
   "cell_type": "code",
   "execution_count": 21,
   "id": "ea2cd7dc-f221-4d4e-9bfb-8c9df6fe39f5",
   "metadata": {},
   "outputs": [
    {
     "data": {
      "text/plain": [
       "'다음은 LLM(대형 언어 모델) 에이전트의 연구 및 개발 동향에 대한 표입니다.\\n\\n| 날짜          | 연구/개발 진행 상황                                                                                                   | 주요 내용 및 기술                                          | 참고 자료                                       |\\n|---------------|---------------------------------------------------------------------------------------------------------------------|---------------------------------------------------------|-------------------------------------------------|\\n| 2024년 11월 25일 | Reflexion: 언어 에이전트의 언어 강화 학습 연구 발표                                                            | 언어 모델의 신뢰성 평가 및 향상 기술                    | [LG Research](https://www.lgresearch.ai/blog/view?seq=484) |\\n| 2024년 11월 25일 | Prometheus 2 공개: 다른 언어 모델을 평가하기 위한 오픈 소스 언어 모델 개발                                     | 언어 모델 간 비교 및 평가 방법론                       | [LG Research](https://www.lgresearch.ai/blog/view?seq=473) |\\n| 2024년 11월 25일 | RAG(검색 증강 생성) 기술의 부상 및 연구                                                                          | 데이터 검색 및 실시간 정보 반응 시스템 발전 전망      | [Skelter Labs](https://www.skelterlabs.com/blog/2024-year-of-the-rag) |\\n| 2024년 11월 25일 | ICLR 2024 워크숍에서 LLM 에이전트 관련 연구 발표                                                               | 언어 모델의 안전성 및 효율성 증대에 관한 논의          | [OpenReview](https://openreview.net/group?id=ICLR.cc/2024/Workshop/LLMAgents) |\\n\\n이 표는 LLM 에이전트의 연구 및 개발이 어떻게 진행되고 있는지를 요약한 것입니다. 각 항목은 연구 내용, 기술적 접근 및 관련 자료를 포함하고 있습니다.'"
      ]
     },
     "execution_count": 21,
     "metadata": {},
     "output_type": "execute_result"
    }
   ],
   "source": [
    "values['messages'][0].content"
   ]
  },
  {
   "cell_type": "code",
   "execution_count": null,
   "id": "a614cf8a-5884-478a-be4d-f6016667ae01",
   "metadata": {},
   "outputs": [],
   "source": []
  }
 ],
 "metadata": {
  "kernelspec": {
   "display_name": "Python 3 (ipykernel)",
   "language": "python",
   "name": "python3"
  },
  "language_info": {
   "codemirror_mode": {
    "name": "ipython",
    "version": 3
   },
   "file_extension": ".py",
   "mimetype": "text/x-python",
   "name": "python",
   "nbconvert_exporter": "python",
   "pygments_lexer": "ipython3",
   "version": "3.10.12"
  }
 },
 "nbformat": 4,
 "nbformat_minor": 5
}
