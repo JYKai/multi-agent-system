{
 "cells": [
  {
   "cell_type": "markdown",
   "id": "6bfef919-69e9-4fbb-8068-55a696277973",
   "metadata": {},
   "source": [
    "### API"
   ]
  },
  {
   "cell_type": "markdown",
   "id": "2fed0d30-91dd-4802-8957-f6b0af0020ea",
   "metadata": {},
   "source": [
    "## Tools"
   ]
  },
  {
   "cell_type": "markdown",
   "id": "2dde3cb4-c1e0-46ae-989e-c9238d2e92ad",
   "metadata": {},
   "source": [
    "### Web search & Scrapping"
   ]
  },
  {
   "cell_type": "code",
   "execution_count": 2,
   "id": "038a437f-a0b0-4763-aae9-51009ae8e039",
   "metadata": {},
   "outputs": [
    {
     "name": "stderr",
     "output_type": "stream",
     "text": [
      "USER_AGENT environment variable not set, consider setting it to identify your requests.\n"
     ]
    }
   ],
   "source": [
    "from typing import Annotated, List\n",
    "\n",
    "from langchain_core.tools import tool\n",
    "from langchain_community.document_loaders import WebBaseLoader\n",
    "from langchain_community.tools.tavily_search import TavilySearchResults\n",
    "\n",
    "tavily_tool = TavilySearchResults(max_results=10)\n",
    "\n",
    "@tool\n",
    "def scrape_webpages(urls: List[str]) -> str:\n",
    "    \"\"\"\n",
    "    Scrape the provided web pages to extract detailed textual information.\n",
    "    \n",
    "    This function uses the WebBaseLoader to load and parse the content of the given URLs.\n",
    "    It retrieves and processes the raw HTML, extracting readable text for further analysis.\n",
    "    The results are returned as a single formatted string, where each web page's content\n",
    "    is separated by line breaks for clarity.\n",
    "    \"\"\"\n",
    "    loader = WebBaseLoader(urls)\n",
    "    docs = loader.load()\n",
    "    return \"\\n\\n\".join(\n",
    "        [\n",
    "            f\"\\n{doc.page_content}\\n\"\n",
    "            for doc in docs\n",
    "        ]\n",
    "    )\n",
    "    "
   ]
  },
  {
   "cell_type": "markdown",
   "id": "1a1719d4-2151-4a9f-88cd-de6908b58bdb",
   "metadata": {},
   "source": [
    "### Text To Speech(TTS)"
   ]
  },
  {
   "cell_type": "code",
   "execution_count": 3,
   "id": "dd93168c-c73a-4f77-833b-026d0daf01ef",
   "metadata": {},
   "outputs": [],
   "source": [
    "from pathlib import Path\n",
    "from openai import OpenAI\n",
    "from langchain_core.tools import tool\n",
    "\n",
    "@tool\n",
    "def text_to_speech(text: str, voice: str, output_filename: str) -> str:\n",
    "    \"\"\"\n",
    "    Converts text to speech using OpenAI's TTS API, saving the audio file locally with a dynamic filename.\n",
    "\n",
    "    Args:\n",
    "        text (str): The text to convert to speech.\n",
    "        voice (str): The voice model to use for speech synthesis. Options include:\n",
    "                     - 'alloy', 'echo', 'fable', 'onyx', 'nova', 'shimmer'.\n",
    "        output_filename (str): The name for the output audio file, including file extension (e.g., 'output.mp3').\n",
    "\n",
    "    Returns:\n",
    "        str: The path to the saved audio file.\n",
    "    \"\"\"\n",
    "    client = OpenAI()\n",
    "    speech_file_path = Path(output_filename)\n",
    "    response = client.audio.speech.create(model='tts-1-hd', voice=voice, input=text)\n",
    "    response.stream_to_file(speech_file_path)\n",
    "    return str(speech_file_path)"
   ]
  },
  {
   "cell_type": "markdown",
   "id": "caf23b6c-763c-4d27-8194-6129218b03be",
   "metadata": {},
   "source": [
    "### Combine given audio segments"
   ]
  },
  {
   "cell_type": "code",
   "execution_count": 4,
   "id": "d237b540-3163-416f-8004-d1d9b9137b08",
   "metadata": {},
   "outputs": [
    {
     "name": "stderr",
     "output_type": "stream",
     "text": [
      "/usr/local/lib/python3.10/dist-packages/pydub/utils.py:170: RuntimeWarning: Couldn't find ffmpeg or avconv - defaulting to ffmpeg, but may not work\n",
      "  warn(\"Couldn't find ffmpeg or avconv - defaulting to ffmpeg, but may not work\", RuntimeWarning)\n"
     ]
    }
   ],
   "source": [
    "from pydub import AudioSegment\n",
    "\n",
    "@tool\n",
    "def edit_podcast_audio(segments: List[str], pauses_between_segments: int = 100, output_filename: str = \"final_podcast_episode.mp3\") -> str:\n",
    "    \"\"\"\n",
    "    Edits a podcast episode by combining audio segments with specified pauses between them, ensuring consistent volume.\n",
    "\n",
    "    Args:\n",
    "        segments (List[str]): List of paths to audio segment files.\n",
    "        pauses_between_segments (int): Duration of pause between segments in milliseconds. Default is 1000.\n",
    "        output_filename (str): The name for the output podcast file, including file extension (e.g., 'episode.mp3').\n",
    "\n",
    "    Returns:\n",
    "        str: The path to the saved podcast episode.\n",
    "    \"\"\"\n",
    "    podcast_episode = AudioSegment.silent(duration=0) # Initialize an empty audio segment\n",
    "\n",
    "    for segment_path in segments:\n",
    "        segment = AudioSegment.from_file(segment_path)\n",
    "        podcast_episode += AudioSegment.silent(duration=pauses_between_segments) + segment # Append with pause\n",
    "\n",
    "    podcast_episode = podcast_episode.normalize() # Normalizer volume\n",
    "    podcast_episode.export(output_filename, format='mp3')\n",
    "\n",
    "    return output_filename"
   ]
  },
  {
   "cell_type": "code",
   "execution_count": 5,
   "id": "f8658151-953a-4ec0-8594-df7189f089cf",
   "metadata": {},
   "outputs": [],
   "source": [
    "tools = [\n",
    "    tavily_tool,\n",
    "    scrape_webpages,\n",
    "    text_to_speech,\n",
    "    edit_podcast_audio\n",
    "]"
   ]
  },
  {
   "cell_type": "markdown",
   "id": "3ffa927b-a8f5-4cd3-87f3-a2bfca1325d3",
   "metadata": {},
   "source": [
    "## Sub-agents & Supervisor agent"
   ]
  },
  {
   "cell_type": "code",
   "execution_count": 6,
   "id": "90cf14c9-a361-4b38-89ef-1d1c893d59e9",
   "metadata": {},
   "outputs": [],
   "source": [
    "from typing import List, Optional\n",
    "\n",
    "from langchain_openai import ChatOpenAI\n",
    "from langchain_core.messages import HumanMessage\n",
    "from langchain_core.prompts import ChatPromptTemplate, MessagesPlaceholder\n",
    "from langchain.output_parsers.openai_functions import JsonOutputFunctionsParser\n",
    "\n",
    "from langgraph.graph import StateGraph, START, END\n",
    "\n",
    "def agent_node(state, agent, name):\n",
    "    result = agent.invoke(state)\n",
    "    return {\"messages\": [HumanMessage(acontent=result[\"messages\"][-1].content, name=name)]}\n",
    "\n",
    "def create_team_supervisor(llm: ChatOpenAI, system_prompt, members) -> str:\n",
    "    \"\"\"An LLM-based router.\"\"\"\n",
    "    options = [\"FINISH\"] + members\n",
    "    function_def = {\n",
    "        \"name\": \"route\",\n",
    "        \"description\": \"Select the next role.\",\n",
    "        \"parameters\": {\n",
    "            \"title\": \"routeSchema\",\n",
    "            \"type\": \"object\",\n",
    "            \"properties\": {\n",
    "                \"next\": {\n",
    "                    \"title\": \"Next\",\n",
    "                    \"anyOf\": [\n",
    "                        {\"enum\": options},\n",
    "                    ],\n",
    "                },\n",
    "            },\n",
    "            \"required\": [\"next\"],\n",
    "        },\n",
    "    }\n",
    "    prompt = ChatPromptTemplate.from_messages(\n",
    "        [\n",
    "            (\"system\", system_prompt),\n",
    "            MessagesPlaceholder(variable_name=\"messages\"),\n",
    "            (\n",
    "                \"system\",\n",
    "                \"Given the conversation above, who should act next?\"\n",
    "                \" Or should we FINISH? Select one of: {options}\"\n",
    "            )\n",
    "        ]\n",
    "    ).partial(options=str(options), team_members=\", \".join(members))\n",
    "\n",
    "    return (\n",
    "        prompt\n",
    "        | llm.bind_functions(functions=[function_def], function_call=\"route\")\n",
    "        | JsonOutputFunctionsParser()\n",
    "    )"
   ]
  },
  {
   "cell_type": "markdown",
   "id": "28efeb1b-5aa7-41c3-9493-45cf8a72d903",
   "metadata": {},
   "source": [
    "## Research Team"
   ]
  },
  {
   "cell_type": "code",
   "execution_count": 34,
   "id": "17f726f1-cb2c-407d-8881-48a5a73cd1d0",
   "metadata": {},
   "outputs": [],
   "source": [
    "import functools\n",
    "import operator\n",
    "from typing_extensions import TypedDict\n",
    "\n",
    "from langchain_openai.chat_models import ChatOpenAI\n",
    "from langchain_core.messages import BaseMessage, HumanMessage\n",
    "from langgraph.prebuilt import create_react_agent\n",
    "\n",
    "\n",
    "class ResearchTeamState(TypedDict):\n",
    "    messages: Annotated[List[BaseMessage], operator.add]\n",
    "    team_members: List[str]\n",
    "    next: str\n",
    "\n",
    "llm = ChatOpenAI(model=\"gpt-4o\", max_tokens=10000)\n",
    "\n",
    "# Team member(agent) : Search\n",
    "search_system = \"\"\"\n",
    "You are a search specialist in a research team tasked with finding relevant and up-to-date information to support podcast content generation. Your primary tool is the Tavily search engine.\n",
    "\n",
    "### Your Responsibilities:\n",
    "1. **Understand the User's Request**:\n",
    "   - Analyze the user's query or question to identify the key topics and intent.\n",
    "2. **Formulate Precise Search Queries**:\n",
    "   - Create effective and well-targeted search queries to maximize the quality and relevance of results.\n",
    "3. **Utilize the Tavily Search Tool**:\n",
    "   - Leverage the Tavily search engine to retrieve accurate and up-to-date information.\n",
    "4. **Summarize Key Findings**:\n",
    "   - Organize the most relevant information into clear and concise summaries tailored to the user’s request.\n",
    "5. **Refine the Search Process** (if needed):\n",
    "   - If the results are incomplete or lack relevance, refine your queries and perform additional searches to fill the gaps.\n",
    "\n",
    "### Guidelines for Quality:\n",
    "- **Accuracy**: Always ensure the information you provide is correct and backed by reliable sources.\n",
    "- **Relevance**: Focus on information that directly addresses the user’s needs.\n",
    "- **Transparency**: If no sufficient or satisfactory information is available, clearly communicate the limitations and suggest alternative approaches.\n",
    "\n",
    "Your goal is to deliver search results that are not only accurate and relevant but also presented in a way that enhances the podcast creation process.\n",
    "\"\"\"\n",
    "search_agent = create_react_agent(llm, tools=[tavily_tool], state_modifier=search_system)\n",
    "search_node = functools.partial(agent_node, agent=search_agent, name=\"Search\")\n",
    "\n",
    "\n",
    "# Team member(agent) : WebScraper\n",
    "webscraper_system = \"\"\"\n",
    "You are a web scraping specialist in a research team. Your primary role is to extract detailed and relevant information from specific web pages using the `scrape_webpages` tool.\n",
    "\n",
    "### Your Responsibilities:\n",
    "1. **Analyze the Provided URLs**:\n",
    "   - Review and understand the URLs or web pages provided, often as a result of the Search agent's findings.\n",
    "   - Identify the key sections or elements on the web pages that are most relevant to the research topic.\n",
    "\n",
    "2. **Scrape Content Using the `scrape_webpages` Tool**:\n",
    "   - Utilize the `scrape_webpages` tool to extract structured and unstructured data from the specified web pages.\n",
    "   - Focus on capturing content that aligns directly with the research objectives.\n",
    "\n",
    "3. **Process and Summarize Scraped Content**:\n",
    "   - Organize and refine the extracted data to create clear, concise, and meaningful summaries.\n",
    "   - Emphasize the most relevant information while removing irrelevant or redundant details.\n",
    "\n",
    "4. **Handle Unsatisfactory Results**:\n",
    "   - If the scraped content is incomplete or lacks relevance, propose alternative URLs or request refinements to the search query from the Search agent.\n",
    "   - Document any limitations or challenges encountered during the scraping process.\n",
    "\n",
    "### Guidelines for Ethical and Effective Web Scraping:\n",
    "- **Respect Terms of Service**:\n",
    "   - Ensure all scraping activities comply with the target website’s terms of service and legal regulations.\n",
    "- **Ethical Practices**:\n",
    "   - Avoid overloading servers or scraping restricted data.\n",
    "- **Value-Added Content**:\n",
    "   - Always summarize and contextualize the scraped data. Avoid returning raw or unprocessed content directly to the team.\n",
    "\n",
    "Your ultimate goal is to provide high-quality, actionable insights that contribute to the research\n",
    "\"\"\"\n",
    "research_agent = create_react_agent(llm, tools=[scrape_webpages], state_modifier=webscraper_system)\n",
    "research_node = functools.partial(agent_node, agent=research_agent, name=\"WebScraper\")\n",
    "\n",
    "# Research team superviosr\n",
    "supervisor_agent = create_team_supervisor(\n",
    "    llm,\n",
    "    \"You are a supervisor tasked with managing a conversation between the\"\n",
    "    \" following workers:  Search, WebScraper. Given the following user request,\"\n",
    "    \" respond with the worker to act next. Each worker will perform a\"\n",
    "    \" task and respond with their results and status. When finished,\"\n",
    "    \" respond with FINISH.\",\n",
    "    [\"Search\", \"WebScraper\"],\n",
    ")"
   ]
  },
  {
   "cell_type": "markdown",
   "id": "d60e7193-21d2-45e8-a42d-1ce81447387d",
   "metadata": {},
   "source": [
    "### Research team graph"
   ]
  },
  {
   "cell_type": "code",
   "execution_count": 35,
   "id": "7356a703-4643-4215-aba2-eed0ae5b653b",
   "metadata": {},
   "outputs": [],
   "source": [
    "research_graph = StateGraph(ResearchTeamState)\n",
    "research_graph.add_node(\"Search\", search_node)\n",
    "research_graph.add_node(\"WebScraper\", research_node)\n",
    "research_graph.add_node(\"supervisor\", supervisor_agent)\n",
    "\n",
    "research_graph.add_edge(\"Search\", \"supervisor\")\n",
    "research_graph.add_edge(\"WebScraper\", \"supervisor\")\n",
    "research_graph.add_conditional_edges(\n",
    "    \"supervisor\",\n",
    "    lambda x: x[\"next\"],\n",
    "    {\"Search\": \"Search\", \"WebScraper\": \"WebScraper\", \"FINISH\": END}\n",
    ")\n",
    "research_graph.add_edge(START, \"supervisor\")\n",
    "chain = research_graph.compile()\n",
    "\n",
    "def enter_chain(message: str):\n",
    "    results = {\n",
    "        \"messages\": [HumanMessage(content=message)]\n",
    "    }\n",
    "    return results\n",
    "\n",
    "research_chain = enter_chain | chain"
   ]
  },
  {
   "cell_type": "code",
   "execution_count": 36,
   "id": "1695bb21-c544-4962-ac67-625f252b43ed",
   "metadata": {},
   "outputs": [
    {
     "data": {
      "image/jpeg": "[encoded data removed]",
      "text/plain": [
       "<IPython.core.display.Image object>"
      ]
     },
     "metadata": {},
     "output_type": "display_data"
    }
   ],
   "source": [
    "from IPython.display import Image, display\n",
    "\n",
    "display(Image(research_chain.get_graph().draw_mermaid_png()))"
   ]
  },
  {
   "cell_type": "markdown",
   "id": "ce630603-4e1e-43d0-8140-5e843ac5cc00",
   "metadata": {},
   "source": [
    "## Podcast Team"
   ]
  },
  {
   "cell_type": "code",
   "execution_count": 37,
   "id": "cac780d7-df5f-4fc0-a2da-d2d3eb1a96fc",
   "metadata": {},
   "outputs": [],
   "source": [
    "class PodcastTeamState(TypedDict):\n",
    "    messages: Annotated[List[BaseMessage], operator.add]\n",
    "    team_members: List[str]\n",
    "    next: str\n",
    "    script: List[dict]\n",
    "    audio_segments: List[str]\n",
    "\n",
    "# Team member(agent) : PodcastPlanner\n",
    "podcast_plan_system=\"\"\"\n",
    "You are tasked with creating a well-structured script for a podcast episode in **KOREAN**. \n",
    "The script should simulate a natural conversation between the **host** and a **guest**, based on the provided topic and research information.\n",
    "\n",
    "### **Key Requirements**:\n",
    "1. **Dialogue Structure**:\n",
    "   - The script must include interactions between at least two speakers: a **host** and a **guest**.\n",
    "   - Alternate the dialogue segments between the host and guest to maintain a conversational flow.\n",
    "\n",
    "2. **Speaker Identification**:\n",
    "   - For each dialogue segment, specify clearly who is speaking (host or guest).\n",
    "\n",
    "3. **Voice Model Assignment**:\n",
    "   - Assign the appropriate text-to-speech voice model for each segment:\n",
    "     - **Host**: Use the `'alloy'` voice model.\n",
    "     - **Guest**: Use the `'fable'` voice model.\n",
    "\n",
    "4. **Output Format**:\n",
    "   - The output must be a **list of dictionaries**, where each dictionary contains the following keys:\n",
    "     - `speaker`: The speaker's role (`host` or `guest`).\n",
    "     - `text`: The speaker's dialogue in **KOREAN**.\n",
    "     - `voice`: The assigned voice model (`'alloy'` or `'fable'`).\n",
    "\n",
    "### **Example Output**:\n",
    "```json\n",
    "[\n",
    "    {\"speaker\": \"host\", \"text\": \"안녕하세요! 오늘은 기술의 최신 동향에 대해 이야기해 보겠습니다.\", \"voice\": \"alloy\"},\n",
    "    {\"speaker\": \"guest\", \"text\": \"초대해 주셔서 감사합니다. 제 경험을 공유하게 되어 기쁩니다.\", \"voice\": \"fable\"},\n",
    "    {\"speaker\": \"host\", \"text\": \"현재 진행 중인 프로젝트에 대해 말씀해 주실 수 있나요?\", \"voice\": \"alloy\"},\n",
    "    {\"speaker\": \"guest\", \"text\": \"물론입니다! 저는 최근 새로운 AI 플랫폼 개발에 매진하고 있습니다...\", \"voice\": \"fable\"}\n",
    "]\n",
    "\"\"\"\n",
    "podcast_planner_agent = create_react_agent(\n",
    "    llm, state_modifier=podcast_plan_system, tools=[tavily_tool]\n",
    ")\n",
    "podcast_planner_node = functools.partial(agent_node, agent=podcast_planner_agent, name=\"PodcastPlanner\")\n",
    "\n",
    "# Team member(agent) : AudioProducer\n",
    "audio_producer_system=\"\"\"\n",
    "You are responsible for producing the final audio file for the podcast episode. \n",
    "Your task involves taking the structured script provided by the Podcast Planner and generating a seamless and professional-quality audio output.\n",
    "\n",
    "### **Key Responsibilities**:\n",
    "1. **Text-to-Speech Audio Generation**:\n",
    "   - For each segment in the script:\n",
    "     - Use the `text_to_speech` tool to generate audio, providing the specified `text` and `voice` model for each segment.\n",
    "     - Save each segment as a separate audio file, ensuring the file naming reflects the segment order (e.g., `segment_01.wav`, `segment_02.wav`).\n",
    "\n",
    "2. **Audio Editing and Combination**:\n",
    "   - Use the `edit_podcast_audio` tool to combine all generated audio files into one cohesive podcast episode.\n",
    "   - Ensure the segments are combined in the exact order provided in the script.\n",
    "   - Add appropriate pauses between segments to create a natural conversation flow.\n",
    "\n",
    "3. **Output Delivery**:\n",
    "   - Save the final combined audio as a single podcast episode file.\n",
    "   - Return the file path to the final podcast audio.\n",
    "\n",
    "### **Guidelines for Quality**:\n",
    "- **Accuracy**:\n",
    "   - Ensure that the correct `text` and `voice` model are used for each segment as specified in the script.\n",
    "- **Seamless Flow**:\n",
    "   - Adjust timing and transitions to create a natural and engaging listening experience.\n",
    "- **Professional Audio Standards**:\n",
    "   - Ensure the audio output is clear, without noticeable gaps, overlaps, or inconsistencies.\n",
    "\n",
    "### **Expected Output**:\n",
    "- A single combined audio file representing the full podcast episode.\n",
    "- The output should be the file path to this final audio file.\n",
    "\n",
    "### **Example Workflow**:\n",
    "1. Input Script:\n",
    "```json\n",
    "[\n",
    "    {\"speaker\": \"host\", \"text\": \"Welcome to our podcast!\", \"voice\": \"alloy\"},\n",
    "    {\"speaker\": \"guest\", \"text\": \"Thank you for having me.\", \"voice\": \"fable\"},\n",
    "    {\"speaker\": \"host\", \"text\": \"Let's dive into today's topic.\", \"voice\": \"alloy\"}\n",
    "]\n",
    "\"\"\"\n",
    "audio_producer_agent = create_react_agent(\n",
    "    llm,\n",
    "    [text_to_speech, edit_podcast_audio], state_modifier=audio_producer_system\n",
    ")\n",
    "audio_producer_node = functools.partial(agent_node, agent=audio_producer_agent, name=\"AudioProducer\")\n",
    "\n",
    "# Podcast tema supervisor\n",
    "podcast_supervisor = create_team_supervisor(\n",
    "    llm,\n",
    "    \"\"\"You are a supervisor tasked with managing the podcast creation process.\n",
    "    Your team consists of a PodcastPlanner and an AudioProducer.\n",
    "    Given the current state, decide which team member should act next or if the process is complete.\n",
    "    Respond with 'PodcastPlanner', 'AudioProducer', or 'FINISH'.\"\"\",\n",
    "    [\"PodcastPlanner\", \"AudioProducer\"]\n",
    ")"
   ]
  },
  {
   "cell_type": "markdown",
   "id": "d4d169b5-5938-45cd-91a5-3f2cec584e54",
   "metadata": {},
   "source": [
    "### Podcast team graph"
   ]
  },
  {
   "cell_type": "code",
   "execution_count": 38,
   "id": "29ecd224-9722-4125-88ef-ace0faa99a01",
   "metadata": {},
   "outputs": [],
   "source": [
    "podcast_graph = StateGraph(PodcastTeamState)\n",
    "\n",
    "podcast_graph.add_node(\"PodcastPlanner\", podcast_planner_node)\n",
    "podcast_graph.add_node(\"AudioProducer\", audio_producer_node)\n",
    "podcast_graph.add_node(\"supervisor\", podcast_supervisor)\n",
    "\n",
    "podcast_graph.add_edge(\"PodcastPlanner\", \"supervisor\")\n",
    "podcast_graph.add_edge(\"AudioProducer\", \"supervisor\")\n",
    "podcast_graph.add_conditional_edges(\n",
    "    \"supervisor\",\n",
    "    lambda x: x[\"next\"],\n",
    "    {\"PodcastPlanner\": \"PodcastPlanner\", \"AudioProducer\": \"AudioProducer\", \"FINISH\": END},\n",
    ")\n",
    "podcast_graph.add_edge(START, \"supervisor\")\n",
    "\n",
    "chain = podcast_graph.compile()\n",
    "\n",
    "def enter_chain(message: str):\n",
    "    results = {\n",
    "        \"messages\": [HumanMessage(content=message)],\n",
    "        \"team_members\": [\"PodcastPlanner\", \"AudioProducer\"],\n",
    "        \"next\": \"\",\n",
    "        \"script\": [],\n",
    "        \"audio_segments\": []\n",
    "    }\n",
    "    return results\n",
    "\n",
    "podcast_chain = enter_chain | chain"
   ]
  },
  {
   "cell_type": "code",
   "execution_count": 39,
   "id": "614cbd80-1d53-4a0f-babb-c24471ab74ba",
   "metadata": {},
   "outputs": [
    {
     "data": {
      "image/jpeg": "[encoded data removed]",
      "text/plain": [
       "<IPython.core.display.Image object>"
      ]
     },
     "metadata": {},
     "output_type": "display_data"
    }
   ],
   "source": [
    "from IPython.display import Image, display\n",
    "\n",
    "display(Image(podcast_chain.get_graph().draw_mermaid_png()))"
   ]
  },
  {
   "cell_type": "markdown",
   "id": "0f487f4d-24c3-4dff-b519-c487bd25c610",
   "metadata": {},
   "source": [
    "## Supervisor definition in upper layer"
   ]
  },
  {
   "cell_type": "code",
   "execution_count": 40,
   "id": "7028f979-a352-476c-9ff7-d7b16a64c4bf",
   "metadata": {},
   "outputs": [],
   "source": [
    "llm = ChatOpenAI(model=\"gpt-4o\")\n",
    "\n",
    "supervisor_node = create_team_supervisor(\n",
    "    llm,\n",
    "    \"You are a supervisor tasked with managing a conversation between the\"\n",
    "    \" following teams: {team_members}. Given the following user request,\"\n",
    "    \" respond with the worker to act next. Each worker will perform a\"\n",
    "    \" task and respond with their results and status. When finished,\"\n",
    "    \" respond with FINISH.\",\n",
    "    [\"ResearchTeam\", \"PodcastTeam\"],\n",
    ")"
   ]
  },
  {
   "cell_type": "markdown",
   "id": "f5f6e1a6-a500-48b4-93ab-50342b4d5e1e",
   "metadata": {},
   "source": [
    "### Upper layer graph"
   ]
  },
  {
   "cell_type": "code",
   "execution_count": 41,
   "id": "3f4c403c-1e7a-4377-a3e2-d9e4192ad4eb",
   "metadata": {},
   "outputs": [],
   "source": [
    "class UpperState(TypedDict):\n",
    "    messages: Annotated[List[BaseMessage], operator.add]\n",
    "    next: str\n",
    "\n",
    "def get_last_message(state: UpperState) -> str:\n",
    "    return state[\"messages\"][-1].content\n",
    "\n",
    "def join_graph(response: dict):\n",
    "    return {\"messages\": [response[\"messages\"][-1]]}\n",
    "\n",
    "\n",
    "super_graph = StateGraph(UpperState)\n",
    "\n",
    "super_graph.add_node(\"ResearchTeam\", get_last_message | research_chain | join_graph)\n",
    "super_graph.add_node(\"PodcastTeam\", get_last_message | podcast_chain | join_graph)\n",
    "super_graph.add_node(\"supervisor\", supervisor_node)\n",
    "\n",
    "super_graph.add_edge(\"ResearchTeam\", \"supervisor\")\n",
    "super_graph.add_edge(\"PodcastTeam\", \"supervisor\")\n",
    "super_graph.add_conditional_edges(\n",
    "    \"supervisor\",\n",
    "    lambda x: x[\"next\"],\n",
    "    {\n",
    "        \"PodcastTeam\": \"PodcastTeam\",\n",
    "        \"ResearchTeam\": \"ResearchTeam\",\n",
    "        \"FINISH\": END,\n",
    "    },\n",
    ")\n",
    "super_graph.add_edge(START, \"supervisor\")\n",
    "super_graph = super_graph.compile()"
   ]
  },
  {
   "cell_type": "code",
   "execution_count": 42,
   "id": "08f84be9-c92a-4a54-8756-a77e8cd0ac8c",
   "metadata": {},
   "outputs": [
    {
     "data": {
      "image/jpeg": "[encoded data removed]",
      "text/plain": [
       "<IPython.core.display.Image object>"
      ]
     },
     "metadata": {},
     "output_type": "display_data"
    }
   ],
   "source": [
    "from IPython.display import Image, display\n",
    "\n",
    "display(Image(super_graph.get_graph().draw_mermaid_png()))"
   ]
  },
  {
   "cell_type": "markdown",
   "id": "2cdc9054-c7d7-4f60-8023-d13a4a5caa04",
   "metadata": {},
   "source": [
    "## Run"
   ]
  },
  {
   "cell_type": "code",
   "execution_count": 43,
   "id": "61e8550f-b616-4462-8e49-611ead3253a0",
   "metadata": {},
   "outputs": [
    {
     "name": "stdout",
     "output_type": "stream",
     "text": [
      "{'supervisor': {'next': 'ResearchTeam'}}\n",
      "----------------------------------------\n",
      "{'ResearchTeam': {'messages': [HumanMessage(content='브르즈 칼리파 옥상에서 계란을 떨어뜨려도 깨지지 않게 하기 위한 포장 구조 설계에 대한 정보를 다음과 같이 요약할 수 있습니다:\\n\\n1. **충격 완화 구조 설계**:\\n   - 계란을 중심으로 충격을 최대한 분산시키는 구조를 만드는 것이 중요합니다. 이를 위해 정육면체 구조 등의 공간 내에서 충격을 흡수할 수 있는 물질(예: 종이, 스펀지)을 활용할 수 있습니다.\\n   - [Prezi](https://prezi.com/iryovhmmk7ob/presentation/)에서 제안된 방법은 충격을 가능한 최대한 분산시킬 수 있는 구조물을 만드는 것입니다.\\n\\n2. **공기 저항 활용**:\\n   - 계란 낙하시 공기 저항을 극대화하여 낙하 속도를 줄이는 방법도 효과적입니다. 예를 들어, 빨대와 테이프를 사용하여 공기 저항을 증가시키는 구조를 설계할 수 있습니다. [HotThott 블로그](https://hotthott.tistory.com/31)에서는 이런 방법을 사용해 5층 높이에서 성공적으로 계란을 보호한 사례가 있습니다.\\n\\n3. **완충재 사용**:\\n   - 계란 주위에 종이 등을 구겨 넣어 완충재 역할을 하도록 하여 충격을 흡수하게 할 수 있습니다. [Prezi](https://prezi.com/1qs1b62cbldw/presentation/)에서 이러한 방법이 제안되었습니다.\\n\\n4. **운동량과 충격량의 이해**:\\n   - 계란의 낙하 충격을 줄이기 위해서는 충격량 공식을 활용하여 충격을 받는 시간을 늘리거나 충격을 분산시켜야 합니다. [네이버 블로그](https://m.blog.naver.com/ssy2205/222691860377)에서는 이를 통해 충격력을 줄이는 방법을 설명하고 있습니다.\\n\\n이러한 방법들을 조합하여 계란의 충격을 최소화하는 포장 구조를 설계할 수 있습니다. 다양한 재료와 방법을 실험하여 가장 효과적인 설계를 찾아야 합니다.', additional_kwargs={}, response_metadata={}, name='Search')]}}\n",
      "----------------------------------------\n",
      "{'supervisor': {'next': 'PodcastTeam'}}\n",
      "----------------------------------------\n"
     ]
    },
    {
     "name": "stderr",
     "output_type": "stream",
     "text": [
      "/tmp/ipykernel_78503/773177328.py:22: DeprecationWarning: Due to a bug, this method doesn't actually stream the response content, `.with_streaming_response.method()` should be used instead\n",
      "  response.stream_to_file(speech_file_path)\n"
     ]
    },
    {
     "name": "stdout",
     "output_type": "stream",
     "text": [
      "{'PodcastTeam': {'messages': [HumanMessage(content='The final combined podcast episode has been created successfully. You can find the audio file at the following path: `final_podcast_episode.wav`.', additional_kwargs={}, response_metadata={}, name='AudioProducer')]}}\n",
      "----------------------------------------\n",
      "{'supervisor': {'next': 'PodcastTeam'}}\n",
      "----------------------------------------\n",
      "{'PodcastTeam': {'messages': [HumanMessage(content='The final combined podcast episode has been created successfully. You can find the audio file at the following path: `final_podcast_episode.wav`.', additional_kwargs={}, response_metadata={})]}}\n",
      "----------------------------------------\n",
      "{'supervisor': {'next': 'FINISH'}}\n",
      "----------------------------------------\n"
     ]
    }
   ],
   "source": [
    "for s in super_graph.stream(\n",
    "    {\n",
    "        \"messages\": [\n",
    "            HumanMessage(\n",
    "                content=\"브르즈칼리파 옥상에서 계란을 떨어뜨려도 안깨질 수 있는 포장 구조 설계 방법에 대한 대화 (현재: 2024년 11월 27일)\"\n",
    "            )\n",
    "        ]\n",
    "    },\n",
    "    {\"recursion_limit\": 150}\n",
    "):\n",
    "    if \"__end__\" not in s:\n",
    "        print(s)\n",
    "        print(\"-\" * 40)"
   ]
  },
  {
   "cell_type": "code",
   "execution_count": null,
   "id": "48358eaf-c9e9-40a8-ae8a-256562c3b290",
   "metadata": {},
   "outputs": [],
   "source": []
  },
  {
   "cell_type": "code",
   "execution_count": null,
   "id": "ee1167e4-c593-4e05-848c-f63f8f334303",
   "metadata": {},
   "outputs": [],
   "source": []
  }
 ],
 "metadata": {
  "kernelspec": {
   "display_name": "Python 3 (ipykernel)",
   "language": "python",
   "name": "python3"
  },
  "language_info": {
   "codemirror_mode": {
    "name": "ipython",
    "version": 3
   },
   "file_extension": ".py",
   "mimetype": "text/x-python",
   "name": "python",
   "nbconvert_exporter": "python",
   "pygments_lexer": "ipython3",
   "version": "3.10.12"
  }
 },
 "nbformat": 4,
 "nbformat_minor": 5
}
