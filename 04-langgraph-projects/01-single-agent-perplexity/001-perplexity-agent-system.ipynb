{
 "cells": [
  {
   "cell_type": "code",
   "execution_count": null,
   "id": "b8ef1722-12fb-4b5b-b661-82405db57a9f",
   "metadata": {},
   "outputs": [],
   "source": [
    "!pip install langchain_chroma pytube youtube-search youtube-transcript-api nest_asyncio wolframalpha "
   ]
  },
  {
   "cell_type": "markdown",
   "id": "5523b41b-af1b-4ee5-a405-9abdcc677906",
   "metadata": {},
   "source": [
    "### Asynchronous setup for leveraging the WolframAlpha API"
   ]
  },
  {
   "cell_type": "code",
   "execution_count": 1,
   "id": "83c77cf9-e7f2-4e9f-aad0-00a92b33ee3c",
   "metadata": {},
   "outputs": [],
   "source": [
    "import asyncio\n",
    "asyncio.set_event_loop_policy(asyncio.DefaultEventLoopPolicy())\n",
    "\n",
    "import nest_asyncio\n",
    "nest_asyncio.apply()"
   ]
  },
  {
   "cell_type": "code",
   "execution_count": 2,
   "id": "f109b097-b410-4e59-99a2-0ce2ef3560a6",
   "metadata": {},
   "outputs": [],
   "source": [
    "from langchain_community.utilities.wolfram_alpha import WolframAlphaAPIWrapper\n",
    "\n",
    "wolfram = WolframAlphaAPIWrapper()"
   ]
  },
  {
   "cell_type": "markdown",
   "id": "459de165-55b9-4974-9545-a0a27bac21af",
   "metadata": {},
   "source": [
    "### State"
   ]
  },
  {
   "cell_type": "code",
   "execution_count": 3,
   "id": "dfae0ae4-ea47-4351-9132-d25a6a275c5b",
   "metadata": {},
   "outputs": [],
   "source": [
    "from typing import Annotated, Literal\n",
    "from typing_extensions import TypedDict\n",
    "from langgraph.graph.message import add_messages\n",
    "\n",
    "\n",
    "class State(TypedDict):\n",
    "    messages: Annotated[list, add_messages]\n",
    "    focus: Literal[\"web\", \"academic\", \"video\", \"math\"]"
   ]
  },
  {
   "cell_type": "markdown",
   "id": "c21ff5f7-275e-4f5c-9112-151a35ee5d79",
   "metadata": {},
   "source": [
    "### Tools"
   ]
  },
  {
   "cell_type": "code",
   "execution_count": 4,
   "id": "0fb378b5-98a0-441f-98c6-c669a76ac17a",
   "metadata": {},
   "outputs": [],
   "source": [
    "import re\n",
    "\n",
    "from langgraph.prebuilt import ToolNode\n",
    "\n",
    "from langchain_core.tools import tool\n",
    "from langchain_community.tools import YouTubeSearchTool\n",
    "from langchain_community.utilities import ArxivAPIWrapper\n",
    "from langchain_community.tools.tavily_search import TavilySearchResults\n",
    "from langchain_community.utilities.wolfram_alpha import WolframAlphaAPIWrapper\n",
    "\n",
    "\n",
    "web_tool = TavilySearchResults(max_results=2)\n",
    "\n",
    "@tool\n",
    "def academic_tool(query: str):\n",
    "    \"\"\"academic paper search tool\"\"\"\n",
    "    arxiv = ArxivAPIWrapper()\n",
    "    docs = arxiv.run(query)\n",
    "    return docs\n",
    "\n",
    "@tool\n",
    "def math_tool(query: str):\n",
    "    \"\"\"math tool\"\"\"\n",
    "    wolfram = WolframAlphaAPIWrapper()\n",
    "    result = wolfram.run(query)\n",
    "    return result"
   ]
  },
  {
   "cell_type": "code",
   "execution_count": 10,
   "id": "b6be1562-817a-4fd9-b201-8b87adc67682",
   "metadata": {
    "scrolled": true
   },
   "outputs": [
    {
     "data": {
      "text/plain": [
       "'Published: 2024-03-22\\nTitle: CACA Agent: Capability Collaboration based AI Agent\\nAuthors: Peng Xu, Haoran Wang, Chuang Wang, Xu Liu\\nSummary: As AI Agents based on Large Language Models (LLMs) have shown potential in\\npractical applications across various fields, how to quickly deploy an AI agent\\nand how to conveniently expand the application scenario of AI agents has become\\na challenge. Previous studies mainly focused on implementing all the reasoning\\ncapabilities of AI agents within a single LLM, which often makes the model more\\ncomplex and also reduces the extensibility of AI agent functionality. In this\\npaper, we propose CACA Agent (Capability Collaboration based AI Agent), using\\nan open architecture inspired by service computing. CACA Agent integrates a set\\nof collaborative capabilities to implement AI Agents, not only reducing the\\ndependence on a single LLM, but also enhancing the extensibility of both the\\nplanning abilities and the tools available to AI agents. Utilizing the proposed\\nsystem, we present a demo to illustrate the operation and the application\\nscenario extension of CACA Agent.\\n\\nPublished: 2024-06-01\\nTitle: Generative AI as Economic Agents\\nAuthors: Nicole Immorlica, Brendan Lucier, Aleksandrs Slivkins\\nSummary: Traditionally, AI has been modeled within economics as a technology that\\nimpacts payoffs by reducing costs or refining information for human agents. Our\\nposition is that, in light of recent advances in generative AI, it is\\nincreasingly useful to model AI itself as an economic agent. In our framework,\\neach user is augmented with an AI agent and can consult the AI prior to taking\\nactions in a game. The AI agent and the user have potentially different\\ninformation and preferences over the communication, which can result in\\nequilibria that are qualitatively different than in settings without AI.\\n\\nPublished: 2024-10-22\\nTitle: Levels of AI Agents: from Rules to Large Language Models\\nAuthors: Yu Huang\\nSummary: AI agents are defined as artificial entities to perceive the environment,\\nmake decisions and take actions. Inspired by the 6 levels of autonomous driving\\nby Society of Automotive Engineers, the AI agents are also categorized based on\\nutilities and strongness, as the following levels: L0, no AI, with tools taking\\ninto account perception plus actions; L1, using rule-based AI; L2, making\\nrule-based AI replaced by IL/RL-based AI, with additional reasoning & decision\\nmaking; L3, applying LLM-based AI instead of IL/RL-based AI, additionally\\nsetting up memory & reflection; L4, based on L3, facilitating autonomous\\nlearning & generalization; L5, based on L4, appending personality of emotion\\nand character and collaborative behavior with multi-agents.'"
      ]
     },
     "execution_count": 10,
     "metadata": {},
     "output_type": "execute_result"
    }
   ],
   "source": [
    "academic_tool.run(\"AI Agent\")"
   ]
  },
  {
   "cell_type": "code",
   "execution_count": 11,
   "id": "b6595400-b6f9-446d-8519-ab472ca80a01",
   "metadata": {},
   "outputs": [
    {
     "data": {
      "text/plain": [
       "'Assumption: 123×123^2 \\nAnswer: 1860867'"
      ]
     },
     "execution_count": 11,
     "metadata": {},
     "output_type": "execute_result"
    }
   ],
   "source": [
    "math_tool.run(\"123*123^2\")"
   ]
  },
  {
   "cell_type": "code",
   "execution_count": 5,
   "id": "d90af77c-e437-44f5-8b81-3d1cf2ce90e6",
   "metadata": {},
   "outputs": [],
   "source": [
    "# Video Search\n",
    "import ast\n",
    "\n",
    "from langchain_chroma import Chroma\n",
    "from langchain_openai import OpenAIEmbeddings\n",
    "from langchain_core.documents import Document\n",
    "from langchain_text_splitters import RecursiveCharacterTextSplitter\n",
    "from langchain_community.document_loaders import YoutubeLoader\n",
    "\n",
    "youtube_search_tool = YouTubeSearchTool()\n",
    "\n",
    "@tool\n",
    "def video_tool(query: str) -> str:\n",
    "    \"\"\"\n",
    "    Retriever tool for the transcript of a YouTube video.\n",
    "    If user want to find some information, this tool is good to gather youtube video information.\n",
    "    query should be given in string format.\n",
    "    \"\"\"\n",
    "\n",
    "    urls = youtube_search_tool.run(query)\n",
    "    urls = ast.literal_eval(urls)\n",
    "\n",
    "    docs = []\n",
    "    for url in urls:\n",
    "        loader = YoutubeLoader.from_youtube_url(\n",
    "            url,\n",
    "            add_video_info=True,\n",
    "            language=[\"en\", \"ko\"]\n",
    "        )\n",
    "        scripts = loader.load()\n",
    "        script_content = scripts[0].page_content\n",
    "        title = scripts[0].metadata['title']\n",
    "        author = scripts[0].metadata['author']\n",
    "        doc = Document(page_content=script_content, metadata={\"source\": url, \"title\": title, \"author\": author})\n",
    "        docs.append(doc)\n",
    "\n",
    "    text_splitter = RecursiveCharacterTextSplitter(\n",
    "        separators=[\"\\n\\n\", \"\\n\", \".\", \",\", \" \", \"\"],\n",
    "        chunk_size=1000,\n",
    "        chunk_overlap=0\n",
    "    )\n",
    "    texts = text_splitter.split_documents(docs)\n",
    "    embeddings = OpenAIEmbeddings()\n",
    "    db = Chroma.from_documents(texts, embeddings)\n",
    "    retriever = db.as_retriever()\n",
    "    retrieved_docs = retriever.invoke(query)\n",
    "\n",
    "    video_results = []\n",
    "    for doc in retrieved_docs:\n",
    "        title = doc.metadata.get('title', 'No title available')\n",
    "        author = doc.metadata.get('author', 'No author available')\n",
    "        script_content = doc.page_content\n",
    "\n",
    "        video_info = f\"\"\"\n",
    "        Video Information:\n",
    "        ------------------\n",
    "        Title: {title}\n",
    "        Author: {author}\n",
    "        Transcript:\n",
    "        {script_content}\n",
    "        ------------------\n",
    "        \"\"\"\n",
    "        video_results.append(video_info)\n",
    "\n",
    "    all_video_results = \"\\n\\n\".join(video_results)\n",
    "\n",
    "    return all_video_results"
   ]
  },
  {
   "cell_type": "code",
   "execution_count": null,
   "id": "4fd1be1c-61a4-4e04-97af-083facda7a36",
   "metadata": {},
   "outputs": [],
   "source": [
    "video_tool.run(\"who is teddynote\")"
   ]
  },
  {
   "cell_type": "markdown",
   "id": "2bb2dc05-db81-48bf-bf51-f6446d68ea20",
   "metadata": {},
   "source": [
    "### ToolNode"
   ]
  },
  {
   "cell_type": "code",
   "execution_count": 9,
   "id": "bce542e3-9632-407c-bbca-0d344dcace69",
   "metadata": {},
   "outputs": [],
   "source": [
    "tools = {\n",
    "    \"web\": [web_tool],\n",
    "    \"academic\": [academic_tool],\n",
    "    \"video\": [video_tool],\n",
    "    \"math\":[math_tool]\n",
    "}\n",
    "\n",
    "tool_nodes = {focus: ToolNode(tools[focus]) for focus in tools}"
   ]
  },
  {
   "cell_type": "code",
   "execution_count": 10,
   "id": "d58f1b4b-ac08-48e0-ae37-6c6e795d30f2",
   "metadata": {},
   "outputs": [],
   "source": [
    "from langchain_openai import ChatOpenAI\n",
    "\n",
    "llm = ChatOpenAI(model=\"gpt-4o-mini\")\n",
    "\n",
    "def chatbot(state: State):\n",
    "    llm_with_tools = llm.bind_tools(tools[state[\"focus\"]])\n",
    "    result = llm_with_tools.invoke(state[\"messages\"])\n",
    "    return {\"messages\": [result]}"
   ]
  },
  {
   "cell_type": "code",
   "execution_count": 11,
   "id": "dc976071-44c8-4817-be43-c958ea363da7",
   "metadata": {},
   "outputs": [],
   "source": [
    "from langgraph.graph import StateGraph, END\n",
    "\n",
    "graph_builder = StateGraph(State)\n",
    "\n",
    "graph_builder.add_node(\"chatbot\", chatbot)\n",
    "\n",
    "for focus, tool_node in tool_nodes.items():\n",
    "    graph_builder.add_node(f\"{focus}_tools\", tool_node)\n",
    "\n",
    "def focus_condition(state):\n",
    "    if state[\"messages\"][-1].tool_calls:\n",
    "        return f\"{state['focus']}_tools\"\n",
    "    return END  # END 상수 사용\n",
    "\n",
    "graph_builder.add_conditional_edges(\n",
    "    \"chatbot\",\n",
    "    focus_condition,\n",
    "    {\n",
    "        \"web_tools\": \"web_tools\",\n",
    "        \"academic_tools\": \"academic_tools\",\n",
    "        \"video_tools\": \"video_tools\",\n",
    "        \"math_tools\": \"math_tools\",\n",
    "        END: END\n",
    "    }\n",
    ")\n",
    "\n",
    "for focus in tools:\n",
    "    graph_builder.add_edge(f\"{focus}_tools\", \"chatbot\")\n",
    "\n",
    "graph_builder.set_entry_point(\"chatbot\")\n",
    "graph = graph_builder.compile()"
   ]
  },
  {
   "cell_type": "code",
   "execution_count": 12,
   "id": "8d9ca77d-5960-4edd-9af6-110becaeacd9",
   "metadata": {},
   "outputs": [
    {
     "data": {
      "image/jpeg": "[encoded data removed]",
      "text/plain": [
       "<IPython.core.display.Image object>"
      ]
     },
     "metadata": {},
     "output_type": "display_data"
    }
   ],
   "source": [
    "from IPython.display import Image, display\n",
    "\n",
    "display(Image(graph.get_graph().draw_mermaid_png()))"
   ]
  },
  {
   "cell_type": "code",
   "execution_count": null,
   "id": "92e8443e-d15d-46e2-b5c1-d11cfc8b51ca",
   "metadata": {},
   "outputs": [],
   "source": [
    "s3"
   ]
  }
 ],
 "metadata": {
  "kernelspec": {
   "display_name": "Python 3 (ipykernel)",
   "language": "python",
   "name": "python3"
  },
  "language_info": {
   "codemirror_mode": {
    "name": "ipython",
    "version": 3
   },
   "file_extension": ".py",
   "mimetype": "text/x-python",
   "name": "python",
   "nbconvert_exporter": "python",
   "pygments_lexer": "ipython3",
   "version": "3.10.12"
  }
 },
 "nbformat": 4,
 "nbformat_minor": 5
}
