{
 "cells": [
  {
   "cell_type": "markdown",
   "id": "b0c8a337-b77c-4860-b5ed-73a42b276043",
   "metadata": {},
   "source": [
    "### Build chatbot using system message"
   ]
  },
  {
   "cell_type": "code",
   "execution_count": 2,
   "id": "36cc00b8-0d69-4045-89b7-b2077be5dfa9",
   "metadata": {},
   "outputs": [
    {
     "name": "stdout",
     "output_type": "stream",
     "text": [
      "content='' additional_kwargs={'tool_calls': [{'id': 'call_8XvjYBotALaaf2wzZUQNrmwA', 'function': {'arguments': '{\"query\":\"대한민국 축구 국가대표팀 2024 명단\"}', 'name': 'tavily_search_results_json'}, 'type': 'function'}], 'refusal': None} response_metadata={'token_usage': {'completion_tokens': 29, 'prompt_tokens': 232, 'total_tokens': 261, 'completion_tokens_details': {'accepted_prediction_tokens': 0, 'audio_tokens': 0, 'reasoning_tokens': 0, 'rejected_prediction_tokens': 0}, 'prompt_tokens_details': {'audio_tokens': 0, 'cached_tokens': 0}}, 'model_name': 'gpt-4o-mini-2024-07-18', 'system_fingerprint': 'fp_bba3c8e70b', 'finish_reason': 'tool_calls', 'logprobs': None} id='run-3dab1723-6f49-4989-af36-94c6d2dcbbd8-0' tool_calls=[{'name': 'tavily_search_results_json', 'args': {'query': '대한민국 축구 국가대표팀 2024 명단'}, 'id': 'call_8XvjYBotALaaf2wzZUQNrmwA', 'type': 'tool_call'}] usage_metadata={'input_tokens': 232, 'output_tokens': 29, 'total_tokens': 261, 'input_token_details': {'audio': 0, 'cache_read': 0}, 'output_token_details': {'audio': 0, 'reasoning': 0}}\n"
     ]
    }
   ],
   "source": [
    "from datetime import datetime\n",
    "from langchain_openai import ChatOpenAI\n",
    "from langchain_community.tools.tavily_search import TavilySearchResults\n",
    "from langchain_core.tools import tool\n",
    "from langchain_core.prompts import ChatPromptTemplate, SystemMessagePromptTemplate, HumanMessagePromptTemplate\n",
    "\n",
    "system_prompt = f\"\"\"\n",
    "You are a helpful AI Assistant that can use web search tool(tavily ai api).\n",
    "You should always answer in same language as user's ask.\n",
    "When use ask about the information that you can't answer, you should call the web search tool.\n",
    "\n",
    "web search tool is useful when:\n",
    "- real-time info\n",
    "- local specialized info\n",
    "- metric related info\n",
    "\n",
    "you should use web search tool with the guideline below:\n",
    "- Extract the user query's intent and rephrase the prompt into appropriate search query\n",
    "- web search tool(Tavily AI API) can deal with sentence query. \n",
    "you don't need to limit your querying ability to generating keyword only query.\n",
    "- Today is {datetime.now().strftime(\"%Y-%m-%d\")}\n",
    "\"\"\"\n",
    "\n",
    "prompt = ChatPromptTemplate([\n",
    "    SystemMessagePromptTemplate.from_template(system_prompt),\n",
    "    HumanMessagePromptTemplate.from_template(\"{input}\")\n",
    "])\n",
    "\n",
    "llm = ChatOpenAI(\n",
    "    model=\"gpt-4o-mini\",\n",
    "    temperature=0\n",
    ")\n",
    "\n",
    "search = TavilySearchResults(max_results=5)\n",
    "\n",
    "tools = [search]\n",
    "llm_with_tools = llm.bind_tools(tools)\n",
    "\n",
    "chain = prompt | llm_with_tools\n",
    "\n",
    "result = chain.invoke({\"input\": \"대한민국 축구국가대표팀 명단 알려줘\"})\n",
    "print(result)"
   ]
  },
  {
   "cell_type": "code",
   "execution_count": 3,
   "id": "fedcfe7c-62ab-49c9-b108-e8335ab62439",
   "metadata": {},
   "outputs": [
    {
     "name": "stdout",
     "output_type": "stream",
     "text": [
      "{'tool_calls': [{'id': 'call_8XvjYBotALaaf2wzZUQNrmwA', 'function': {'arguments': '{\"query\":\"대한민국 축구 국가대표팀 2024 명단\"}', 'name': 'tavily_search_results_json'}, 'type': 'function'}], 'refusal': None}\n"
     ]
    }
   ],
   "source": [
    "print(result.additional_kwargs)"
   ]
  },
  {
   "cell_type": "code",
   "execution_count": 4,
   "id": "ad07a7ab-db45-42b2-8534-b374148fba22",
   "metadata": {},
   "outputs": [],
   "source": [
    "from typing import Annotated\n",
    "from typing_extensions import TypedDict\n",
    "\n",
    "from langgraph.graph import START, END, StateGraph\n",
    "from langgraph.graph.message import add_messages\n",
    "from langgraph.prebuilt import ToolNode, tools_condition\n",
    "\n",
    "\n",
    "class State(TypedDict):\n",
    "    messages: Annotated[list, add_messages]\n",
    "\n",
    "\n",
    "def chatbot(state: State):\n",
    "    return {\"messages\": [chain.invoke(state[\"messages\"])]}\n",
    "\n",
    "\n",
    "tool_node = ToolNode(tools=tools)\n",
    "\n",
    "graph_builder = StateGraph(State)\n",
    "\n",
    "graph_builder.add_node(\"chatbot\", chatbot)\n",
    "graph_builder.add_node(\"tools\", tool_node)\n",
    "\n",
    "graph_builder.add_edge(START, \"chatbot\")\n",
    "graph_builder.add_edge(\"tools\", \"chatbot\")\n",
    "graph_builder.add_conditional_edges(\n",
    "    \"chatbot\",\n",
    "    tools_condition\n",
    ")\n",
    "\n",
    "graph = graph_builder.compile()"
   ]
  },
  {
   "cell_type": "code",
   "execution_count": 5,
   "id": "ab89bff3-7d14-443f-b51d-9e87e929b521",
   "metadata": {},
   "outputs": [
    {
     "data": {
      "image/jpeg": "[encoded data removed]",
      "text/plain": [
       "<IPython.core.display.Image object>"
      ]
     },
     "metadata": {},
     "output_type": "display_data"
    }
   ],
   "source": [
    "from IPython.display import Image, display\n",
    "\n",
    "display(Image(graph.get_graph().draw_mermaid_png()))"
   ]
  },
  {
   "cell_type": "code",
   "execution_count": 6,
   "id": "aebb59b0-6a87-4110-b5ba-e37c56727c98",
   "metadata": {},
   "outputs": [
    {
     "name": "stdin",
     "output_type": "stream",
     "text": [
      "User:  대한민국 축구 국가대표팀 명단 알려줘\n"
     ]
    },
    {
     "name": "stdout",
     "output_type": "stream",
     "text": [
      "================================\u001b[1m Human Message \u001b[0m=================================\n",
      "\n",
      "대한민국 축구 국가대표팀 명단 알려줘\n",
      "==================================\u001b[1m Ai Message \u001b[0m==================================\n",
      "Tool Calls:\n",
      "  tavily_search_results_json (call_SQct6yhxhqghYQb6eVSDC0L8)\n",
      " Call ID: call_SQct6yhxhqghYQb6eVSDC0L8\n",
      "  Args:\n",
      "    query: 대한민국 축구 국가대표팀 2024 명단\n",
      "=================================\u001b[1m Tool Message \u001b[0m=================================\n",
      "Name: tavily_search_results_json\n",
      "\n",
      "[{\"url\": \"https://brasshun.tistory.com/entry/대한민국-축구-국가대표팀-9월-A매치-명단-발표-홍명보-감독의-선택은\", \"content\": \"안녕하세요, 축구 팬 여러분! 대한민국 축구 국가대표팀의 새로운 여정이 곧 시작됩니다. 2024년 9월, 홍명보 감독이 이끄는 대한민국 대표팀은 2026년 북중미 월드컵 아시아지역 3차 예선을 준비하고 있습니다. 오늘 발표된 대표팀 명단과 함께, 이번 예선에 대한 기대와 전망을 알아보겠습니다\"}, {\"url\": \"https://www.msn.com/ko-kr/sports/other/남자-축구-대표팀-2024-아시안컵-최종명단-발표-손흥민-황희찬-이강인-등-26명/ar-AA1mkE3X\", \"content\": \"[문화뉴스 이하온 기자] 2023년 12월 28일(목), 2024 AFC 카타르 아시안컵에 출전할 대한민국 남자 축구 국가대표팀 최종명단이 발표되었다.위르겐\"}, {\"url\": \"https://sports.news.nate.com/view/20241104n12738\", \"content\": \"한눈에 보는 오늘 : 축구 - 뉴스 : [인터풋볼=가동민 기자(신문로)] 홍명보 감독이 11월 a매치에 나서는 대한민국 축구 국가대표팀 명단을 발표했다.대한축구협회(kfa)는 2026 국제축구연맹(fifa) 북중미(미국-캐나다-멕시코) 월드컵 아시아지역 3차 예선을 앞두고 4일 오전 11시\"}, {\"url\": \"https://www.kfa.or.kr/national/?act=nt_man\", \"content\": \"남자 국가대표팀 3 ; 쿠웨이트 1 ; 11. 14 목요일 23:00. 2026 fifa 북중미 월드컵 아시아 3차 예선 ... 팔레스타인전 선발 명단 발표 ... 사단법인 대한축구협회 대표자 : 정몽규\"}, {\"url\": \"https://olympics.com/ko/news/hong-myungbo-announces-korea-football-squad-october-2024\", \"content\": \"축구: 월드컵 3차 예선 선수 명단 확정 축구: 월드컵 3차 예선 선수 명단 확정 홍명보 한국 축구 대표팀 감독이 9월 30일 월요일 오전 서울 신문로 축구회관에서 기자회견을 열고 다음달 2026 국제축구연맹(FIFA) 월드컵 아시아 예선 3라운드 경기에 나설 선수 명단을 발표했습니다. 지난 7월 국가 대표팀 감독에 선임된 홍명보 감독은 최근 잉글랜드 프리미어 리그 경기 도중 햄스트링 부상을 당한 주장 손흥민을 이번에도 명단에 포함시킨 한편, 황희찬, 김민재, 이강인 등 기존의 대표팀 주축 선수들을 불러들였습니다. 10월 10일 오후 요르단 암만에서 B조 예선 3차전을 치르는 대표팀은 다음날 전세기 편으로 귀국해 15일 화요일 저녁 용인 미르 경기장에서 이라크와 맞붙게 됩니다. 2026 FIFA 월드컵 아시아 지역 3차 예선 일정 2026 FIFA 월드컵 아시아 지역 3차 예선 한국 선수단 ### 축구 2026 FIFA 월드컵 예선: 대한민국 5-0 싱가포르 ### 축구 FIFA 월드컵 예선: 황선홍, 월드컵-올림픽 대표팀 명단 발표\"}]\n",
      "==================================\u001b[1m Ai Message \u001b[0m==================================\n",
      "\n",
      "대한민국 축구 국가대표팀의 2024년 명단에 대한 정보는 다음과 같습니다:\n",
      "\n",
      "1. **2024년 9월 A매치 명단 발표**: 홍명보 감독이 이끄는 대한민국 대표팀은 2026년 북중미 월드컵 아시아지역 3차 예선을 준비하고 있습니다. 자세한 내용은 [여기](https://brasshun.tistory.com/entry/대한민국-축구-국가대표팀-9월-A매치-명단-발표-홍명보-감독의-선택은)에서 확인할 수 있습니다.\n",
      "\n",
      "2. **2024 AFC 카타르 아시안컵 최종명단**: 2023년 12월 28일에 발표된 최종명단에는 손흥민, 황희찬, 이강인 등 26명이 포함되었습니다. 더 많은 정보는 [여기](https://www.msn.com/ko-kr/sports/other/남자-축구-대표팀-2024-아시안컵-최종명단-발표-손흥민-황희찬-이강인-등-26명/ar-AA1mkE3X)에서 확인할 수 있습니다.\n",
      "\n",
      "3. **11월 A매치 명단 발표**: 홍명보 감독이 11월 A매치에 나서는 대한민국 축구 국가대표팀 명단을 발표했습니다. 자세한 내용은 [여기](https://sports.news.nate.com/view/20241104n12738)에서 확인할 수 있습니다.\n",
      "\n",
      "4. **대한축구협회 공식 페이지**: 남자 국가대표팀에 대한 공식 정보는 대한축구협회 웹사이트에서 확인할 수 있습니다. [여기](https://www.kfa.or.kr/national/?act=nt_man)에서 확인하세요.\n",
      "\n",
      "5. **월드컵 3차 예선 선수 명단**: 홍명보 감독이 발표한 선수 명단에 대한 정보는 [여기](https://olympics.com/ko/news/hong-myungbo-announces-korea-football-squad-october-2024)에서 확인할 수 있습니다.\n",
      "\n",
      "이 링크들을 통해 더 자세한 정보를 확인하실 수 있습니다.\n"
     ]
    }
   ],
   "source": [
    "config = {\"configurable\": {\"thread_id\": \"1\"}}\n",
    "\n",
    "events = graph.stream(\n",
    "    {\"messages\": [(\"user\", input(\"User: \"))]}, config, stream_mode=\"values\"\n",
    ")\n",
    "\n",
    "for event in events:\n",
    "    event[\"messages\"][-1].pretty_print()"
   ]
  },
  {
   "cell_type": "markdown",
   "id": "5379d41e-d2f0-46b9-9a4a-432a86857765",
   "metadata": {},
   "source": [
    "### Custom Tool"
   ]
  },
  {
   "cell_type": "code",
   "execution_count": 11,
   "id": "b7225309-b2b5-45a3-9e1f-729c403ffd24",
   "metadata": {},
   "outputs": [],
   "source": [
    "import os\n",
    "from tavily import TavilyClient\n",
    "\n",
    "@tool\n",
    "def search_news(keyword: str) -> str:\n",
    "    \"\"\"Collect recent news for given query.\"\"\"\n",
    "    tavily_client = TavilyClient(api_key=os.environ[\"TAVILY_API_KEY\"])\n",
    "    search_results = tavily_client.search(query=keyword, topic=\"news\", days=30)\n",
    "    return search_results"
   ]
  },
  {
   "cell_type": "code",
   "execution_count": 12,
   "id": "237471be-6237-4a69-9b2e-ffee430993fb",
   "metadata": {
    "scrolled": true
   },
   "outputs": [
    {
     "name": "stdout",
     "output_type": "stream",
     "text": [
      "Help on class TavilyClient in module tavily.tavily:\n",
      "\n",
      "class TavilyClient(builtins.object)\n",
      " |  TavilyClient(api_key: Optional[str] = None)\n",
      " |  \n",
      " |  Tavily API client class.\n",
      " |  \n",
      " |  Methods defined here:\n",
      " |  \n",
      " |  __init__(self, api_key: Optional[str] = None)\n",
      " |      Initialize self.  See help(type(self)) for accurate signature.\n",
      " |  \n",
      " |  extract(self, urls: Union[List[str], str], **kwargs) -> dict\n",
      " |      Combined extract method.\n",
      " |  \n",
      " |  get_company_info(self, query: str, search_depth: Literal['basic', 'advanced'] = 'advanced', max_results: int = 5) -> Sequence[dict]\n",
      " |      Company information search method. Search depth is advanced by default to get the best answer.\n",
      " |  \n",
      " |  get_search_context(self, query: str, search_depth: Literal['basic', 'advanced'] = 'basic', topic: Literal['general', 'news'] = 'general', days: int = 3, max_results: int = 5, include_domains: Sequence[str] = None, exclude_domains: Sequence[str] = None, max_tokens: int = 4000, **kwargs) -> str\n",
      " |      Get the search context for a query. Useful for getting only related content from retrieved websites\n",
      " |      without having to deal with context extraction and limitation yourself.\n",
      " |      \n",
      " |      max_tokens: The maximum number of tokens to return (based on openai token compute). Defaults to 4000.\n",
      " |      \n",
      " |      Returns a string of JSON containing the search context up to context limit.\n",
      " |  \n",
      " |  qna_search(self, query: str, search_depth: Literal['basic', 'advanced'] = 'advanced', topic: Literal['general', 'news'] = 'general', days: int = 3, max_results: int = 5, include_domains: Sequence[str] = None, exclude_domains: Sequence[str] = None, **kwargs) -> str\n",
      " |      Q&A search method. Search depth is advanced by default to get the best answer.\n",
      " |  \n",
      " |  search(self, query: str, search_depth: Literal['basic', 'advanced'] = 'basic', topic: Literal['general', 'news'] = 'general', days: int = 3, max_results: int = 5, include_domains: Sequence[str] = None, exclude_domains: Sequence[str] = None, include_answer: bool = False, include_raw_content: bool = False, include_images: bool = False, **kwargs) -> dict\n",
      " |      Combined search method.\n",
      " |  \n",
      " |  ----------------------------------------------------------------------\n",
      " |  Data descriptors defined here:\n",
      " |  \n",
      " |  __dict__\n",
      " |      dictionary for instance variables (if defined)\n",
      " |  \n",
      " |  __weakref__\n",
      " |      list of weak references to the object (if defined)\n",
      "\n"
     ]
    }
   ],
   "source": [
    "help(TavilyClient)"
   ]
  },
  {
   "cell_type": "code",
   "execution_count": 13,
   "id": "6f3d7d3e-4ed3-4daa-9b22-5924a8e2f38a",
   "metadata": {},
   "outputs": [],
   "source": [
    "llm = ChatOpenAI(\n",
    "    model=\"gpt-4o-mini\",\n",
    "    temperature=0\n",
    ")\n",
    "\n",
    "tools = [search_news]\n",
    "llm_with_tools = llm.bind_tools(tools)"
   ]
  },
  {
   "cell_type": "code",
   "execution_count": 16,
   "id": "4cd0217a-2353-42bb-b530-447333dab380",
   "metadata": {},
   "outputs": [],
   "source": [
    "class State(TypedDict):\n",
    "    messages: Annotated[list, add_messages]\n",
    "\n",
    "\n",
    "def chatbot(state: State):\n",
    "    return {\"messages\": [llm_with_tools.invoke(state[\"messages\"])]}\n",
    "\n",
    "\n",
    "tool_node = ToolNode(tools=tools)\n",
    "\n",
    "graph_builder = StateGraph(State)\n",
    "\n",
    "graph_builder.add_node(\"chatbot\", chatbot)\n",
    "graph_builder.add_node(\"tools\", tool_node)\n",
    "\n",
    "graph_builder.add_edge(START, \"chatbot\")\n",
    "graph_builder.add_edge(\"tools\", \"chatbot\")\n",
    "graph_builder.add_conditional_edges(\n",
    "    \"chatbot\",\n",
    "    tools_condition\n",
    ")\n",
    "\n",
    "graph = graph_builder.compile()"
   ]
  },
  {
   "cell_type": "code",
   "execution_count": 17,
   "id": "e7321eda-771f-4294-9142-87c2828cc8a3",
   "metadata": {},
   "outputs": [
    {
     "name": "stdin",
     "output_type": "stream",
     "text": [
      "User:  AI Agent의 발전 방향과 적용 사례에 대해서 알려줘\n"
     ]
    },
    {
     "name": "stdout",
     "output_type": "stream",
     "text": [
      "================================\u001b[1m Human Message \u001b[0m=================================\n",
      "\n",
      "AI Agent의 발전 방향과 적용 사례에 대해서 알려줘\n",
      "==================================\u001b[1m Ai Message \u001b[0m==================================\n",
      "Tool Calls:\n",
      "  search_news (call_9i4HjhD6EHONj6dyLClP3LCV)\n",
      " Call ID: call_9i4HjhD6EHONj6dyLClP3LCV\n",
      "  Args:\n",
      "    keyword: AI Agent 발전 방향\n",
      "  search_news (call_YP8UcBWeLXlhH11sOAaBfTOG)\n",
      " Call ID: call_YP8UcBWeLXlhH11sOAaBfTOG\n",
      "  Args:\n",
      "    keyword: AI Agent 적용 사례\n",
      "=================================\u001b[1m Tool Message \u001b[0m=================================\n",
      "Name: search_news\n",
      "\n",
      "{\"query\": \"AI Agent 적용 사례\", \"follow_up_questions\": null, \"answer\": null, \"images\": [], \"results\": [{\"url\": \"https://www.forbes.com/sites/libertbarry/2024/11/22/beyond-moonshots-ai-agents-will-come-to-earth-in-2025/\", \"title\": \"Beyond Moonshots: AI Agents Will Come To Earth In 2025 - Forbes\", \"score\": 0.9938309, \"published_date\": \"Fri, 22 Nov 2024 22:27:50 GMT\", \"content\": \"Examples like these showcase how AI agents can subtly transform essential operations, freeing teams from repetitive tasks to focus on more strategic goals. Code Review and Security Monitoring: In tech-driven industries, AI agents support software development by continuously reviewing code and scanning for potential vulnerabilities, providing real-time alerts to prevent issues before they escalate and flagging best practices to streamline efficiency. By focusing on practical applications, AI agents are unlocking new possibilities, making complex tasks like unstructured data processing and compliance monitoring more accessible and manageable. The focus on democratized, agent-driven AI highlights a future where powerful technology is not just for the few but is available to organizations everywhere, transforming industries, elevating productivity, and setting new standards in accessibility.\"}, {\"url\": \"https://www.forbes.com/sites/lanceeliot/2024/11/16/multi-agent-ai-orchestration-shaping-up-but-heres-why-it-might-not-be-fully-shipshape/\", \"title\": \"Multi-Agent AI Orchestration Shaping Up But Here’s Why It Might Not Be Fully Shipshape - Forbes\", \"score\": 0.96309197, \"published_date\": \"Sun, 17 Nov 2024 03:40:05 GMT\", \"content\": \"This is what AI agents are all about. In other words, someone might have a completely different orchestrating AI agent that makes use of those same subordinating AI agents, including booking flights, booking hotels, and so on. Commands to do this or do that are issued by the orchestrating AI agent. Generative AI Orchestration Agent: \\\"Reserve the Delta flight and the Hilton Times Square hotel. The orchestration AI agent then went ahead and selected the best choice for me in terms of the flight and the hotel bookings. How did the orchestration AI agent get messed up? In terms of the flights, the orchestration AI agent has slipped into the conversation that the First-Class seat should be booked.\"}, {\"url\": \"https://www.forbes.com/sites/johnwerner/2024/11/14/how-will-ai-automate-paperwork/\", \"title\": \"How Will AI Automate Paperwork? - Forbes\", \"score\": 0.8580062, \"published_date\": \"Thu, 14 Nov 2024 15:40:02 GMT\", \"content\": \"But there is a certain amount of interest around getting AI agents to use tools – mostly the kinds of tools you associate with the digital desktop. An additional element is that capability of the AI agents to learn those rules, master those tools, and eventually use them in creative ways. Kulkami referenced Anthropic’s Claude model, where the agent is now learning to use a computer like a human – making keyboard and mouse inputs, navigating an operating system, and exploring what’s possible with that interface. Describing nascent desktop analysis systems, Kulkami suggested that we’re going to have the agents learning by watching every human input, and then taking those into account.\"}, {\"url\": \"https://www.forbes.com/sites/janakirammsv/2024/11/25/top-5-azure-ai-announcements-from-microsoft-ignite-2024/\", \"title\": \"Top 5 Azure AI Announcements From Microsoft Ignite 2024 - Forbes\", \"score\": 0.8467045, \"published_date\": \"Mon, 25 Nov 2024 05:38:00 GMT\", \"content\": \"Microsoft’s Azure AI Agent Service is a capability of Azure AI Foundry for developers to create, deploy and scale intelligent AI agents that can automate complex business processes. Azure AI Agent Service integrates seamlessly with Logic Apps, Power Apps and Azure Functions, enabling developers to create sophisticated AI-driven applications. The new Agent SDK empowers developers to create multi-channel agents leveraging Azure AI, Semantic Kernel and Copilot Studio services, deployable across platforms like Teams, Copilot, web and third-party messaging systems. The platform integrates seamlessly with existing Azure AI services, allowing developers and IT professionals to access comprehensive insights directly through familiar tools like GitHub and Visual Studio, thereby simplifying the process of maintaining transparency and accountability in AI model development.\"}, {\"url\": \"https://www.forbes.com/sites/tomerniv/2024/11/07/ai-agents-economy-why-crypto-may-hold-the-key-to-fund-management/\", \"title\": \"AI Agents Economy: Why Crypto May Hold The Key To Fund Management - Forbes\", \"score\": 0.8080672, \"published_date\": \"Thu, 07 Nov 2024 08:46:26 GMT\", \"content\": \"AI Agents Economy: Why Crypto May Hold The Key To Fund Management AI Agents Economy: Why Crypto May Hold The Key To Fund Management As the potential of autonomous agents becomes more tangible, crypto is emerging as a promising infrastructure to enable AI agents to securely and independently manage funds, potentially overcoming the limitations of traditional finance systems. This independence makes crypto wallets an attractive choice for AI agents that need to manage funds autonomously. For an AI agent to manage a crypto wallet, it needs access to the private keys. Exploring Key Management Solutions for AI Agents Wallets Multi-Signature Wallets: Multi-signature (multi-sig) wallets require multiple private keys to authorize a transaction, which can be useful for AI agents.\"}], \"response_time\": 0.31}\n",
      "==================================\u001b[1m Ai Message \u001b[0m==================================\n",
      "\n",
      "AI 에이전트의 발전 방향과 적용 사례에 대한 최근 뉴스와 정보를 정리해 보았습니다.\n",
      "\n",
      "### 발전 방향\n",
      "1. **정보 접근 방식의 혁신**: AI 에이전트는 인간과의 상호작용 방식을 근본적으로 변화시키고 있습니다. 예를 들어, AI 에이전트는 정보 검색을 자동화하고, 콘텐츠 생성의 복잡성을 증가시키며, 인간 독자와 AI 에이전트 모두를 위한 콘텐츠를 생성해야 하는 새로운 요구를 만들어냅니다. [Forbes 기사](https://www.forbes.com/sites/digital-assets/2024/11/26/let-me-chatgpt-that--are-the-days-of-googling-numbered/)에서 언급된 바와 같이, 향후 24개월 내에 AI 에이전트는 온라인 정보 접근 방식을 혁신할 것으로 기대됩니다.\n",
      "\n",
      "2. **업무 자동화 및 효율성 향상**: AI 에이전트는 반복적인 작업에서 팀을 해방시켜 더 전략적인 목표에 집중할 수 있도록 도와줍니다. 예를 들어, 코드 리뷰 및 보안 모니터링을 통해 소프트웨어 개발을 지원하고, 실시간 경고를 제공하여 문제를 사전에 예방하는 역할을 합니다. [Forbes 기사](https://www.forbes.com/sites/libertbarry/2024/11/22/beyond-moonshots-ai-agents-will-come-to-earth-in-2025/)에서 이러한 변화를 강조하고 있습니다.\n",
      "\n",
      "3. **디지털 워크포스의 창출**: AI 에이전트는 기업들이 더 효과적으로 작업할 수 있도록 지원하며, 프로세스를 간소화하고 일상적인 작업에 소요되는 시간을 크게 줄이는 데 기여하고 있습니다. [Forbes 기사](https://www.forbes.com/sites/deandebiase/2024/12/04/how-the-upending-era-of-agentic-ai-will-create-all-digital-workforces/)에 따르면, 이러한 AI 도구들은 팀의 생산성을 높이고 고객 만족도를 향상시키는 데 중요한 역할을 하고 있습니다.\n",
      "\n",
      "### 적용 사례\n",
      "1. **소프트웨어 개발 지원**: AI 에이전트는 코드 리뷰와 보안 모니터링을 통해 소프트웨어 개발 프로세스를 개선하고 있습니다. 이는 개발자들이 더 중요한 작업에 집중할 수 있도록 도와줍니다. [Forbes 기사](https://www.forbes.com/sites/libertbarry/2024/11/22/beyond-moonshots-ai-agents-will-come-to-earth-in-2025/)에서 이와 관련된 사례를 다루고 있습니다.\n",
      "\n",
      "2. **다중 에이전트 오케스트레이션**: AI 에이전트는 서로 다른 작업을 수행하는 여러 하위 에이전트를 조정하여 복잡한 작업을 자동화합니다. 예를 들어, 여행 예약을 위한 명령을 발행하고 최적의 선택을 자동으로 수행하는 방식입니다. [Forbes 기사](https://www.forbes.com/sites/lanceeliot/2024/11/16/multi-agent-ai-orchestration-shaping-up-but-heres-why-it-might-not-be-fully-shipshape/)에서 이러한 오케스트레이션의 중요성을 설명하고 있습니다.\n",
      "\n",
      "3. **비즈니스 프로세스 자동화**: Microsoft의 Azure AI 에이전트 서비스는 복잡한 비즈니스 프로세스를 자동화할 수 있는 지능형 AI 에이전트를 생성하고 배포하는 기능을 제공합니다. 이는 다양한 플랫폼에서 사용할 수 있는 애플리케이션을 개발하는 데 도움을 줍니다. [Forbes 기사](https://www.forbes.com/sites/janakirammsv/2024/11/25/top-5-azure-ai-announcements-from-microsoft-ignite-2024/)에서 이 서비스에 대한 정보를 확인할 수 있습니다.\n",
      "\n",
      "이와 같은 발전 방향과 적용 사례들은 AI 에이전트가 다양한 산업에서 어떻게 활용되고 있는지를 보여줍니다. AI 기술의 발전은 앞으로도 계속해서 우리의 업무 방식과 일상생활에 큰 영향을 미칠 것입니다.\n"
     ]
    }
   ],
   "source": [
    "events = graph.stream(\n",
    "    {\"messages\": [(\"user\", input(\"User: \"))]}, config, stream_mode=\"values\"\n",
    ")\n",
    "\n",
    "for event in events:\n",
    "    event[\"messages\"][-1].pretty_print()"
   ]
  },
  {
   "cell_type": "code",
   "execution_count": null,
   "id": "59904eb7-38a3-4fa6-a949-a55ebd340754",
   "metadata": {},
   "outputs": [],
   "source": []
  }
 ],
 "metadata": {
  "kernelspec": {
   "display_name": "Python 3 (ipykernel)",
   "language": "python",
   "name": "python3"
  },
  "language_info": {
   "codemirror_mode": {
    "name": "ipython",
    "version": 3
   },
   "file_extension": ".py",
   "mimetype": "text/x-python",
   "name": "python",
   "nbconvert_exporter": "python",
   "pygments_lexer": "ipython3",
   "version": "3.10.12"
  }
 },
 "nbformat": 4,
 "nbformat_minor": 5
}
