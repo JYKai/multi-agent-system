{
 "cells": [
  {
   "cell_type": "code",
   "execution_count": 2,
   "id": "af39fb6c-3a94-40bf-b77d-15f5ad9f094d",
   "metadata": {},
   "outputs": [
    {
     "data": {
      "text/plain": [
       "'/workspace/user/kjy/DL-projects/MAS/04-langgraph-projects/04-multi-agent-business-analysis'"
      ]
     },
     "execution_count": 2,
     "metadata": {},
     "output_type": "execute_result"
    }
   ],
   "source": [
    "import os\n",
    "import pandas as pd\n",
    "import yfinance as yf\n",
    "\n",
    "from polygon import RESTClient\n",
    "from pathlib import Path\n",
    "from dotenv import load_dotenv\n",
    "\n",
    "from langchain_core.tools import tool\n",
    "from langchain_openai import ChatOpenAI\n",
    "from langchain.agents.agent_types import AgentType\n",
    "from langchain_experimental.agents.agent_toolkits import create_pandas_dataframe_agent\n",
    "\n",
    "load_dotenv()\n",
    "os.getcwd()"
   ]
  },
  {
   "cell_type": "markdown",
   "id": "fd29c513-28ff-407a-bebe-9125863e7f7a",
   "metadata": {},
   "source": [
    "### Polygon API"
   ]
  },
  {
   "cell_type": "code",
   "execution_count": 3,
   "id": "d1e611f6-18b3-4b76-ae7a-2be8a2d54435",
   "metadata": {},
   "outputs": [],
   "source": [
    "BASE_DIR = Path(os.getcwd())    # 현재 작업 디렉토리\n",
    "DATA_DIR = BASE_DIR / \"data\"    # 데이터 저장용 디렉토리\n",
    "CHART_DIR = BASE_DIR / \"charts\" # 차트 저장용 디렉토리"
   ]
  },
  {
   "cell_type": "code",
   "execution_count": 4,
   "id": "a718bf42-1363-48f7-adc3-8631518b0371",
   "metadata": {},
   "outputs": [],
   "source": [
    "polygon_client = RESTClient(api_key=os.environ[\"POLYGON_API_KEY\"])"
   ]
  },
  {
   "cell_type": "markdown",
   "id": "6357cf3d-a4b1-420b-99ec-ff31e0bce510",
   "metadata": {},
   "source": [
    "### yfinance, Polygon API로 자사, 경쟁사 주식정보 가져오기"
   ]
  },
  {
   "cell_type": "code",
   "execution_count": 5,
   "id": "0877a424-b087-4a17-ae2b-eb67532e436c",
   "metadata": {},
   "outputs": [
    {
     "data": {
      "text/plain": [
       "['AMD',\n",
       " 'META',\n",
       " 'GOOGL',\n",
       " 'TSLA',\n",
       " 'GOOG',\n",
       " 'MSFT',\n",
       " 'AMZN',\n",
       " 'AAPL',\n",
       " 'INTC',\n",
       " 'AVGO']"
      ]
     },
     "execution_count": 5,
     "metadata": {},
     "output_type": "execute_result"
    }
   ],
   "source": [
    "related_companies = polygon_client.get_related_companies(\"NVDA\")\n",
    "\n",
    "competitors = [i.ticker for i in related_companies]\n",
    "competitors"
   ]
  },
  {
   "cell_type": "code",
   "execution_count": 7,
   "id": "14ef1607-7e43-4cd1-8d87-3bd486d12d08",
   "metadata": {},
   "outputs": [],
   "source": [
    "nasdaq = yf.download('^IXIC', start=\"2023-01-01\", end=\"2024-01-01\", progress=False)"
   ]
  },
  {
   "cell_type": "code",
   "execution_count": 13,
   "id": "bd556e09-c523-4f75-96f0-8603dd6ba9e9",
   "metadata": {},
   "outputs": [
    {
     "data": {
      "text/html": [
       "<div>\n",
       "<style scoped>\n",
       "    .dataframe tbody tr th:only-of-type {\n",
       "        vertical-align: middle;\n",
       "    }\n",
       "\n",
       "    .dataframe tbody tr th {\n",
       "        vertical-align: top;\n",
       "    }\n",
       "\n",
       "    .dataframe thead tr th {\n",
       "        text-align: left;\n",
       "    }\n",
       "\n",
       "    .dataframe thead tr:last-of-type th {\n",
       "        text-align: right;\n",
       "    }\n",
       "</style>\n",
       "<table border=\"1\" class=\"dataframe\">\n",
       "  <thead>\n",
       "    <tr>\n",
       "      <th>Price</th>\n",
       "      <th>Adj Close</th>\n",
       "      <th>Close</th>\n",
       "      <th>High</th>\n",
       "      <th>Low</th>\n",
       "      <th>Open</th>\n",
       "      <th>Volume</th>\n",
       "    </tr>\n",
       "    <tr>\n",
       "      <th>Ticker</th>\n",
       "      <th>^IXIC</th>\n",
       "      <th>^IXIC</th>\n",
       "      <th>^IXIC</th>\n",
       "      <th>^IXIC</th>\n",
       "      <th>^IXIC</th>\n",
       "      <th>^IXIC</th>\n",
       "    </tr>\n",
       "    <tr>\n",
       "      <th>Date</th>\n",
       "      <th></th>\n",
       "      <th></th>\n",
       "      <th></th>\n",
       "      <th></th>\n",
       "      <th></th>\n",
       "      <th></th>\n",
       "    </tr>\n",
       "  </thead>\n",
       "  <tbody>\n",
       "    <tr>\n",
       "      <th>2023-01-03 00:00:00+00:00</th>\n",
       "      <td>10386.980469</td>\n",
       "      <td>10386.980469</td>\n",
       "      <td>10613.059570</td>\n",
       "      <td>10309.160156</td>\n",
       "      <td>10562.059570</td>\n",
       "      <td>4780650000</td>\n",
       "    </tr>\n",
       "    <tr>\n",
       "      <th>2023-01-04 00:00:00+00:00</th>\n",
       "      <td>10458.759766</td>\n",
       "      <td>10458.759766</td>\n",
       "      <td>10515.219727</td>\n",
       "      <td>10337.639648</td>\n",
       "      <td>10467.820312</td>\n",
       "      <td>5085380000</td>\n",
       "    </tr>\n",
       "    <tr>\n",
       "      <th>2023-01-05 00:00:00+00:00</th>\n",
       "      <td>10305.240234</td>\n",
       "      <td>10305.240234</td>\n",
       "      <td>10393.219727</td>\n",
       "      <td>10295.250000</td>\n",
       "      <td>10390.309570</td>\n",
       "      <td>4764270000</td>\n",
       "    </tr>\n",
       "    <tr>\n",
       "      <th>2023-01-06 00:00:00+00:00</th>\n",
       "      <td>10569.290039</td>\n",
       "      <td>10569.290039</td>\n",
       "      <td>10604.139648</td>\n",
       "      <td>10265.040039</td>\n",
       "      <td>10363.959961</td>\n",
       "      <td>5199780000</td>\n",
       "    </tr>\n",
       "    <tr>\n",
       "      <th>2023-01-09 00:00:00+00:00</th>\n",
       "      <td>10635.650391</td>\n",
       "      <td>10635.650391</td>\n",
       "      <td>10807.259766</td>\n",
       "      <td>10619.120117</td>\n",
       "      <td>10662.099609</td>\n",
       "      <td>5132190000</td>\n",
       "    </tr>\n",
       "    <tr>\n",
       "      <th>...</th>\n",
       "      <td>...</td>\n",
       "      <td>...</td>\n",
       "      <td>...</td>\n",
       "      <td>...</td>\n",
       "      <td>...</td>\n",
       "      <td>...</td>\n",
       "    </tr>\n",
       "    <tr>\n",
       "      <th>2023-12-22 00:00:00+00:00</th>\n",
       "      <td>14992.969727</td>\n",
       "      <td>14992.969727</td>\n",
       "      <td>15047.190430</td>\n",
       "      <td>14927.120117</td>\n",
       "      <td>15006.179688</td>\n",
       "      <td>4796600000</td>\n",
       "    </tr>\n",
       "    <tr>\n",
       "      <th>2023-12-26 00:00:00+00:00</th>\n",
       "      <td>15074.570312</td>\n",
       "      <td>15074.570312</td>\n",
       "      <td>15101.179688</td>\n",
       "      <td>15024.059570</td>\n",
       "      <td>15028.690430</td>\n",
       "      <td>6120600000</td>\n",
       "    </tr>\n",
       "    <tr>\n",
       "      <th>2023-12-27 00:00:00+00:00</th>\n",
       "      <td>15099.179688</td>\n",
       "      <td>15099.179688</td>\n",
       "      <td>15114.080078</td>\n",
       "      <td>15051.669922</td>\n",
       "      <td>15089.660156</td>\n",
       "      <td>7480170000</td>\n",
       "    </tr>\n",
       "    <tr>\n",
       "      <th>2023-12-28 00:00:00+00:00</th>\n",
       "      <td>15095.139648</td>\n",
       "      <td>15095.139648</td>\n",
       "      <td>15150.070312</td>\n",
       "      <td>15087.219727</td>\n",
       "      <td>15142.089844</td>\n",
       "      <td>5090570000</td>\n",
       "    </tr>\n",
       "    <tr>\n",
       "      <th>2023-12-29 00:00:00+00:00</th>\n",
       "      <td>15011.349609</td>\n",
       "      <td>15011.349609</td>\n",
       "      <td>15111.410156</td>\n",
       "      <td>14955.370117</td>\n",
       "      <td>15099.200195</td>\n",
       "      <td>5441060000</td>\n",
       "    </tr>\n",
       "  </tbody>\n",
       "</table>\n",
       "<p>250 rows × 6 columns</p>\n",
       "</div>"
      ],
      "text/plain": [
       "Price                         Adj Close         Close          High  \\\n",
       "Ticker                            ^IXIC         ^IXIC         ^IXIC   \n",
       "Date                                                                  \n",
       "2023-01-03 00:00:00+00:00  10386.980469  10386.980469  10613.059570   \n",
       "2023-01-04 00:00:00+00:00  10458.759766  10458.759766  10515.219727   \n",
       "2023-01-05 00:00:00+00:00  10305.240234  10305.240234  10393.219727   \n",
       "2023-01-06 00:00:00+00:00  10569.290039  10569.290039  10604.139648   \n",
       "2023-01-09 00:00:00+00:00  10635.650391  10635.650391  10807.259766   \n",
       "...                                 ...           ...           ...   \n",
       "2023-12-22 00:00:00+00:00  14992.969727  14992.969727  15047.190430   \n",
       "2023-12-26 00:00:00+00:00  15074.570312  15074.570312  15101.179688   \n",
       "2023-12-27 00:00:00+00:00  15099.179688  15099.179688  15114.080078   \n",
       "2023-12-28 00:00:00+00:00  15095.139648  15095.139648  15150.070312   \n",
       "2023-12-29 00:00:00+00:00  15011.349609  15011.349609  15111.410156   \n",
       "\n",
       "Price                               Low          Open      Volume  \n",
       "Ticker                            ^IXIC         ^IXIC       ^IXIC  \n",
       "Date                                                               \n",
       "2023-01-03 00:00:00+00:00  10309.160156  10562.059570  4780650000  \n",
       "2023-01-04 00:00:00+00:00  10337.639648  10467.820312  5085380000  \n",
       "2023-01-05 00:00:00+00:00  10295.250000  10390.309570  4764270000  \n",
       "2023-01-06 00:00:00+00:00  10265.040039  10363.959961  5199780000  \n",
       "2023-01-09 00:00:00+00:00  10619.120117  10662.099609  5132190000  \n",
       "...                                 ...           ...         ...  \n",
       "2023-12-22 00:00:00+00:00  14927.120117  15006.179688  4796600000  \n",
       "2023-12-26 00:00:00+00:00  15024.059570  15028.690430  6120600000  \n",
       "2023-12-27 00:00:00+00:00  15051.669922  15089.660156  7480170000  \n",
       "2023-12-28 00:00:00+00:00  15087.219727  15142.089844  5090570000  \n",
       "2023-12-29 00:00:00+00:00  14955.370117  15099.200195  5441060000  \n",
       "\n",
       "[250 rows x 6 columns]"
      ]
     },
     "execution_count": 13,
     "metadata": {},
     "output_type": "execute_result"
    }
   ],
   "source": [
    "nasdaq"
   ]
  },
  {
   "cell_type": "code",
   "execution_count": 14,
   "id": "fa45c49f-7378-4da0-a81c-b0d487961eac",
   "metadata": {},
   "outputs": [],
   "source": [
    "df = pd.DataFrame(index=nasdaq.index) # 기간을 인덱스로 설정\n",
    "df['^IXIC'] = nasdaq['Adj Close']"
   ]
  },
  {
   "cell_type": "code",
   "execution_count": 16,
   "id": "3917ddd6-6f00-4ba2-ab0d-50e27c65a14f",
   "metadata": {},
   "outputs": [
    {
     "data": {
      "text/plain": [
       "False"
      ]
     },
     "execution_count": 16,
     "metadata": {},
     "output_type": "execute_result"
    }
   ],
   "source": [
    "df.empty"
   ]
  },
  {
   "cell_type": "code",
   "execution_count": 17,
   "id": "c3e4e989-fcd9-4cb8-9ff8-4febb092542a",
   "metadata": {},
   "outputs": [],
   "source": [
    "@tool\n",
    "def fetch_stock_data(ticker: str, start_date: str, end_date: str):\n",
    "    \"\"\"Fetch stock data and compare with NASDAQ and competitors.\"\"\"\n",
    "    stock = yf.download(ticker, start=start_date, end=end_date, progress=False)\n",
    "    nasdaq = yf.download('^IXIC', start=start_date, end=end_date, progress=False)\n",
    "\n",
    "    df = pd.DataFrame(index=stock.index) # 기간을 인덱스로 설정\n",
    "    df[f'{ticker}'] = stock['Adj Close']\n",
    "    df['Nasdaq'] = nasdaq['Adj Close']\n",
    "\n",
    "    related_companies = polygon_client.get_related_companies(ticker)\n",
    "    competitors = [i.ticker for i in related_companies]\n",
    "\n",
    "    for comp in competitors:\n",
    "        try:\n",
    "            comp_ticker = comp.replace('.', '-') if '.' in comp else comp\n",
    "            comp_data = yf.download(comp_ticker, start=start_date, end=end_date, progress=False)\n",
    "            if not comp_data.empty:\n",
    "                df[comp] = comp_data['Adj Close']\n",
    "        except Exception as e:\n",
    "            continue\n",
    "\n",
    "    csv_path = DATA_DIR / \"stock_data.csv\"\n",
    "    df.to_csv(csv_path)\n",
    "    return f\"Stock file saved to {csv_path}\""
   ]
  },
  {
   "cell_type": "code",
   "execution_count": 23,
   "id": "db101b9b-1a3d-4cd6-b451-038d1e17e830",
   "metadata": {},
   "outputs": [
    {
     "data": {
      "text/plain": [
       "'Stock file saved to /workspace/user/kjy/DL-projects/MAS/04-langgraph-projects/04-multi-agent-business-analysis/data/stock_data.csv'"
      ]
     },
     "execution_count": 23,
     "metadata": {},
     "output_type": "execute_result"
    }
   ],
   "source": [
    "fetch_stock_data.run({\"ticker\": \"NVDA\",\n",
    "                      \"start_date\":\"2023-01-01\", \n",
    "                      \"end_date\":\"2024-01-01\"})"
   ]
  },
  {
   "cell_type": "markdown",
   "id": "c610647d-8c2d-45d6-b842-5769b14e3c1c",
   "metadata": {},
   "source": [
    "### Get Financial Information"
   ]
  },
  {
   "cell_type": "code",
   "execution_count": 32,
   "id": "3314014a-a879-40ae-82ce-3e5ee8c3185e",
   "metadata": {},
   "outputs": [],
   "source": [
    "import time\n",
    "\n",
    "client = polygon_client\n",
    "\n",
    "# 최근 n개년간 분기별 재무제표 데이터 수집\n",
    "financials = []\n",
    "for f in client.vx.list_stock_financials(\"NVDA\", limit=30): # limit을 지정하지 않으면 요청수가 초과할 수 있다.\n",
    "    if \"Q\" in f.fiscal_period and f.end_date >= f\"{pd.Timestamp.now().year - 3}-01-01\":\n",
    "        financials.append(f)\n",
    "    # time.sleep(1)  # 요청 간 1초 지연"
   ]
  },
  {
   "cell_type": "code",
   "execution_count": 33,
   "id": "54a09b81-32ae-4327-8ea0-eacf0aa09a89",
   "metadata": {},
   "outputs": [
    {
     "data": {
      "text/plain": [
       "[StockFinancial(cik='0001045810', company_name='NVIDIA CORP', end_date='2024-07-28', filing_date='2024-08-28', financials=Financials(balance_sheet={'intangible_assets': DataPoint(formula=None, label='Intangible Assets', order=330, unit='USD', value=952000000.0, xpath=None), 'equity_attributable_to_parent': DataPoint(formula=None, label='Equity Attributable To Parent', order=1600, unit='USD', value=58157000000.0, xpath=None), 'inventory': DataPoint(formula=None, label='Inventory', order=230, unit='USD', value=6675000000.0, xpath=None), 'liabilities': DataPoint(formula=None, label='Liabilities', order=600, unit='USD', value=27070000000.0, xpath=None), 'other_noncurrent_assets': DataPoint(formula=None, label='Other Non-current Assets', order=350, unit='USD', value=19757000000.0, xpath=None), 'other_noncurrent_liabilities': DataPoint(formula=None, label='Other Non-current Liabilities', order=820, unit='USD', value=4640000000.0, xpath=None), 'accounts_payable': DataPoint(formula=None, label='Accounts Payable', order=710, unit='USD', value=3680000000.0, xpath=None), 'long_term_debt': DataPoint(formula=None, label='Long-term Debt', order=810, unit='USD', value=8461000000.0, xpath=None), 'other_current_assets': DataPoint(formula=None, label='Other Current Assets', order=250, unit='USD', value=52958000000.0, xpath=None), 'liabilities_and_equity': DataPoint(formula=None, label='Liabilities And Equity', order=1900, unit='USD', value=85227000000.0, xpath=None), 'other_current_liabilities': DataPoint(formula=None, label='Other Current Liabilities', order=740, unit='USD', value=9348000000.0, xpath=None), 'assets': DataPoint(formula=None, label='Assets', order=100, unit='USD', value=85227000000.0, xpath=None), 'equity': DataPoint(formula=None, label='Equity', order=1400, unit='USD', value=58157000000.0, xpath=None), 'fixed_assets': DataPoint(formula=None, label='Fixed Assets', order=320, unit='USD', value=4885000000.0, xpath=None), 'equity_attributable_to_noncontrolling_interest': DataPoint(formula=None, label='Equity Attributable To Noncontrolling Interest', order=1500, unit='USD', value=0, xpath=None), 'noncurrent_liabilities': DataPoint(formula=None, label='Noncurrent Liabilities', order=800, unit='USD', value=13101000000.0, xpath=None), 'current_assets': DataPoint(formula=None, label='Current Assets', order=200, unit='USD', value=59633000000.0, xpath=None), 'noncurrent_assets': DataPoint(formula=None, label='Noncurrent Assets', order=300, unit='USD', value=25594000000.0, xpath=None), 'wages': DataPoint(formula=None, label='Wages', order=730, unit='USD', value=941000000.0, xpath=None), 'current_liabilities': DataPoint(formula=None, label='Current Liabilities', order=700, unit='USD', value=13969000000.0, xpath=None)}, cash_flow_statement=CashFlowStatement(exchange_gains_losses=None, net_cash_flow=NetCashFlow(formula=None, label='Net Cash Flow', order=1100, unit='USD', value=984000000.0, xpath=None), net_cash_flow_from_financing_activities=NetCashFlowFromFinancingActivities(formula=None, label='Net Cash Flow From Financing Activities', order=700, unit='USD', value=-10320000000.0, xpath=None)), comprehensive_income=ComprehensiveIncome(comprehensive_income_loss=ComprehensiveIncomeLoss(formula=None, label='Comprehensive Income/Loss', order=100, unit='USD', value=16764000000.0, xpath=None), comprehensive_income_loss_attributable_to_parent=ComprehensiveIncomeLossAttributableToParent(formula=None, label='Comprehensive Income/Loss Attributable To Parent', order=300, unit='USD', value=16764000000.0, xpath=None), other_comprehensive_income_loss=OtherComprehensiveIncomeLoss(formula=None, label='Other Comprehensive Income/Loss', order=400, unit='USD', value=165000000.0, xpath=None)), income_statement=IncomeStatement(basic_earnings_per_share=BasicEarningsPerShare(formula=None, label='Basic Earnings Per Share', order=4200, unit='USD / shares', value=0.68, xpath=None), cost_of_revenue=CostOfRevenue(formula=None, label='Cost Of Revenue', order=300, unit='USD', value=7466000000.0, xpath=None), gross_profit=GrossProfit(formula=None, label='Gross Profit', order=800, unit='USD', value=22574000000.0, xpath=None), operating_expenses=OperatingExpenses(formula=None, label='Operating Expenses', order=1000, unit='USD', value=3932000000.0, xpath=None), revenues=Revenues(formula=None, label='Revenues', order=100, unit='USD', value=30040000000.0, xpath=None))), fiscal_period='Q2', fiscal_year='2025', source_filing_file_url='http://api.polygon.io/v1/reference/sec/filings/0001045810-24-000264/files/nvda-20240728_htm.xml', source_filing_url='https://api.polygon.io/v1/reference/sec/filings/0001045810-24-000264', start_date='2024-04-29'),\n",
       " StockFinancial(cik='0001045810', company_name='NVIDIA CORP', end_date='2024-04-28', filing_date='2024-05-29', financials=Financials(balance_sheet={'long_term_debt': DataPoint(formula=None, label='Long-term Debt', order=810, unit='USD', value=9710000000.0, xpath=None), 'liabilities': DataPoint(formula=None, label='Liabilities', order=600, unit='USD', value=27930000000.0, xpath=None), 'equity_attributable_to_parent': DataPoint(formula=None, label='Equity Attributable To Parent', order=1600, unit='USD', value=49142000000.0, xpath=None), 'wages': DataPoint(formula=None, label='Wages', order=730, unit='USD', value=639000000.0, xpath=None), 'fixed_assets': DataPoint(formula=None, label='Fixed Assets', order=320, unit='USD', value=4006000000.0, xpath=None), 'liabilities_and_equity': DataPoint(formula=None, label='Liabilities And Equity', order=1900, unit='USD', value=77072000000.0, xpath=None), 'inventory': DataPoint(formula=None, label='Inventory', order=230, unit='USD', value=5864000000.0, xpath=None), 'other_noncurrent_liabilities': DataPoint(formula=None, label='Other Non-current Liabilities', order=820, unit='USD', value=2997000000.0, xpath=None), 'noncurrent_liabilities': DataPoint(formula=None, label='Noncurrent Liabilities', order=800, unit='USD', value=0, xpath=None), 'current_assets': DataPoint(formula=None, label='Current Assets', order=200, unit='USD', value=53729000000.0, xpath=None), 'accounts_payable': DataPoint(formula=None, label='Accounts Payable', order=710, unit='USD', value=2715000000.0, xpath=None), 'other_noncurrent_assets': DataPoint(formula=None, label='Other Non-current Assets', order=350, unit='USD', value=18351000000.0, xpath=None), 'assets': DataPoint(formula=None, label='Assets', order=100, unit='USD', value=77072000000.0, xpath=None), 'other_current_liabilities': DataPoint(formula=None, label='Other Current Liabilities', order=740, unit='USD', value=11869000000.0, xpath=None), 'equity_attributable_to_noncontrolling_interest': DataPoint(formula=None, label='Equity Attributable To Noncontrolling Interest', order=1500, unit='USD', value=0, xpath=None), 'current_liabilities': DataPoint(formula=None, label='Current Liabilities', order=700, unit='USD', value=15223000000.0, xpath=None), 'noncurrent_assets': DataPoint(formula=None, label='Noncurrent Assets', order=300, unit='USD', value=23343000000.0, xpath=None), 'intangible_assets': DataPoint(formula=None, label='Intangible Assets', order=330, unit='USD', value=986000000.0, xpath=None), 'equity': DataPoint(formula=None, label='Equity', order=1400, unit='USD', value=49142000000.0, xpath=None), 'other_current_assets': DataPoint(formula=None, label='Other Current Assets', order=250, unit='USD', value=47865000000.0, xpath=None)}, cash_flow_statement=CashFlowStatement(exchange_gains_losses=None, net_cash_flow=NetCashFlow(formula=None, label='Net Cash Flow', order=1100, unit='USD', value=307000000.0, xpath=None), net_cash_flow_from_financing_activities=NetCashFlowFromFinancingActivities(formula=None, label='Net Cash Flow From Financing Activities', order=700, unit='USD', value=-9345000000.0, xpath=None)), comprehensive_income=ComprehensiveIncome(comprehensive_income_loss=ComprehensiveIncomeLoss(formula=None, label='Comprehensive Income/Loss', order=100, unit='USD', value=14745000000.0, xpath=None), comprehensive_income_loss_attributable_to_parent=ComprehensiveIncomeLossAttributableToParent(formula=None, label='Comprehensive Income/Loss Attributable To Parent', order=300, unit='USD', value=14745000000.0, xpath=None), other_comprehensive_income_loss=OtherComprehensiveIncomeLoss(formula=None, label='Other Comprehensive Income/Loss', order=400, unit='USD', value=-136000000.0, xpath=None)), income_statement=IncomeStatement(basic_earnings_per_share=BasicEarningsPerShare(formula=None, label='Basic Earnings Per Share', order=4200, unit='USD / shares', value=6.04, xpath=None), cost_of_revenue=CostOfRevenue(formula=None, label='Cost Of Revenue', order=300, unit='USD', value=5638000000.0, xpath=None), gross_profit=GrossProfit(formula=None, label='Gross Profit', order=800, unit='USD', value=20406000000.0, xpath=None), operating_expenses=OperatingExpenses(formula=None, label='Operating Expenses', order=1000, unit='USD', value=3497000000.0, xpath=None), revenues=Revenues(formula=None, label='Revenues', order=100, unit='USD', value=26044000000.0, xpath=None))), fiscal_period='Q1', fiscal_year='2025', source_filing_file_url='http://api.polygon.io/v1/reference/sec/filings/0001045810-24-000124/files/nvda-20240428_htm.xml', source_filing_url='https://api.polygon.io/v1/reference/sec/filings/0001045810-24-000124', start_date='2024-01-29'),\n",
       " StockFinancial(cik='0001045810', company_name='NVIDIA CORP', end_date='2024-01-28', filing_date=None, financials=Financials(balance_sheet={'accounts_payable': DataPoint(formula=None, label='Accounts Payable', order=710, unit='USD', value=2699000000.0, xpath=None), 'noncurrent_liabilities': DataPoint(formula=None, label='Noncurrent Liabilities', order=800, unit='USD', value=12119000000.0, xpath=None), 'fixed_assets': DataPoint(formula=None, label='Fixed Assets', order=320, unit='USD', value=3914000000.0, xpath=None), 'wages': DataPoint(formula=None, label='Wages', order=730, unit='USD', value=675000000.0, xpath=None), 'other_current_assets': DataPoint(formula=None, label='Other Current Assets', order=250, unit='USD', value=39063000000.0, xpath=None), 'current_assets': DataPoint(formula=None, label='Current Assets', order=200, unit='USD', value=44345000000.0, xpath=None), 'liabilities': DataPoint(formula=None, label='Liabilities', order=600, unit='USD', value=22750000000.0, xpath=None), 'noncurrent_assets': DataPoint(formula=None, label='Noncurrent Assets', order=300, unit='USD', value=21383000000.0, xpath=None), 'current_liabilities': DataPoint(formula=None, label='Current Liabilities', order=700, unit='USD', value=10631000000.0, xpath=None), 'equity_attributable_to_parent': DataPoint(formula=None, label='Equity Attributable To Parent', order=1600, unit='USD', value=42978000000.0, xpath=None), 'other_current_liabilities': DataPoint(formula=None, label='Other Current Liabilities', order=740, unit='USD', value=7257000000.0, xpath=None), 'equity': DataPoint(formula=None, label='Equity', order=1400, unit='USD', value=42978000000.0, xpath=None), 'liabilities_and_equity': DataPoint(formula=None, label='Liabilities And Equity', order=1900, unit='USD', value=65728000000.0, xpath=None), 'intangible_assets': DataPoint(formula=None, label='Intangible Assets', order=330, unit='USD', value=1112000000.0, xpath=None), 'long_term_debt': DataPoint(formula=None, label='Long-term Debt', order=810, unit='USD', value=9709000000.0, xpath=None), 'assets': DataPoint(formula=None, label='Assets', order=100, unit='USD', value=65728000000.0, xpath=None), 'other_noncurrent_assets': DataPoint(formula=None, label='Other Non-current Assets', order=350, unit='USD', value=16357000000.0, xpath=None), 'equity_attributable_to_noncontrolling_interest': DataPoint(formula=None, label='Equity Attributable To Noncontrolling Interest', order=1500, unit='USD', value=0, xpath=None), 'inventory': DataPoint(formula=None, label='Inventory', order=230, unit='USD', value=5282000000.0, xpath=None), 'other_noncurrent_liabilities': DataPoint(formula=None, label='Other Non-current Liabilities', order=820, unit='USD', value=2410000000.0, xpath=None)}, cash_flow_statement=CashFlowStatement(exchange_gains_losses=None, net_cash_flow=NetCashFlow(formula=None, label='Net Cash Flow', order=1100, unit='USD', value=1761000000.0, xpath=None), net_cash_flow_from_financing_activities=NetCashFlowFromFinancingActivities(formula=None, label='Net Cash Flow From Financing Activities', order=700, unit='USD', value=-3629000000.0, xpath=None)), comprehensive_income=ComprehensiveIncome(comprehensive_income_loss=ComprehensiveIncomeLoss(formula=None, label='Comprehensive Income/Loss', order=100, unit='USD', value=12400000000.0, xpath=None), comprehensive_income_loss_attributable_to_parent=ComprehensiveIncomeLossAttributableToParent(formula=None, label='Comprehensive Income/Loss Attributable To Parent', order=300, unit='USD', value=12400000000.0, xpath=None), other_comprehensive_income_loss=OtherComprehensiveIncomeLoss(formula=None, label='Other Comprehensive Income/Loss', order=400, unit='USD', value=115000000.0, xpath=None)), income_statement=IncomeStatement(basic_earnings_per_share=BasicEarningsPerShare(formula=None, label='Basic Earnings Per Share', order=4200, unit='USD / shares', value=4.98, xpath=None), cost_of_revenue=CostOfRevenue(formula=None, label='Cost Of Revenue', order=300, unit='USD', value=5312000000.0, xpath=None), gross_profit=GrossProfit(formula=None, label='Gross Profit', order=800, unit='USD', value=16791000000.0, xpath=None), operating_expenses=OperatingExpenses(formula=None, label='Operating Expenses', order=1000, unit='USD', value=3177000000.0, xpath=None), revenues=Revenues(formula=None, label='Revenues', order=100, unit='USD', value=22103000000.0, xpath=None))), fiscal_period='Q4', fiscal_year='2024', source_filing_file_url=None, source_filing_url=None, start_date='2023-10-30'),\n",
       " StockFinancial(cik='0001045810', company_name='NVIDIA CORP', end_date='2023-10-29', filing_date='2023-11-21', financials=Financials(balance_sheet={'inventory': DataPoint(formula=None, label='Inventory', order=230, unit='USD', value=4779000000.0, xpath=None), 'equity': DataPoint(formula=None, label='Equity', order=1400, unit='USD', value=33265000000.0, xpath=None), 'assets': DataPoint(formula=None, label='Assets', order=100, unit='USD', value=54148000000.0, xpath=None), 'liabilities': DataPoint(formula=None, label='Liabilities', order=600, unit='USD', value=20883000000.0, xpath=None), 'equity_attributable_to_parent': DataPoint(formula=None, label='Equity Attributable To Parent', order=1600, unit='USD', value=33265000000.0, xpath=None), 'other_current_liabilities': DataPoint(formula=None, label='Other Current Liabilities', order=740, unit='USD', value=6205000000.0, xpath=None), 'long_term_debt': DataPoint(formula=None, label='Long-term Debt', order=810, unit='USD', value=9706000000.0, xpath=None), 'other_noncurrent_assets': DataPoint(formula=None, label='Other Non-current Assets', order=350, unit='USD', value=16395000000.0, xpath=None), 'equity_attributable_to_noncontrolling_interest': DataPoint(formula=None, label='Equity Attributable To Noncontrolling Interest', order=1500, unit='USD', value=0, xpath=None), 'fixed_assets': DataPoint(formula=None, label='Fixed Assets', order=320, unit='USD', value=3844000000.0, xpath=None), 'intangible_assets': DataPoint(formula=None, label='Intangible Assets', order=330, unit='USD', value=1251000000.0, xpath=None), 'current_liabilities': DataPoint(formula=None, label='Current Liabilities', order=700, unit='USD', value=9101000000.0, xpath=None), 'noncurrent_assets': DataPoint(formula=None, label='Noncurrent Assets', order=300, unit='USD', value=21490000000.0, xpath=None), 'other_current_assets': DataPoint(formula=None, label='Other Current Assets', order=250, unit='USD', value=27879000000.0, xpath=None), 'noncurrent_liabilities': DataPoint(formula=None, label='Noncurrent Liabilities', order=800, unit='USD', value=11782000000.0, xpath=None), 'other_noncurrent_liabilities': DataPoint(formula=None, label='Other Non-current Liabilities', order=820, unit='USD', value=2076000000.0, xpath=None), 'accounts_payable': DataPoint(formula=None, label='Accounts Payable', order=710, unit='USD', value=2380000000.0, xpath=None), 'current_assets': DataPoint(formula=None, label='Current Assets', order=200, unit='USD', value=32658000000.0, xpath=None), 'liabilities_and_equity': DataPoint(formula=None, label='Liabilities And Equity', order=1900, unit='USD', value=54148000000.0, xpath=None), 'wages': DataPoint(formula=None, label='Wages', order=730, unit='USD', value=516000000.0, xpath=None)}, cash_flow_statement=CashFlowStatement(exchange_gains_losses=None, net_cash_flow=NetCashFlow(formula=None, label='Net Cash Flow', order=1100, unit='USD', value=-363000000.0, xpath=None), net_cash_flow_from_financing_activities=NetCashFlowFromFinancingActivities(formula=None, label='Net Cash Flow From Financing Activities', order=700, unit='USD', value=-4525000000.0, xpath=None)), comprehensive_income=ComprehensiveIncome(comprehensive_income_loss=ComprehensiveIncomeLoss(formula=None, label='Comprehensive Income/Loss', order=100, unit='USD', value=9206000000.0, xpath=None), comprehensive_income_loss_attributable_to_parent=ComprehensiveIncomeLossAttributableToParent(formula=None, label='Comprehensive Income/Loss Attributable To Parent', order=300, unit='USD', value=9206000000.0, xpath=None), other_comprehensive_income_loss=OtherComprehensiveIncomeLoss(formula=None, label='Other Comprehensive Income/Loss', order=400, unit='USD', value=-37000000.0, xpath=None)), income_statement=IncomeStatement(basic_earnings_per_share=BasicEarningsPerShare(formula=None, label='Basic Earnings Per Share', order=4200, unit='USD / shares', value=3.75, xpath=None), cost_of_revenue=CostOfRevenue(formula=None, label='Cost Of Revenue', order=300, unit='USD', value=4720000000.0, xpath=None), gross_profit=GrossProfit(formula=None, label='Gross Profit', order=800, unit='USD', value=13400000000.0, xpath=None), operating_expenses=OperatingExpenses(formula=None, label='Operating Expenses', order=1000, unit='USD', value=2983000000.0, xpath=None), revenues=Revenues(formula=None, label='Revenues', order=100, unit='USD', value=18120000000.0, xpath=None))), fiscal_period='Q3', fiscal_year='2024', source_filing_file_url='http://api.polygon.io/v1/reference/sec/filings/0001045810-23-000227/files/nvda-20231029_htm.xml', source_filing_url='https://api.polygon.io/v1/reference/sec/filings/0001045810-23-000227', start_date='2023-07-31'),\n",
       " StockFinancial(cik='0001045810', company_name='NVIDIA CORP', end_date='2023-07-30', filing_date='2023-08-28', financials=Financials(balance_sheet={'liabilities': DataPoint(formula=None, label='Liabilities', order=600, unit='USD', value=22054000000.0, xpath=None), 'other_current_liabilities': DataPoint(formula=None, label='Other Current Liabilities', order=740, unit='USD', value=7763000000.0, xpath=None), 'long_term_debt': DataPoint(formula=None, label='Long-term Debt', order=810, unit='USD', value=9705000000.0, xpath=None), 'other_noncurrent_liabilities': DataPoint(formula=None, label='Other Non-current Liabilities', order=820, unit='USD', value=2015000000.0, xpath=None), 'accounts_payable': DataPoint(formula=None, label='Accounts Payable', order=710, unit='USD', value=1929000000.0, xpath=None), 'noncurrent_liabilities': DataPoint(formula=None, label='Noncurrent Liabilities', order=800, unit='USD', value=0, xpath=None), 'noncurrent_assets': DataPoint(formula=None, label='Noncurrent Assets', order=300, unit='USD', value=20758000000.0, xpath=None), 'wages': DataPoint(formula=None, label='Wages', order=730, unit='USD', value=642000000.0, xpath=None), 'intangible_assets': DataPoint(formula=None, label='Intangible Assets', order=330, unit='USD', value=1395000000.0, xpath=None), 'assets': DataPoint(formula=None, label='Assets', order=100, unit='USD', value=49555000000.0, xpath=None), 'other_noncurrent_assets': DataPoint(formula=None, label='Other Non-current Assets', order=350, unit='USD', value=15564000000.0, xpath=None), 'equity_attributable_to_parent': DataPoint(formula=None, label='Equity Attributable To Parent', order=1600, unit='USD', value=27501000000.0, xpath=None), 'current_liabilities': DataPoint(formula=None, label='Current Liabilities', order=700, unit='USD', value=10334000000.0, xpath=None), 'inventory': DataPoint(formula=None, label='Inventory', order=230, unit='USD', value=4319000000.0, xpath=None), 'current_assets': DataPoint(formula=None, label='Current Assets', order=200, unit='USD', value=28797000000.0, xpath=None), 'equity': DataPoint(formula=None, label='Equity', order=1400, unit='USD', value=27501000000.0, xpath=None), 'fixed_assets': DataPoint(formula=None, label='Fixed Assets', order=320, unit='USD', value=3799000000.0, xpath=None), 'equity_attributable_to_noncontrolling_interest': DataPoint(formula=None, label='Equity Attributable To Noncontrolling Interest', order=1500, unit='USD', value=0, xpath=None), 'other_current_assets': DataPoint(formula=None, label='Other Current Assets', order=250, unit='USD', value=24478000000.0, xpath=None), 'liabilities_and_equity': DataPoint(formula=None, label='Liabilities And Equity', order=1900, unit='USD', value=49555000000.0, xpath=None)}, cash_flow_statement=CashFlowStatement(exchange_gains_losses=None, net_cash_flow=NetCashFlow(formula=None, label='Net Cash Flow', order=1100, unit='USD', value=803000000.0, xpath=None), net_cash_flow_from_financing_activities=NetCashFlowFromFinancingActivities(formula=None, label='Net Cash Flow From Financing Activities', order=700, unit='USD', value=-5099000000.0, xpath=None)), comprehensive_income=ComprehensiveIncome(comprehensive_income_loss=ComprehensiveIncomeLoss(formula=None, label='Comprehensive Income/Loss', order=100, unit='USD', value=6187000000.0, xpath=None), comprehensive_income_loss_attributable_to_parent=ComprehensiveIncomeLossAttributableToParent(formula=None, label='Comprehensive Income/Loss Attributable To Parent', order=300, unit='USD', value=6187000000.0, xpath=None), other_comprehensive_income_loss=OtherComprehensiveIncomeLoss(formula=None, label='Other Comprehensive Income/Loss', order=400, unit='USD', value=-1000000.0, xpath=None)), income_statement=IncomeStatement(basic_earnings_per_share=BasicEarningsPerShare(formula=None, label='Basic Earnings Per Share', order=4200, unit='USD / shares', value=2.5, xpath=None), cost_of_revenue=CostOfRevenue(formula=None, label='Cost Of Revenue', order=300, unit='USD', value=4045000000.0, xpath=None), gross_profit=GrossProfit(formula=None, label='Gross Profit', order=800, unit='USD', value=9462000000.0, xpath=None), operating_expenses=OperatingExpenses(formula=None, label='Operating Expenses', order=1000, unit='USD', value=2662000000.0, xpath=None), revenues=Revenues(formula=None, label='Revenues', order=100, unit='USD', value=13507000000.0, xpath=None))), fiscal_period='Q2', fiscal_year='2024', source_filing_file_url='http://api.polygon.io/v1/reference/sec/filings/0001045810-23-000175/files/nvda-20230730_htm.xml', source_filing_url='https://api.polygon.io/v1/reference/sec/filings/0001045810-23-000175', start_date='2023-05-01'),\n",
       " StockFinancial(cik='0001045810', company_name='NVIDIA CORP', end_date='2023-04-30', filing_date='2023-05-26', financials=Financials(balance_sheet={'liabilities': DataPoint(formula=None, label='Liabilities', order=600, unit='USD', value=19940000000.0, xpath=None), 'assets': DataPoint(formula=None, label='Assets', order=100, unit='USD', value=44460000000.0, xpath=None), 'equity_attributable_to_noncontrolling_interest': DataPoint(formula=None, label='Equity Attributable To Noncontrolling Interest', order=1500, unit='USD', value=0, xpath=None), 'fixed_assets': DataPoint(formula=None, label='Fixed Assets', order=320, unit='USD', value=3740000000.0, xpath=None), 'long_term_debt': DataPoint(formula=None, label='Long-term Debt', order=810, unit='USD', value=10954000000.0, xpath=None), 'other_noncurrent_assets': DataPoint(formula=None, label='Other Non-current Assets', order=350, unit='USD', value=14296000000.0, xpath=None), 'current_assets': DataPoint(formula=None, label='Current Assets', order=200, unit='USD', value=24883000000.0, xpath=None), 'accounts_payable': DataPoint(formula=None, label='Accounts Payable', order=710, unit='USD', value=1141000000.0, xpath=None), 'inventory': DataPoint(formula=None, label='Inventory', order=230, unit='USD', value=4611000000.0, xpath=None), 'liabilities_and_equity': DataPoint(formula=None, label='Liabilities And Equity', order=1900, unit='USD', value=44460000000.0, xpath=None), 'equity': DataPoint(formula=None, label='Equity', order=1400, unit='USD', value=24520000000.0, xpath=None), 'current_liabilities': DataPoint(formula=None, label='Current Liabilities', order=700, unit='USD', value=7260000000.0, xpath=None), 'other_current_liabilities': DataPoint(formula=None, label='Other Current Liabilities', order=740, unit='USD', value=5799000000.0, xpath=None), 'other_noncurrent_liabilities': DataPoint(formula=None, label='Other Non-current Liabilities', order=820, unit='USD', value=1726000000.0, xpath=None), 'wages': DataPoint(formula=None, label='Wages', order=730, unit='USD', value=320000000.0, xpath=None), 'noncurrent_liabilities': DataPoint(formula=None, label='Noncurrent Liabilities', order=800, unit='USD', value=0, xpath=None), 'noncurrent_assets': DataPoint(formula=None, label='Noncurrent Assets', order=300, unit='USD', value=19577000000.0, xpath=None), 'intangible_assets': DataPoint(formula=None, label='Intangible Assets', order=330, unit='USD', value=1541000000.0, xpath=None), 'other_current_assets': DataPoint(formula=None, label='Other Current Assets', order=250, unit='USD', value=20272000000.0, xpath=None), 'equity_attributable_to_parent': DataPoint(formula=None, label='Equity Attributable To Parent', order=1600, unit='USD', value=24520000000.0, xpath=None)}, cash_flow_statement=CashFlowStatement(exchange_gains_losses=None, net_cash_flow=NetCashFlow(formula=None, label='Net Cash Flow', order=1100, unit='USD', value=1690000000.0, xpath=None), net_cash_flow_from_financing_activities=NetCashFlowFromFinancingActivities(formula=None, label='Net Cash Flow From Financing Activities', order=700, unit='USD', value=-380000000.0, xpath=None)), comprehensive_income=ComprehensiveIncome(comprehensive_income_loss=ComprehensiveIncomeLoss(formula=None, label='Comprehensive Income/Loss', order=100, unit='USD', value=2036000000.0, xpath=None), comprehensive_income_loss_attributable_to_parent=ComprehensiveIncomeLossAttributableToParent(formula=None, label='Comprehensive Income/Loss Attributable To Parent', order=300, unit='USD', value=2036000000.0, xpath=None), other_comprehensive_income_loss=OtherComprehensiveIncomeLoss(formula=None, label='Other Comprehensive Income/Loss', order=400, unit='USD', value=-7000000.0, xpath=None)), income_statement=IncomeStatement(basic_earnings_per_share=BasicEarningsPerShare(formula=None, label='Basic Earnings Per Share', order=4200, unit='USD / shares', value=0.83, xpath=None), cost_of_revenue=CostOfRevenue(formula=None, label='Cost Of Revenue', order=300, unit='USD', value=2544000000.0, xpath=None), gross_profit=GrossProfit(formula=None, label='Gross Profit', order=800, unit='USD', value=4648000000.0, xpath=None), operating_expenses=OperatingExpenses(formula=None, label='Operating Expenses', order=1000, unit='USD', value=2508000000.0, xpath=None), revenues=Revenues(formula=None, label='Revenues', order=100, unit='USD', value=7192000000.0, xpath=None))), fiscal_period='Q1', fiscal_year='2024', source_filing_file_url='http://api.polygon.io/v1/reference/sec/filings/0001045810-23-000093/files/nvda-20230430_htm.xml', source_filing_url='https://api.polygon.io/v1/reference/sec/filings/0001045810-23-000093', start_date='2023-01-30'),\n",
       " StockFinancial(cik='0001045810', company_name='NVIDIA CORP', end_date='2023-01-29', filing_date=None, financials=Financials(balance_sheet={'equity_attributable_to_noncontrolling_interest': DataPoint(formula=None, label='Equity Attributable To Noncontrolling Interest', order=1500, unit='USD', value=0, xpath=None), 'accounts_payable': DataPoint(formula=None, label='Accounts Payable', order=710, unit='USD', value=1193000000.0, xpath=None), 'liabilities': DataPoint(formula=None, label='Liabilities', order=600, unit='USD', value=19081000000.0, xpath=None), 'fixed_assets': DataPoint(formula=None, label='Fixed Assets', order=320, unit='USD', value=3807000000.0, xpath=None), 'assets': DataPoint(formula=None, label='Assets', order=100, unit='USD', value=41182000000.0, xpath=None), 'wages': DataPoint(formula=None, label='Wages', order=730, unit='USD', value=530000000.0, xpath=None), 'equity': DataPoint(formula=None, label='Equity', order=1400, unit='USD', value=22101000000.0, xpath=None), 'liabilities_and_equity': DataPoint(formula=None, label='Liabilities And Equity', order=1900, unit='USD', value=41182000000.0, xpath=None), 'noncurrent_liabilities': DataPoint(formula=None, label='Noncurrent Liabilities', order=800, unit='USD', value=12518000000.0, xpath=None), 'current_assets': DataPoint(formula=None, label='Current Assets', order=200, unit='USD', value=23073000000.0, xpath=None), 'other_current_assets': DataPoint(formula=None, label='Other Current Assets', order=250, unit='USD', value=17914000000.0, xpath=None), 'long_term_debt': DataPoint(formula=None, label='Long-term Debt', order=810, unit='USD', value=10953000000.0, xpath=None), 'equity_attributable_to_parent': DataPoint(formula=None, label='Equity Attributable To Parent', order=1600, unit='USD', value=22101000000.0, xpath=None), 'current_liabilities': DataPoint(formula=None, label='Current Liabilities', order=700, unit='USD', value=6563000000.0, xpath=None), 'other_noncurrent_assets': DataPoint(formula=None, label='Other Non-current Assets', order=350, unit='USD', value=12626000000.0, xpath=None), 'other_noncurrent_liabilities': DataPoint(formula=None, label='Other Non-current Liabilities', order=820, unit='USD', value=1565000000.0, xpath=None), 'intangible_assets': DataPoint(formula=None, label='Intangible Assets', order=330, unit='USD', value=1676000000.0, xpath=None), 'noncurrent_assets': DataPoint(formula=None, label='Noncurrent Assets', order=300, unit='USD', value=18109000000.0, xpath=None), 'other_current_liabilities': DataPoint(formula=None, label='Other Current Liabilities', order=740, unit='USD', value=4840000000.0, xpath=None), 'inventory': DataPoint(formula=None, label='Inventory', order=230, unit='USD', value=5159000000.0, xpath=None)}, cash_flow_statement=CashFlowStatement(exchange_gains_losses=None, net_cash_flow=NetCashFlow(formula=None, label='Net Cash Flow', order=1100, unit='USD', value=589000000.0, xpath=None), net_cash_flow_from_financing_activities=NetCashFlowFromFinancingActivities(formula=None, label='Net Cash Flow From Financing Activities', order=700, unit='USD', value=-1656000000.0, xpath=None)), comprehensive_income=ComprehensiveIncome(comprehensive_income_loss=ComprehensiveIncomeLoss(formula=None, label='Comprehensive Income/Loss', order=100, unit='USD', value=1494000000.0, xpath=None), comprehensive_income_loss_attributable_to_parent=ComprehensiveIncomeLossAttributableToParent(formula=None, label='Comprehensive Income/Loss Attributable To Parent', order=300, unit='USD', value=1494000000.0, xpath=None), other_comprehensive_income_loss=OtherComprehensiveIncomeLoss(formula=None, label='Other Comprehensive Income/Loss', order=400, unit='USD', value=80000000.0, xpath=None)), income_statement=IncomeStatement(basic_earnings_per_share=BasicEarningsPerShare(formula=None, label='Basic Earnings Per Share', order=4200, unit='USD / shares', value=0.5800000000000001, xpath=None), cost_of_revenue=CostOfRevenue(formula=None, label='Cost Of Revenue', order=300, unit='USD', value=2218000000.0, xpath=None), gross_profit=GrossProfit(formula=None, label='Gross Profit', order=800, unit='USD', value=3833000000.0, xpath=None), operating_expenses=OperatingExpenses(formula=None, label='Operating Expenses', order=1000, unit='USD', value=2577000000.0, xpath=None), revenues=Revenues(formula=None, label='Revenues', order=100, unit='USD', value=6051000000.0, xpath=None))), fiscal_period='Q4', fiscal_year='2023', source_filing_file_url=None, source_filing_url=None, start_date='2022-10-31'),\n",
       " StockFinancial(cik='0001045810', company_name='NVIDIA CORP', end_date='2022-10-30', filing_date='2022-11-18', financials=Financials(balance_sheet={'current_liabilities': DataPoint(formula=None, label='Current Liabilities', order=700, unit='USD', value=6855000000.0, xpath=None), 'other_current_liabilities': DataPoint(formula=None, label='Other Current Liabilities', order=740, unit='USD', value=5057000000.0, xpath=None), 'liabilities_and_equity': DataPoint(formula=None, label='Liabilities And Equity', order=1900, unit='USD', value=40488000000.0, xpath=None), 'noncurrent_assets': DataPoint(formula=None, label='Noncurrent Assets', order=300, unit='USD', value=17265000000.0, xpath=None), 'equity_attributable_to_parent': DataPoint(formula=None, label='Equity Attributable To Parent', order=1600, unit='USD', value=21349000000.0, xpath=None), 'accounts_payable': DataPoint(formula=None, label='Accounts Payable', order=710, unit='USD', value=1491000000.0, xpath=None), 'wages': DataPoint(formula=None, label='Wages', order=730, unit='USD', value=307000000.0, xpath=None), 'assets': DataPoint(formula=None, label='Assets', order=100, unit='USD', value=40488000000.0, xpath=None), 'equity': DataPoint(formula=None, label='Equity', order=1400, unit='USD', value=21349000000.0, xpath=None), 'noncurrent_liabilities': DataPoint(formula=None, label='Noncurrent Liabilities', order=800, unit='USD', value=12284000000.0, xpath=None), 'intangible_assets': DataPoint(formula=None, label='Intangible Assets', order=330, unit='USD', value=1850000000.0, xpath=None), 'inventory': DataPoint(formula=None, label='Inventory', order=230, unit='USD', value=4454000000.0, xpath=None), 'fixed_assets': DataPoint(formula=None, label='Fixed Assets', order=320, unit='USD', value=3774000000.0, xpath=None), 'long_term_debt': DataPoint(formula=None, label='Long-term Debt', order=810, unit='USD', value=10950000000.0, xpath=None), 'other_noncurrent_assets': DataPoint(formula=None, label='Other Non-current Assets', order=350, unit='USD', value=11641000000.0, xpath=None), 'other_current_assets': DataPoint(formula=None, label='Other Current Assets', order=250, unit='USD', value=18769000000.0, xpath=None), 'equity_attributable_to_noncontrolling_interest': DataPoint(formula=None, label='Equity Attributable To Noncontrolling Interest', order=1500, unit='USD', value=0, xpath=None), 'current_assets': DataPoint(formula=None, label='Current Assets', order=200, unit='USD', value=23223000000.0, xpath=None), 'liabilities': DataPoint(formula=None, label='Liabilities', order=600, unit='USD', value=19139000000.0, xpath=None), 'other_noncurrent_liabilities': DataPoint(formula=None, label='Other Non-current Liabilities', order=820, unit='USD', value=1334000000.0, xpath=None)}, cash_flow_statement=CashFlowStatement(exchange_gains_losses=None, net_cash_flow=NetCashFlow(formula=None, label='Net Cash Flow', order=1100, unit='USD', value=-213000000.0, xpath=None), net_cash_flow_from_financing_activities=NetCashFlowFromFinancingActivities(formula=None, label='Net Cash Flow From Financing Activities', order=700, unit='USD', value=-3753000000.0, xpath=None)), comprehensive_income=ComprehensiveIncome(comprehensive_income_loss=ComprehensiveIncomeLoss(formula=None, label='Comprehensive Income/Loss', order=100, unit='USD', value=647000000.0, xpath=None), comprehensive_income_loss_attributable_to_parent=ComprehensiveIncomeLossAttributableToParent(formula=None, label='Comprehensive Income/Loss Attributable To Parent', order=300, unit='USD', value=647000000.0, xpath=None), other_comprehensive_income_loss=OtherComprehensiveIncomeLoss(formula=None, label='Other Comprehensive Income/Loss', order=400, unit='USD', value=-33000000.0, xpath=None)), income_statement=IncomeStatement(basic_earnings_per_share=BasicEarningsPerShare(formula=None, label='Basic Earnings Per Share', order=4200, unit='USD / shares', value=0.27, xpath=None), cost_of_revenue=CostOfRevenue(formula=None, label='Cost Of Revenue', order=300, unit='USD', value=2754000000.0, xpath=None), gross_profit=GrossProfit(formula=None, label='Gross Profit', order=800, unit='USD', value=3177000000.0, xpath=None), operating_expenses=OperatingExpenses(formula=None, label='Operating Expenses', order=1000, unit='USD', value=2576000000.0, xpath=None), revenues=Revenues(formula=None, label='Revenues', order=100, unit='USD', value=5931000000.0, xpath=None))), fiscal_period='Q3', fiscal_year='2023', source_filing_file_url='http://api.polygon.io/v1/reference/sec/filings/0001045810-22-000166/files/nvda-20221030_htm.xml', source_filing_url='https://api.polygon.io/v1/reference/sec/filings/0001045810-22-000166', start_date='2022-08-01'),\n",
       " StockFinancial(cik='0001045810', company_name='NVIDIA CORP', end_date='2022-07-31', filing_date='2022-08-31', financials=Financials(balance_sheet={'equity_attributable_to_parent': DataPoint(formula=None, label='Equity Attributable To Parent', order=1600, unit='USD', value=23851000000.0, xpath=None), 'inventory': DataPoint(formula=None, label='Inventory', order=230, unit='USD', value=3889000000.0, xpath=None), 'liabilities_and_equity': DataPoint(formula=None, label='Liabilities And Equity', order=1900, unit='USD', value=43476000000.0, xpath=None), 'accounts_payable': DataPoint(formula=None, label='Accounts Payable', order=710, unit='USD', value=2421000000.0, xpath=None), 'current_liabilities': DataPoint(formula=None, label='Current Liabilities', order=700, unit='USD', value=7573000000.0, xpath=None), 'wages': DataPoint(formula=None, label='Wages', order=730, unit='USD', value=421000000.0, xpath=None), 'intangible_assets': DataPoint(formula=None, label='Intangible Assets', order=330, unit='USD', value=2036000000.0, xpath=None), 'equity': DataPoint(formula=None, label='Equity', order=1400, unit='USD', value=23851000000.0, xpath=None), 'other_current_liabilities': DataPoint(formula=None, label='Other Current Liabilities', order=740, unit='USD', value=4731000000.0, xpath=None), 'other_current_assets': DataPoint(formula=None, label='Other Current Assets', order=250, unit='USD', value=23529000000.0, xpath=None), 'liabilities': DataPoint(formula=None, label='Liabilities', order=600, unit='USD', value=19625000000.0, xpath=None), 'noncurrent_liabilities': DataPoint(formula=None, label='Noncurrent Liabilities', order=800, unit='USD', value=0, xpath=None), 'current_assets': DataPoint(formula=None, label='Current Assets', order=200, unit='USD', value=27418000000.0, xpath=None), 'other_noncurrent_assets': DataPoint(formula=None, label='Other Non-current Assets', order=350, unit='USD', value=10789000000.0, xpath=None), 'other_noncurrent_liabilities': DataPoint(formula=None, label='Other Non-current Liabilities', order=820, unit='USD', value=1103000000.0, xpath=None), 'noncurrent_assets': DataPoint(formula=None, label='Noncurrent Assets', order=300, unit='USD', value=16058000000.0, xpath=None), 'assets': DataPoint(formula=None, label='Assets', order=100, unit='USD', value=43476000000.0, xpath=None), 'equity_attributable_to_noncontrolling_interest': DataPoint(formula=None, label='Equity Attributable To Noncontrolling Interest', order=1500, unit='USD', value=0, xpath=None), 'fixed_assets': DataPoint(formula=None, label='Fixed Assets', order=320, unit='USD', value=3233000000.0, xpath=None), 'long_term_debt': DataPoint(formula=None, label='Long-term Debt', order=810, unit='USD', value=10949000000.0, xpath=None)}, cash_flow_statement=CashFlowStatement(exchange_gains_losses=None, net_cash_flow=NetCashFlow(formula=None, label='Net Cash Flow', order=1100, unit='USD', value=-874000000.0, xpath=None), net_cash_flow_from_financing_activities=NetCashFlowFromFinancingActivities(formula=None, label='Net Cash Flow From Financing Activities', order=700, unit='USD', value=-3762000000.0, xpath=None)), comprehensive_income=ComprehensiveIncome(comprehensive_income_loss=ComprehensiveIncomeLoss(formula=None, label='Comprehensive Income/Loss', order=100, unit='USD', value=630000000.0, xpath=None), comprehensive_income_loss_attributable_to_parent=ComprehensiveIncomeLossAttributableToParent(formula=None, label='Comprehensive Income/Loss Attributable To Parent', order=300, unit='USD', value=630000000.0, xpath=None), other_comprehensive_income_loss=OtherComprehensiveIncomeLoss(formula=None, label='Other Comprehensive Income/Loss', order=400, unit='USD', value=-26000000.0, xpath=None)), income_statement=IncomeStatement(basic_earnings_per_share=BasicEarningsPerShare(formula=None, label='Basic Earnings Per Share', order=4200, unit='USD / shares', value=0.26, xpath=None), cost_of_revenue=CostOfRevenue(formula=None, label='Cost Of Revenue', order=300, unit='USD', value=3789000000.0, xpath=None), gross_profit=GrossProfit(formula=None, label='Gross Profit', order=800, unit='USD', value=2915000000.0, xpath=None), operating_expenses=OperatingExpenses(formula=None, label='Operating Expenses', order=1000, unit='USD', value=2416000000.0, xpath=None), revenues=Revenues(formula=None, label='Revenues', order=100, unit='USD', value=6704000000.0, xpath=None))), fiscal_period='Q2', fiscal_year='2023', source_filing_file_url='http://api.polygon.io/v1/reference/sec/filings/0001045810-22-000147/files/nvda-20220731_htm.xml', source_filing_url='https://api.polygon.io/v1/reference/sec/filings/0001045810-22-000147', start_date='2022-05-02'),\n",
       " StockFinancial(cik='0001045810', company_name='NVIDIA CORP', end_date='2022-05-01', filing_date='2022-05-27', financials=Financials(balance_sheet={'accounts_payable': DataPoint(formula=None, label='Accounts Payable', order=710, unit='USD', value=1999000000.0, xpath=None), 'other_noncurrent_assets': DataPoint(formula=None, label='Other Non-current Assets', order=350, unit='USD', value=10510000000.0, xpath=None), 'other_current_assets': DataPoint(formula=None, label='Other Current Assets', order=250, unit='USD', value=26412000000.0, xpath=None), 'intangible_assets': DataPoint(formula=None, label='Intangible Assets', order=330, unit='USD', value=2211000000.0, xpath=None), 'current_liabilities': DataPoint(formula=None, label='Current Liabilities', order=700, unit='USD', value=5562000000.0, xpath=None), 'liabilities': DataPoint(formula=None, label='Liabilities', order=600, unit='USD', value=18892000000.0, xpath=None), 'inventory': DataPoint(formula=None, label='Inventory', order=230, unit='USD', value=3163000000.0, xpath=None), 'assets': DataPoint(formula=None, label='Assets', order=100, unit='USD', value=45212000000.0, xpath=None), 'other_noncurrent_liabilities': DataPoint(formula=None, label='Other Non-current Liabilities', order=820, unit='USD', value=2383000000.0, xpath=None), 'fixed_assets': DataPoint(formula=None, label='Fixed Assets', order=320, unit='USD', value=2916000000.0, xpath=None), 'other_current_liabilities': DataPoint(formula=None, label='Other Current Liabilities', order=740, unit='USD', value=3236000000.0, xpath=None), 'liabilities_and_equity': DataPoint(formula=None, label='Liabilities And Equity', order=1900, unit='USD', value=45212000000.0, xpath=None), 'equity_attributable_to_noncontrolling_interest': DataPoint(formula=None, label='Equity Attributable To Noncontrolling Interest', order=1500, unit='USD', value=0, xpath=None), 'noncurrent_liabilities': DataPoint(formula=None, label='Noncurrent Liabilities', order=800, unit='USD', value=0, xpath=None), 'equity_attributable_to_parent': DataPoint(formula=None, label='Equity Attributable To Parent', order=1600, unit='USD', value=26320000000.0, xpath=None), 'wages': DataPoint(formula=None, label='Wages', order=730, unit='USD', value=327000000.0, xpath=None), 'long_term_debt': DataPoint(formula=None, label='Long-term Debt', order=810, unit='USD', value=10947000000.0, xpath=None), 'equity': DataPoint(formula=None, label='Equity', order=1400, unit='USD', value=26320000000.0, xpath=None), 'current_assets': DataPoint(formula=None, label='Current Assets', order=200, unit='USD', value=29575000000.0, xpath=None), 'noncurrent_assets': DataPoint(formula=None, label='Noncurrent Assets', order=300, unit='USD', value=15637000000.0, xpath=None)}, cash_flow_statement=CashFlowStatement(exchange_gains_losses=None, net_cash_flow=NetCashFlow(formula=None, label='Net Cash Flow', order=1100, unit='USD', value=1897000000.0, xpath=None), net_cash_flow_from_financing_activities=NetCashFlowFromFinancingActivities(formula=None, label='Net Cash Flow From Financing Activities', order=700, unit='USD', value=-2446000000.0, xpath=None)), comprehensive_income=ComprehensiveIncome(comprehensive_income_loss=ComprehensiveIncomeLoss(formula=None, label='Comprehensive Income/Loss', order=100, unit='USD', value=1565000000.0, xpath=None), comprehensive_income_loss_attributable_to_parent=ComprehensiveIncomeLossAttributableToParent(formula=None, label='Comprehensive Income/Loss Attributable To Parent', order=300, unit='USD', value=1565000000.0, xpath=None), other_comprehensive_income_loss=OtherComprehensiveIncomeLoss(formula=None, label='Other Comprehensive Income/Loss', order=400, unit='USD', value=-53000000.0, xpath=None)), income_statement=IncomeStatement(basic_earnings_per_share=BasicEarningsPerShare(formula=None, label='Basic Earnings Per Share', order=4200, unit='USD / shares', value=0.65, xpath=None), cost_of_revenue=CostOfRevenue(formula=None, label='Cost Of Revenue', order=300, unit='USD', value=2857000000.0, xpath=None), gross_profit=GrossProfit(formula=None, label='Gross Profit', order=800, unit='USD', value=5431000000.0, xpath=None), operating_expenses=OperatingExpenses(formula=None, label='Operating Expenses', order=1000, unit='USD', value=3563000000.0, xpath=None), revenues=Revenues(formula=None, label='Revenues', order=100, unit='USD', value=8288000000.0, xpath=None))), fiscal_period='Q1', fiscal_year='2023', source_filing_file_url='http://api.polygon.io/v1/reference/sec/filings/0001045810-22-000079/files/nvda-20220501_htm.xml', source_filing_url='https://api.polygon.io/v1/reference/sec/filings/0001045810-22-000079', start_date='2022-01-31'),\n",
       " StockFinancial(cik='0001045810', company_name='NVIDIA CORP', end_date='2022-01-30', filing_date=None, financials=Financials(balance_sheet={'assets': DataPoint(formula=None, label='Assets', order=100, unit='USD', value=44187000000.0, xpath=None), 'accounts_payable': DataPoint(formula=None, label='Accounts Payable', order=710, unit='USD', value=1783000000.0, xpath=None), 'other_noncurrent_liabilities': DataPoint(formula=None, label='Other Non-current Liabilities', order=820, unit='USD', value=2294000000.0, xpath=None), 'equity': DataPoint(formula=None, label='Equity', order=1400, unit='USD', value=26612000000.0, xpath=None), 'other_current_assets': DataPoint(formula=None, label='Other Current Assets', order=250, unit='USD', value=26224000000.0, xpath=None), 'other_current_liabilities': DataPoint(formula=None, label='Other Current Liabilities', order=740, unit='USD', value=2143000000.0, xpath=None), 'current_liabilities': DataPoint(formula=None, label='Current Liabilities', order=700, unit='USD', value=4335000000.0, xpath=None), 'intangible_assets': DataPoint(formula=None, label='Intangible Assets', order=330, unit='USD', value=2339000000.0, xpath=None), 'other_noncurrent_assets': DataPoint(formula=None, label='Other Non-current Assets', order=350, unit='USD', value=10241000000.0, xpath=None), 'fixed_assets': DataPoint(formula=None, label='Fixed Assets', order=320, unit='USD', value=2778000000.0, xpath=None), 'noncurrent_liabilities': DataPoint(formula=None, label='Noncurrent Liabilities', order=800, unit='USD', value=13240000000.0, xpath=None), 'noncurrent_assets': DataPoint(formula=None, label='Noncurrent Assets', order=300, unit='USD', value=15358000000.0, xpath=None), 'long_term_debt': DataPoint(formula=None, label='Long-term Debt', order=810, unit='USD', value=10946000000.0, xpath=None), 'wages': DataPoint(formula=None, label='Wages', order=730, unit='USD', value=409000000.0, xpath=None), 'current_assets': DataPoint(formula=None, label='Current Assets', order=200, unit='USD', value=28829000000.0, xpath=None), 'equity_attributable_to_parent': DataPoint(formula=None, label='Equity Attributable To Parent', order=1600, unit='USD', value=26612000000.0, xpath=None), 'liabilities': DataPoint(formula=None, label='Liabilities', order=600, unit='USD', value=17575000000.0, xpath=None), 'equity_attributable_to_noncontrolling_interest': DataPoint(formula=None, label='Equity Attributable To Noncontrolling Interest', order=1500, unit='USD', value=0, xpath=None), 'liabilities_and_equity': DataPoint(formula=None, label='Liabilities And Equity', order=1900, unit='USD', value=44187000000.0, xpath=None), 'inventory': DataPoint(formula=None, label='Inventory', order=230, unit='USD', value=2605000000.0, xpath=None)}, cash_flow_statement=CashFlowStatement(exchange_gains_losses=None, net_cash_flow=NetCashFlow(formula=None, label='Net Cash Flow', order=1100, unit='USD', value=702000000.0, xpath=None), net_cash_flow_from_financing_activities=NetCashFlowFromFinancingActivities(formula=None, label='Net Cash Flow From Financing Activities', order=700, unit='USD', value=-745000000.0, xpath=None)), comprehensive_income=ComprehensiveIncome(comprehensive_income_loss=ComprehensiveIncomeLoss(formula=None, label='Comprehensive Income/Loss', order=100, unit='USD', value=2983000000.0, xpath=None), comprehensive_income_loss_attributable_to_parent=ComprehensiveIncomeLossAttributableToParent(formula=None, label='Comprehensive Income/Loss Attributable To Parent', order=300, unit='USD', value=2983000000.0, xpath=None), other_comprehensive_income_loss=OtherComprehensiveIncomeLoss(formula=None, label='Other Comprehensive Income/Loss', order=400, unit='USD', value=-20000000.0, xpath=None)), income_statement=IncomeStatement(basic_earnings_per_share=BasicEarningsPerShare(formula=None, label='Basic Earnings Per Share', order=4200, unit='USD / shares', value=1.2000000000000002, xpath=None), cost_of_revenue=CostOfRevenue(formula=None, label='Cost Of Revenue', order=300, unit='USD', value=2644000000.0, xpath=None), gross_profit=GrossProfit(formula=None, label='Gross Profit', order=800, unit='USD', value=4999000000.0, xpath=None), operating_expenses=OperatingExpenses(formula=None, label='Operating Expenses', order=1000, unit='USD', value=2029000000.0, xpath=None), revenues=Revenues(formula=None, label='Revenues', order=100, unit='USD', value=7643000000.0, xpath=None))), fiscal_period='Q4', fiscal_year='2022', source_filing_file_url=None, source_filing_url=None, start_date='2021-11-01'),\n",
       " StockFinancial(cik='0001045810', company_name='NVIDIA CORP', end_date='2021-10-31', filing_date='2021-11-22', financials=Financials(balance_sheet={'other_noncurrent_liabilities': DataPoint(formula=None, label='Other Non-current Liabilities', order=820, unit='USD', value=2278000000.0, xpath=None), 'equity_attributable_to_noncontrolling_interest': DataPoint(formula=None, label='Equity Attributable To Noncontrolling Interest', order=1500, unit='USD', value=0, xpath=None), 'other_current_assets': DataPoint(formula=None, label='Other Current Assets', order=250, unit='USD', value=23573000000.0, xpath=None), 'long_term_debt': DataPoint(formula=None, label='Long-term Debt', order=810, unit='USD', value=10944000000.0, xpath=None), 'other_current_liabilities': DataPoint(formula=None, label='Other Current Liabilities', order=740, unit='USD', value=1653000000.0, xpath=None), 'noncurrent_liabilities': DataPoint(formula=None, label='Noncurrent Liabilities', order=800, unit='USD', value=13222000000.0, xpath=None), 'wages': DataPoint(formula=None, label='Wages', order=730, unit='USD', value=295000000.0, xpath=None), 'inventory': DataPoint(formula=None, label='Inventory', order=230, unit='USD', value=2233000000.0, xpath=None), 'intangible_assets': DataPoint(formula=None, label='Intangible Assets', order=330, unit='USD', value=2454000000.0, xpath=None), 'equity': DataPoint(formula=None, label='Equity', order=1400, unit='USD', value=23798000000.0, xpath=None), 'fixed_assets': DataPoint(formula=None, label='Fixed Assets', order=320, unit='USD', value=2509000000.0, xpath=None), 'current_assets': DataPoint(formula=None, label='Current Assets', order=200, unit='USD', value=25806000000.0, xpath=None), 'liabilities_and_equity': DataPoint(formula=None, label='Liabilities And Equity', order=1900, unit='USD', value=40632000000.0, xpath=None), 'liabilities': DataPoint(formula=None, label='Liabilities', order=600, unit='USD', value=16834000000.0, xpath=None), 'current_liabilities': DataPoint(formula=None, label='Current Liabilities', order=700, unit='USD', value=3612000000.0, xpath=None), 'equity_attributable_to_parent': DataPoint(formula=None, label='Equity Attributable To Parent', order=1600, unit='USD', value=23798000000.0, xpath=None), 'other_noncurrent_assets': DataPoint(formula=None, label='Other Non-current Assets', order=350, unit='USD', value=9863000000.0, xpath=None), 'assets': DataPoint(formula=None, label='Assets', order=100, unit='USD', value=40632000000.0, xpath=None), 'accounts_payable': DataPoint(formula=None, label='Accounts Payable', order=710, unit='USD', value=1664000000.0, xpath=None), 'noncurrent_assets': DataPoint(formula=None, label='Noncurrent Assets', order=300, unit='USD', value=14826000000.0, xpath=None)}, cash_flow_statement=CashFlowStatement(exchange_gains_losses=None, net_cash_flow=NetCashFlow(formula=None, label='Net Cash Flow', order=1100, unit='USD', value=-4340000000.0, xpath=None), net_cash_flow_from_financing_activities=NetCashFlowFromFinancingActivities(formula=None, label='Net Cash Flow From Financing Activities', order=700, unit='USD', value=-1420000000.0, xpath=None)), comprehensive_income=ComprehensiveIncome(comprehensive_income_loss=ComprehensiveIncomeLoss(formula=None, label='Comprehensive Income/Loss', order=100, unit='USD', value=2465000000.0, xpath=None), comprehensive_income_loss_attributable_to_parent=ComprehensiveIncomeLossAttributableToParent(formula=None, label='Comprehensive Income/Loss Attributable To Parent', order=300, unit='USD', value=2465000000.0, xpath=None), other_comprehensive_income_loss=OtherComprehensiveIncomeLoss(formula=None, label='Other Comprehensive Income/Loss', order=400, unit='USD', value=1000000.0, xpath=None)), income_statement=IncomeStatement(basic_earnings_per_share=BasicEarningsPerShare(formula=None, label='Basic Earnings Per Share', order=4200, unit='USD / shares', value=0.99, xpath=None), cost_of_revenue=CostOfRevenue(formula=None, label='Cost Of Revenue', order=300, unit='USD', value=2472000000.0, xpath=None), gross_profit=GrossProfit(formula=None, label='Gross Profit', order=800, unit='USD', value=4631000000.0, xpath=None), operating_expenses=OperatingExpenses(formula=None, label='Operating Expenses', order=1000, unit='USD', value=1960000000.0, xpath=None), revenues=Revenues(formula=None, label='Revenues', order=100, unit='USD', value=7103000000.0, xpath=None))), fiscal_period='Q3', fiscal_year='2022', source_filing_file_url='http://api.polygon.io/v1/reference/sec/filings/0001045810-21-000163/files/nvda-20211031_htm.xml', source_filing_url='https://api.polygon.io/v1/reference/sec/filings/0001045810-21-000163', start_date='2021-08-02'),\n",
       " StockFinancial(cik='0001045810', company_name='NVIDIA CORP', end_date='2021-08-01', filing_date='2021-08-20', financials=Financials(balance_sheet={'noncurrent_liabilities': DataPoint(formula=None, label='Noncurrent Liabilities', order=800, unit='USD', value=0, xpath=None), 'prepaid_expenses': DataPoint(formula=None, label='Prepaid Expenses', order=240, unit='USD', value=195000000.0, xpath=None), 'other_noncurrent_liabilities': DataPoint(formula=None, label='Other Non-current Liabilities', order=820, unit='USD', value=1112000000.0, xpath=None), 'other_current_liabilities': DataPoint(formula=None, label='Other Current Liabilities', order=740, unit='USD', value=2587000000.0, xpath=None), 'other_current_assets': DataPoint(formula=None, label='Other Current Assets', order=250, unit='USD', value=23497000000.0, xpath=None), 'current_assets': DataPoint(formula=None, label='Current Assets', order=200, unit='USD', value=25806000000.0, xpath=None), 'intangible_assets': DataPoint(formula=None, label='Intangible Assets', order=330, unit='USD', value=2478000000.0, xpath=None), 'equity_attributable_to_parent': DataPoint(formula=None, label='Equity Attributable To Parent', order=1600, unit='USD', value=21147000000.0, xpath=None), 'assets': DataPoint(formula=None, label='Assets', order=100, unit='USD', value=38650000000.0, xpath=None), 'equity_attributable_to_noncontrolling_interest': DataPoint(formula=None, label='Equity Attributable To Noncontrolling Interest', order=1500, unit='USD', value=0, xpath=None), 'equity': DataPoint(formula=None, label='Equity', order=1400, unit='USD', value=21147000000.0, xpath=None), 'wages': DataPoint(formula=None, label='Wages', order=730, unit='USD', value=387000000.0, xpath=None), 'long_term_debt': DataPoint(formula=None, label='Long-term Debt', order=810, unit='USD', value=11943000000.0, xpath=None), 'inventory': DataPoint(formula=None, label='Inventory', order=230, unit='USD', value=2114000000.0, xpath=None), 'fixed_assets': DataPoint(formula=None, label='Fixed Assets', order=320, unit='USD', value=2364000000.0, xpath=None), 'other_noncurrent_assets': DataPoint(formula=None, label='Other Non-current Assets', order=350, unit='USD', value=8002000000.0, xpath=None), 'liabilities_and_equity': DataPoint(formula=None, label='Liabilities And Equity', order=1900, unit='USD', value=38650000000.0, xpath=None), 'noncurrent_assets': DataPoint(formula=None, label='Noncurrent Assets', order=300, unit='USD', value=12844000000.0, xpath=None), 'accounts_payable': DataPoint(formula=None, label='Accounts Payable', order=710, unit='USD', value=1474000000.0, xpath=None), 'current_liabilities': DataPoint(formula=None, label='Current Liabilities', order=700, unit='USD', value=4448000000.0, xpath=None), 'liabilities': DataPoint(formula=None, label='Liabilities', order=600, unit='USD', value=17503000000.0, xpath=None)}, cash_flow_statement=CashFlowStatement(exchange_gains_losses=None, net_cash_flow=NetCashFlow(formula=None, label='Net Cash Flow', order=1100, unit='USD', value=4650000000.0, xpath=None), net_cash_flow_from_financing_activities=NetCashFlowFromFinancingActivities(formula=None, label='Net Cash Flow From Financing Activities', order=700, unit='USD', value=4501000000.0, xpath=None)), comprehensive_income=ComprehensiveIncome(comprehensive_income_loss=ComprehensiveIncomeLoss(formula=None, label='Comprehensive Income/Loss', order=100, unit='USD', value=2368000000.0, xpath=None), comprehensive_income_loss_attributable_to_parent=ComprehensiveIncomeLossAttributableToParent(formula=None, label='Comprehensive Income/Loss Attributable To Parent', order=300, unit='USD', value=2368000000.0, xpath=None), other_comprehensive_income_loss=OtherComprehensiveIncomeLoss(formula=None, label='Other Comprehensive Income/Loss', order=400, unit='USD', value=-6000000.0, xpath=None)), income_statement=IncomeStatement(basic_earnings_per_share=BasicEarningsPerShare(formula=None, label='Basic Earnings Per Share', order=4200, unit='USD / shares', value=0.95, xpath=None), cost_of_revenue=CostOfRevenue(formula=None, label='Cost Of Revenue', order=300, unit='USD', value=2292000000.0, xpath=None), gross_profit=GrossProfit(formula=None, label='Gross Profit', order=800, unit='USD', value=4215000000.0, xpath=None), operating_expenses=OperatingExpenses(formula=None, label='Operating Expenses', order=1000, unit='USD', value=1771000000.0, xpath=None), revenues=Revenues(formula=None, label='Revenues', order=100, unit='USD', value=6507000000.0, xpath=None))), fiscal_period='Q2', fiscal_year='2022', source_filing_file_url='http://api.polygon.io/v1/reference/sec/filings/0001045810-21-000131/files/nvda-20210801_htm.xml', source_filing_url='https://api.polygon.io/v1/reference/sec/filings/0001045810-21-000131', start_date='2021-05-03'),\n",
       " StockFinancial(cik='0001045810', company_name='NVIDIA CORP', end_date='2021-05-02', filing_date='2021-05-26', financials=Financials(balance_sheet={'liabilities': DataPoint(formula=None, label='Liabilities', order=600, unit='USD', value=12022000000.0, xpath=None), 'prepaid_expenses': DataPoint(formula=None, label='Prepaid Expenses', order=240, unit='USD', value=179000000.0, xpath=None), 'wages': DataPoint(formula=None, label='Wages', order=730, unit='USD', value=265000000.0, xpath=None), 'current_liabilities': DataPoint(formula=None, label='Current Liabilities', order=700, unit='USD', value=4004000000.0, xpath=None), 'noncurrent_assets': DataPoint(formula=None, label='Noncurrent Assets', order=300, unit='USD', value=12669000000.0, xpath=None), 'other_current_assets': DataPoint(formula=None, label='Other Current Assets', order=250, unit='USD', value=15956000000.0, xpath=None), 'assets': DataPoint(formula=None, label='Assets', order=100, unit='USD', value=30796000000.0, xpath=None), 'fixed_assets': DataPoint(formula=None, label='Fixed Assets', order=320, unit='USD', value=2268000000.0, xpath=None), 'equity_attributable_to_parent': DataPoint(formula=None, label='Equity Attributable To Parent', order=1600, unit='USD', value=18774000000.0, xpath=None), 'inventory': DataPoint(formula=None, label='Inventory', order=230, unit='USD', value=1992000000.0, xpath=None), 'other_noncurrent_liabilities': DataPoint(formula=None, label='Other Non-current Liabilities', order=820, unit='USD', value=1055000000.0, xpath=None), 'liabilities_and_equity': DataPoint(formula=None, label='Liabilities And Equity', order=1900, unit='USD', value=30796000000.0, xpath=None), 'noncurrent_liabilities': DataPoint(formula=None, label='Noncurrent Liabilities', order=800, unit='USD', value=0, xpath=None), 'other_current_liabilities': DataPoint(formula=None, label='Other Current Liabilities', order=740, unit='USD', value=2521000000.0, xpath=None), 'long_term_debt': DataPoint(formula=None, label='Long-term Debt', order=810, unit='USD', value=6963000000.0, xpath=None), 'current_assets': DataPoint(formula=None, label='Current Assets', order=200, unit='USD', value=18127000000.0, xpath=None), 'other_noncurrent_assets': DataPoint(formula=None, label='Other Non-current Assets', order=350, unit='USD', value=7788000000.0, xpath=None), 'equity': DataPoint(formula=None, label='Equity', order=1400, unit='USD', value=18774000000.0, xpath=None), 'equity_attributable_to_noncontrolling_interest': DataPoint(formula=None, label='Equity Attributable To Noncontrolling Interest', order=1500, unit='USD', value=0, xpath=None), 'accounts_payable': DataPoint(formula=None, label='Accounts Payable', order=710, unit='USD', value=1218000000.0, xpath=None), 'intangible_assets': DataPoint(formula=None, label='Intangible Assets', order=330, unit='USD', value=2613000000.0, xpath=None)}, cash_flow_statement=CashFlowStatement(exchange_gains_losses=None, net_cash_flow=NetCashFlow(formula=None, label='Net Cash Flow', order=1100, unit='USD', value=131000000.0, xpath=None), net_cash_flow_from_financing_activities=NetCashFlowFromFinancingActivities(formula=None, label='Net Cash Flow From Financing Activities', order=700, unit='USD', value=-471000000.0, xpath=None)), comprehensive_income=ComprehensiveIncome(comprehensive_income_loss=ComprehensiveIncomeLoss(formula=None, label='Comprehensive Income/Loss', order=100, unit='USD', value=1907000000.0, xpath=None), comprehensive_income_loss_attributable_to_parent=ComprehensiveIncomeLossAttributableToParent(formula=None, label='Comprehensive Income/Loss Attributable To Parent', order=300, unit='USD', value=1907000000.0, xpath=None), other_comprehensive_income_loss=OtherComprehensiveIncomeLoss(formula=None, label='Other Comprehensive Income/Loss', order=400, unit='USD', value=-5000000.0, xpath=None)), income_statement=IncomeStatement(basic_earnings_per_share=BasicEarningsPerShare(formula=None, label='Basic Earnings Per Share', order=4200, unit='USD / shares', value=3.08, xpath=None), cost_of_revenue=CostOfRevenue(formula=None, label='Cost Of Revenue', order=300, unit='USD', value=2032000000.0, xpath=None), gross_profit=GrossProfit(formula=None, label='Gross Profit', order=800, unit='USD', value=3629000000.0, xpath=None), operating_expenses=OperatingExpenses(formula=None, label='Operating Expenses', order=1000, unit='USD', value=1673000000.0, xpath=None), revenues=Revenues(formula=None, label='Revenues', order=100, unit='USD', value=5661000000.0, xpath=None))), fiscal_period='Q1', fiscal_year='2022', source_filing_file_url='http://api.polygon.io/v1/reference/sec/filings/0001045810-21-000064/files/nvda-20210502_htm.xml', source_filing_url='https://api.polygon.io/v1/reference/sec/filings/0001045810-21-000064', start_date='2021-02-01'),\n",
       " StockFinancial(cik='0001045810', company_name='NVIDIA CORP', end_date='2021-01-31', filing_date=None, financials=Financials(balance_sheet={'other_noncurrent_liabilities': DataPoint(formula=None, label='Other Non-current Liabilities', order=820, unit='USD', value=1010000000.0, xpath=None), 'other_current_liabilities': DataPoint(formula=None, label='Other Current Liabilities', order=740, unit='USD', value=2427000000.0, xpath=None), 'equity_attributable_to_noncontrolling_interest': DataPoint(formula=None, label='Equity Attributable To Noncontrolling Interest', order=1500, unit='USD', value=0, xpath=None), 'other_current_assets': DataPoint(formula=None, label='Other Current Assets', order=250, unit='USD', value=14229000000.0, xpath=None), 'equity_attributable_to_parent': DataPoint(formula=None, label='Equity Attributable To Parent', order=1600, unit='USD', value=16893000000.0, xpath=None), 'inventory': DataPoint(formula=None, label='Inventory', order=230, unit='USD', value=1826000000.0, xpath=None), 'noncurrent_liabilities': DataPoint(formula=None, label='Noncurrent Liabilities', order=800, unit='USD', value=7973000000.0, xpath=None), 'intangible_assets': DataPoint(formula=None, label='Intangible Assets', order=330, unit='USD', value=2737000000.0, xpath=None), 'wages': DataPoint(formula=None, label='Wages', order=730, unit='USD', value=297000000.0, xpath=None), 'noncurrent_assets': DataPoint(formula=None, label='Noncurrent Assets', order=300, unit='USD', value=12736000000.0, xpath=None), 'other_noncurrent_assets': DataPoint(formula=None, label='Other Non-current Assets', order=350, unit='USD', value=7850000000.0, xpath=None), 'current_liabilities': DataPoint(formula=None, label='Current Liabilities', order=700, unit='USD', value=3925000000.0, xpath=None), 'accounts_payable': DataPoint(formula=None, label='Accounts Payable', order=710, unit='USD', value=1201000000.0, xpath=None), 'equity': DataPoint(formula=None, label='Equity', order=1400, unit='USD', value=16893000000.0, xpath=None), 'current_assets': DataPoint(formula=None, label='Current Assets', order=200, unit='USD', value=16055000000.0, xpath=None), 'assets': DataPoint(formula=None, label='Assets', order=100, unit='USD', value=28791000000.0, xpath=None), 'fixed_assets': DataPoint(formula=None, label='Fixed Assets', order=320, unit='USD', value=2149000000.0, xpath=None), 'liabilities': DataPoint(formula=None, label='Liabilities', order=600, unit='USD', value=11898000000.0, xpath=None), 'long_term_debt': DataPoint(formula=None, label='Long-term Debt', order=810, unit='USD', value=6963000000.0, xpath=None), 'liabilities_and_equity': DataPoint(formula=None, label='Liabilities And Equity', order=1900, unit='USD', value=28791000000.0, xpath=None)}, cash_flow_statement=CashFlowStatement(exchange_gains_losses=None, net_cash_flow=NetCashFlow(formula=None, label='Net Cash Flow', order=1100, unit='USD', value=-1404000000.0, xpath=None), net_cash_flow_from_financing_activities=NetCashFlowFromFinancingActivities(formula=None, label='Net Cash Flow From Financing Activities', order=700, unit='USD', value=-342000000.0, xpath=None)), comprehensive_income=ComprehensiveIncome(comprehensive_income_loss=ComprehensiveIncomeLoss(formula=None, label='Comprehensive Income/Loss', order=100, unit='USD', value=1464000000.0, xpath=None), comprehensive_income_loss_attributable_to_parent=ComprehensiveIncomeLossAttributableToParent(formula=None, label='Comprehensive Income/Loss Attributable To Parent', order=300, unit='USD', value=1464000000.0, xpath=None), other_comprehensive_income_loss=OtherComprehensiveIncomeLoss(formula=None, label='Other Comprehensive Income/Loss', order=400, unit='USD', value=7000000.0, xpath=None)), income_statement=IncomeStatement(basic_earnings_per_share=BasicEarningsPerShare(formula=None, label='Basic Earnings Per Share', order=4200, unit='USD / shares', value=2.3499999999999996, xpath=None), cost_of_revenue=CostOfRevenue(formula=None, label='Cost Of Revenue', order=300, unit='USD', value=1847000000.0, xpath=None), gross_profit=GrossProfit(formula=None, label='Gross Profit', order=800, unit='USD', value=3156000000.0, xpath=None), operating_expenses=OperatingExpenses(formula=None, label='Operating Expenses', order=1000, unit='USD', value=1649000000.0, xpath=None), revenues=Revenues(formula=None, label='Revenues', order=100, unit='USD', value=5003000000.0, xpath=None))), fiscal_period='Q4', fiscal_year='2021', source_filing_file_url=None, source_filing_url=None, start_date='2020-10-26')]"
      ]
     },
     "execution_count": 33,
     "metadata": {},
     "output_type": "execute_result"
    }
   ],
   "source": [
    "financials"
   ]
  },
  {
   "cell_type": "code",
   "execution_count": 35,
   "id": "e4e5946d-e66c-4e7a-882e-6bd14ac9f221",
   "metadata": {},
   "outputs": [],
   "source": [
    "@tool\n",
    "def get_financial_data(ticker: str, num_years: int):\n",
    "    \"\"\"\n",
    "    주어진 티커의 재무 데이터를 가져와 DataFrame으로 저장하고 파일 경로를 반환합니다.\n",
    "    \n",
    "    Parameters:\n",
    "    ticker (str): 종목 코드\n",
    "    num_years (int): 가져올 연도 수\n",
    "    \n",
    "    Returns:\n",
    "    str: 저장된 파일 경로 메시지\n",
    "    \"\"\"\n",
    "\n",
    "    client = polygon_client\n",
    "\n",
    "    # 최근 n개년간 분기별 재무제표 데이터 수집\n",
    "    financials = []\n",
    "    for f in client.vx.list_stock_financials(ticker, limit=30):\n",
    "        if \"Q\" in f.fiscal_period and f.end_date >= f\"{pd.Timestamp.now().year - num_years}-01-01\":\n",
    "            financials.append(f)\n",
    "\n",
    "    # DataFrame 생성할 데이터 목록 초기화\n",
    "    data = {\n",
    "        # 기본 정보\n",
    "        \"Fiscal Year\": [],\n",
    "        \"Fiscal Period\": [],\n",
    "        \"End Date\": [],\n",
    "        \n",
    "        # 손익계산서 항목\n",
    "        \"Revenues\": [],\n",
    "        \"Cost of Revenue\": [],\n",
    "        \"Gross Profit\": [],\n",
    "        \"Operating Income\": [],\n",
    "        \"Operating Expenses\": [],\n",
    "        \"Basic EPS\": []\n",
    "    }\n",
    "\n",
    "    # 각 재무제표 항목에서 지표들을 추출하여 DataFrame 구성\n",
    "    for i, f in enumerate(financials):\n",
    "        data[\"Fiscal Year\"].append(f.fiscal_year)\n",
    "        data[\"Fiscal Period\"].append(f.fiscal_period)\n",
    "        data[\"End Date\"].append(f.end_date)\n",
    "\n",
    "        bs = f.financials.balance_sheet\n",
    "        is_ = f.financials.income_statement\n",
    "        cf = f.financials.cash_flow_statement\n",
    "        ci = f.financials.comprehensive_income\n",
    "\n",
    "        revenue = getattr(is_.revenues, 'value', None) if hasattr(is_, 'revenues') else None\n",
    "        data[\"Revenues\"].append(revenue)\n",
    "        data[\"Cost of Revenue\"].append(getattr(is_.cost_of_revenue, 'value', None) if hasattr(is_, 'cost_of_revenue') else None)\n",
    "        data[\"Gross Profit\"].append(getattr(is_.gross_profit, 'value', None) if hasattr(is_, 'gross_profit') else None)\n",
    "        data[\"Operating Expenses\"].append(getattr(is_.operating_expenses, 'value', None) if hasattr(is_, 'operating_expenses') else None)\n",
    "        data[\"Operating Income\"].append(getattr(is_.operating_expenses, 'value', None) if hasattr(is_, 'operating_expenses') else None)\n",
    "        data[\"Basic EPS\"].append(getattr(is_.basic_earnings_per_share, 'value', None) if hasattr(is_, 'basic_earnings_per_share') else None)\n",
    "\n",
    "    df = pd.DataFrame(data)\n",
    "    df.sort_values(by=\"End Date\", ascending=False, inplace=True)\n",
    "\n",
    "    # 한글 컬럼명으로 변경\n",
    "    korean_columns = {\n",
    "        \"Fiscal Year\": \"회계연도\",\n",
    "        \"Fiscal Period\": \"회계기간\",\n",
    "        \"End Date\": \"기준일\",\n",
    "        \"Revenues\": \"매출액\",\n",
    "        \"Cost of Revenue\": \"매출원가\",\n",
    "        \"Gross Profit\": \"매출총이익\",\n",
    "        \"Operating Income\": \"영업이익\",\n",
    "        \"Operating Expenses\": \"영업비용\",\n",
    "        \"Basic EPS\": \"기본주당순이익\"\n",
    "    }\n",
    "    \n",
    "    df.rename(columns=korean_columns, inplace=True)\n",
    "\n",
    "    csv_path = DATA_DIR / \"finance_data.csv\"\n",
    "    df.to_csv(csv_path, encoding='utf-8-sig')\n",
    "    return f\"재무제표 데이터가 {csv_path}에 저장되었습니다.\""
   ]
  },
  {
   "cell_type": "code",
   "execution_count": 36,
   "id": "bc3ffaef-3c49-42e1-8fb4-deab1ceb7162",
   "metadata": {},
   "outputs": [
    {
     "data": {
      "text/plain": [
       "'재무제표 데이터가 /workspace/user/kjy/DL-projects/MAS/04-langgraph-projects/04-multi-agent-business-analysis/data/finance_data.csv에 저장되었습니다.'"
      ]
     },
     "execution_count": 36,
     "metadata": {},
     "output_type": "execute_result"
    }
   ],
   "source": [
    "get_financial_data.run({\"ticker\": \"NVDA\", \"num_years\": 3})"
   ]
  },
  {
   "cell_type": "markdown",
   "id": "e957e4cf-b658-4499-91ac-7d0f972a6ddf",
   "metadata": {},
   "source": [
    "### create_pandas_dataframe_agent로 데이터 분석 도구 만들기"
   ]
  },
  {
   "cell_type": "code",
   "execution_count": 38,
   "id": "cc69a45d-1c7e-4952-ab9d-2139aba3a9d7",
   "metadata": {},
   "outputs": [],
   "source": [
    "@tool\n",
    "def analyze_data(query: str):\n",
    "    \"\"\"저장된 주식 데이터와 재무 데이터를 pandas_agent로 분석하고 질문에 답변한다.\"\"\"\n",
    "    stock_csv_path = DATA_DIR / \"stock_data.csv\"\n",
    "    finance_csv_path = DATA_DIR / \"finance_data.csv\"\n",
    "    stock_df = pd.read_csv(stock_csv_path)\n",
    "    finance_df = pd.read_csv(finance_csv_path)\n",
    "    custom_prefix = f\"\"\"\n",
    "    You are very smart analyst who can use stock_data and finance_data.\n",
    "    Please analyze the data in various perspective to find valuable insight.\n",
    "    You should always make the greatest output with accurate metrics and tables.\n",
    "    stock_data path: {stock_csv_path}\n",
    "    finance_data path: {finance_csv_path}\n",
    "    \"\"\"\n",
    "\n",
    "    pandas_agent = create_pandas_dataframe_agent(\n",
    "        ChatOpenAI(model=\"gpt-4o\"),\n",
    "        [stock_df, finance_df],\n",
    "        verbose=True,\n",
    "        agent_type=AgentType.OPENAI_FUNCTIONS,\n",
    "        allow_dangerous_code=True,\n",
    "        prefix=custom_prefix\n",
    "    )\n",
    "\n",
    "    result = pandas_agent.run(query)\n",
    "    return result"
   ]
  },
  {
   "cell_type": "code",
   "execution_count": 39,
   "id": "87e20f06-85f5-4f07-b231-39cf99d420a7",
   "metadata": {},
   "outputs": [
    {
     "name": "stderr",
     "output_type": "stream",
     "text": [
      "/tmp/ipykernel_69293/2367182442.py:25: LangChainDeprecationWarning: The method `Chain.run` was deprecated in langchain 0.1.0 and will be removed in 1.0. Use :meth:`~invoke` instead.\n",
      "  result = pandas_agent.run(query)\n"
     ]
    },
    {
     "name": "stdout",
     "output_type": "stream",
     "text": [
      "\n",
      "\n",
      "\u001b[1m> Entering new AgentExecutor chain...\u001b[0m\n",
      "\u001b[32;1m\u001b[1;3m\n",
      "Invoking: `python_repl_ast` with `{'query': \"import pandas as pd\\nimport matplotlib.pyplot as plt\\n\\n# Load the stock data\\ndf_stock = pd.read_csv('/workspace/user/kjy/DL-projects/MAS/04-langgraph-projects/04-multi-agent-business-analysis/data/stock_data.csv')\\n\\n# Convert 'Date' column to datetime format\\ndf_stock['Date'] = pd.to_datetime(df_stock['Date'])\\n\\n# Set 'Date' as the index\\ndf_stock.set_index('Date', inplace=True)\\n\\n# Plot the NVDA stock price trend\\ndf_stock['NVDA'].plot(figsize=(12, 6))\\nplt.title('NVDA Stock Price Trend')\\nplt.xlabel('Date')\\nplt.ylabel('Price')\\nplt.grid(True)\\nplt.show()\"}`\n",
      "\n",
      "\n",
      "\u001b[0m"
     ]
    },
    {
     "data": {
      "image/png": "[encoded data removed]",
      "text/plain": [
       "<Figure size 1200x600 with 1 Axes>"
      ]
     },
     "metadata": {},
     "output_type": "display_data"
    },
    {
     "name": "stdout",
     "output_type": "stream",
     "text": [
      "\u001b[36;1m\u001b[1;3m\u001b[0m\u001b[32;1m\u001b[1;3mThe trend of NVDA stock prices has been plotted. Please take a look at the graph to see how the prices have fluctuated over time. If you have any specific questions or need further analysis, feel free to ask!\u001b[0m\n",
      "\n",
      "\u001b[1m> Finished chain.\u001b[0m\n"
     ]
    },
    {
     "data": {
      "text/plain": [
       "'The trend of NVDA stock prices has been plotted. Please take a look at the graph to see how the prices have fluctuated over time. If you have any specific questions or need further analysis, feel free to ask!'"
      ]
     },
     "execution_count": 39,
     "metadata": {},
     "output_type": "execute_result"
    }
   ],
   "source": [
    "analyze_data.run({\"query\":\"NVDA 가격 추이를 분석해줘\"})"
   ]
  },
  {
   "cell_type": "markdown",
   "id": "154f9b14-b4c9-4873-821b-b022f405e44a",
   "metadata": {},
   "source": [
    "### Create chart"
   ]
  },
  {
   "cell_type": "code",
   "execution_count": 40,
   "id": "2d0a29d2-7c16-43ec-a176-9af3607c2d3c",
   "metadata": {},
   "outputs": [],
   "source": [
    "save_path = \"/workspace/user/kjy/DL-projects/MAS/04-langgraph-projects/04-multi-agent-business-analysis/charts\"\n",
    "os.makedirs(save_path, exist_ok=True)"
   ]
  },
  {
   "cell_type": "code",
   "execution_count": 41,
   "id": "0584f7b3-7fe3-4be6-9f96-f4e43e5bda8d",
   "metadata": {},
   "outputs": [],
   "source": [
    "@tool\n",
    "def chart_generator(command: str):\n",
    "    \"\"\"이 도구는 create_pandas_dataframe_agent를 사용하여 차트를 생성하고 차트를 /charts 폴더에 저장합니다.\"\"\"\n",
    "    stock_data = pd.read_csv(DATA_DIR / \"stock_data.csv\")\n",
    "    finance_data = pd.read_csv(DATA_DIR / \"finance_data.csv\")\n",
    "    custom_prefix = \"\"\"\n",
    "    Please make the chart and save in './charts' folder.\n",
    "    stock_data path is './data/stock_data.csv'.\n",
    "    finance_data path is './data/finance_data.csv'\n",
    "    \"\"\"\n",
    "    agent = create_pandas_dataframe_agent(\n",
    "        ChatOpenAI(model_name=\"gpt-4o\"), \n",
    "        [stock_data, finance_data], \n",
    "        verbose=True,\n",
    "        allow_dangerous_code=True,\n",
    "        agent_type=AgentType.OPENAI_FUNCTIONS,\n",
    "        prefix=custom_prefix\n",
    "    )\n",
    "    result = agent.invoke(command)\n",
    "    return result"
   ]
  },
  {
   "cell_type": "code",
   "execution_count": 42,
   "id": "0337c7ad-5be5-4cac-8235-921d6e3dfb0c",
   "metadata": {},
   "outputs": [
    {
     "name": "stdout",
     "output_type": "stream",
     "text": [
      "\n",
      "\n",
      "\u001b[1m> Entering new AgentExecutor chain...\u001b[0m\n",
      "\u001b[32;1m\u001b[1;3m\n",
      "Invoking: `python_repl_ast` with `{'query': \"import pandas as pd\\nimport matplotlib.pyplot as plt\\n\\n# Load the stock data\\ndf = pd.read_csv('./data/stock_data.csv')\\n\\n# Convert the 'Date' column to datetime format\\ndf['Date'] = pd.to_datetime(df['Date'])\\n\\n# Plot NVDA stock price over time\\nplt.figure(figsize=(10, 6))\\nplt.plot(df['Date'], df['NVDA'], label='NVDA', color='blue')\\nplt.title('NVDA Stock Price Over Time')\\nplt.xlabel('Date')\\nplt.ylabel('Stock Price')\\nplt.legend()\\nplt.grid(True)\\n\\n# Save the chart to the './charts' folder\\nplt.savefig('./charts/nvda_stock_price_chart.png')\\nplt.close()\"}`\n",
      "\n",
      "\n",
      "\u001b[0m\u001b[36;1m\u001b[1;3m\u001b[0m\u001b[32;1m\u001b[1;3mThe NVDA stock price chart has been created and saved in the './charts' folder as 'nvda_stock_price_chart.png'.\u001b[0m\n",
      "\n",
      "\u001b[1m> Finished chain.\u001b[0m\n"
     ]
    },
    {
     "data": {
      "text/plain": [
       "{'input': 'NVDA stock price chart',\n",
       " 'output': \"The NVDA stock price chart has been created and saved in the './charts' folder as 'nvda_stock_price_chart.png'.\"}"
      ]
     },
     "execution_count": 42,
     "metadata": {},
     "output_type": "execute_result"
    }
   ],
   "source": [
    "chart_generator.run({\"command\":\"NVDA stock price chart\"})"
   ]
  },
  {
   "cell_type": "code",
   "execution_count": null,
   "id": "9538a4e7-67e0-4177-ae18-65dc26a63e43",
   "metadata": {},
   "outputs": [],
   "source": []
  }
 ],
 "metadata": {
  "kernelspec": {
   "display_name": "Python 3 (ipykernel)",
   "language": "python",
   "name": "python3"
  },
  "language_info": {
   "codemirror_mode": {
    "name": "ipython",
    "version": 3
   },
   "file_extension": ".py",
   "mimetype": "text/x-python",
   "name": "python",
   "nbconvert_exporter": "python",
   "pygments_lexer": "ipython3",
   "version": "3.10.12"
  }
 },
 "nbformat": 4,
 "nbformat_minor": 5
}
