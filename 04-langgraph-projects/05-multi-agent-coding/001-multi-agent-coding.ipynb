{
 "cells": [
  {
   "cell_type": "code",
   "execution_count": 1,
   "id": "dc6cce2a-a864-40c3-8d9a-e7a204e0fe1d",
   "metadata": {},
   "outputs": [
    {
     "data": {
      "text/plain": [
       "True"
      ]
     },
     "execution_count": 1,
     "metadata": {},
     "output_type": "execute_result"
    }
   ],
   "source": [
    "from dotenv import load_dotenv\n",
    "\n",
    "load_dotenv()"
   ]
  },
  {
   "cell_type": "markdown",
   "id": "3887ba37-9b11-4317-bb4d-5d50119e32e6",
   "metadata": {},
   "source": [
    "### Set graph state"
   ]
  },
  {
   "cell_type": "code",
   "execution_count": 2,
   "id": "450f00c7-bcf7-4050-a8eb-957062d6a0fe",
   "metadata": {},
   "outputs": [],
   "source": [
    "from typing import TypedDict\n",
    "from langchain_openai import ChatOpenAI\n",
    "\n",
    "class AgentState(TypedDict):\n",
    "    question: str\n",
    "    certainty_score: int\n",
    "    search_results: list\n",
    "    web_score: str\n",
    "    repo_name: str\n",
    "    generation: str\n",
    "\n",
    "llm = ChatOpenAI(model=\"gpt-4o\", temperature=0)"
   ]
  },
  {
   "cell_type": "markdown",
   "id": "9844bb85-1209-4c6a-a91a-ffd4d6d9e108",
   "metadata": {},
   "source": [
    "### Answer trust check"
   ]
  },
  {
   "cell_type": "code",
   "execution_count": 3,
   "id": "20aff534-9ed0-4665-a397-addf98a5dd00",
   "metadata": {},
   "outputs": [],
   "source": [
    "from typing import Literal\n",
    "from pydantic import BaseModel, Field\n",
    "\n",
    "def check_certainty(state: AgentState) -> AgentState:\n",
    "    \"\"\"Evaluate certainty score for the query.\"\"\"\n",
    "    \n",
    "    question = state['question']\n",
    "\n",
    "    class CertaintyScoreResponse(BaseModel):\n",
    "        score: int = Field(description=\"Certainty score from 1 to 100. Higher is better.\")\n",
    "\n",
    "    certainty_scorer = llm.with_structured_output(CertaintyScoreResponse)\n",
    "\n",
    "    print(\"---CHECKING LLM'S CERTAINTY\")\n",
    "    score_response = certainty_scorer.invoke(question)\n",
    "\n",
    "    return {\"certainty_score\": score_response.score}\n",
    "\n",
    "def route_based_on_certainty(state: AgentState) -> Literal[\"web_search\", \"direct_response\"]:\n",
    "    \"\"\"Route to appropriate node based on certainty score.\"\"\"\n",
    "    \n",
    "    score = state['certainty_score']\n",
    "\n",
    "    if score != 100:\n",
    "        print(\"---LLM IS NOT CERTAIN SO IT WILL DO WEB SEARCH\")\n",
    "        return \"web_search\"\n",
    "    else:\n",
    "        print(\"---LLM IS CERTAIN SO IT WILL GENERATE ANSWER DIRECTLY\")\n",
    "        return \"direct_response\""
   ]
  },
  {
   "cell_type": "code",
   "execution_count": 4,
   "id": "a5de7558-c4c7-4684-81ed-4008a9f9637b",
   "metadata": {},
   "outputs": [
    {
     "name": "stdout",
     "output_type": "stream",
     "text": [
      "---CHECKING LLM'S CERTAINTY\n"
     ]
    },
    {
     "data": {
      "text/plain": [
       "CertaintyScoreResponse(score=85)"
      ]
     },
     "execution_count": 4,
     "metadata": {},
     "output_type": "execute_result"
    }
   ],
   "source": [
    "question = \"Langgraph로 RAG를 구축하는 방법\"\n",
    "\n",
    "class CertaintyScoreResponse(BaseModel):\n",
    "    score: int = Field(description=\"Certainty score from 1 to 100. Higher is better.\")\n",
    "\n",
    "certainty_scorer = llm.with_structured_output(CertaintyScoreResponse)\n",
    "\n",
    "print(\"---CHECKING LLM'S CERTAINTY\")\n",
    "score_response = certainty_scorer.invoke(question)\n",
    "score_response"
   ]
  },
  {
   "cell_type": "code",
   "execution_count": 6,
   "id": "05c9d06f-e65a-48dd-b3f1-2584dcd22c21",
   "metadata": {},
   "outputs": [],
   "source": [
    "# If LLM can answer on its own\n",
    "def direct_response(state: AgentState):\n",
    "    question = state['question']\n",
    "    result = llm.invoke(question)\n",
    "    return {\"generation\": result.content}"
   ]
  },
  {
   "cell_type": "markdown",
   "id": "a32697c5-e9db-4fd2-acf1-9d3a848c77f6",
   "metadata": {},
   "source": [
    "### Determining whether an answer is available based on a web search"
   ]
  },
  {
   "cell_type": "code",
   "execution_count": 7,
   "id": "d9bbaae2-aacd-47f7-8eff-19aa7a43f979",
   "metadata": {},
   "outputs": [],
   "source": [
    "from langchain_core.prompts import ChatPromptTemplate\n",
    "from langchain_community.tools.tavily_search import TavilySearchResults\n",
    "\n",
    "def web_search(state: AgentState) -> AgentState:\n",
    "    \"\"\"Perform web search and evaluate results\"\"\"\n",
    "\n",
    "    question = state['question']\n",
    "\n",
    "    search_tool = TavilySearchResults(max_results=3)\n",
    "    search_results = search_tool.invoke(question)\n",
    "\n",
    "    class answer_availability(BaseModel):\n",
    "        \"\"\"Binary score for answer availability\"\"\"\n",
    "        binary_score: str = Field(description=\"\"\"\n",
    "                                  If web search result can solve the user's ask, answer 'yes'.\n",
    "                                  If not, answer 'no'\"\"\")\n",
    "\n",
    "    evaluator = llm.with_structured_output(answer_availability)\n",
    "    eval_prompt = ChatPromptTemplate.from_messages([\n",
    "        (\"system\", \"Evaluate if these search results can answer the user's question with a simple yes/no.\"),\n",
    "        (\"user\", \"\"\"\n",
    "        Question: {question}\n",
    "        Search Results: {results}\n",
    "        Can these results answer the question adequately?\n",
    "        \"\"\")\n",
    "    ])\n",
    "    print(\"---CHECK WHETHER WEB SEARCH IS SUFFICIENT FOR USER'S ASK\")\n",
    "    evaluation = evaluator.invoke(\n",
    "        eval_prompt.format(\n",
    "            question=question, results=\"\\n\".join(f\"- {result['content']}\" for result in search_results)\n",
    "        )\n",
    "    )\n",
    "\n",
    "    return {\n",
    "        \"search_results\": search_results,\n",
    "        \"web_score\": evaluation.binary_score\n",
    "    }"
   ]
  },
  {
   "cell_type": "markdown",
   "id": "3b77a814-2de6-433c-8cfe-123319ebd6b1",
   "metadata": {},
   "source": [
    "### Whether it can be solved by web search"
   ]
  },
  {
   "cell_type": "code",
   "execution_count": 9,
   "id": "bae1da42-7d00-4f94-ba7f-37abb69bf345",
   "metadata": {},
   "outputs": [
    {
     "name": "stdout",
     "output_type": "stream",
     "text": [
      "---CHECK WHETHER WEB SEARCH IS SUFFICIENT FOR USER'S ASK\n"
     ]
    }
   ],
   "source": [
    "question = \"autorag github에서 명시된 설치 방법을 알려줘\"\n",
    "\n",
    "search_tool = TavilySearchResults(max_results=3)\n",
    "search_results = search_tool.invoke(question)\n",
    "\n",
    "\n",
    "class answer_availability(BaseModel):\n",
    "    \"\"\"Binary score for answer availability.\"\"\"\n",
    "    binary_score: str = Field(description=\"\"\"\n",
    "                                If web search result can solve the user's ask, answer 'yes'. \n",
    "                                If user's ask is related with github or search_results are insufficient, answer 'no'\"\"\")\n",
    "\n",
    "evaluator = llm.with_structured_output(answer_availability)\n",
    "eval_prompt = ChatPromptTemplate.from_messages([\n",
    "    (\"system\", \"\"\"\n",
    "        Evaluate if these search results can answer the user's question with a simple yes/no. \n",
    "        If user ask github related info, then it is not sufficient with web search so you should answer with no.\"\"\"),\n",
    "    (\"user\", \"\"\"\n",
    "    Question: {question}\n",
    "    Search Results: {results}\n",
    "    Can these results answer the question adequately?\n",
    "    \"\"\")\n",
    "])\n",
    "print(\"---CHECK WHETHER WEB SEARCH IS SUFFICIENT FOR USER'S ASK\")\n",
    "\n",
    "evaluation = evaluator.invoke(\n",
    "    eval_prompt.format(\n",
    "        question=question, results=\"\\n\".join(f\"- {result['content']}\" for result in search_results)\n",
    "    )\n",
    ")"
   ]
  },
  {
   "cell_type": "code",
   "execution_count": 10,
   "id": "03a92f66-e8d4-4777-aef7-d4f4be32415f",
   "metadata": {},
   "outputs": [
    {
     "data": {
      "text/plain": [
       "answer_availability(binary_score='no')"
      ]
     },
     "execution_count": 10,
     "metadata": {},
     "output_type": "execute_result"
    }
   ],
   "source": [
    "evaluation"
   ]
  },
  {
   "cell_type": "markdown",
   "id": "2ecaa1e7-0d75-4bdd-b0aa-4ccb70e14923",
   "metadata": {},
   "source": [
    "### Routing node"
   ]
  },
  {
   "cell_type": "code",
   "execution_count": 11,
   "id": "e29e7173-9a7b-41a3-85d2-9e26dd88f612",
   "metadata": {},
   "outputs": [],
   "source": [
    "def route_after_search(state: AgentState) -> Literal[\"generate\", \"github_search\"]:\n",
    "    \"\"\"Route based on search evaluation\"\"\"\n",
    "    if state[\"web_score\"] == \"yes\":\n",
    "        print(\"---DECISION: THIS CAN BE SOLVED WITH WEB SEARCH RESULTS\")\n",
    "        return \"web_generate\"\n",
    "    else:\n",
    "        print(\"---DECISION: THIS CAN NOT BE SOLVED WITH WEB SEARCH RESULTS. FIND GITHUB\")\n",
    "        return \"github_generate\""
   ]
  },
  {
   "cell_type": "markdown",
   "id": "3093af89-8d21-4cb6-b9bd-8c0ef520ec33",
   "metadata": {},
   "source": [
    "### Web generate node"
   ]
  },
  {
   "cell_type": "code",
   "execution_count": 12,
   "id": "5400b11b-92c3-469a-81ad-d84ab4632bc2",
   "metadata": {},
   "outputs": [],
   "source": [
    "from langchain_core.output_parsers import StrOutputParser\n",
    "from langchain_core.runnables import RunnablePassthrough\n",
    "\n",
    "def web_generate(state: AgentState):\n",
    "    question = state[\"question\"]\n",
    "    web_results = state[\"search_results\"]\n",
    "\n",
    "    def format_web_results(results):\n",
    "        formatted = []\n",
    "        for i, result in enumerate(results, 1):\n",
    "            formatted.append(f\"Source {i}:\\nURL: {result['url']}\\nContent: {result['content']}\\n\")\n",
    "        return \"\\n\".join(formatted)\n",
    "\n",
    "    prompt = ChatPromptTemplate.from_messages([\n",
    "        (\"system\", \"\"\"You are a helpful assistant that generates comprehensive answers based on web search results.\n",
    "        Use the provided search results to answer the user's question.\n",
    "        Make sure to synthesize information from multiple sources when possible.\n",
    "        If the search results don't contain enough information to fully answer the question, acknowledge this limitation.\"\"\"),\n",
    "        (\"user\", \"\"\"Question: {question}\n",
    "\n",
    "        Search Results:\n",
    "        {web_results}\n",
    "\n",
    "        Please provide a detailed answer based on these search results. Answer in Korean\"\"\")\n",
    "    ])\n",
    "\n",
    "    chain = (\n",
    "        {\n",
    "            \"question\": lambda x: x[\"question\"],\n",
    "            \"web_results\": lambda x: format_web_results(x[\"web_results\"])\n",
    "        }\n",
    "        | prompt\n",
    "        | llm\n",
    "        | StrOutputParser()\n",
    "    )\n",
    "\n",
    "    print(\"---GENERATING ANSWER BASED ON WEB SEARCH RESULTS...\")\n",
    "\n",
    "    response = chain.invoke({\n",
    "        \"question\": question,\n",
    "        \"web_results\": web_results\n",
    "    })\n",
    "\n",
    "    return {\"generation\": response}"
   ]
  },
  {
   "cell_type": "markdown",
   "id": "ba694ded-3e70-4744-8584-f9d347da9eac",
   "metadata": {},
   "source": [
    "### Get Github repo info"
   ]
  },
  {
   "cell_type": "code",
   "execution_count": 13,
   "id": "f96b2e94-8a3e-432d-96c7-fc47fba80af5",
   "metadata": {},
   "outputs": [],
   "source": [
    "import os\n",
    "\n",
    "import chromadb\n",
    "from chromadb.config import Settings\n",
    "\n",
    "from langchain_openai import OpenAIEmbeddings\n",
    "from langchain_community.vectorstores import Chroma\n",
    "from langchain_community.document_loaders import GithubFileLoader\n",
    "from langchain_text_splitters import RecursiveCharacterTextSplitter\n",
    "\n",
    "def git_loader(repo, branch_name):\n",
    "    loader = GithubFileLoader(\n",
    "        repo=repo,\n",
    "        branch=branch_name,\n",
    "        access_token=os.environ[\"GITHUB_TOKEN\"],\n",
    "        github_api_url=\"https://api.github.com\",\n",
    "        file_filter=lambda file_path: file_path.endswith(\n",
    "            \".md\"\n",
    "        ),\n",
    "    )\n",
    "    documents = loader.load()\n",
    "    return documents\n",
    "\n",
    "def git_vector_embedding(repo_name):\n",
    "    client = chromadb.Client(Settings(\n",
    "        is_persistent=True,\n",
    "        persist_directory=\"./chroma_db\"\n",
    "    ))\n",
    "\n",
    "    collection_name = repo_name.split('/')[1]\n",
    "\n",
    "    existing_collections = client.list_collections()\n",
    "    if collection_name in [col.name for col in existing_collections]:\n",
    "        print(f\"Loading existing collection for {collection_name}\")\n",
    "        vectorstore = Chroma(\n",
    "            client=client,\n",
    "            collection_name=collection_name,\n",
    "            embedding_function=OpenAIEmbeddings()\n",
    "        )\n",
    "    else:\n",
    "        print(f\"Creating new collection for {collection_name}\")\n",
    "        try:\n",
    "            git_docs = git_loader(repo_name, \"master\")\n",
    "        except:\n",
    "            git_docs = git_loader(repo_name, \"main\")\n",
    "\n",
    "        text_splitter = RecursiveCharacterTextSplitter.from_tiktoken_encoder(\n",
    "            chunk_size=500, chunk_overlap=50\n",
    "        )\n",
    "        doc_splits = text_splitter.split_documents(git_docs)\n",
    "\n",
    "        vectorstore = Chroma.from_documents(\n",
    "            documents=doc_splits,\n",
    "            collection_name=collection_name,\n",
    "            embedding=OpenAIEmbeddings(),\n",
    "            client=client\n",
    "        )\n",
    "\n",
    "    return vectorstore"
   ]
  },
  {
   "cell_type": "markdown",
   "id": "46642699-c18f-44d7-9f1e-a0ec2c517aba",
   "metadata": {},
   "source": [
    "### Generate answer based on github repo info"
   ]
  },
  {
   "cell_type": "code",
   "execution_count": 22,
   "id": "d3b2aca0-dcb1-4d18-a7b5-be822b79c0ce",
   "metadata": {},
   "outputs": [],
   "source": [
    "from langchain import hub\n",
    "\n",
    "def github_generate(state: AgentState) -> AgentState:\n",
    "    \"\"\"Find relevant GitHub repositories for the user's question.\"\"\"\n",
    "\n",
    "    class GitHubRepo(BaseModel):\n",
    "        \"\"\"Best matching GitHub repository\"\"\"\n",
    "        repo_name: str = Field(description=\"Full repository name in format 'owner/repo'\")\n",
    "\n",
    "    question = state[\"question\"]\n",
    "\n",
    "    # Perform targeted web search for GitHub repositories\n",
    "    search_tool = TavilySearchResults(max_results=5)\n",
    "    search_results = search_tool.invoke(\n",
    "        f\"github repository {question} site:github.com\"\n",
    "    )\n",
    "\n",
    "    # Extract and evaluate repositories from search results\n",
    "    eval_prompt = ChatPromptTemplate.from_messages([\n",
    "        (\"system\", \"\"\"You are an expert at identifying the most relevant GitHub repository.\n",
    "        Analyze the search results and identify the SINGLE MOST RELEVANT GitHub repository.\n",
    "        Return ONLY the repository name in the format 'owner/repo'.\"\"\"),\n",
    "        (\"user\", \"\"\"\n",
    "        Question: {question}\n",
    "        Search Results: {results}\n",
    "        \n",
    "        What is the most relevant repository name?\"\"\")\n",
    "    ])\n",
    "\n",
    "    repo_extractor = llm.with_structured_output(GitHubRepo)\n",
    "\n",
    "    best_repo = repo_extractor.invoke(\n",
    "        eval_prompt.format(\n",
    "            question=question,\n",
    "            results=\"\\n\\n\".join(f\"URL: {result['url']}\\nContent: {result['content']}\"\n",
    "                                for result in search_results)\n",
    "        )\n",
    "    )\n",
    "    repo_name = best_repo.repo_name\n",
    "    vectorstore = git_vector_embedding(repo_name)\n",
    "    retriever = vectorstore.as_retriever()\n",
    "    prompt = hub.pull(\"rlm/rag-prompt\")\n",
    "\n",
    "    def format_docs(docs):\n",
    "        return \"\\n\\n\".join(doc.page_content for doc in docs)\n",
    "\n",
    "    rag_chain = (\n",
    "        {\"context\": retriever | format_docs, \"question\": RunnablePassthrough()}\n",
    "        | prompt\n",
    "        | llm\n",
    "        | StrOutputParser()\n",
    "    )\n",
    "    print(\"---GENERATING ANSWER BASED ON GITHUB REPO SEARCH RESULT\")\n",
    "    result = rag_chain.invoke(question)\n",
    "    \n",
    "    return {\"generation\": result}"
   ]
  },
  {
   "cell_type": "markdown",
   "id": "b9a92304-e3bf-4657-90ef-d06e075d3e8e",
   "metadata": {},
   "source": [
    "### Building graph"
   ]
  },
  {
   "cell_type": "code",
   "execution_count": 23,
   "id": "5cf19571-68de-4bb8-9429-1ee2383f2940",
   "metadata": {},
   "outputs": [],
   "source": [
    "from langgraph.graph import START, END, StateGraph\n",
    "\n",
    "workflow = StateGraph(AgentState)\n",
    "\n",
    "workflow.add_node(\"check_certainty\", check_certainty)\n",
    "workflow.add_node(\"direct_response\", direct_response)\n",
    "workflow.add_node(\"web_search\", web_search)\n",
    "workflow.add_node(\"web_generate\", web_generate)\n",
    "workflow.add_node(\"github_generate\", github_generate)\n",
    "\n",
    "workflow.add_edge(START, \"check_certainty\")\n",
    "workflow.add_conditional_edges(\n",
    "    \"check_certainty\",\n",
    "    route_based_on_certainty,\n",
    "    {\n",
    "        \"web_search\": \"web_search\",\n",
    "        \"direct_response\": \"direct_response\"\n",
    "    }\n",
    ")\n",
    "workflow.add_conditional_edges(\n",
    "    \"web_search\",\n",
    "    route_after_search,\n",
    "    {\n",
    "        \"web_generate\": \"web_generate\",\n",
    "        \"github_generate\": \"github_generate\"\n",
    "    }\n",
    ")\n",
    "\n",
    "workflow.add_edge(\"direct_response\", END)\n",
    "workflow.add_edge(\"web_generate\", END)\n",
    "workflow.add_edge(\"github_generate\", END)\n",
    "\n",
    "app = workflow.compile()"
   ]
  },
  {
   "cell_type": "code",
   "execution_count": 24,
   "id": "6a1a38c6-0eb2-4667-99e0-8d7baf6db129",
   "metadata": {},
   "outputs": [
    {
     "data": {
      "image/jpeg": "[encoded data removed]",
      "text/plain": [
       "<IPython.core.display.Image object>"
      ]
     },
     "metadata": {},
     "output_type": "display_data"
    }
   ],
   "source": [
    "from IPython.display import Image, display\n",
    "\n",
    "try:\n",
    "    display(Image(app.get_graph(xray=True).draw_mermaid_png()))\n",
    "except Exception:\n",
    "    # This requires some extra dependencies and is optional\n",
    "    pass"
   ]
  },
  {
   "cell_type": "code",
   "execution_count": 25,
   "id": "0e5c52b0-62c5-46df-94e3-30c02c86287a",
   "metadata": {
    "scrolled": true
   },
   "outputs": [
    {
     "name": "stdout",
     "output_type": "stream",
     "text": [
      "---CHECKING LLM'S CERTAINTY\n",
      "---LLM IS NOT CERTAIN SO IT WILL DO WEB SEARCH\n",
      "\"Output from node 'check_certainty':\"\n",
      "'--------------------------------------------------------------------------------'\n",
      "{'certainty_score': 85}\n",
      "'\\n---\\n'\n",
      "---CHECK WHETHER WEB SEARCH IS SUFFICIENT FOR USER'S ASK\n",
      "---DECISION: THIS CAN NOT BE SOLVED WITH WEB SEARCH RESULTS. FIND GITHUB\n",
      "\"Output from node 'web_search':\"\n",
      "'--------------------------------------------------------------------------------'\n",
      "{ 'search_results': [ { 'content': 'from ultralytics import YOLO # Load a '\n",
      "                                   'pretrained YOLO model model = '\n",
      "                                   'YOLO(\"yolov8n.pt\") 4. Perform Object '\n",
      "                                   'Detection on an Image: Use the model to '\n",
      "                                   'perform object detection on an image. '\n",
      "                                   'Here, an',\n",
      "                        'url': 'https://medium.com/@asbmerin/to-get-started-with-yolov8-for-object-detection-using-ultralytics-follow-this-comprehensive-d38e56c5576c'},\n",
      "                      { 'content': 'The YOLOv8 series offers a diverse range '\n",
      "                                   'of models, each specialized for specific '\n",
      "                                   'tasks in computer vision. These models are '\n",
      "                                   'designed to cater to various requirements, '\n",
      "                                   'from object detection to more complex '\n",
      "                                   'tasks like instance segmentation, '\n",
      "                                   'pose/keypoints detection, oriented object '\n",
      "                                   'detection, and classification.. Each '\n",
      "                                   'variant of the YOLOv8 series is optimized '\n",
      "                                   'for its respective task, ensuring',\n",
      "                        'url': 'https://github.com/ultralytics/ultralytics/blob/main/docs/en/models/yolov8.md'},\n",
      "                      { 'content': 'Example\\n'\n",
      "                                   'PyTorch pretrained *.pt models as well as '\n",
      "                                   'configuration *.yaml files can be passed '\n",
      "                                   'to the YOLO() class to create a model '\n",
      "                                   'instance in python:\\n'\n",
      "                                   'CLI commands are available to directly run '\n",
      "                                   'the models:\\n'\n",
      "                                   'Citations and Acknowledgements\\n'\n",
      "                                   'If you use the YOLOv8 model or any other '\n",
      "                                   'software from this repository in your '\n",
      "                                   'work, please cite it using the following '\n",
      "                                   'format:\\n'\n",
      "                                   'Please note that the DOI is pending and '\n",
      "                                   'will be added to the citation once it is '\n",
      "                                   'available. Performance Metrics\\n'\n",
      "                                   'Performance\\n'\n",
      "                                   'See Detection Docs for usage examples with '\n",
      "                                   'these models trained on COCO, which '\n",
      "                                   'include 80 pre-trained classes.\\n'\n",
      "                                   ' YOLOv8\\n'\n",
      "                                   'Overview\\n'\n",
      "                                   'YOLOv8 is the latest iteration in the YOLO '\n",
      "                                   'series of real-time object detectors, '\n",
      "                                   'offering cutting-edge performance in terms '\n",
      "                                   'of accuracy and speed. Key Features\\n'\n",
      "                                   'Supported Tasks and Modes\\n'\n",
      "                                   'The YOLOv8 series offers a diverse range '\n",
      "                                   'of models, each specialized for specific '\n",
      "                                   'tasks in computer vision. Building upon '\n",
      "                                   'the advancements of previous YOLO '\n",
      "                                   'versions, YOLOv8 introduces new features '\n",
      "                                   'and optimizations that make it an ideal '\n",
      "                                   'choice for various object detection tasks '\n",
      "                                   'in a wide range of applications.\\n',\n",
      "                        'url': 'https://docs.ultralytics.com/models/yolov8/'}],\n",
      "  'web_score': 'no'}\n",
      "'\\n---\\n'\n",
      "Creating new collection for ultralytics_YOLO_v8\n",
      "---GENERATING ANSWER BASED ON GITHUB REPO SEARCH RESULT\n",
      "\"Output from node 'github_generate':\"\n",
      "'--------------------------------------------------------------------------------'\n",
      "{ 'generation': \"I don't have the exact code for running the YOLOv8 \"\n",
      "                'segmentation model in a real-time environment. However, '\n",
      "                'Ultralytics YOLOv8 is designed for real-time applications and '\n",
      "                'can be integrated with existing systems for tasks like video '\n",
      "                'analysis and object cropping. For detailed implementation, '\n",
      "                'you can refer to the [YOLOv8 '\n",
      "                'documentation](https://docs.ultralytics.com/) and explore the '\n",
      "                'tracking and prediction modes.'}\n",
      "'\\n---\\n'\n"
     ]
    }
   ],
   "source": [
    "from pprint import pprint\n",
    "\n",
    "inputs = {\n",
    "    \"question\": \"Do you know how to run YOLO v8 segmentation model from Ultralytics in a real-time environment? Can you give me the exact code?\"\n",
    "}\n",
    "\n",
    "for output in app.stream(inputs):\n",
    "    for key, value in output.items():\n",
    "        pprint(f\"Output from node '{key}':\")\n",
    "        pprint(\"-\" * 80)\n",
    "        pprint(value, indent=2, width=80, depth=None)\n",
    "    pprint(\"\\n---\\n\")"
   ]
  },
  {
   "cell_type": "code",
   "execution_count": null,
   "id": "b5dac2e9-5652-4426-b4cc-71682aab6032",
   "metadata": {},
   "outputs": [],
   "source": []
  }
 ],
 "metadata": {
  "kernelspec": {
   "display_name": "Python 3 (ipykernel)",
   "language": "python",
   "name": "python3"
  },
  "language_info": {
   "codemirror_mode": {
    "name": "ipython",
    "version": 3
   },
   "file_extension": ".py",
   "mimetype": "text/x-python",
   "name": "python",
   "nbconvert_exporter": "python",
   "pygments_lexer": "ipython3",
   "version": "3.10.12"
  }
 },
 "nbformat": 4,
 "nbformat_minor": 5
}
